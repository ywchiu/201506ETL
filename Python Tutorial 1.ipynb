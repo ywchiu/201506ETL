{
 "cells": [
  {
   "cell_type": "markdown",
   "metadata": {},
   "source": [
    "#Tutorial 1 "
   ]
  },
  {
   "cell_type": "code",
   "execution_count": 6,
   "metadata": {
    "collapsed": true
   },
   "outputs": [],
   "source": [
    "a = 3"
   ]
  },
  {
   "cell_type": "code",
   "execution_count": 7,
   "metadata": {
    "collapsed": false,
    "slideshow": {
     "slide_type": "slide"
    }
   },
   "outputs": [
    {
     "data": {
      "text/plain": [
       "8"
      ]
     },
     "execution_count": 7,
     "metadata": {},
     "output_type": "execute_result"
    }
   ],
   "source": [
    "a + 5 "
   ]
  },
  {
   "cell_type": "markdown",
   "metadata": {},
   "source": [
    "## convert ipynb to slides\n",
    "ipython nbconvert myslides.ipynb --to slides --post serve"
   ]
  },
  {
   "cell_type": "code",
   "execution_count": 13,
   "metadata": {
    "collapsed": false
   },
   "outputs": [
    {
     "name": "stdout",
     "output_type": "stream",
     "text": [
      "1 2 3 4 5 6 7 8 9 10\n"
     ]
    }
   ],
   "source": [
    "'''\n",
    "多行註解\n",
    "example1\n",
    "example2\n",
    "example3\n",
    "'''\n",
    "# 單行註解\n",
    "for i in range(1,11):\n",
    "    print i,"
   ]
  },
  {
   "cell_type": "code",
   "execution_count": 14,
   "metadata": {
    "collapsed": false
   },
   "outputs": [
    {
     "ename": "TypeError",
     "evalue": "unsupported operand type(s) for +: 'int' and 'str'",
     "output_type": "error",
     "traceback": [
      "\u001b[1;31m---------------------------------------------------------------------------\u001b[0m",
      "\u001b[1;31mTypeError\u001b[0m                                 Traceback (most recent call last)",
      "\u001b[1;32m<ipython-input-14-f61e344c2257>\u001b[0m in \u001b[0;36m<module>\u001b[1;34m()\u001b[0m\n\u001b[0;32m      1\u001b[0m \u001b[1;31m# Concat String and Integer Outputs Error\u001b[0m\u001b[1;33m\u001b[0m\u001b[1;33m\u001b[0m\u001b[0m\n\u001b[1;32m----> 2\u001b[1;33m \u001b[0ma\u001b[0m \u001b[1;33m=\u001b[0m \u001b[1;36m1\u001b[0m\u001b[1;33m+\u001b[0m\u001b[1;34m\"hello\"\u001b[0m\u001b[1;33m\u001b[0m\u001b[0m\n\u001b[0m\u001b[0;32m      3\u001b[0m \u001b[1;32mprint\u001b[0m \u001b[0ma\u001b[0m\u001b[1;33m\u001b[0m\u001b[0m\n",
      "\u001b[1;31mTypeError\u001b[0m: unsupported operand type(s) for +: 'int' and 'str'"
     ]
    }
   ],
   "source": [
    "# Concat String and Integer Outputs Error\n",
    "a = 1+\"hello\"\n",
    "print a\n"
   ]
  },
  {
   "cell_type": "code",
   "execution_count": 18,
   "metadata": {
    "collapsed": false
   },
   "outputs": [],
   "source": [
    "#!C:\\Python27\n",
    "import sys\n",
    "#print help(sys)\n",
    "#print dir(sys)\n",
    "#print help(sys.exit)\n",
    "?sys.exit"
   ]
  },
  {
   "cell_type": "code",
   "execution_count": 24,
   "metadata": {
    "collapsed": false
   },
   "outputs": [
    {
     "name": "stdout",
     "output_type": "stream",
     "text": [
      "hahaha\n",
      "Hello World\n"
     ]
    }
   ],
   "source": [
    "# This is a single line comment\n",
    "def main():\n",
    "    print 'Hello World'\n",
    "print \"hahaha\"\n",
    "main()"
   ]
  },
  {
   "cell_type": "code",
   "execution_count": 37,
   "metadata": {
    "collapsed": false
   },
   "outputs": [
    {
     "name": "stdout",
     "output_type": "stream",
     "text": [
      "Hello from python\n"
     ]
    }
   ],
   "source": [
    "print(\"Hello from python\")"
   ]
  },
  {
   "cell_type": "code",
   "execution_count": 39,
   "metadata": {
    "collapsed": false
   },
   "outputs": [
    {
     "name": "stdout",
     "output_type": "stream",
     "text": [
      "How are you?\"fine\"\n"
     ]
    },
    {
     "data": {
      "text/plain": [
       "'fine'"
      ]
     },
     "execution_count": 39,
     "metadata": {},
     "output_type": "execute_result"
    }
   ],
   "source": [
    "input(\"How are you?\")"
   ]
  },
  {
   "cell_type": "code",
   "execution_count": 40,
   "metadata": {
    "collapsed": false
   },
   "outputs": [
    {
     "name": "stdout",
     "output_type": "stream",
     "text": [
      "How are you, what is your name?\"David\"\n",
      "my name is David\n"
     ]
    }
   ],
   "source": [
    "answer = input(\"How are you, what is your name?\")\n",
    "print \"my name is \" + answer"
   ]
  },
  {
   "cell_type": "code",
   "execution_count": 42,
   "metadata": {
    "collapsed": false
   },
   "outputs": [
    {
     "name": "stdout",
     "output_type": "stream",
     "text": [
      "What is your name? \"AMy\"\n",
      "Your name again?\n"
     ]
    }
   ],
   "source": [
    "name = input(\"What is your name? \")\n",
    "if name == \"David\":\n",
    "    print (\"Nice to mee you! \" + name)\n",
    "else:\n",
    "    print (\"Your name again?\")"
   ]
  },
  {
   "cell_type": "code",
   "execution_count": 52,
   "metadata": {
    "collapsed": false
   },
   "outputs": [
    {
     "name": "stdout",
     "output_type": "stream",
     "text": [
      "hello\n",
      "world\n"
     ]
    }
   ],
   "source": [
    "def main():\n",
    "    print \"hello\"\n",
    "    print \"world\"\n",
    "main()"
   ]
  },
  {
   "cell_type": "code",
   "execution_count": 54,
   "metadata": {
    "collapsed": false
   },
   "outputs": [
    {
     "name": "stdout",
     "output_type": "stream",
     "text": [
      "What is your name? \"Amy\"\n",
      "Your name again? Is it Amy ?\n"
     ]
    }
   ],
   "source": [
    "name = input(\"What is your name? \")\n",
    "if name == \"David\":\n",
    "    print (\"Nice to mee you! {}\".format(name))\n",
    "else:\n",
    "    print (\"Your name again? Is it %s ?\" %(name))\n"
   ]
  },
  {
   "cell_type": "code",
   "execution_count": 66,
   "metadata": {
    "collapsed": false
   },
   "outputs": [
    {
     "name": "stdout",
     "output_type": "stream",
     "text": [
      "my name is David, I am 31 years old\n",
      "my name is David, I am 31 years old\n"
     ]
    }
   ],
   "source": [
    "def nameformat(name, age):\n",
    "    print \"my name is \" + name + \", I am \" + age + \" years old\"\n",
    "\n",
    "#nameformat(\"David\", \"31\")\n",
    "\n",
    "\n",
    "def nameformat2(name, age):\n",
    "    print \"my name is %s, I am %s years old\" %(name, age)\n",
    "\n",
    "nameformat2(\"David\", \"31\")\n",
    "\n",
    "\n",
    "def nameformat3(name, age):\n",
    "    print \"my name is {}, I am {} years old\".format(name, age)\n",
    "\n",
    "#nameformat3(\"David\", \"31\")\n",
    "\n",
    "def nameformat4(name, age):\n",
    "    print \"my name is {0}, I am {1} years old\".format(name, age)\n",
    "\n",
    "nameformat4(\"David\", \"31\")"
   ]
  },
  {
   "cell_type": "code",
   "execution_count": 27,
   "metadata": {
    "collapsed": false
   },
   "outputs": [
    {
     "name": "stdout",
     "output_type": "stream",
     "text": [
      "<type 'float'>\n",
      "<type 'int'>\n",
      "<type 'module'>\n",
      "<type 'builtin_function_or_method'>\n"
     ]
    }
   ],
   "source": [
    "a = 2.0 \n",
    "b = 3\n",
    "print type(a)\n",
    "print type(b)\n",
    "\n",
    "import sys\n",
    "print type(sys)\n",
    "print type(sys.exit)"
   ]
  },
  {
   "cell_type": "code",
   "execution_count": 30,
   "metadata": {
    "collapsed": false
   },
   "outputs": [
    {
     "name": "stdout",
     "output_type": "stream",
     "text": [
      "4.0\n"
     ]
    }
   ],
   "source": [
    "a = int(\"2\")\n",
    "b = a + 2\n",
    "c = float(b)\n",
    "print c"
   ]
  },
  {
   "cell_type": "code",
   "execution_count": 33,
   "metadata": {
    "collapsed": false
   },
   "outputs": [
    {
     "name": "stdout",
     "output_type": "stream",
     "text": [
      "0\n",
      "0.0\n",
      "0.333333333333\n"
     ]
    }
   ],
   "source": [
    "a = 1/3\n",
    "print a\n",
    "\n",
    "a = float(1/3)\n",
    "print a\n",
    "\n",
    "a = float(1)/3\n",
    "print a"
   ]
  },
  {
   "cell_type": "code",
   "execution_count": 36,
   "metadata": {
    "collapsed": false
   },
   "outputs": [
    {
     "name": "stdout",
     "output_type": "stream",
     "text": [
      "20150601\n",
      "1040601\n"
     ]
    }
   ],
   "source": [
    "a = '2015'\n",
    "date = '0601'\n",
    "print a+date\n",
    "print str(int(a) - 1911) + date"
   ]
  },
  {
   "cell_type": "code",
   "execution_count": 68,
   "metadata": {
    "collapsed": false
   },
   "outputs": [
    {
     "data": {
      "text/plain": [
       "'??????????'"
      ]
     },
     "execution_count": 68,
     "metadata": {},
     "output_type": "execute_result"
    }
   ],
   "source": [
    "\"?\" * 10"
   ]
  },
  {
   "cell_type": "code",
   "execution_count": 70,
   "metadata": {
    "collapsed": false
   },
   "outputs": [
    {
     "name": "stdout",
     "output_type": "stream",
     "text": [
      "Repeat Times: \"5\"\n",
      "Qoo Qoo Qoo Qoo Qoo \n"
     ]
    }
   ],
   "source": [
    "times = input(\"Repeat Times: \")\n",
    "print(\"Qoo \" * int(times))"
   ]
  },
  {
   "cell_type": "code",
   "execution_count": 73,
   "metadata": {
    "collapsed": false
   },
   "outputs": [
    {
     "name": "stdout",
     "output_type": "stream",
     "text": [
      "Dividend: \"3\"\n",
      "Divisor: \"0\"\n",
      "ZeroDvisionError float division by zero\n"
     ]
    }
   ],
   "source": [
    "dividend = input(\"Dividend: \")\n",
    "divisor = input(\"Divisor: \")\n",
    "\n",
    "#print float(dividend) / float(divisor)\n",
    "\n",
    "try:\n",
    "    print float(dividend) / float(divisor)\n",
    "except ZeroDivisionError as detail:\n",
    "    print \"ZeroDvisionError\", detail"
   ]
  },
  {
   "cell_type": "code",
   "execution_count": null,
   "metadata": {
    "collapsed": false
   },
   "outputs": [],
   "source": [
    "dividend = input(\"Dividend: \")\n",
    "divisor = input(\"Divisor: \")\n",
    "#print float(dividend) / float(divisor)\n",
    "try:\n",
    "    print float(dividend) / float(divisor)\n",
    "#except ValueError as ve:\n",
    "#    print ve\n",
    "#except ZeroDivisionError as ze:\n",
    "#    print ze\n",
    "except:\n",
    "    print \"error\"\n",
    "#Except:\n",
    "#    print ¨Error¨\n",
    "\n"
   ]
  },
  {
   "cell_type": "code",
   "execution_count": 1,
   "metadata": {
    "collapsed": false
   },
   "outputs": [
    {
     "name": "stdout",
     "output_type": "stream",
     "text": [
      "name: david\n",
      "my name is david\n"
     ]
    }
   ],
   "source": [
    "name = raw_input(\"name: \")\n",
    "print \"my name is \" + name"
   ]
  },
  {
   "cell_type": "code",
   "execution_count": 3,
   "metadata": {
    "collapsed": false
   },
   "outputs": [
    {
     "name": "stdout",
     "output_type": "stream",
     "text": [
      "<method-wrapper '__str__' of str object at 0x03381DE0>\n"
     ]
    }
   ],
   "source": [
    "a = \"hello world\"\n",
    "print a.__str__\n"
   ]
  },
  {
   "cell_type": "code",
   "execution_count": 4,
   "metadata": {
    "collapsed": false
   },
   "outputs": [
    {
     "name": "stdout",
     "output_type": "stream",
     "text": [
      "this is a \"book\"\n"
     ]
    }
   ],
   "source": [
    "a = 'this is a \"book\"'\n",
    "print a\n"
   ]
  },
  {
   "cell_type": "code",
   "execution_count": 6,
   "metadata": {
    "collapsed": false
   },
   "outputs": [
    {
     "name": "stdout",
     "output_type": "stream",
     "text": [
      "this isi sa dhfadsfdsahfoiadsfoadfiasdfasifjjjjjjjjjjjjjjjjjjjjjjjjjjjjjadsfasfadfda\n"
     ]
    }
   ],
   "source": [
    "a = 'this isi sa dhfadsfdsahfoiadsfoadfiasdfasifjjjjjjjjjjjjjjjjjjjjjjjjjjjjjadsfasfadfda'\n",
    "#print a\n",
    "\n",
    "\n",
    "a = 'this isi sa dhfadsfdsahfoiadsfoadfiasdfasifjjj\\\n",
    "jjjjjjjjjjjjjjjjjjjjjjjjjjadsfasfadfda'\n",
    "print a"
   ]
  },
  {
   "cell_type": "code",
   "execution_count": 8,
   "metadata": {
    "collapsed": false
   },
   "outputs": [
    {
     "name": "stdout",
     "output_type": "stream",
     "text": [
      "hi this is a l\n",
      "ong text\n",
      "hi this is a l\n",
      "ong text\n"
     ]
    }
   ],
   "source": [
    "a = '''hi this is a l\n",
    "ong text'''\n",
    "print a\n",
    "\n",
    "\n",
    "a = \"\"\"hi this is a l\n",
    "ong text\"\"\"\n",
    "print a\n"
   ]
  },
  {
   "cell_type": "code",
   "execution_count": 11,
   "metadata": {
    "collapsed": false
   },
   "outputs": [
    {
     "name": "stdout",
     "output_type": "stream",
     "text": [
      "https://www.facebook.com/plugins/like.php?href=http%3A%2F%2Fwww.facebook.com%2Fstatementdog&send=false&layout=standard&width=600&show_faces=false&action=like&colorscheme=light&font=verdana&height=35&appId=217095348334041\n"
     ]
    }
   ],
   "source": [
    "requesturl = 'https://www.facebook.com/plugins/like.php?href=\\\n",
    "http%3A%2F%2Fwww.facebook.com%2Fstatementdog&send=false&layout=standard&\\\n",
    "width=600&show_faces=false&action=like&colorscheme=light&font=verdana&\\\n",
    "height=35&appId=217095348334041'\n",
    "print requesturl"
   ]
  },
  {
   "cell_type": "code",
   "execution_count": 13,
   "metadata": {
    "collapsed": false
   },
   "outputs": [
    {
     "name": "stdout",
     "output_type": "stream",
     "text": [
      "h\n",
      "e\n",
      "d\n",
      "l\n",
      "11\n",
      "hello world yoyo\n"
     ]
    }
   ],
   "source": [
    "s = 'hello world'\n",
    "print s[0]  #h\n",
    "print s[1]  #e\n",
    "print s[-1] #d\n",
    "print s[-2] #l\n",
    "print len(s)  ## 11\n",
    "print s + ' yoyo'  ## hello world yoyo"
   ]
  },
  {
   "cell_type": "code",
   "execution_count": 17,
   "metadata": {
    "collapsed": false
   },
   "outputs": [
    {
     "name": "stdout",
     "output_type": "stream",
     "text": [
      "dlrow olleh\n",
      "hello world\n",
      "palindrom\n"
     ]
    }
   ],
   "source": [
    "print s[::-1]\n",
    "print s[::1]\n",
    "\n",
    "a = 'abcdedcba'\n",
    "if a[::-1] == a:\n",
    "    print \"palindrom\""
   ]
  },
  {
   "cell_type": "code",
   "execution_count": 22,
   "metadata": {
    "collapsed": false
   },
   "outputs": [
    {
     "name": "stdout",
     "output_type": "stream",
     "text": [
      "hello world\n",
      "hlowrd\n",
      "drwolh\n",
      "hlo\n",
      "lo l\n"
     ]
    }
   ],
   "source": [
    "print s\n",
    "print s[::2]\n",
    "print s[::-2]\n",
    "print s[0:5:2]\n",
    "'''\n",
    "for(int i= 0 ; i< 5; i +=2){\n",
    "    System.out.println(s[i]);\n",
    "}\n",
    "'''\n",
    "print s[-2:1:-2]\n",
    "\n",
    "\n"
   ]
  },
  {
   "cell_type": "code",
   "execution_count": 35,
   "metadata": {
    "collapsed": false
   },
   "outputs": [
    {
     "name": "stdout",
     "output_type": "stream",
     "text": [
      "387\n",
      "一個 3\n",
      "美國 3\n",
      "個是 3\n",
      "大法 4\n",
      "法官 6\n",
      "椒噴 4\n",
      "罪犯 3\n",
      "判決 5\n",
      "胡椒 4\n",
      "噴霧 4\n",
      "。\n",
      "5\n",
      "女子 4\n"
     ]
    },
    {
     "data": {
      "text/plain": [
       "'\\n\\xe4\\xbb\\x8a\\xe5\\xa4\\xa9\\n\\xe5\\xa4\\xa9\\xe5\\xa4\\xa9\\n\\xe5\\xa4\\xa9\\xe6\\xb0\\xa3\\n\\xe6\\xb0\\xa3\\xe7\\x9c\\x9f\\n\\xe7\\x9c\\x9f\\xe5\\xa5\\xbd\\n...\\n\\xe4\\xbb\\x8a\\xe5\\xa4\\xa9\\n\\xe5\\xa4\\xa9\\xe6\\x88\\x91\\n...\\n\\xe7\\xb1\\x83\\xe7\\x90\\x83\\n'"
      ]
     },
     "execution_count": 35,
     "metadata": {},
     "output_type": "execute_result"
    }
   ],
   "source": [
    "news = '''\n",
    "女子緊閉雙眼在大庭廣眾下讓男子以胡椒噴霧噴臉，這不是在拍電影，而是另類美國大法官奇柯內蒂對女子做出的判決。\n",
    "21歲女子加斯頓在速食店持胡椒噴霧攻擊店員，法官給他兩條路走，一個是坐牢30天，另一個是接受「以眼還眼」，讓受害男子拿胡椒噴霧噴回去。當然法官早就把胡椒噴霧換成不會造成傷害的鹽水，重點是要讓女罪犯得到教訓。\n",
    "還有這名女子搭小黃不付錢，超級大法官同樣給她2條路選一個是入獄60天或是在48小時內走48.2公里的路償還搭霸王車的代價。\n",
    "美國俄亥俄州大法官不以重刑懲罰罪犯，用另類判決代替入獄服刑，在美國當地赫赫有名，也受到世人尊敬。\n",
    "曾經有婦人把孩子拋棄在森林裡，結果被判決在大雪紛飛的黑夜獨自到森林走一回，體會孤獨無助的恐懼。還有人因為罵警察是豬，被罰站在市中心和豬一起待2個小時。\n",
    "大法官提倡「罪罰相稱」的判決，不只判決讓人大快人心，更能讓罪犯感同身受、學到教訓，\n",
    "'''\n",
    "\n",
    "\n",
    "dic = {}\n",
    "print len(news.decode('utf-8')) - 1\n",
    "for i in range(0,len(news.decode('utf-8'))- 1):\n",
    "    if news.decode('utf-8')[i:i+2]  not in dic:\n",
    "        dic[news.decode('utf-8')[i:i+2]] =1\n",
    "    else:\n",
    "        dic[news.decode('utf-8')[i:i+2]] = dic[news.decode('utf-8')[i:i+2]] + 1\n",
    "for ele in dic:\n",
    "    if dic[ele] >= 3:\n",
    "        print ele, dic[ele]\n",
    "\n",
    "\n",
    "#news = \"今天天氣真好, 今天我想去打籃球\"\n",
    "s = \"今天天氣真好, 今天我想去打籃球\"\n",
    "'''\n",
    "今天\n",
    "天天\n",
    "天氣\n",
    "氣真\n",
    "真好\n",
    "...\n",
    "今天\n",
    "天我\n",
    "...\n",
    "籃球\n",
    "'''"
   ]
  },
  {
   "cell_type": "code",
   "execution_count": 36,
   "metadata": {
    "collapsed": false
   },
   "outputs": [
    {
     "name": "stdout",
     "output_type": "stream",
     "text": [
      "my age is 30\n"
     ]
    }
   ],
   "source": [
    "age = 30\n",
    "print \"my age is \" + str(age)\n"
   ]
  },
  {
   "cell_type": "code",
   "execution_count": 37,
   "metadata": {
    "collapsed": false
   },
   "outputs": [
    {
     "name": "stdout",
     "output_type": "stream",
     "text": [
      "\n",
      "\t this is a \t line with format \t\n",
      "\n"
     ]
    }
   ],
   "source": [
    "# 帶有 format 的 String \n",
    "raw = '\\n\\t this is a \\t line with format \\t\\n'\n",
    "print raw   \n"
   ]
  },
  {
   "cell_type": "code",
   "execution_count": 38,
   "metadata": {
    "collapsed": false
   },
   "outputs": [
    {
     "name": "stdout",
     "output_type": "stream",
     "text": [
      "\\n\\t this is a \\t line with format \\t\\n\n"
     ]
    }
   ],
   "source": [
    "raw = r'\\n\\t this is a \\t line with format \\t\\n'\n",
    "print raw   "
   ]
  },
  {
   "cell_type": "code",
   "execution_count": 39,
   "metadata": {
    "collapsed": false
   },
   "outputs": [
    {
     "name": "stdout",
     "output_type": "stream",
     "text": [
      "'\\n\\t this is a \\t line with format \\t\\n'\n"
     ]
    }
   ],
   "source": [
    "raw = repr('\\n\\t this is a \\t line with format \\t\\n')\n",
    "print raw "
   ]
  },
  {
   "cell_type": "code",
   "execution_count": 45,
   "metadata": {
    "collapsed": false
   },
   "outputs": [
    {
     "name": "stdout",
     "output_type": "stream",
     "text": [
      "Qoo loves OOP\n",
      "THIS IS A BOOK\n",
      "this is a book\n",
      "This Is A Book\n"
     ]
    }
   ],
   "source": [
    "a = '                 Qoo loves OOP                    \\n\\n'\n",
    "print a.strip()\n",
    "b= 'this is a book'\n",
    "print b.upper()\n",
    "print b.lower()\n",
    "print b.title()\n",
    "\n"
   ]
  },
  {
   "cell_type": "code",
   "execution_count": 50,
   "metadata": {
    "collapsed": false
   },
   "outputs": [
    {
     "name": "stdout",
     "output_type": "stream",
     "text": [
      "['Qoo', 'loves', 'OOP']\n",
      "['0912', '345', '678']\n",
      "Qoo-loves-OOP\n"
     ]
    }
   ],
   "source": [
    "import string\n",
    "a = 'Qoo          loves          OOP'\n",
    "print a.split()\n",
    "a = '0912-345-678'\n",
    "print a.split('-')\n",
    "\n",
    "a = 'Qoo          loves          OOP'\n",
    "string.join(a.split(), '-') # 'Qoo-loves-OOP'\n",
    "\n",
    "a = 'Qoo          loves          OOP'\n",
    "print '-'.join(a.split())"
   ]
  },
  {
   "cell_type": "code",
   "execution_count": 57,
   "metadata": {
    "collapsed": false
   },
   "outputs": [
    {
     "name": "stdout",
     "output_type": "stream",
     "text": [
      "['this', 'is', 'a', 'line', 'with', 'format']\n",
      "this is a line with format\n",
      "this is a line with format\n"
     ]
    }
   ],
   "source": [
    "# 帶有 format 的 String \n",
    "raw = '\\n\\t this is a \\t line with format \\t\\n'\n",
    "print raw.split()  \n",
    "print ' '.join(raw.split())\n",
    "\n",
    "print ' '.join(raw.strip().split())"
   ]
  },
  {
   "cell_type": "code",
   "execution_count": 58,
   "metadata": {
    "collapsed": false
   },
   "outputs": [
    {
     "data": {
      "text/plain": [
       "('ell', 'ello', 'hello', 'ello')"
      ]
     },
     "execution_count": 58,
     "metadata": {},
     "output_type": "execute_result"
    }
   ],
   "source": [
    "s = 'hello'\n",
    "s[1:4]   , \\\n",
    "s[1:]    , \\\n",
    "s[:]     , \\\n",
    "s[1:100] "
   ]
  },
  {
   "cell_type": "code",
   "execution_count": 59,
   "metadata": {
    "collapsed": false
   },
   "outputs": [
    {
     "data": {
      "text/plain": [
       "('o', 'e', 'he', 'he', 'llo')"
      ]
     },
     "execution_count": 59,
     "metadata": {},
     "output_type": "execute_result"
    }
   ],
   "source": [
    "s = 'hello'\n",
    "s[-1] , \\\n",
    "s[-4] , \\\n",
    "s[:-3] , \\\n",
    "s[:2],\\\n",
    "s[-3:] , \\\n"
   ]
  },
  {
   "cell_type": "code",
   "execution_count": 60,
   "metadata": {
    "collapsed": false
   },
   "outputs": [
    {
     "name": "stdout",
     "output_type": "stream",
     "text": [
      "The results are 3.14 and 5\n"
     ]
    }
   ],
   "source": [
    "#String Formatting \n",
    "print 'The results are %.02f and %d' % (3.14159, 5)\n"
   ]
  },
  {
   "cell_type": "code",
   "execution_count": 64,
   "metadata": {
    "collapsed": false
   },
   "outputs": [
    {
     "name": "stdout",
     "output_type": "stream",
     "text": [
      "yes\n"
     ]
    }
   ],
   "source": [
    "a = '女子緊閉雙眼'\n",
    "if '女子' in a:\n",
    "    print \"yes\"\n",
    "else:\n",
    "    print \"no\"\n",
    "    "
   ]
  },
  {
   "cell_type": "code",
   "execution_count": 68,
   "metadata": {
    "collapsed": false
   },
   "outputs": [
    {
     "name": "stdout",
     "output_type": "stream",
     "text": [
      "['asap', 3]\n",
      "['w', 'o', 'r', 'd'] [['list'], ['of', 'lists']]\n",
      "['a', 1]\n"
     ]
    }
   ],
   "source": [
    "print ['asap', 3]\n",
    "print list(\"word\"), \n",
    "print [['list'], ['of', 'lists']]\n",
    "print list(('a', 1))\n",
    "\n",
    "a = ['heterogeneous', 3]\n",
    "a[1] + 5 \n",
    "\n",
    "a[1] = a[1] +5"
   ]
  },
  {
   "cell_type": "code",
   "execution_count": 69,
   "metadata": {
    "collapsed": false
   },
   "outputs": [
    {
     "data": {
      "text/plain": [
       "['heterogeneous', 8]"
      ]
     },
     "execution_count": 69,
     "metadata": {},
     "output_type": "execute_result"
    }
   ],
   "source": [
    "a"
   ]
  },
  {
   "cell_type": "code",
   "execution_count": 71,
   "metadata": {
    "collapsed": false
   },
   "outputs": [
    {
     "name": "stdout",
     "output_type": "stream",
     "text": [
      "5\n",
      "[7, 's']\n",
      "s\n",
      "7\n",
      "[7, 's']\n",
      "[5, 7]\n",
      "['s', 7, 6, 5]\n",
      "4\n",
      "[5, 's']\n"
     ]
    }
   ],
   "source": [
    "a = [5, 6, 7, 's'] # a = [5 6 7 ‘s’] \n",
    "print a[0] # 5\n",
    "print a[2:4] # [7, ‘s’] \n",
    "print a[-1] # ‘s’ \n",
    "print a[-2] # 7\n",
    "print a[2:] # [7, ‘s’]\n",
    "print a[::2] # [5, 7]\n",
    "print a[::-1] # [‘s’, 7, 6, 5]\n",
    "print len(a) # 4\n",
    "print [min(a), max(a)] # [5, ‘s’]\n"
   ]
  },
  {
   "cell_type": "code",
   "execution_count": 76,
   "metadata": {
    "collapsed": false
   },
   "outputs": [
    {
     "name": "stdout",
     "output_type": "stream",
     "text": [
      "[5, 6, 7, 8]\n",
      "[5, 6, 7]\n",
      "[5, 6, 7, 2]\n",
      "[2, 5, 6, 7]\n",
      "[7, 6, 5, 2]\n"
     ]
    }
   ],
   "source": [
    "a= [5, 6, 7, 8]\n",
    "print a\n",
    "a.pop() # a = [5, 6, 7]\n",
    "print a\n",
    "a.append(2) # a = [5, 6, 7, 2]\n",
    "print a\n",
    "a.sort() # a = [2, 5, 6, 7]\n",
    "print a\n",
    "a.reverse() # a = [7, 6, 5, 2]\n",
    "print a\n",
    "\n"
   ]
  },
  {
   "cell_type": "code",
   "execution_count": 87,
   "metadata": {
    "collapsed": false
   },
   "outputs": [
    {
     "name": "stdout",
     "output_type": "stream",
     "text": [
      "1\n"
     ]
    }
   ],
   "source": [
    "#print type(a)\n",
    "#print dir(a)\n",
    "\n",
    "a = [1,1,3,5,2,6,7,8,9,2]\n",
    "\n",
    "print a.count(7)"
   ]
  },
  {
   "cell_type": "code",
   "execution_count": 90,
   "metadata": {
    "collapsed": false
   },
   "outputs": [
    {
     "name": "stdout",
     "output_type": "stream",
     "text": [
      "['a']\n",
      "['h', 'e', 'l', 'l', 'o', ' ', 'w', 'o', 'r', 'l', 'd']\n",
      "True\n",
      "False\n"
     ]
    }
   ],
   "source": [
    "print list('a')\n",
    "\n",
    "hello =  list('hello world')\n",
    "print hello\n",
    "\n",
    "print 'e' in hello\n",
    "print 'ea' in hello\n"
   ]
  },
  {
   "cell_type": "code",
   "execution_count": 92,
   "metadata": {
    "collapsed": false
   },
   "outputs": [
    {
     "name": "stdout",
     "output_type": "stream",
     "text": [
      "[1, 2, 3] [1, 2, 3]\n",
      "[1, 2000, 3] [1, 2000, 3]\n"
     ]
    }
   ],
   "source": [
    "a = [1, 2, 3]\n",
    "b = a\n",
    "print a, b\n",
    "a[1] = 2000\n",
    "print a,b\n"
   ]
  },
  {
   "cell_type": "code",
   "execution_count": 94,
   "metadata": {
    "collapsed": false
   },
   "outputs": [
    {
     "name": "stdout",
     "output_type": "stream",
     "text": [
      "[1, 2000, 3] [1, 2, 3]\n"
     ]
    }
   ],
   "source": [
    "a = [1, 2, 3]\n",
    "import copy\n",
    "aa = copy.deepcopy(a) # Deep Copy\n",
    "a[1] = 2000\n",
    "print a, aa\n"
   ]
  },
  {
   "cell_type": "code",
   "execution_count": 96,
   "metadata": {
    "collapsed": false
   },
   "outputs": [
    {
     "data": {
      "text/plain": [
       "array([ 1,  4,  9, 16])"
      ]
     },
     "execution_count": 96,
     "metadata": {},
     "output_type": "execute_result"
    }
   ],
   "source": [
    "import numpy\n",
    "nums = numpy.array([1,2,3,4])\n",
    "nums * nums"
   ]
  },
  {
   "cell_type": "markdown",
   "metadata": {},
   "source": [
    "## install numpy or pandas, you need this\n",
    "http://www.microsoft.com/en-us/download/details.aspx?id=44266"
   ]
  },
  {
   "cell_type": "code",
   "execution_count": 100,
   "metadata": {
    "collapsed": false
   },
   "outputs": [
    {
     "name": "stdout",
     "output_type": "stream",
     "text": [
      "[1, 4, 9, 16]\n"
     ]
    }
   ],
   "source": [
    "nums = [1,2,3,4]\n",
    "ary = [] \n",
    "for n in nums:\n",
    "    ary.append(n * n)\n",
    "print ary"
   ]
  },
  {
   "cell_type": "code",
   "execution_count": 101,
   "metadata": {
    "collapsed": false
   },
   "outputs": [
    {
     "name": "stdout",
     "output_type": "stream",
     "text": [
      "[1, 4, 9, 16]\n"
     ]
    }
   ],
   "source": [
    "print [n*n for n in nums]"
   ]
  },
  {
   "cell_type": "code",
   "execution_count": 102,
   "metadata": {
    "collapsed": false
   },
   "outputs": [
    {
     "name": "stdout",
     "output_type": "stream",
     "text": [
      "[2, 1]\n"
     ]
    }
   ],
   "source": [
    "## 篩選 values <= 2\n",
    "nums = [2, 8, 1, 6]\n",
    "small = [ n for n in nums if n <= 2 ]  ## [2, 1]\n",
    "print small"
   ]
  },
  {
   "cell_type": "code",
   "execution_count": 106,
   "metadata": {
    "collapsed": false
   },
   "outputs": [
    {
     "name": "stdout",
     "output_type": "stream",
     "text": [
      "['a', 'basic', 'about']\n",
      "['a', 'basic', 'about']\n"
     ]
    }
   ],
   "source": [
    "# one line method\n",
    "a = 'this is a very basic topic about python'\n",
    "print [w for w in a.split() if 'a' in w]\n",
    "\n",
    "#multi-line method\n",
    "sentence_ary = a.split()\n",
    "ary = []\n",
    "for w in sentence_ary:\n",
    "    if 'a' in w:\n",
    "        ary.append(w)\n",
    "print ary"
   ]
  },
  {
   "cell_type": "code",
   "execution_count": 108,
   "metadata": {
    "collapsed": false
   },
   "outputs": [
    {
     "name": "stdout",
     "output_type": "stream",
     "text": [
      "['APPLE', 'BANNANA']\n",
      "['APPLE', 'BANNANA']\n"
     ]
    }
   ],
   "source": [
    "fruits = ['apple', 'cherry', 'bannana', 'lemon']\n",
    "afruits = [ s.upper() for s in fruits if 'a' in s ]\n",
    "print afruits\n",
    "\n",
    "ary = []\n",
    "for s in fruits:\n",
    "    if 'a' in s:\n",
    "        ary.append(s.upper())\n",
    "print ary"
   ]
  },
  {
   "cell_type": "code",
   "execution_count": 109,
   "metadata": {
    "collapsed": false
   },
   "outputs": [
    {
     "name": "stdout",
     "output_type": "stream",
     "text": [
      "Add Contact: david\n",
      "You have 1 contacts\n",
      "Add Contact: mary\n",
      "You have 2 contacts\n",
      "Add Contact: masa\n",
      "You have 3 contacts\n",
      "Add Contact: Done\n",
      "Your Contacts: ['david', 'mary', 'masa']\n"
     ]
    }
   ],
   "source": [
    "contact_list = []\n",
    "while True:\n",
    "    contact = raw_input(\"Add Contact: \")\n",
    "    if contact == 'Done':\n",
    "        break\n",
    "    else:\n",
    "        contact_list.append(contact)\n",
    "        print \"You have %d contacts\" % (len(contact_list))\n",
    "print \"Your Contacts: %s\"%(contact_list)"
   ]
  },
  {
   "cell_type": "code",
   "execution_count": 122,
   "metadata": {
    "collapsed": false
   },
   "outputs": [
    {
     "data": {
      "text/html": [
       "<div style=\"max-height:1000px;max-width:1500px;overflow:auto;\">\n",
       "<table border=\"1\" class=\"dataframe\">\n",
       "  <thead>\n",
       "    <tr style=\"text-align: right;\">\n",
       "      <th></th>\n",
       "      <th>cat</th>\n",
       "      <th>popularity</th>\n",
       "      <th>time</th>\n",
       "      <th>title</th>\n",
       "    </tr>\n",
       "  </thead>\n",
       "  <tbody>\n",
       "    <tr>\n",
       "      <th>2</th>\n",
       "      <td>國際</td>\n",
       "      <td>0</td>\n",
       "      <td>15:42</td>\n",
       "      <td>子宮頸癌疫苗副作用　致英國萬名少女不適</td>\n",
       "    </tr>\n",
       "    <tr>\n",
       "      <th>4</th>\n",
       "      <td>政治</td>\n",
       "      <td>1029</td>\n",
       "      <td>15:40</td>\n",
       "      <td>【更新】柯：不知九二共識內容　秉持4個互...</td>\n",
       "    </tr>\n",
       "    <tr>\n",
       "      <th>29</th>\n",
       "      <td>生活</td>\n",
       "      <td>122</td>\n",
       "      <td>15:14</td>\n",
       "      <td>華信航空獲IATA授證　成為正式會員</td>\n",
       "    </tr>\n",
       "    <tr>\n",
       "      <th>21</th>\n",
       "      <td>社會</td>\n",
       "      <td>1301</td>\n",
       "      <td>15:20</td>\n",
       "      <td>火鍋店整修　工人遭電焊燒傷臉</td>\n",
       "    </tr>\n",
       "    <tr>\n",
       "      <th>24</th>\n",
       "      <td>社會</td>\n",
       "      <td>1494</td>\n",
       "      <td>15:17</td>\n",
       "      <td>侵公款6百萬還6萬　家長會長不得緩刑須入...</td>\n",
       "    </tr>\n",
       "    <tr>\n",
       "      <th>16</th>\n",
       "      <td>FUN</td>\n",
       "      <td>1526</td>\n",
       "      <td>15:25</td>\n",
       "      <td>兩種死也不要的男友　妳更排斥哪一種？</td>\n",
       "    </tr>\n",
       "    <tr>\n",
       "      <th>27</th>\n",
       "      <td>娛樂</td>\n",
       "      <td>1531</td>\n",
       "      <td>15:15</td>\n",
       "      <td>創作歌手為圓夢　老公掏600萬助發片</td>\n",
       "    </tr>\n",
       "    <tr>\n",
       "      <th>20</th>\n",
       "      <td>生活</td>\n",
       "      <td>165</td>\n",
       "      <td>15:24</td>\n",
       "      <td>防MERS入侵　疾管署派「假病人」測試醫...</td>\n",
       "    </tr>\n",
       "    <tr>\n",
       "      <th>15</th>\n",
       "      <td>生活</td>\n",
       "      <td>1820</td>\n",
       "      <td>15:28</td>\n",
       "      <td>【更新】女童觸電　新光三越店長5度鞠躬道...</td>\n",
       "    </tr>\n",
       "    <tr>\n",
       "      <th>6</th>\n",
       "      <td>體育</td>\n",
       "      <td>2</td>\n",
       "      <td>15:39</td>\n",
       "      <td>四分衛參戰　6月20日桃園主場開唱</td>\n",
       "    </tr>\n",
       "    <tr>\n",
       "      <th>5</th>\n",
       "      <td>社會</td>\n",
       "      <td>2036</td>\n",
       "      <td>15:40</td>\n",
       "      <td>工人施工觸電　當場無呼吸心跳</td>\n",
       "    </tr>\n",
       "    <tr>\n",
       "      <th>18</th>\n",
       "      <td>瘋啥</td>\n",
       "      <td>206</td>\n",
       "      <td>15:24</td>\n",
       "      <td>新款電競筆電　 眼球追蹤超酷炫</td>\n",
       "    </tr>\n",
       "    <tr>\n",
       "      <th>7</th>\n",
       "      <td>生活</td>\n",
       "      <td>2406</td>\n",
       "      <td>15:37</td>\n",
       "      <td>【更新】北市34歲男染MERS？疾管署駁...</td>\n",
       "    </tr>\n",
       "    <tr>\n",
       "      <th>3</th>\n",
       "      <td>生活</td>\n",
       "      <td>249</td>\n",
       "      <td>15:41</td>\n",
       "      <td>【更新】湯志民：國小的廁所會裝一個求救鈴</td>\n",
       "    </tr>\n",
       "    <tr>\n",
       "      <th>26</th>\n",
       "      <td>國際</td>\n",
       "      <td>269</td>\n",
       "      <td>15:16</td>\n",
       "      <td>​醉漢倒在方向盤上　騎士出手了</td>\n",
       "    </tr>\n",
       "    <tr>\n",
       "      <th>10</th>\n",
       "      <td>國際</td>\n",
       "      <td>305</td>\n",
       "      <td>15:32</td>\n",
       "      <td>美德州通過爭議法案　大學師生可帶槍到校</td>\n",
       "    </tr>\n",
       "    <tr>\n",
       "      <th>1</th>\n",
       "      <td>生活</td>\n",
       "      <td>3198</td>\n",
       "      <td>15:42</td>\n",
       "      <td>【更新】柯：現在無法廢死　關到死也蠻花錢</td>\n",
       "    </tr>\n",
       "    <tr>\n",
       "      <th>13</th>\n",
       "      <td>娛樂</td>\n",
       "      <td>3349</td>\n",
       "      <td>15:30</td>\n",
       "      <td>昆凌素顏拉閨蜜合照　網友驚「憔悴臉變凹」</td>\n",
       "    </tr>\n",
       "    <tr>\n",
       "      <th>19</th>\n",
       "      <td>搜奇</td>\n",
       "      <td>349</td>\n",
       "      <td>15:24</td>\n",
       "      <td>【自己的牙齒自己拔】他真的是學以致用…</td>\n",
       "    </tr>\n",
       "    <tr>\n",
       "      <th>22</th>\n",
       "      <td>財經</td>\n",
       "      <td>349</td>\n",
       "      <td>15:20</td>\n",
       "      <td>非智慧機連網裝置　今年全球估賣逾1.12...</td>\n",
       "    </tr>\n",
       "    <tr>\n",
       "      <th>23</th>\n",
       "      <td>論壇</td>\n",
       "      <td>422</td>\n",
       "      <td>15:19</td>\n",
       "      <td>「宜蘭市儈館」初體驗</td>\n",
       "    </tr>\n",
       "    <tr>\n",
       "      <th>12</th>\n",
       "      <td>論壇</td>\n",
       "      <td>455</td>\n",
       "      <td>15:31</td>\n",
       "      <td>蔡英文赴美前已經交了卷</td>\n",
       "    </tr>\n",
       "    <tr>\n",
       "      <th>11</th>\n",
       "      <td>生活</td>\n",
       "      <td>55</td>\n",
       "      <td>15:32</td>\n",
       "      <td>路面顛坡恐熄火　366輛凱迪拉克召修</td>\n",
       "    </tr>\n",
       "    <tr>\n",
       "      <th>0</th>\n",
       "      <td>瘋啥</td>\n",
       "      <td>6598</td>\n",
       "      <td>15:45</td>\n",
       "      <td>【更新】Computex金質獎揭曉　搶看...</td>\n",
       "    </tr>\n",
       "    <tr>\n",
       "      <th>17</th>\n",
       "      <td>瘋啥</td>\n",
       "      <td>6780</td>\n",
       "      <td>15:24</td>\n",
       "      <td>【更新】華碩新品噴發  自拍手機搶客</td>\n",
       "    </tr>\n",
       "    <tr>\n",
       "      <th>9</th>\n",
       "      <td>社會</td>\n",
       "      <td>687</td>\n",
       "      <td>15:35</td>\n",
       "      <td>毒品飛到澳洲貴8倍　女大生運毒被逮</td>\n",
       "    </tr>\n",
       "    <tr>\n",
       "      <th>8</th>\n",
       "      <td>國際</td>\n",
       "      <td>714</td>\n",
       "      <td>15:36</td>\n",
       "      <td>海灘悠閒漫步　竟直擊空難現場</td>\n",
       "    </tr>\n",
       "    <tr>\n",
       "      <th>25</th>\n",
       "      <td>娛樂</td>\n",
       "      <td>7304</td>\n",
       "      <td>15:16</td>\n",
       "      <td>申東靖安鈞璨相繼離世　「可米小子」3年痛...</td>\n",
       "    </tr>\n",
       "    <tr>\n",
       "      <th>28</th>\n",
       "      <td>時尚</td>\n",
       "      <td>757</td>\n",
       "      <td>15:15</td>\n",
       "      <td>薛凱琪　丸子頭比事業線搶鏡</td>\n",
       "    </tr>\n",
       "    <tr>\n",
       "      <th>14</th>\n",
       "      <td>社會</td>\n",
       "      <td>793</td>\n",
       "      <td>15:30</td>\n",
       "      <td>護童維校安　刑警也來了</td>\n",
       "    </tr>\n",
       "  </tbody>\n",
       "</table>\n",
       "</div>"
      ],
      "text/plain": [
       "    cat popularity   time                    title\n",
       "2    ���          0  15:42      摮�悅�貊��怨��臭��具��渲�������憟喃���\n",
       "4    �踵祥       1029  15:40  ����啜��荔�銝��銋���梯��批捆��������...\n",
       "29   ��暑        122  15:14       �臭縑�芰征�淌ATA�������箸迤撘����\n",
       "21   蝷暹�       1301  15:20           �恍�摨��靽柴�撌乩犖�剝�����瑁�\n",
       "24   蝷暹�       1494  15:17  靘萄�甈��曇����研�摰園����銝��蝺拙����...\n",
       "16  FUN       1526  15:25       �拍車甇颱�銝��������憒單�����芯�蝔殷�\n",
       "27   憡��       1531  15:15       �萎�甇���箏�憭Ｕ������00�砍��潛�\n",
       "20   ��暑        165  15:24  �清ERS�乩噩���蝞∠蔡瘣整����鈭箝�皜祈岫��..\n",
       "15   ��暑       1820  15:28  ����啜�憟喟咱閫賊�������頞����摨阡�頨祇�...\n",
       "6    擃��          2  15:39        ���銵���啜�6��0�交���蜓�湧���\n",
       "5    蝷暹�       2036  15:40           撌乩犖�賢極閫賊�����渡��澆�敹�歲\n",
       "18   ���        206  15:24          �唳狡�餌奎蝑�����潛�餈質馱頞����\n",
       "7    ��暑       2406  15:37  ����啜����34甇脩���ERS嚗��蝞∠蔡擏�..\n",
       "3    ��暑        249  15:41     ����啜�皝臬�瘞�����������鋆��������\n",
       "26   ���        269  15:16          ���瞍Ｗ��冽����銝��擉�ㄚ�箸�鈭�\n",
       "10   ���        305  15:32      蝢�噸撌�����霅唳�獢��憭批飛撣怎��臬葆瑽����\n",
       "1    ��暑       3198  15:42     ����啜��荔��曉��⊥�撱Ｘ香����唳香銋���梢�\n",
       "13   憡��       3349  15:30     ���蝝���������扼�蝬脣�撽���������嫘�\n",
       "19   ���        349  15:24      ���撌梁�����芸楛���隞�����摮訾誑�渡���\n",
       "22   鞎∠�        349  15:20  ����扳���雯鋆�蔭���撟游���摯鞈��1.12...\n",
       "23   隢��        422  15:19               ����剖���尹���擃��\n",
       "12   隢��        455  15:31              �∟���絕蝢��撌脩�鈭支���\n",
       "11   ��暑         55  15:32       頝舫�憿������怒�366頛��餈芣����靽�\n",
       "0    ���       6598  15:45  ����啜�Computex��釭�������嗥�...\n",
       "17   ���       6780  15:24       ����啜��舐◣�啣��渡�  �芣�����嗅恥\n",
       "9    蝷暹�        687  15:35        瘥��憌��瞉單散鞎����憟喳之���瘥�◤��\n",
       "8    ���        714  15:36           瘚瑞����瞍急郊����湔�蝛粹��曉�\n",
       "25   憡��       7304  15:16  �單��������貊匱�Ｖ�����舐掖撠����撟渡�...\n",
       "28   ���        757  15:15            ����芥�銝詨��剜�鈭�平蝺����\n",
       "14   蝷暹�        793  15:30              霅瑞咱蝬剜�摰����郎銋��鈭�"
      ]
     },
     "execution_count": 122,
     "metadata": {},
     "output_type": "execute_result"
    }
   ],
   "source": [
    "import requests\n",
    "import re\n",
    "from bs4 import BeautifulSoup\n",
    "res = requests.get('http://www.appledaily.com.tw/realtimenews/section/new/')\n",
    "soup = BeautifulSoup(res.text)\n",
    "ary = []\n",
    "for entry in soup.select('.rtddt'):\n",
    "    m = re.match('(.*?)\\((\\d+)\\)', entry.select('h1')[0].text)\n",
    "    if m:\n",
    "        main = m.group(1)\n",
    "        popularity = m.group(2)\n",
    "    ary.append({'time':entry.select('time')[0].text, 'cat':entry.select('h2')[0].text, 'title':main, 'popularity': popularity})\n",
    "import pandas as pd\n",
    "df = pd.DataFrame(ary)\n",
    "df.sort(['popularity'])\n"
   ]
  },
  {
   "cell_type": "code",
   "execution_count": null,
   "metadata": {
    "collapsed": true
   },
   "outputs": [],
   "source": []
  }
 ],
 "metadata": {
  "kernelspec": {
   "display_name": "Python 2",
   "language": "python",
   "name": "python2"
  },
  "language_info": {
   "codemirror_mode": {
    "name": "ipython",
    "version": 2
   },
   "file_extension": ".py",
   "mimetype": "text/x-python",
   "name": "python",
   "nbconvert_exporter": "python",
   "pygments_lexer": "ipython2",
   "version": "2.7.10"
  }
 },
 "nbformat": 4,
 "nbformat_minor": 0
}
