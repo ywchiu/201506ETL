{
 "cells": [
  {
   "cell_type": "code",
   "execution_count": 2,
   "metadata": {
    "collapsed": false
   },
   "outputs": [
    {
     "name": "stdout",
     "output_type": "stream",
     "text": [
      "not found\n",
      "not found\n",
      "not found\n",
      "not found\n",
      "not found\n",
      "not found\n",
      "found\n",
      "not found\n"
     ]
    }
   ],
   "source": [
    "a = [1,3,5,2,6,4,7,9]\n",
    "for i in range(0, len(a)):\n",
    "    if a[i] == 7:\n",
    "        print \"found\"\n",
    "    else:\n",
    "        print \"not found\""
   ]
  },
  {
   "cell_type": "code",
   "execution_count": 3,
   "metadata": {
    "collapsed": false
   },
   "outputs": [
    {
     "data": {
      "text/plain": [
       "7"
      ]
     },
     "execution_count": 3,
     "metadata": {},
     "output_type": "execute_result"
    }
   ],
   "source": [
    "b = {1:1,3:2,5:3,2:4,6:5,4:6,7:7,9:8}\n",
    "b[7]"
   ]
  },
  {
   "cell_type": "code",
   "execution_count": 19,
   "metadata": {
    "collapsed": false
   },
   "outputs": [
    {
     "name": "stdout",
     "output_type": "stream",
     "text": [
      "{'a': 100, 'c': 0.98, 'b': 'yes'}\n"
     ]
    }
   ],
   "source": [
    "#declare dictionary \n",
    "dic = {'a':100, 'b':\"yes\", 'c':0.98} \n",
    "print dic "
   ]
  },
  {
   "cell_type": "code",
   "execution_count": 5,
   "metadata": {
    "collapsed": false
   },
   "outputs": [
    {
     "name": "stdout",
     "output_type": "stream",
     "text": [
      "['a', 'c', 'b']\n"
     ]
    }
   ],
   "source": [
    "#get keys in dictionary \n",
    "print dic.keys() "
   ]
  },
  {
   "cell_type": "code",
   "execution_count": 6,
   "metadata": {
    "collapsed": false
   },
   "outputs": [
    {
     "name": "stdout",
     "output_type": "stream",
     "text": [
      "[100, 0.98, 'yes']\n"
     ]
    }
   ],
   "source": [
    "#get values in dictionary \n",
    "print dic.values() "
   ]
  },
  {
   "cell_type": "code",
   "execution_count": 9,
   "metadata": {
    "collapsed": false
   },
   "outputs": [
    {
     "name": "stdout",
     "output_type": "stream",
     "text": [
      "100\n",
      "100\n"
     ]
    }
   ],
   "source": [
    "#get value of given key \n",
    "print dic['a'] \n",
    "\n",
    "#get value of given key \n",
    "print dic.get('a')"
   ]
  },
  {
   "cell_type": "code",
   "execution_count": 21,
   "metadata": {
    "collapsed": false
   },
   "outputs": [
    {
     "name": "stdout",
     "output_type": "stream",
     "text": [
      "{'a': 100, 'c': 0.98, 'b': 'yes', 'd': 'new'}\n"
     ]
    }
   ],
   "source": [
    "dic['d'] = 'new'\n",
    "print dic"
   ]
  },
  {
   "cell_type": "code",
   "execution_count": 24,
   "metadata": {
    "collapsed": false
   },
   "outputs": [
    {
     "name": "stdout",
     "output_type": "stream",
     "text": [
      "{'a': 100, 'c': 0.98, 'b': 'yes', 'e': 123, 'd': 'new', 'f': 456}\n",
      "a 100\n",
      "c 0.98\n",
      "b yes\n",
      "e 123\n",
      "d new\n",
      "f 456\n"
     ]
    }
   ],
   "source": [
    "#add entry into dictionary \n",
    "dic.update({'e':123, 'f':456}) \n",
    "print dic \n",
    "\n",
    "# iter the dictionary \n",
    "for rec in dic: \n",
    "    print rec, dic[rec]\n"
   ]
  },
  {
   "cell_type": "code",
   "execution_count": 26,
   "metadata": {
    "collapsed": false
   },
   "outputs": [
    {
     "name": "stdout",
     "output_type": "stream",
     "text": [
      "brian'height is 182, and his weight is 72\n"
     ]
    }
   ],
   "source": [
    "name = [\"toby\", \"brian\", \"emma\"]\n",
    "height = [173, 182, 165]\n",
    "weight = [60, 72, 43]\n",
    "\n",
    "for i in range(0, len(name)):\n",
    "    if name[i] == \"brian\":\n",
    "        h =  height[i]\n",
    "        w = weight[i]\n",
    "        print \"%s'height is %d, and his weight is %d\"%(name[i], h, w,)\n"
   ]
  },
  {
   "cell_type": "code",
   "execution_count": 27,
   "metadata": {
    "collapsed": false
   },
   "outputs": [
    {
     "name": "stdout",
     "output_type": "stream",
     "text": [
      "brian'height is 182, and his weight is 72\n"
     ]
    }
   ],
   "source": [
    "dic = {\"toby\":{\"height\":173, \"weight\":60}, \\\n",
    "       \"brian\":{\"height\":182, \"weight\":72}, \\\n",
    "       \"emma\":{\"height\":165, \"weight\":43}}\n",
    "#print dic\n",
    "#print dic.keys()\n",
    "\n",
    "#print dic['brian']\n",
    "\n",
    "print \"%s'height is %d, and his weight is %d\"\\\n",
    "    %('brian', dic['brian']['height'],  dic['brian']['weight'])"
   ]
  },
  {
   "cell_type": "code",
   "execution_count": 31,
   "metadata": {
    "collapsed": false
   },
   "outputs": [
    {
     "name": "stdout",
     "output_type": "stream",
     "text": [
      "{'age': 28, 'weight': 72, 'height': 182}\n",
      "{'age': 28, 'weight': 72, 'height': 182}\n",
      "{'age': 28, 'marriage': 'yes', 'hobbit': ['swimming', 'singing'], 'weight': 72, 'height': 182}\n"
     ]
    }
   ],
   "source": [
    "print dic['brian']\n",
    "dic['brian']['age'] = 28\n",
    "print dic['brian']\n",
    "\n",
    "dic['brian'].update({'hobbit':['swimming', 'singing'], 'marriage': \"yes\"})\n",
    "print  dic['brian']"
   ]
  },
  {
   "cell_type": "code",
   "execution_count": 32,
   "metadata": {
    "collapsed": false
   },
   "outputs": [
    {
     "name": "stdout",
     "output_type": "stream",
     "text": [
      "{'age': 28, 'marriage': 'yes', 'weight': 72, 'height': 182}\n"
     ]
    }
   ],
   "source": [
    "del dic['brian']['hobbit']\n",
    "print dic['brian']"
   ]
  },
  {
   "cell_type": "code",
   "execution_count": 33,
   "metadata": {
    "collapsed": false
   },
   "outputs": [
    {
     "name": "stdout",
     "output_type": "stream",
     "text": [
      "{'age': 30, 'marriage': 'yes', 'weight': 72, 'height': 182}\n"
     ]
    }
   ],
   "source": [
    "dic['brian']['age'] = 30\n",
    "print dic['brian']"
   ]
  },
  {
   "cell_type": "code",
   "execution_count": null,
   "metadata": {
    "collapsed": true
   },
   "outputs": [],
   "source": [
    "'''\n",
    "switch(n)\n",
    "    case 3:\n",
    "        do something\n",
    "    case 5:\n",
    "        do something\n",
    "    default:\n",
    "        do something\n",
    "'''\n",
    "\n"
   ]
  },
  {
   "cell_type": "code",
   "execution_count": 36,
   "metadata": {
    "collapsed": false
   },
   "outputs": [
    {
     "data": {
      "text/plain": [
       "(1, 2, 0)"
      ]
     },
     "execution_count": 36,
     "metadata": {},
     "output_type": "execute_result"
    }
   ],
   "source": [
    "\n",
    "def func(x):\n",
    "    return {\n",
    "        'a': 1,\n",
    "        'b': 2,\n",
    "        }.get(x, 0) \n",
    "func('a'), func('b'), func('c')"
   ]
  },
  {
   "cell_type": "code",
   "execution_count": 40,
   "metadata": {
    "collapsed": false
   },
   "outputs": [
    {
     "name": "stdout",
     "output_type": "stream",
     "text": [
      "1 2\n"
     ]
    },
    {
     "data": {
      "text/plain": [
       "'default'"
      ]
     },
     "execution_count": 40,
     "metadata": {},
     "output_type": "execute_result"
    }
   ],
   "source": [
    "dic2 = {'a': 1,'b': 2}\n",
    "print dic2['a'], dic2['b']\n",
    "#dic2['c']\n",
    "dic2.get('c', 'default')"
   ]
  },
  {
   "cell_type": "code",
   "execution_count": 42,
   "metadata": {
    "collapsed": false
   },
   "outputs": [
    {
     "name": "stdout",
     "output_type": "stream",
     "text": [
      "b\n",
      "b2\n"
     ]
    }
   ],
   "source": [
    "list1 = ['a', 'b', 'c']\n",
    "print list1[1]\n",
    "list1[1] = 'b2'\n",
    "print list1[1]"
   ]
  },
  {
   "cell_type": "code",
   "execution_count": 44,
   "metadata": {
    "collapsed": false
   },
   "outputs": [
    {
     "name": "stdout",
     "output_type": "stream",
     "text": [
      "b\n"
     ]
    },
    {
     "ename": "TypeError",
     "evalue": "'tuple' object does not support item assignment",
     "output_type": "error",
     "traceback": [
      "\u001b[1;31m---------------------------------------------------------------------------\u001b[0m",
      "\u001b[1;31mTypeError\u001b[0m                                 Traceback (most recent call last)",
      "\u001b[1;32m<ipython-input-44-c06f79a8673d>\u001b[0m in \u001b[0;36m<module>\u001b[1;34m()\u001b[0m\n\u001b[0;32m      1\u001b[0m \u001b[0mtuple1\u001b[0m \u001b[1;33m=\u001b[0m \u001b[1;33m(\u001b[0m\u001b[1;34m'a'\u001b[0m\u001b[1;33m,\u001b[0m\u001b[1;34m'b'\u001b[0m\u001b[1;33m,\u001b[0m\u001b[1;34m'c'\u001b[0m\u001b[1;33m)\u001b[0m\u001b[1;33m\u001b[0m\u001b[0m\n\u001b[0;32m      2\u001b[0m \u001b[1;32mprint\u001b[0m \u001b[0mtuple1\u001b[0m\u001b[1;33m[\u001b[0m\u001b[1;36m1\u001b[0m\u001b[1;33m]\u001b[0m\u001b[1;33m\u001b[0m\u001b[0m\n\u001b[1;32m----> 3\u001b[1;33m \u001b[0mtuple1\u001b[0m\u001b[1;33m[\u001b[0m\u001b[1;36m1\u001b[0m\u001b[1;33m]\u001b[0m \u001b[1;33m=\u001b[0m\u001b[1;34m'b2'\u001b[0m\u001b[1;33m\u001b[0m\u001b[0m\n\u001b[0m",
      "\u001b[1;31mTypeError\u001b[0m: 'tuple' object does not support item assignment"
     ]
    }
   ],
   "source": [
    "tuple1 = ('a','b','c')\n",
    "print tuple1[1]\n",
    "tuple1[1] ='b2'"
   ]
  },
  {
   "cell_type": "code",
   "execution_count": 46,
   "metadata": {
    "collapsed": false
   },
   "outputs": [
    {
     "name": "stdout",
     "output_type": "stream",
     "text": [
      "['__add__', '__class__', '__contains__', '__delattr__', '__doc__', '__eq__', '__format__', '__ge__', '__getattribute__', '__getitem__', '__getnewargs__', '__getslice__', '__gt__', '__hash__', '__init__', '__iter__', '__le__', '__len__', '__lt__', '__mul__', '__ne__', '__new__', '__reduce__', '__reduce_ex__', '__repr__', '__rmul__', '__setattr__', '__sizeof__', '__str__', '__subclasshook__', 'count', 'index']\n"
     ]
    }
   ],
   "source": [
    "#print dir(list1)\n",
    "print dir(tuple1)\n"
   ]
  },
  {
   "cell_type": "code",
   "execution_count": 52,
   "metadata": {
    "collapsed": false
   },
   "outputs": [
    {
     "name": "stdout",
     "output_type": "stream",
     "text": [
      "(1, 2, 3) (1, 2, 3) (1, 2, 3)\n",
      "[1, 2, 3]\n",
      "(1, 2, 3, 4)\n"
     ]
    }
   ],
   "source": [
    "tuple1 = (1,2,3)\n",
    "tuple2 = 1,2,3\n",
    "tuple3 = tuple([1,2,3]) \n",
    "print tuple1, tuple2, tuple3\n",
    "\n",
    "list2 = list(tuple3)\n",
    "print list2\n",
    "list2.append(4)\n",
    "tuple4 = tuple(list2)\n",
    "print tuple4"
   ]
  },
  {
   "cell_type": "code",
   "execution_count": 53,
   "metadata": {
    "collapsed": false
   },
   "outputs": [
    {
     "name": "stdout",
     "output_type": "stream",
     "text": [
      "1 2\n"
     ]
    }
   ],
   "source": [
    "a = 1\n",
    "b = 2\n",
    "print a, b"
   ]
  },
  {
   "cell_type": "code",
   "execution_count": 57,
   "metadata": {
    "collapsed": false
   },
   "outputs": [
    {
     "name": "stdout",
     "output_type": "stream",
     "text": [
      "1 2\n",
      "(1, 2)\n",
      "True\n"
     ]
    }
   ],
   "source": [
    "#int a=1, b=2\n",
    "a,b = 1,2\n",
    "print a, b\n",
    "\n",
    "c = a,b\n",
    "print c\n",
    "\n",
    "d = 1,2\n",
    "print c==d"
   ]
  },
  {
   "cell_type": "code",
   "execution_count": 59,
   "metadata": {
    "collapsed": false
   },
   "outputs": [
    {
     "name": "stdout",
     "output_type": "stream",
     "text": [
      "10000\n"
     ]
    }
   ],
   "source": [
    "a  = range(0,10000)\n",
    "print len(a)\n",
    "del a # delete a variable a"
   ]
  },
  {
   "cell_type": "code",
   "execution_count": 60,
   "metadata": {
    "collapsed": false
   },
   "outputs": [
    {
     "ename": "NameError",
     "evalue": "name 'a' is not defined",
     "output_type": "error",
     "traceback": [
      "\u001b[1;31m---------------------------------------------------------------------------\u001b[0m",
      "\u001b[1;31mNameError\u001b[0m                                 Traceback (most recent call last)",
      "\u001b[1;32m<ipython-input-60-c292a81e235b>\u001b[0m in \u001b[0;36m<module>\u001b[1;34m()\u001b[0m\n\u001b[1;32m----> 1\u001b[1;33m \u001b[1;32mprint\u001b[0m \u001b[0mlen\u001b[0m\u001b[1;33m(\u001b[0m\u001b[0ma\u001b[0m\u001b[1;33m)\u001b[0m\u001b[1;33m\u001b[0m\u001b[0m\n\u001b[0m",
      "\u001b[1;31mNameError\u001b[0m: name 'a' is not defined"
     ]
    }
   ],
   "source": [
    "print len(a) # variable a not found"
   ]
  },
  {
   "cell_type": "code",
   "execution_count": 65,
   "metadata": {
    "collapsed": false
   },
   "outputs": [
    {
     "name": "stdout",
     "output_type": "stream",
     "text": [
      "1 2\n",
      "2 1\n"
     ]
    }
   ],
   "source": [
    "a = 1\n",
    "b = 2\n",
    "print a,b\n",
    "\n",
    "c = a\n",
    "a = b\n",
    "b = c\n",
    "del c\n",
    "\n",
    "print a,b"
   ]
  },
  {
   "cell_type": "code",
   "execution_count": 68,
   "metadata": {
    "collapsed": false
   },
   "outputs": [
    {
     "name": "stdout",
     "output_type": "stream",
     "text": [
      "1 2\n",
      "2 1\n"
     ]
    }
   ],
   "source": [
    "a, b = 1,2\n",
    "print a,b\n",
    "\n",
    "a,b = b,a\n",
    "print a,b"
   ]
  },
  {
   "cell_type": "code",
   "execution_count": 69,
   "metadata": {
    "collapsed": false
   },
   "outputs": [
    {
     "name": "stdout",
     "output_type": "stream",
     "text": [
      "182 72\n"
     ]
    }
   ],
   "source": [
    "dic = {\"toby\":{\"height\":173, \"weight\":60}, \\\n",
    "       \"brian\":{\"height\":182, \"weight\":72}, \\\n",
    "       \"emma\":{\"height\":165, \"weight\":43}}\n",
    "\n",
    "def func(name):\n",
    "    return dic[name]['height'], dic[name]['weight']\n",
    "\n",
    "brian_height, brian_weight = func('brian')\n",
    "print brian_height, brian_weight"
   ]
  },
  {
   "cell_type": "code",
   "execution_count": 71,
   "metadata": {
    "collapsed": false
   },
   "outputs": [
    {
     "name": "stdout",
     "output_type": "stream",
     "text": [
      "1 2 3\n",
      "3 2 1\n"
     ]
    }
   ],
   "source": [
    "def func():\n",
    "    return 1,2,3\n",
    "x, y, z = func()\n",
    "print x,y,z\n",
    "print z,y,x"
   ]
  },
  {
   "cell_type": "code",
   "execution_count": 72,
   "metadata": {
    "collapsed": false
   },
   "outputs": [
    {
     "name": "stdout",
     "output_type": "stream",
     "text": [
      "1 brian\n",
      "2 toby\n",
      "3 sherry\n"
     ]
    }
   ],
   "source": [
    "namelist= ['brian', 'toby', 'sherry']\n",
    "personid = 1\n",
    "for name in namelist:\n",
    "    print personid, name\n",
    "    personid +=1"
   ]
  },
  {
   "cell_type": "code",
   "execution_count": 77,
   "metadata": {
    "collapsed": false
   },
   "outputs": [
    {
     "name": "stdout",
     "output_type": "stream",
     "text": [
      "1 brian\n",
      "2 toby\n",
      "3 sherry\n"
     ]
    }
   ],
   "source": [
    "for idx, name in enumerate(namelist):\n",
    "    print idx +1 , name"
   ]
  },
  {
   "cell_type": "code",
   "execution_count": 82,
   "metadata": {
    "collapsed": false
   },
   "outputs": [
    {
     "name": "stdout",
     "output_type": "stream",
     "text": [
      "0 brian\n",
      "1 toby\n",
      "2 sherry\n",
      "('brian', 186, 82)\n",
      "my name is brian, and my height is 186, and my weight is 82\n"
     ]
    }
   ],
   "source": [
    "for person in enumerate(namelist):\n",
    "    print \"{} {}\".format(*person)\n",
    "    \n",
    "'brian = name, height, weight'\n",
    "brian = 'brian', 186, 82\n",
    "print brian\n",
    "print \"my name is {}, and my height is {}, and my weight is {}\".format(*brian)"
   ]
  },
  {
   "cell_type": "code",
   "execution_count": 88,
   "metadata": {
    "collapsed": false
   },
   "outputs": [
    {
     "name": "stdout",
     "output_type": "stream",
     "text": [
      "['a', 'b', 180, 3.0, ['toby', 'sherry']] <type 'list'>\n",
      "{'a': 180, 'c': ['toby', 'sherry'], 'b': 20} <type 'dict'>\n",
      "('brian', 186, 82) <type 'tuple'>\n"
     ]
    }
   ],
   "source": [
    "# list, []\n",
    "list1 = ['a', 'b', 180, 3.0, ['toby', 'sherry']]\n",
    "print list1, type(list1)\n",
    "\n",
    "# dictionary {}, {key:val}\n",
    "dic1 = {'a':180, 'b':20, 'c':['toby', 'sherry'] }\n",
    "print dic1, type(dic1)\n",
    "\n",
    "# tuple ()\n",
    "tuple1 =  'brian', 186, 82\n",
    "print tuple1, type(tuple1)"
   ]
  },
  {
   "cell_type": "code",
   "execution_count": null,
   "metadata": {
    "collapsed": true
   },
   "outputs": [],
   "source": []
  }
 ],
 "metadata": {
  "kernelspec": {
   "display_name": "Python 2",
   "language": "python",
   "name": "python2"
  },
  "language_info": {
   "codemirror_mode": {
    "name": "ipython",
    "version": 2
   },
   "file_extension": ".py",
   "mimetype": "text/x-python",
   "name": "python",
   "nbconvert_exporter": "python",
   "pygments_lexer": "ipython2",
   "version": "2.7.10"
  }
 },
 "nbformat": 4,
 "nbformat_minor": 0
}
