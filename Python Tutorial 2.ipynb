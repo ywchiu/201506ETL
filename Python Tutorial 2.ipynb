{
 "cells": [
  {
   "cell_type": "code",
   "execution_count": 2,
   "metadata": {
    "collapsed": false
   },
   "outputs": [
    {
     "name": "stdout",
     "output_type": "stream",
     "text": [
      "not found\n",
      "not found\n",
      "not found\n",
      "not found\n",
      "not found\n",
      "not found\n",
      "found\n",
      "not found\n"
     ]
    }
   ],
   "source": [
    "a = [1,3,5,2,6,4,7,9]\n",
    "for i in range(0, len(a)):\n",
    "    if a[i] == 7:\n",
    "        print \"found\"\n",
    "    else:\n",
    "        print \"not found\""
   ]
  },
  {
   "cell_type": "code",
   "execution_count": 3,
   "metadata": {
    "collapsed": false
   },
   "outputs": [
    {
     "data": {
      "text/plain": [
       "7"
      ]
     },
     "execution_count": 3,
     "metadata": {},
     "output_type": "execute_result"
    }
   ],
   "source": [
    "b = {1:1,3:2,5:3,2:4,6:5,4:6,7:7,9:8}\n",
    "b[7]"
   ]
  },
  {
   "cell_type": "code",
   "execution_count": 19,
   "metadata": {
    "collapsed": false
   },
   "outputs": [
    {
     "name": "stdout",
     "output_type": "stream",
     "text": [
      "{'a': 100, 'c': 0.98, 'b': 'yes'}\n"
     ]
    }
   ],
   "source": [
    "#declare dictionary \n",
    "dic = {'a':100, 'b':\"yes\", 'c':0.98} \n",
    "print dic "
   ]
  },
  {
   "cell_type": "code",
   "execution_count": 5,
   "metadata": {
    "collapsed": false
   },
   "outputs": [
    {
     "name": "stdout",
     "output_type": "stream",
     "text": [
      "['a', 'c', 'b']\n"
     ]
    }
   ],
   "source": [
    "#get keys in dictionary \n",
    "print dic.keys() "
   ]
  },
  {
   "cell_type": "code",
   "execution_count": 6,
   "metadata": {
    "collapsed": false
   },
   "outputs": [
    {
     "name": "stdout",
     "output_type": "stream",
     "text": [
      "[100, 0.98, 'yes']\n"
     ]
    }
   ],
   "source": [
    "#get values in dictionary \n",
    "print dic.values() "
   ]
  },
  {
   "cell_type": "code",
   "execution_count": 9,
   "metadata": {
    "collapsed": false
   },
   "outputs": [
    {
     "name": "stdout",
     "output_type": "stream",
     "text": [
      "100\n",
      "100\n"
     ]
    }
   ],
   "source": [
    "#get value of given key \n",
    "print dic['a'] \n",
    "\n",
    "#get value of given key \n",
    "print dic.get('a')"
   ]
  },
  {
   "cell_type": "code",
   "execution_count": 21,
   "metadata": {
    "collapsed": false
   },
   "outputs": [
    {
     "name": "stdout",
     "output_type": "stream",
     "text": [
      "{'a': 100, 'c': 0.98, 'b': 'yes', 'd': 'new'}\n"
     ]
    }
   ],
   "source": [
    "dic['d'] = 'new'\n",
    "print dic"
   ]
  },
  {
   "cell_type": "code",
   "execution_count": 24,
   "metadata": {
    "collapsed": false
   },
   "outputs": [
    {
     "name": "stdout",
     "output_type": "stream",
     "text": [
      "{'a': 100, 'c': 0.98, 'b': 'yes', 'e': 123, 'd': 'new', 'f': 456}\n",
      "a 100\n",
      "c 0.98\n",
      "b yes\n",
      "e 123\n",
      "d new\n",
      "f 456\n"
     ]
    }
   ],
   "source": [
    "#add entry into dictionary \n",
    "dic.update({'e':123, 'f':456}) \n",
    "print dic \n",
    "\n",
    "# iter the dictionary \n",
    "for rec in dic: \n",
    "    print rec, dic[rec]\n"
   ]
  },
  {
   "cell_type": "code",
   "execution_count": 26,
   "metadata": {
    "collapsed": false
   },
   "outputs": [
    {
     "name": "stdout",
     "output_type": "stream",
     "text": [
      "brian'height is 182, and his weight is 72\n"
     ]
    }
   ],
   "source": [
    "name = [\"toby\", \"brian\", \"emma\"]\n",
    "height = [173, 182, 165]\n",
    "weight = [60, 72, 43]\n",
    "\n",
    "for i in range(0, len(name)):\n",
    "    if name[i] == \"brian\":\n",
    "        h =  height[i]\n",
    "        w = weight[i]\n",
    "        print \"%s'height is %d, and his weight is %d\"%(name[i], h, w,)\n"
   ]
  },
  {
   "cell_type": "code",
   "execution_count": 27,
   "metadata": {
    "collapsed": false
   },
   "outputs": [
    {
     "name": "stdout",
     "output_type": "stream",
     "text": [
      "brian'height is 182, and his weight is 72\n"
     ]
    }
   ],
   "source": [
    "dic = {\"toby\":{\"height\":173, \"weight\":60}, \\\n",
    "       \"brian\":{\"height\":182, \"weight\":72}, \\\n",
    "       \"emma\":{\"height\":165, \"weight\":43}}\n",
    "#print dic\n",
    "#print dic.keys()\n",
    "\n",
    "#print dic['brian']\n",
    "\n",
    "print \"%s'height is %d, and his weight is %d\"\\\n",
    "    %('brian', dic['brian']['height'],  dic['brian']['weight'])"
   ]
  },
  {
   "cell_type": "code",
   "execution_count": 31,
   "metadata": {
    "collapsed": false
   },
   "outputs": [
    {
     "name": "stdout",
     "output_type": "stream",
     "text": [
      "{'age': 28, 'weight': 72, 'height': 182}\n",
      "{'age': 28, 'weight': 72, 'height': 182}\n",
      "{'age': 28, 'marriage': 'yes', 'hobbit': ['swimming', 'singing'], 'weight': 72, 'height': 182}\n"
     ]
    }
   ],
   "source": [
    "print dic['brian']\n",
    "dic['brian']['age'] = 28\n",
    "print dic['brian']\n",
    "\n",
    "dic['brian'].update({'hobbit':['swimming', 'singing'], 'marriage': \"yes\"})\n",
    "print  dic['brian']"
   ]
  },
  {
   "cell_type": "code",
   "execution_count": 32,
   "metadata": {
    "collapsed": false
   },
   "outputs": [
    {
     "name": "stdout",
     "output_type": "stream",
     "text": [
      "{'age': 28, 'marriage': 'yes', 'weight': 72, 'height': 182}\n"
     ]
    }
   ],
   "source": [
    "del dic['brian']['hobbit']\n",
    "print dic['brian']"
   ]
  },
  {
   "cell_type": "code",
   "execution_count": 33,
   "metadata": {
    "collapsed": false
   },
   "outputs": [
    {
     "name": "stdout",
     "output_type": "stream",
     "text": [
      "{'age': 30, 'marriage': 'yes', 'weight': 72, 'height': 182}\n"
     ]
    }
   ],
   "source": [
    "dic['brian']['age'] = 30\n",
    "print dic['brian']"
   ]
  },
  {
   "cell_type": "code",
   "execution_count": null,
   "metadata": {
    "collapsed": true
   },
   "outputs": [],
   "source": [
    "'''\n",
    "switch(n)\n",
    "    case 3:\n",
    "        do something\n",
    "    case 5:\n",
    "        do something\n",
    "    default:\n",
    "        do something\n",
    "'''\n",
    "\n"
   ]
  },
  {
   "cell_type": "code",
   "execution_count": 36,
   "metadata": {
    "collapsed": false
   },
   "outputs": [
    {
     "data": {
      "text/plain": [
       "(1, 2, 0)"
      ]
     },
     "execution_count": 36,
     "metadata": {},
     "output_type": "execute_result"
    }
   ],
   "source": [
    "\n",
    "def func(x):\n",
    "    return {\n",
    "        'a': 1,\n",
    "        'b': 2,\n",
    "        }.get(x, 0) \n",
    "func('a'), func('b'), func('c')"
   ]
  },
  {
   "cell_type": "code",
   "execution_count": 40,
   "metadata": {
    "collapsed": false
   },
   "outputs": [
    {
     "name": "stdout",
     "output_type": "stream",
     "text": [
      "1 2\n"
     ]
    },
    {
     "data": {
      "text/plain": [
       "'default'"
      ]
     },
     "execution_count": 40,
     "metadata": {},
     "output_type": "execute_result"
    }
   ],
   "source": [
    "dic2 = {'a': 1,'b': 2}\n",
    "print dic2['a'], dic2['b']\n",
    "#dic2['c']\n",
    "dic2.get('c', 'default')"
   ]
  },
  {
   "cell_type": "code",
   "execution_count": null,
   "metadata": {
    "collapsed": true
   },
   "outputs": [],
   "source": []
  }
 ],
 "metadata": {
  "kernelspec": {
   "display_name": "Python 2",
   "language": "python",
   "name": "python2"
  },
  "language_info": {
   "codemirror_mode": {
    "name": "ipython",
    "version": 2
   },
   "file_extension": ".py",
   "mimetype": "text/x-python",
   "name": "python",
   "nbconvert_exporter": "python",
   "pygments_lexer": "ipython2",
   "version": "2.7.10"
  }
 },
 "nbformat": 4,
 "nbformat_minor": 0
}
