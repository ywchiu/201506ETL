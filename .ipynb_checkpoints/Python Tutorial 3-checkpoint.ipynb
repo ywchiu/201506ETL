{
 "cells": [
  {
   "cell_type": "code",
   "execution_count": null,
   "metadata": {
    "collapsed": true
   },
   "outputs": [],
   "source": [
    "#\n",
    "http://webcache.googleusercontent.com/search?q=cache:uu3QVSzmjZIJ:https://www.ptt.cc/bbs/Gossiping/M.1421742808.A.19D.html+&cd=1&hl=zh-TW&ct=clnk&gl=tw\n",
    "https://www.ptt.cc/bbs/Gossiping/M.1421550140.A.704.html\n",
    "#\n",
    "http://webcache.googleusercontent.com/search?q=cache:L5XmcFmSuPsJ:https://www.ptt.cc/bbs/Gossiping/M.1421550140.A.704.html+&cd=2&hl=zh-TW&ct=clnk&gl=tw\n",
    "https://www.ptt.cc/bbs/Gossiping/M.1421553792.A.816.html\n",
    "#\n",
    "http://webcache.googleusercontent.com/search?q=cache:Q5R5-kocEMQJ:https://www.ptt.cc/bbs/Gossiping/M.1421553792.A.816.html+&cd=3&hl=zh-TW&ct=clnk&gl=tw\n",
    "https://www.ptt.cc/bbs/Gossiping/M.1419921545.A.A03.html\n",
    "#\n",
    "http://webcache.googleusercontent.com/search?q=cache:L3oFW9Ol31kJ:https://www.ptt.cc/bbs/Gossiping/M.1419921545.A.A03.html+&cd=4&hl=zh-TW&ct=clnk&gl=tw\n",
    "https://www.ptt.cc/bbs/Gossiping/M.1419678303.A.063.html"
   ]
  },
  {
   "cell_type": "markdown",
   "metadata": {},
   "source": [
    "### linux shell command \n",
    "- grep \"ptt.cc\" ptt1.log | grep -v googleuser | egrep -o 'bbs\\/.*\\/' | sort | uniq -c | sort -k 1 -nr\n",
    "- grep \"ptt.cc\" ptt1.log | grep -v googleuser | egrep -o 'bbs\\/.*\\/' | sort | uniq -c | sort -k 1 -nr | awk 'BEGIN{SUM=0}{SUM += $1}END{print SUM}'\n",
    "- split -l 1000000 db.sql"
   ]
  },
  {
   "cell_type": "markdown",
   "metadata": {},
   "source": [
    "- http://kevincrazy.pixnet.net/blog/post/29780957-echo%E3%80%81grep%E3%80%81sed"
   ]
  },
  {
   "cell_type": "code",
   "execution_count": null,
   "metadata": {
    "collapsed": true
   },
   "outputs": [],
   "source": [
    "# python example\n",
    "f = open('db.sql', 'r')\n",
    "for line in f.readlines():\n",
    "        if 'CREATE TABLE' in line:\n",
    "                print line.strip().split()[2]\n",
    "f.close()\n",
    "\n",
    "# linus command\n",
    "grep \"CREATE TABLE\" db.sql | awk '{print $3}'"
   ]
  },
  {
   "cell_type": "code",
   "execution_count": null,
   "metadata": {
    "collapsed": true
   },
   "outputs": [],
   "source": [
    "#replace first character \n",
    ":%s/^/'/g\n",
    "# replace :\n",
    ":%s/:/':'/g\n",
    "# replace last character\n",
    ":%s/$/',/g\n",
    "        "
   ]
  },
  {
   "cell_type": "code",
   "execution_count": 58,
   "metadata": {
    "collapsed": false
   },
   "outputs": [],
   "source": [
    "import requests\n",
    "payload = {\n",
    "'method':'search',\n",
    "'searchMethod':'true',\n",
    "'searchTarget':'ATM',\n",
    "'orgName':'',\n",
    "'orgId':'',\n",
    "'hid_1':'1',\n",
    "'tenderName':'',\n",
    "'tenderId':'',\n",
    "'tenderStatus':'4,5,21,29',\n",
    "'tenderWay':'',\n",
    "'awardAnnounceStartDate':'103/04/29',\n",
    "'awardAnnounceEndDate':'103/04/29',\n",
    "'proctrgCate':'3',\n",
    "'radProctrgCate':'3',\n",
    "'tenderRange':'',\n",
    "'minBudget':'',\n",
    "'maxBudget':'',\n",
    "'item':'',\n",
    "'hid_2':'1',\n",
    "'gottenVendorName':'',\n",
    "'gottenVendorId':'',\n",
    "'hid_3':'1',\n",
    "'submitVendorName':'',\n",
    "'submitVendorId':'',\n",
    "'location':'',\n",
    "'priorityCate':'',\n",
    "'isReConstruct':'',\n",
    "'btnQuery':'查詢'\n",
    "}\n",
    "rs = requests.session()\n",
    "res = rs.post('http://web.pcc.gov.tw/tps/pss/tender.do?searchMode=common&searchType=advance', data = payload)\n",
    "#print res.text"
   ]
  },
  {
   "cell_type": "code",
   "execution_count": 43,
   "metadata": {
    "collapsed": false
   },
   "outputs": [],
   "source": [
    "from bs4 import BeautifulSoup\n",
    "soup = BeautifulSoup(res.text)\n",
    "record_number = int(soup.select('.T11b')[0].text) # add . in front of class; [0]unlist list; get test; convert to int"
   ]
  },
  {
   "cell_type": "code",
   "execution_count": 44,
   "metadata": {
    "collapsed": false
   },
   "outputs": [
    {
     "name": "stdout",
     "output_type": "stream",
     "text": [
      "3\n"
     ]
    }
   ],
   "source": [
    "import math\n",
    "page_number = int(math.ceil(float(record_number) / 100)) \n",
    "# record number /100; use math.ceil to get top value; convert to int\n",
    "print page_number"
   ]
  },
  {
   "cell_type": "code",
   "execution_count": 45,
   "metadata": {
    "collapsed": false
   },
   "outputs": [],
   "source": [
    "formaturl = 'http://web.pcc.gov.tw/tps/pss/tender.do?searchMode=common&searchType=advance&searchTarget=ATM&method=search&isSpdt=&pageIndex=%d'\n",
    "for i in range(1,page_number + 1):\n",
    "    pageurl = formaturl%(i)\n",
    "    #res = rs.get(pageurl)\n",
    "    #print res.text"
   ]
  },
  {
   "cell_type": "code",
   "execution_count": 46,
   "metadata": {
    "collapsed": false
   },
   "outputs": [],
   "source": [
    "pageurl = formaturl % 1\n",
    "bid_response  = rs.get(pageurl)\n",
    "bid_soup = BeautifulSoup(bid_response.text)\n",
    "bid_table = bid_soup.select('#print_area')[0] # get <div id=\"print_area\"> ; add # in front of id\n",
    "bid_rows = bid_table.select('tr')[1:-1]\n",
    "\n"
   ]
  },
  {
   "cell_type": "code",
   "execution_count": 47,
   "metadata": {
    "collapsed": false
   },
   "outputs": [
    {
     "ename": "SyntaxError",
     "evalue": "invalid syntax (<ipython-input-47-367b1a1c7fbc>, line 1)",
     "output_type": "error",
     "traceback": [
      "\u001b[1;36m  File \u001b[1;32m\"<ipython-input-47-367b1a1c7fbc>\"\u001b[1;36m, line \u001b[1;32m1\u001b[0m\n\u001b[1;33m    <table>\u001b[0m\n\u001b[1;37m    ^\u001b[0m\n\u001b[1;31mSyntaxError\u001b[0m\u001b[1;31m:\u001b[0m invalid syntax\n"
     ]
    }
   ],
   "source": [
    "<table>\n",
    "    <thead>\n",
    "        <th> </th>\n",
    "    </thead>\n",
    "    <tbody>\n",
    "        <tr> </tr>\n",
    "        <tr> </tr>\n",
    "        <tr> </tr>\n",
    "    </tbody>\n",
    "</table>"
   ]
  },
  {
   "cell_type": "code",
   "execution_count": 48,
   "metadata": {
    "collapsed": false
   },
   "outputs": [
    {
     "name": "stdout",
     "output_type": "stream",
     "text": [
      "[2, 3, 4, 5, 6]\n",
      "[1, 2, 3, 4, 5]\n",
      "[2, 3, 4, 5]\n"
     ]
    }
   ],
   "source": [
    "a = [1,2,3,4,5,6]\n",
    "print a[1:]\n",
    "print a[:-1]\n",
    "print a[1:-1]"
   ]
  },
  {
   "cell_type": "code",
   "execution_count": 49,
   "metadata": {
    "collapsed": false
   },
   "outputs": [],
   "source": [
    "#for bid_row in bid_rows:\n",
    "    # one line method\n",
    "    #links = [tag['href'] for tag in bid_row.select('a')] \n",
    "    \n",
    "    # multi line method\n",
    "    # links = [] \n",
    "    # for tag in bid_row.select('a'):\n",
    "    #    links.append(tag['href'])\n",
    "    # print links\n"
   ]
  },
  {
   "cell_type": "code",
   "execution_count": 50,
   "metadata": {
    "collapsed": false
   },
   "outputs": [
    {
     "name": "stdout",
     "output_type": "stream",
     "text": [
      "string \thttp://web.pcc.gov.tw/tps/main/pms/tps/atm/atmAwardAction.do?newEdit=false&searchMode=common&method=inquiryForPublic&pkAtmMain=51239371&tenderCaseNo=4197\n",
      "urlparse\thttp://web.pcc.gov.tw/tps/main/pms/tps/atm/atmAwardAction.do?newEdit=false&searchMode=common&method=inquiryForPublic&pkAtmMain=51239371&tenderCaseNo=4197\n",
      "string \thttp://web.pcc.gov.tw/tps/main/pms/tps/atm/atmAwardAction.do?newEdit=false&searchMode=common&method=inquiryForPublic&pkAtmMain=51239291&tenderCaseNo=0607L1030328\n",
      "urlparse\thttp://web.pcc.gov.tw/tps/main/pms/tps/atm/atmAwardAction.do?newEdit=false&searchMode=common&method=inquiryForPublic&pkAtmMain=51239291&tenderCaseNo=0607L1030328\n",
      "string \thttp://web.pcc.gov.tw/tps/main/pms/tps/atm/atmAwardAction.do?newEdit=false&searchMode=common&method=inquiryForPublic&pkAtmMain=51241675&tenderCaseNo=XW03118P099\n",
      "urlparse\thttp://web.pcc.gov.tw/tps/main/pms/tps/atm/atmAwardAction.do?newEdit=false&searchMode=common&method=inquiryForPublic&pkAtmMain=51241675&tenderCaseNo=XW03118P099\n",
      "string \thttp://web.pcc.gov.tw/tps/main/pms/tps/atm/atmAwardAction.do?newEdit=false&searchMode=common&method=inquiryForPublic&pkAtmMain=51241674&tenderCaseNo=XW03072P119\n",
      "urlparse\thttp://web.pcc.gov.tw/tps/main/pms/tps/atm/atmAwardAction.do?newEdit=false&searchMode=common&method=inquiryForPublic&pkAtmMain=51241674&tenderCaseNo=XW03072P119\n",
      "string \thttp://web.pcc.gov.tw/tps/main/pms/tps/atm/atmAwardAction.do?newEdit=false&searchMode=common&method=inquiryForPublic&pkAtmMain=51241666&tenderCaseNo=B1030411\n",
      "urlparse\thttp://web.pcc.gov.tw/tps/main/pms/tps/atm/atmAwardAction.do?newEdit=false&searchMode=common&method=inquiryForPublic&pkAtmMain=51241666&tenderCaseNo=B1030411\n",
      "string \thttp://web.pcc.gov.tw/tps/main/pms/tps/atm/atmAwardAction.do?newEdit=false&searchMode=common&method=inquiryForPublic&pkAtmMain=51241665&tenderCaseNo=B1030422\n",
      "urlparse\thttp://web.pcc.gov.tw/tps/main/pms/tps/atm/atmAwardAction.do?newEdit=false&searchMode=common&method=inquiryForPublic&pkAtmMain=51241665&tenderCaseNo=B1030422\n",
      "string \thttp://web.pcc.gov.tw/tps/main/pms/tps/atm/atmAwardAction.do?newEdit=false&searchMode=common&method=inquiryForPublic&pkAtmMain=51241621&tenderCaseNo=MPB10390429\n",
      "urlparse\thttp://web.pcc.gov.tw/tps/main/pms/tps/atm/atmAwardAction.do?newEdit=false&searchMode=common&method=inquiryForPublic&pkAtmMain=51241621&tenderCaseNo=MPB10390429\n",
      "string \thttp://web.pcc.gov.tw/tps/main/pms/tps/atm/atmAwardAction.do?newEdit=false&searchMode=common&method=inquiryForPublic&pkAtmMain=51241602&tenderCaseNo=103-19\n",
      "urlparse\thttp://web.pcc.gov.tw/tps/main/pms/tps/atm/atmAwardAction.do?newEdit=false&searchMode=common&method=inquiryForPublic&pkAtmMain=51241602&tenderCaseNo=103-19\n",
      "string \thttp://web.pcc.gov.tw/tps/main/pms/tps/atm/atmAwardAction.do?newEdit=false&searchMode=common&method=inquiryForPublic&pkAtmMain=51241573&tenderCaseNo=SL-103043\n",
      "urlparse\thttp://web.pcc.gov.tw/tps/main/pms/tps/atm/atmAwardAction.do?newEdit=false&searchMode=common&method=inquiryForPublic&pkAtmMain=51241573&tenderCaseNo=SL-103043\n",
      "string \thttp://web.pcc.gov.tw/tps/main/pms/tps/atm/atmAwardAction.do?newEdit=false&searchMode=common&method=inquiryForPublic&pkAtmMain=51241557&tenderCaseNo=NG03035P009P\n",
      "urlparse\thttp://web.pcc.gov.tw/tps/main/pms/tps/atm/atmAwardAction.do?newEdit=false&searchMode=common&method=inquiryForPublic&pkAtmMain=51241557&tenderCaseNo=NG03035P009P\n",
      "string \thttp://web.pcc.gov.tw/tps/main/pms/tps/atm/atmAwardAction.do?newEdit=false&searchMode=common&method=inquiryForPublic&pkAtmMain=51241458&tenderCaseNo=10302\n",
      "urlparse\thttp://web.pcc.gov.tw/tps/main/pms/tps/atm/atmAwardAction.do?newEdit=false&searchMode=common&method=inquiryForPublic&pkAtmMain=51241458&tenderCaseNo=10302\n",
      "string \thttp://web.pcc.gov.tw/tps/main/pms/tps/atm/atmAwardAction.do?newEdit=false&searchMode=common&method=inquiryForPublic&pkAtmMain=51241498&tenderCaseNo=103-2-010\n",
      "urlparse\thttp://web.pcc.gov.tw/tps/main/pms/tps/atm/atmAwardAction.do?newEdit=false&searchMode=common&method=inquiryForPublic&pkAtmMain=51241498&tenderCaseNo=103-2-010\n",
      "string \thttp://web.pcc.gov.tw/tps/main/pms/tps/atm/atmAwardAction.do?newEdit=false&searchMode=common&method=inquiryForPublic&pkAtmMain=51241496&tenderCaseNo=W103ABC071\n",
      "urlparse\thttp://web.pcc.gov.tw/tps/main/pms/tps/atm/atmAwardAction.do?newEdit=false&searchMode=common&method=inquiryForPublic&pkAtmMain=51241496&tenderCaseNo=W103ABC071\n",
      "string \thttp://web.pcc.gov.tw/tps/main/pms/tps/atm/atmAwardAction.do?newEdit=false&searchMode=common&method=inquiryForPublic&pkAtmMain=51241485&tenderCaseNo=103230330119\n",
      "urlparse\thttp://web.pcc.gov.tw/tps/main/pms/tps/atm/atmAwardAction.do?newEdit=false&searchMode=common&method=inquiryForPublic&pkAtmMain=51241485&tenderCaseNo=103230330119\n",
      "string \thttp://web.pcc.gov.tw/tps/main/pms/tps/atm/atmAwardAction.do?newEdit=false&searchMode=common&method=inquiryForPublic&pkAtmMain=51238144&tenderCaseNo=C1030415\n",
      "urlparse\thttp://web.pcc.gov.tw/tps/main/pms/tps/atm/atmAwardAction.do?newEdit=false&searchMode=common&method=inquiryForPublic&pkAtmMain=51238144&tenderCaseNo=C1030415\n",
      "string \thttp://web.pcc.gov.tw/tps/main/pms/tps/atm/atmAwardAction.do?newEdit=false&searchMode=common&method=inquiryForPublic&pkAtmMain=51241358&tenderCaseNo=Y103016\n",
      "urlparse\thttp://web.pcc.gov.tw/tps/main/pms/tps/atm/atmAwardAction.do?newEdit=false&searchMode=common&method=inquiryForPublic&pkAtmMain=51241358&tenderCaseNo=Y103016\n",
      "string \thttp://web.pcc.gov.tw/tps/main/pms/tps/atm/atmAwardAction.do?newEdit=false&searchMode=common&method=inquiryForPublic&pkAtmMain=51241301&tenderCaseNo=103003\n",
      "urlparse\thttp://web.pcc.gov.tw/tps/main/pms/tps/atm/atmAwardAction.do?newEdit=false&searchMode=common&method=inquiryForPublic&pkAtmMain=51241301&tenderCaseNo=103003\n",
      "string \thttp://web.pcc.gov.tw/tps/main/pms/tps/atm/atmAwardAction.do?newEdit=false&searchMode=common&method=inquiryForPublic&pkAtmMain=51241289&tenderCaseNo=103-7\n",
      "urlparse\thttp://web.pcc.gov.tw/tps/main/pms/tps/atm/atmAwardAction.do?newEdit=false&searchMode=common&method=inquiryForPublic&pkAtmMain=51241289&tenderCaseNo=103-7\n",
      "string \thttp://web.pcc.gov.tw/tps/main/pms/tps/atm/atmAwardAction.do?newEdit=false&searchMode=common&method=inquiryForPublic&pkAtmMain=51241135&tenderCaseNo=103-TY-142\n",
      "urlparse\thttp://web.pcc.gov.tw/tps/main/pms/tps/atm/atmAwardAction.do?newEdit=false&searchMode=common&method=inquiryForPublic&pkAtmMain=51241135&tenderCaseNo=103-TY-142\n",
      "string \thttp://web.pcc.gov.tw/tps/main/pms/tps/atm/atmAwardAction.do?newEdit=false&searchMode=common&method=inquiryForPublic&pkAtmMain=51241115&tenderCaseNo=1030404\n",
      "urlparse\thttp://web.pcc.gov.tw/tps/main/pms/tps/atm/atmAwardAction.do?newEdit=false&searchMode=common&method=inquiryForPublic&pkAtmMain=51241115&tenderCaseNo=1030404\n",
      "string \thttp://web.pcc.gov.tw/tps/main/pms/tps/atm/atmAwardAction.do?newEdit=false&searchMode=common&method=inquiryForPublic&pkAtmMain=51241108&tenderCaseNo=11-1030328\n",
      "urlparse\thttp://web.pcc.gov.tw/tps/main/pms/tps/atm/atmAwardAction.do?newEdit=false&searchMode=common&method=inquiryForPublic&pkAtmMain=51241108&tenderCaseNo=11-1030328\n",
      "string \thttp://web.pcc.gov.tw/tps/main/pms/tps/atm/atmAwardAction.do?newEdit=false&searchMode=common&method=inquiryForPublic&pkAtmMain=51241103&tenderCaseNo=P103001\n",
      "urlparse\thttp://web.pcc.gov.tw/tps/main/pms/tps/atm/atmAwardAction.do?newEdit=false&searchMode=common&method=inquiryForPublic&pkAtmMain=51241103&tenderCaseNo=P103001\n",
      "string \thttp://web.pcc.gov.tw/tps/main/pms/tps/atm/atmAwardAction.do?newEdit=false&searchMode=common&method=inquiryForPublic&pkAtmMain=51241099&tenderCaseNo=103-0021002-029-2-6\n",
      "urlparse\thttp://web.pcc.gov.tw/tps/main/pms/tps/atm/atmAwardAction.do?newEdit=false&searchMode=common&method=inquiryForPublic&pkAtmMain=51241099&tenderCaseNo=103-0021002-029-2-6\n",
      "string \thttp://web.pcc.gov.tw/tps/main/pms/tps/atm/atmAwardAction.do?newEdit=false&searchMode=common&method=inquiryForPublic&pkAtmMain=51241063&tenderCaseNo=103075\n",
      "urlparse\thttp://web.pcc.gov.tw/tps/main/pms/tps/atm/atmAwardAction.do?newEdit=false&searchMode=common&method=inquiryForPublic&pkAtmMain=51241063&tenderCaseNo=103075\n",
      "string \thttp://web.pcc.gov.tw/tps/main/pms/tps/atm/atmAwardAction.do?newEdit=false&searchMode=common&method=inquiryForPublic&pkAtmMain=51241062&tenderCaseNo=SL-103050\n",
      "urlparse\thttp://web.pcc.gov.tw/tps/main/pms/tps/atm/atmAwardAction.do?newEdit=false&searchMode=common&method=inquiryForPublic&pkAtmMain=51241062&tenderCaseNo=SL-103050\n",
      "string \thttp://web.pcc.gov.tw/tps/main/pms/tps/atm/atmAwardAction.do?newEdit=false&searchMode=common&method=inquiryForPublic&pkAtmMain=51241029&tenderCaseNo=1030011069\n",
      "urlparse\thttp://web.pcc.gov.tw/tps/main/pms/tps/atm/atmAwardAction.do?newEdit=false&searchMode=common&method=inquiryForPublic&pkAtmMain=51241029&tenderCaseNo=1030011069\n",
      "string \thttp://web.pcc.gov.tw/tps/main/pms/tps/atm/atmAwardAction.do?newEdit=false&searchMode=common&method=inquiryForPublic&pkAtmMain=51240942&tenderCaseNo=SL-103046\n",
      "urlparse\thttp://web.pcc.gov.tw/tps/main/pms/tps/atm/atmAwardAction.do?newEdit=false&searchMode=common&method=inquiryForPublic&pkAtmMain=51240942&tenderCaseNo=SL-103046\n",
      "string \thttp://web.pcc.gov.tw/tps/main/pms/tps/atm/atmAwardAction.do?newEdit=false&searchMode=common&method=inquiryForPublic&pkAtmMain=51240875&tenderCaseNo=B102RD03012\n",
      "urlparse\thttp://web.pcc.gov.tw/tps/main/pms/tps/atm/atmAwardAction.do?newEdit=false&searchMode=common&method=inquiryForPublic&pkAtmMain=51240875&tenderCaseNo=B102RD03012\n",
      "string \thttp://web.pcc.gov.tw/tps/main/pms/tps/atm/atmAwardAction.do?newEdit=false&searchMode=common&method=inquiryForPublic&pkAtmMain=51240824&tenderCaseNo=1030203\n",
      "urlparse\thttp://web.pcc.gov.tw/tps/main/pms/tps/atm/atmAwardAction.do?newEdit=false&searchMode=common&method=inquiryForPublic&pkAtmMain=51240824&tenderCaseNo=1030203\n",
      "string \thttp://web.pcc.gov.tw/tps/main/pms/tps/atm/atmAwardAction.do?newEdit=false&searchMode=common&method=inquiryForPublic&pkAtmMain=51240739&tenderCaseNo=G103EDU043\n",
      "urlparse\thttp://web.pcc.gov.tw/tps/main/pms/tps/atm/atmAwardAction.do?newEdit=false&searchMode=common&method=inquiryForPublic&pkAtmMain=51240739&tenderCaseNo=G103EDU043\n",
      "string \thttp://web.pcc.gov.tw/tps/main/pms/tps/atm/atmAwardAction.do?newEdit=false&searchMode=common&method=inquiryForPublic&pkAtmMain=51240712&tenderCaseNo=103B04\n",
      "urlparse\thttp://web.pcc.gov.tw/tps/main/pms/tps/atm/atmAwardAction.do?newEdit=false&searchMode=common&method=inquiryForPublic&pkAtmMain=51240712&tenderCaseNo=103B04\n",
      "string \thttp://web.pcc.gov.tw/tps/main/pms/tps/atm/atmAwardAction.do?newEdit=false&searchMode=common&method=inquiryForPublic&pkAtmMain=51240655&tenderCaseNo=AASC-103085\n",
      "urlparse\thttp://web.pcc.gov.tw/tps/main/pms/tps/atm/atmAwardAction.do?newEdit=false&searchMode=common&method=inquiryForPublic&pkAtmMain=51240655&tenderCaseNo=AASC-103085\n",
      "string \thttp://web.pcc.gov.tw/tps/main/pms/tps/atm/atmAwardAction.do?newEdit=false&searchMode=common&method=inquiryForPublic&pkAtmMain=51240623&tenderCaseNo=TC103C036\n",
      "urlparse\thttp://web.pcc.gov.tw/tps/main/pms/tps/atm/atmAwardAction.do?newEdit=false&searchMode=common&method=inquiryForPublic&pkAtmMain=51240623&tenderCaseNo=TC103C036\n",
      "string \thttp://web.pcc.gov.tw/tps/main/pms/tps/atm/atmAwardAction.do?newEdit=false&searchMode=common&method=inquiryForPublic&pkAtmMain=51240622&tenderCaseNo=DPD2014041101\n",
      "urlparse\thttp://web.pcc.gov.tw/tps/main/pms/tps/atm/atmAwardAction.do?newEdit=false&searchMode=common&method=inquiryForPublic&pkAtmMain=51240622&tenderCaseNo=DPD2014041101\n",
      "string \thttp://web.pcc.gov.tw/tps/main/pms/tps/atm/atmAwardAction.do?newEdit=false&searchMode=common&method=inquiryForPublic&pkAtmMain=51240570&tenderCaseNo=103B018\n",
      "urlparse\thttp://web.pcc.gov.tw/tps/main/pms/tps/atm/atmAwardAction.do?newEdit=false&searchMode=common&method=inquiryForPublic&pkAtmMain=51240570&tenderCaseNo=103B018\n",
      "string \thttp://web.pcc.gov.tw/tps/main/pms/tps/atm/atmAwardAction.do?newEdit=false&searchMode=common&method=inquiryForPublic&pkAtmMain=51240557&tenderCaseNo=NKUHT1524-10310\n",
      "urlparse\thttp://web.pcc.gov.tw/tps/main/pms/tps/atm/atmAwardAction.do?newEdit=false&searchMode=common&method=inquiryForPublic&pkAtmMain=51240557&tenderCaseNo=NKUHT1524-10310\n",
      "string \thttp://web.pcc.gov.tw/tps/main/pms/tps/atm/atmAwardAction.do?newEdit=false&searchMode=common&method=inquiryForPublic&pkAtmMain=51240543&tenderCaseNo=DPD2014041102\n",
      "urlparse\thttp://web.pcc.gov.tw/tps/main/pms/tps/atm/atmAwardAction.do?newEdit=false&searchMode=common&method=inquiryForPublic&pkAtmMain=51240543&tenderCaseNo=DPD2014041102\n",
      "string \thttp://web.pcc.gov.tw/tps/main/pms/tps/atm/atmAwardAction.do?newEdit=false&searchMode=common&method=inquiryForPublic&pkAtmMain=51240536&tenderCaseNo=10310\n",
      "urlparse\thttp://web.pcc.gov.tw/tps/main/pms/tps/atm/atmAwardAction.do?newEdit=false&searchMode=common&method=inquiryForPublic&pkAtmMain=51240536&tenderCaseNo=10310\n",
      "string \thttp://web.pcc.gov.tw/tps/main/pms/tps/atm/atmAwardAction.do?newEdit=false&searchMode=common&method=inquiryForPublic&pkAtmMain=51240484&tenderCaseNo=103A011A\n",
      "urlparse\thttp://web.pcc.gov.tw/tps/main/pms/tps/atm/atmAwardAction.do?newEdit=false&searchMode=common&method=inquiryForPublic&pkAtmMain=51240484&tenderCaseNo=103A011A\n",
      "string \thttp://web.pcc.gov.tw/tps/main/pms/tps/atm/atmAwardAction.do?newEdit=false&searchMode=common&method=inquiryForPublic&pkAtmMain=51240279&tenderCaseNo=103M602\n",
      "urlparse\thttp://web.pcc.gov.tw/tps/main/pms/tps/atm/atmAwardAction.do?newEdit=false&searchMode=common&method=inquiryForPublic&pkAtmMain=51240279&tenderCaseNo=103M602\n",
      "string \thttp://web.pcc.gov.tw/tps/main/pms/tps/atm/atmAwardAction.do?newEdit=false&searchMode=common&method=inquiryForPublic&pkAtmMain=51240240&tenderCaseNo=103310230121\n",
      "urlparse\thttp://web.pcc.gov.tw/tps/main/pms/tps/atm/atmAwardAction.do?newEdit=false&searchMode=common&method=inquiryForPublic&pkAtmMain=51240240&tenderCaseNo=103310230121\n",
      "string \thttp://web.pcc.gov.tw/tps/main/pms/tps/atm/atmAwardAction.do?newEdit=false&searchMode=common&method=inquiryForPublic&pkAtmMain=51240202&tenderCaseNo=103430930099\n",
      "urlparse\thttp://web.pcc.gov.tw/tps/main/pms/tps/atm/atmAwardAction.do?newEdit=false&searchMode=common&method=inquiryForPublic&pkAtmMain=51240202&tenderCaseNo=103430930099\n",
      "string \thttp://web.pcc.gov.tw/tps/main/pms/tps/atm/atmAwardAction.do?newEdit=false&searchMode=common&method=inquiryForPublic&pkAtmMain=51125369&tenderCaseNo=102bali-005-1\n",
      "urlparse\thttp://web.pcc.gov.tw/tps/main/pms/tps/atm/atmAwardAction.do?newEdit=false&searchMode=common&method=inquiryForPublic&pkAtmMain=51125369&tenderCaseNo=102bali-005-1\n",
      "string \thttp://web.pcc.gov.tw/tps/main/pms/tps/atm/atmAwardAction.do?newEdit=false&searchMode=common&method=inquiryForPublic&pkAtmMain=51122915&tenderCaseNo=TS1021101\n",
      "urlparse\thttp://web.pcc.gov.tw/tps/main/pms/tps/atm/atmAwardAction.do?newEdit=false&searchMode=common&method=inquiryForPublic&pkAtmMain=51122915&tenderCaseNo=TS1021101\n",
      "string \thttp://web.pcc.gov.tw/tps/main/pms/tps/atm/atmAwardAction.do?newEdit=false&searchMode=common&method=inquiryForPublic&pkAtmMain=51099604&tenderCaseNo=1026604961\n",
      "urlparse\thttp://web.pcc.gov.tw/tps/main/pms/tps/atm/atmAwardAction.do?newEdit=false&searchMode=common&method=inquiryForPublic&pkAtmMain=51099604&tenderCaseNo=1026604961\n",
      "string \thttp://web.pcc.gov.tw/tps/main/pms/tps/atm/atmAwardAction.do?newEdit=false&searchMode=common&method=inquiryForPublic&pkAtmMain=51239234&tenderCaseNo=103-02-029\n",
      "urlparse\thttp://web.pcc.gov.tw/tps/main/pms/tps/atm/atmAwardAction.do?newEdit=false&searchMode=common&method=inquiryForPublic&pkAtmMain=51239234&tenderCaseNo=103-02-029\n",
      "string \thttp://web.pcc.gov.tw/tps/main/pms/tps/atm/atmAwardAction.do?newEdit=false&searchMode=common&method=inquiryForPublic&pkAtmMain=51239829&tenderCaseNo=C10300519\n",
      "urlparse\thttp://web.pcc.gov.tw/tps/main/pms/tps/atm/atmAwardAction.do?newEdit=false&searchMode=common&method=inquiryForPublic&pkAtmMain=51239829&tenderCaseNo=C10300519\n",
      "string \thttp://web.pcc.gov.tw/tps/main/pms/tps/atm/atmAwardAction.do?newEdit=false&searchMode=common&method=inquiryForPublic&pkAtmMain=51239995&tenderCaseNo=NL1030479\n",
      "urlparse\thttp://web.pcc.gov.tw/tps/main/pms/tps/atm/atmAwardAction.do?newEdit=false&searchMode=common&method=inquiryForPublic&pkAtmMain=51239995&tenderCaseNo=NL1030479\n",
      "string \thttp://web.pcc.gov.tw/tps/main/pms/tps/atm/atmAwardAction.do?newEdit=false&searchMode=common&method=inquiryForPublic&pkAtmMain=51239281&tenderCaseNo=103-04\n",
      "urlparse\thttp://web.pcc.gov.tw/tps/main/pms/tps/atm/atmAwardAction.do?newEdit=false&searchMode=common&method=inquiryForPublic&pkAtmMain=51239281&tenderCaseNo=103-04\n",
      "string \thttp://web.pcc.gov.tw/tps/main/pms/tps/atm/atmAwardAction.do?newEdit=false&searchMode=common&method=inquiryForPublic&pkAtmMain=51239966&tenderCaseNo=52R-140003\n",
      "urlparse\thttp://web.pcc.gov.tw/tps/main/pms/tps/atm/atmAwardAction.do?newEdit=false&searchMode=common&method=inquiryForPublic&pkAtmMain=51239966&tenderCaseNo=52R-140003\n",
      "string \thttp://web.pcc.gov.tw/tps/main/pms/tps/atm/atmAwardAction.do?newEdit=false&searchMode=common&method=inquiryForPublic&pkAtmMain=51239970&tenderCaseNo=103004\n",
      "urlparse\thttp://web.pcc.gov.tw/tps/main/pms/tps/atm/atmAwardAction.do?newEdit=false&searchMode=common&method=inquiryForPublic&pkAtmMain=51239970&tenderCaseNo=103004\n",
      "string \thttp://web.pcc.gov.tw/tps/main/pms/tps/atm/atmAwardAction.do?newEdit=false&searchMode=common&method=inquiryForPublic&pkAtmMain=51239986&tenderCaseNo=103310\n",
      "urlparse\thttp://web.pcc.gov.tw/tps/main/pms/tps/atm/atmAwardAction.do?newEdit=false&searchMode=common&method=inquiryForPublic&pkAtmMain=51239986&tenderCaseNo=103310\n",
      "string \thttp://web.pcc.gov.tw/tps/main/pms/tps/atm/atmAwardAction.do?newEdit=false&searchMode=common&method=inquiryForPublic&pkAtmMain=51240003&tenderCaseNo=103311\n",
      "urlparse\thttp://web.pcc.gov.tw/tps/main/pms/tps/atm/atmAwardAction.do?newEdit=false&searchMode=common&method=inquiryForPublic&pkAtmMain=51240003&tenderCaseNo=103311\n",
      "string \thttp://web.pcc.gov.tw/tps/main/pms/tps/atm/atmAwardAction.do?newEdit=false&searchMode=common&method=inquiryForPublic&pkAtmMain=51240004&tenderCaseNo=AAC1033001\n",
      "urlparse\thttp://web.pcc.gov.tw/tps/main/pms/tps/atm/atmAwardAction.do?newEdit=false&searchMode=common&method=inquiryForPublic&pkAtmMain=51240004&tenderCaseNo=AAC1033001\n",
      "string \thttp://web.pcc.gov.tw/tps/main/pms/tps/atm/atmAwardAction.do?newEdit=false&searchMode=common&method=inquiryForPublic&pkAtmMain=51240090&tenderCaseNo=1030321A\n",
      "urlparse\thttp://web.pcc.gov.tw/tps/main/pms/tps/atm/atmAwardAction.do?newEdit=false&searchMode=common&method=inquiryForPublic&pkAtmMain=51240090&tenderCaseNo=1030321A\n",
      "string \thttp://web.pcc.gov.tw/tps/main/pms/tps/atm/atmAwardAction.do?newEdit=false&searchMode=common&method=inquiryForPublic&pkAtmMain=51240132&tenderCaseNo=103-21-23\n",
      "urlparse\thttp://web.pcc.gov.tw/tps/main/pms/tps/atm/atmAwardAction.do?newEdit=false&searchMode=common&method=inquiryForPublic&pkAtmMain=51240132&tenderCaseNo=103-21-23\n",
      "string \thttp://web.pcc.gov.tw/tps/main/pms/tps/atm/atmAwardAction.do?newEdit=false&searchMode=common&method=inquiryForPublic&pkAtmMain=51238769&tenderCaseNo=A35014\n",
      "urlparse\thttp://web.pcc.gov.tw/tps/main/pms/tps/atm/atmAwardAction.do?newEdit=false&searchMode=common&method=inquiryForPublic&pkAtmMain=51238769&tenderCaseNo=A35014\n",
      "string \thttp://web.pcc.gov.tw/tps/main/pms/tps/atm/atmAwardAction.do?newEdit=false&searchMode=common&method=inquiryForPublic&pkAtmMain=51239301&tenderCaseNo=EB10319\n",
      "urlparse\thttp://web.pcc.gov.tw/tps/main/pms/tps/atm/atmAwardAction.do?newEdit=false&searchMode=common&method=inquiryForPublic&pkAtmMain=51239301&tenderCaseNo=EB10319\n",
      "string \thttp://web.pcc.gov.tw/tps/main/pms/tps/atm/atmAwardAction.do?newEdit=false&searchMode=common&method=inquiryForPublic&pkAtmMain=51239373&tenderCaseNo=SV-103005\n",
      "urlparse\thttp://web.pcc.gov.tw/tps/main/pms/tps/atm/atmAwardAction.do?newEdit=false&searchMode=common&method=inquiryForPublic&pkAtmMain=51239373&tenderCaseNo=SV-103005\n",
      "string \thttp://web.pcc.gov.tw/tps/main/pms/tps/atm/atmAwardAction.do?newEdit=false&searchMode=common&method=inquiryForPublic&pkAtmMain=51239597&tenderCaseNo=HJ03242P121\n",
      "urlparse\thttp://web.pcc.gov.tw/tps/main/pms/tps/atm/atmAwardAction.do?newEdit=false&searchMode=common&method=inquiryForPublic&pkAtmMain=51239597&tenderCaseNo=HJ03242P121\n",
      "string \thttp://web.pcc.gov.tw/tps/main/pms/tps/atm/atmAwardAction.do?newEdit=false&searchMode=common&method=inquiryForPublic&pkAtmMain=51239663&tenderCaseNo=1030325-1\n",
      "urlparse\thttp://web.pcc.gov.tw/tps/main/pms/tps/atm/atmAwardAction.do?newEdit=false&searchMode=common&method=inquiryForPublic&pkAtmMain=51239663&tenderCaseNo=1030325-1\n",
      "string \thttp://web.pcc.gov.tw/tps/main/pms/tps/atm/atmAwardAction.do?newEdit=false&searchMode=common&method=inquiryForPublic&pkAtmMain=51239727&tenderCaseNo=1030247\n",
      "urlparse\thttp://web.pcc.gov.tw/tps/main/pms/tps/atm/atmAwardAction.do?newEdit=false&searchMode=common&method=inquiryForPublic&pkAtmMain=51239727&tenderCaseNo=1030247\n",
      "string \thttp://web.pcc.gov.tw/tps/main/pms/tps/atm/atmAwardAction.do?newEdit=false&searchMode=common&method=inquiryForPublic&pkAtmMain=51239827&tenderCaseNo=103-0311-1-007\n",
      "urlparse\thttp://web.pcc.gov.tw/tps/main/pms/tps/atm/atmAwardAction.do?newEdit=false&searchMode=common&method=inquiryForPublic&pkAtmMain=51239827&tenderCaseNo=103-0311-1-007\n",
      "string \thttp://web.pcc.gov.tw/tps/main/pms/tps/atm/atmAwardAction.do?newEdit=false&searchMode=common&method=inquiryForPublic&pkAtmMain=51239907&tenderCaseNo=103B0308\n",
      "urlparse\thttp://web.pcc.gov.tw/tps/main/pms/tps/atm/atmAwardAction.do?newEdit=false&searchMode=common&method=inquiryForPublic&pkAtmMain=51239907&tenderCaseNo=103B0308\n",
      "string \thttp://web.pcc.gov.tw/tps/main/pms/tps/atm/atmAwardAction.do?newEdit=false&searchMode=common&method=inquiryForPublic&pkAtmMain=51239958&tenderCaseNo=117103006-1\n",
      "urlparse\thttp://web.pcc.gov.tw/tps/main/pms/tps/atm/atmAwardAction.do?newEdit=false&searchMode=common&method=inquiryForPublic&pkAtmMain=51239958&tenderCaseNo=117103006-1\n",
      "string \thttp://web.pcc.gov.tw/tps/main/pms/tps/atm/atmAwardAction.do?newEdit=false&searchMode=common&method=inquiryForPublic&pkAtmMain=51240009&tenderCaseNo=10302211\n",
      "urlparse\thttp://web.pcc.gov.tw/tps/main/pms/tps/atm/atmAwardAction.do?newEdit=false&searchMode=common&method=inquiryForPublic&pkAtmMain=51240009&tenderCaseNo=10302211\n",
      "string \thttp://web.pcc.gov.tw/tps/main/pms/tps/atm/atmAwardAction.do?newEdit=false&searchMode=common&method=inquiryForPublic&pkAtmMain=51240050&tenderCaseNo=103A17\n",
      "urlparse\thttp://web.pcc.gov.tw/tps/main/pms/tps/atm/atmAwardAction.do?newEdit=false&searchMode=common&method=inquiryForPublic&pkAtmMain=51240050&tenderCaseNo=103A17\n",
      "string \thttp://web.pcc.gov.tw/tps/main/pms/tps/atm/atmAwardAction.do?newEdit=false&searchMode=common&method=inquiryForPublic&pkAtmMain=51240054&tenderCaseNo=D103-0219-1\n",
      "urlparse\thttp://web.pcc.gov.tw/tps/main/pms/tps/atm/atmAwardAction.do?newEdit=false&searchMode=common&method=inquiryForPublic&pkAtmMain=51240054&tenderCaseNo=D103-0219-1\n",
      "string \thttp://web.pcc.gov.tw/tps/main/pms/tps/atm/atmAwardAction.do?newEdit=false&searchMode=common&method=inquiryForPublic&pkAtmMain=51239734&tenderCaseNo=103008\n",
      "urlparse\thttp://web.pcc.gov.tw/tps/main/pms/tps/atm/atmAwardAction.do?newEdit=false&searchMode=common&method=inquiryForPublic&pkAtmMain=51239734&tenderCaseNo=103008\n",
      "string \thttp://web.pcc.gov.tw/tps/main/pms/tps/atm/atmAwardAction.do?newEdit=false&searchMode=common&method=inquiryForPublic&pkAtmMain=51239688&tenderCaseNo=S102026-1\n",
      "urlparse\thttp://web.pcc.gov.tw/tps/main/pms/tps/atm/atmAwardAction.do?newEdit=false&searchMode=common&method=inquiryForPublic&pkAtmMain=51239688&tenderCaseNo=S102026-1\n",
      "string \thttp://web.pcc.gov.tw/tps/main/pms/tps/atm/atmAwardAction.do?newEdit=false&searchMode=common&method=inquiryForPublic&pkAtmMain=51239692&tenderCaseNo=103009\n",
      "urlparse\thttp://web.pcc.gov.tw/tps/main/pms/tps/atm/atmAwardAction.do?newEdit=false&searchMode=common&method=inquiryForPublic&pkAtmMain=51239692&tenderCaseNo=103009\n",
      "string \thttp://web.pcc.gov.tw/tps/main/pms/tps/atm/atmAwardAction.do?newEdit=false&searchMode=common&method=inquiryForPublic&pkAtmMain=51239388&tenderCaseNo=BAA0384001\n",
      "urlparse\thttp://web.pcc.gov.tw/tps/main/pms/tps/atm/atmAwardAction.do?newEdit=false&searchMode=common&method=inquiryForPublic&pkAtmMain=51239388&tenderCaseNo=BAA0384001\n",
      "string \thttp://web.pcc.gov.tw/tps/main/pms/tps/atm/atmAwardAction.do?newEdit=false&searchMode=common&method=inquiryForPublic&pkAtmMain=51239844&tenderCaseNo=F103-44\n",
      "urlparse\thttp://web.pcc.gov.tw/tps/main/pms/tps/atm/atmAwardAction.do?newEdit=false&searchMode=common&method=inquiryForPublic&pkAtmMain=51239844&tenderCaseNo=F103-44\n",
      "string \thttp://web.pcc.gov.tw/tps/main/pms/tps/atm/atmAwardAction.do?newEdit=false&searchMode=common&method=inquiryForPublic&pkAtmMain=51239914&tenderCaseNo=HST10312\n",
      "urlparse\thttp://web.pcc.gov.tw/tps/main/pms/tps/atm/atmAwardAction.do?newEdit=false&searchMode=common&method=inquiryForPublic&pkAtmMain=51239914&tenderCaseNo=HST10312\n",
      "string \thttp://web.pcc.gov.tw/tps/main/pms/tps/atm/atmAwardAction.do?newEdit=false&searchMode=common&method=inquiryForPublic&pkAtmMain=51239650&tenderCaseNo=102108-1\n",
      "urlparse\thttp://web.pcc.gov.tw/tps/main/pms/tps/atm/atmAwardAction.do?newEdit=false&searchMode=common&method=inquiryForPublic&pkAtmMain=51239650&tenderCaseNo=102108-1\n",
      "string \thttp://web.pcc.gov.tw/tps/main/pms/tps/atm/atmAwardAction.do?newEdit=false&searchMode=common&method=inquiryForPublic&pkAtmMain=51239723&tenderCaseNo=1030055\n",
      "urlparse\thttp://web.pcc.gov.tw/tps/main/pms/tps/atm/atmAwardAction.do?newEdit=false&searchMode=common&method=inquiryForPublic&pkAtmMain=51239723&tenderCaseNo=1030055\n",
      "string \thttp://web.pcc.gov.tw/tps/main/pms/tps/atm/atmAwardAction.do?newEdit=false&searchMode=common&method=inquiryForPublic&pkAtmMain=51239215&tenderCaseNo=002-103-3-3-02\n",
      "urlparse\thttp://web.pcc.gov.tw/tps/main/pms/tps/atm/atmAwardAction.do?newEdit=false&searchMode=common&method=inquiryForPublic&pkAtmMain=51239215&tenderCaseNo=002-103-3-3-02\n",
      "string \thttp://web.pcc.gov.tw/tps/main/pms/tps/atm/atmAwardAction.do?newEdit=false&searchMode=common&method=inquiryForPublic&pkAtmMain=51239554&tenderCaseNo=FD03007P005\n",
      "urlparse\thttp://web.pcc.gov.tw/tps/main/pms/tps/atm/atmAwardAction.do?newEdit=false&searchMode=common&method=inquiryForPublic&pkAtmMain=51239554&tenderCaseNo=FD03007P005\n",
      "string \thttp://web.pcc.gov.tw/tps/main/pms/tps/atm/atmAwardAction.do?newEdit=false&searchMode=common&method=inquiryForPublic&pkAtmMain=51240146&tenderCaseNo=103TFDA-N-001\n",
      "urlparse\thttp://web.pcc.gov.tw/tps/main/pms/tps/atm/atmAwardAction.do?newEdit=false&searchMode=common&method=inquiryForPublic&pkAtmMain=51240146&tenderCaseNo=103TFDA-N-001\n",
      "string \thttp://web.pcc.gov.tw/tps/main/pms/tps/atm/atmAwardAction.do?newEdit=false&searchMode=common&method=inquiryForPublic&pkAtmMain=51239509&tenderCaseNo=A103000002\n",
      "urlparse\thttp://web.pcc.gov.tw/tps/main/pms/tps/atm/atmAwardAction.do?newEdit=false&searchMode=common&method=inquiryForPublic&pkAtmMain=51239509&tenderCaseNo=A103000002\n",
      "string \thttp://web.pcc.gov.tw/tps/main/pms/tps/atm/atmAwardAction.do?newEdit=false&searchMode=common&method=inquiryForPublic&pkAtmMain=51239566&tenderCaseNo=103-0052616\n",
      "urlparse\thttp://web.pcc.gov.tw/tps/main/pms/tps/atm/atmAwardAction.do?newEdit=false&searchMode=common&method=inquiryForPublic&pkAtmMain=51239566&tenderCaseNo=103-0052616\n",
      "string \thttp://web.pcc.gov.tw/tps/main/pms/tps/atm/atmAwardAction.do?newEdit=false&searchMode=common&method=inquiryForPublic&pkAtmMain=51239709&tenderCaseNo=103-03-27\n",
      "urlparse\thttp://web.pcc.gov.tw/tps/main/pms/tps/atm/atmAwardAction.do?newEdit=false&searchMode=common&method=inquiryForPublic&pkAtmMain=51239709&tenderCaseNo=103-03-27\n",
      "string \thttp://web.pcc.gov.tw/tps/main/pms/tps/atm/atmAwardAction.do?newEdit=false&searchMode=common&method=inquiryForPublic&pkAtmMain=51239839&tenderCaseNo=10303A\n",
      "urlparse\thttp://web.pcc.gov.tw/tps/main/pms/tps/atm/atmAwardAction.do?newEdit=false&searchMode=common&method=inquiryForPublic&pkAtmMain=51239839&tenderCaseNo=10303A\n",
      "string \thttp://web.pcc.gov.tw/tps/main/pms/tps/atm/atmAwardAction.do?newEdit=false&searchMode=common&method=inquiryForPublic&pkAtmMain=51239930&tenderCaseNo=1030428\n",
      "urlparse\thttp://web.pcc.gov.tw/tps/main/pms/tps/atm/atmAwardAction.do?newEdit=false&searchMode=common&method=inquiryForPublic&pkAtmMain=51239930&tenderCaseNo=1030428\n",
      "string \thttp://web.pcc.gov.tw/tps/main/pms/tps/atm/atmAwardAction.do?newEdit=false&searchMode=common&method=inquiryForPublic&pkAtmMain=51240016&tenderCaseNo=103traffic012\n",
      "urlparse\thttp://web.pcc.gov.tw/tps/main/pms/tps/atm/atmAwardAction.do?newEdit=false&searchMode=common&method=inquiryForPublic&pkAtmMain=51240016&tenderCaseNo=103traffic012\n",
      "string \thttp://web.pcc.gov.tw/tps/main/pms/tps/atm/atmAwardAction.do?newEdit=false&searchMode=common&method=inquiryForPublic&pkAtmMain=51239717&tenderCaseNo=XU03E29P092\n",
      "urlparse\thttp://web.pcc.gov.tw/tps/main/pms/tps/atm/atmAwardAction.do?newEdit=false&searchMode=common&method=inquiryForPublic&pkAtmMain=51239717&tenderCaseNo=XU03E29P092\n",
      "string \thttp://web.pcc.gov.tw/tps/main/pms/tps/atm/atmAwardAction.do?newEdit=false&searchMode=common&method=inquiryForPublic&pkAtmMain=51239884&tenderCaseNo=103005\n",
      "urlparse\thttp://web.pcc.gov.tw/tps/main/pms/tps/atm/atmAwardAction.do?newEdit=false&searchMode=common&method=inquiryForPublic&pkAtmMain=51239884&tenderCaseNo=103005\n",
      "string \thttp://web.pcc.gov.tw/tps/main/pms/tps/atm/atmAwardAction.do?newEdit=false&searchMode=common&method=inquiryForPublic&pkAtmMain=51170299&tenderCaseNo=L1331021201\n",
      "urlparse\thttp://web.pcc.gov.tw/tps/main/pms/tps/atm/atmAwardAction.do?newEdit=false&searchMode=common&method=inquiryForPublic&pkAtmMain=51170299&tenderCaseNo=L1331021201\n",
      "string \thttp://web.pcc.gov.tw/tps/main/pms/tps/atm/atmAwardAction.do?newEdit=false&searchMode=common&method=inquiryForPublic&pkAtmMain=51239664&tenderCaseNo=M03I6247\n",
      "urlparse\thttp://web.pcc.gov.tw/tps/main/pms/tps/atm/atmAwardAction.do?newEdit=false&searchMode=common&method=inquiryForPublic&pkAtmMain=51239664&tenderCaseNo=M03I6247\n",
      "string \thttp://web.pcc.gov.tw/tps/main/pms/tps/atm/atmAwardAction.do?newEdit=false&searchMode=common&method=inquiryForPublic&pkAtmMain=51239654&tenderCaseNo=B103167\n",
      "urlparse\thttp://web.pcc.gov.tw/tps/main/pms/tps/atm/atmAwardAction.do?newEdit=false&searchMode=common&method=inquiryForPublic&pkAtmMain=51239654&tenderCaseNo=B103167\n",
      "string \thttp://web.pcc.gov.tw/tps/main/pms/tps/atm/atmAwardAction.do?newEdit=false&searchMode=common&method=inquiryForPublic&pkAtmMain=51239662&tenderCaseNo=B103169\n",
      "urlparse\thttp://web.pcc.gov.tw/tps/main/pms/tps/atm/atmAwardAction.do?newEdit=false&searchMode=common&method=inquiryForPublic&pkAtmMain=51239662&tenderCaseNo=B103169\n",
      "string \thttp://web.pcc.gov.tw/tps/main/pms/tps/atm/atmAwardAction.do?newEdit=false&searchMode=common&method=inquiryForPublic&pkAtmMain=51239883&tenderCaseNo=1021011C\n",
      "urlparse\thttp://web.pcc.gov.tw/tps/main/pms/tps/atm/atmAwardAction.do?newEdit=false&searchMode=common&method=inquiryForPublic&pkAtmMain=51239883&tenderCaseNo=1021011C\n",
      "string \thttp://web.pcc.gov.tw/tps/main/pms/tps/atm/atmAwardAction.do?newEdit=false&searchMode=common&method=inquiryForPublic&pkAtmMain=51239683&tenderCaseNo=1030326AA\n",
      "urlparse\thttp://web.pcc.gov.tw/tps/main/pms/tps/atm/atmAwardAction.do?newEdit=false&searchMode=common&method=inquiryForPublic&pkAtmMain=51239683&tenderCaseNo=1030326AA\n",
      "string \thttp://web.pcc.gov.tw/tps/main/pms/tps/atm/atmAwardAction.do?newEdit=false&searchMode=common&method=inquiryForPublic&pkAtmMain=51239853&tenderCaseNo=10307\n",
      "urlparse\thttp://web.pcc.gov.tw/tps/main/pms/tps/atm/atmAwardAction.do?newEdit=false&searchMode=common&method=inquiryForPublic&pkAtmMain=51239853&tenderCaseNo=10307\n",
      "string \thttp://web.pcc.gov.tw/tps/main/pms/tps/atm/atmAwardAction.do?newEdit=false&searchMode=common&method=inquiryForPublic&pkAtmMain=51239940&tenderCaseNo=103B0403\n",
      "urlparse\thttp://web.pcc.gov.tw/tps/main/pms/tps/atm/atmAwardAction.do?newEdit=false&searchMode=common&method=inquiryForPublic&pkAtmMain=51239940&tenderCaseNo=103B0403\n",
      "string \thttp://web.pcc.gov.tw/tps/main/pms/tps/atm/atmAwardAction.do?newEdit=false&searchMode=common&method=inquiryForPublic&pkAtmMain=51239946&tenderCaseNo=10308\n",
      "urlparse\thttp://web.pcc.gov.tw/tps/main/pms/tps/atm/atmAwardAction.do?newEdit=false&searchMode=common&method=inquiryForPublic&pkAtmMain=51239946&tenderCaseNo=10308\n",
      "string \thttp://web.pcc.gov.tw/tps/main/pms/tps/atm/atmAwardAction.do?newEdit=false&searchMode=common&method=inquiryForPublic&pkAtmMain=51240019&tenderCaseNo=103W009\n",
      "urlparse\thttp://web.pcc.gov.tw/tps/main/pms/tps/atm/atmAwardAction.do?newEdit=false&searchMode=common&method=inquiryForPublic&pkAtmMain=51240019&tenderCaseNo=103W009\n",
      "string \thttp://web.pcc.gov.tw/tps/main/pms/tps/atm/atmAwardAction.do?newEdit=false&searchMode=common&method=inquiryForPublic&pkAtmMain=51240072&tenderCaseNo=B961\n",
      "urlparse\thttp://web.pcc.gov.tw/tps/main/pms/tps/atm/atmAwardAction.do?newEdit=false&searchMode=common&method=inquiryForPublic&pkAtmMain=51240072&tenderCaseNo=B961\n",
      "string \thttp://web.pcc.gov.tw/tps/main/pms/tps/atm/atmAwardAction.do?newEdit=false&searchMode=common&method=inquiryForPublic&pkAtmMain=51239395&tenderCaseNo=1030324\n",
      "urlparse\thttp://web.pcc.gov.tw/tps/main/pms/tps/atm/atmAwardAction.do?newEdit=false&searchMode=common&method=inquiryForPublic&pkAtmMain=51239395&tenderCaseNo=1030324\n",
      "string \thttp://web.pcc.gov.tw/tps/main/pms/tps/atm/atmAwardAction.do?newEdit=false&searchMode=common&method=inquiryForPublic&pkAtmMain=51239412&tenderCaseNo=103036\n",
      "urlparse\thttp://web.pcc.gov.tw/tps/main/pms/tps/atm/atmAwardAction.do?newEdit=false&searchMode=common&method=inquiryForPublic&pkAtmMain=51239412&tenderCaseNo=103036\n"
     ]
    }
   ],
   "source": [
    "import urlparse\n",
    "for bid_row in bid_rows:\n",
    "    links = bid_row.select('a')[0]['href']\n",
    "    print 'string \\t' + 'http://web.pcc.gov.tw/tps' + links[2:] \n",
    "    link_href = urlparse.urljoin(\"http://web.pcc.gov.tw/tps/pss/tender.do?searchMode=common&searchType=advance\", links)\n",
    "    print \"urlparse\\t\" + link_href\n",
    "    #links = [tag['href'] for tag in bid_row.select('a')] "
   ]
  },
  {
   "cell_type": "code",
   "execution_count": 51,
   "metadata": {
    "collapsed": true
   },
   "outputs": [],
   "source": [
    "bid_file = open(\"bid_list.txt\", 'w') \n",
    "page_format = \"http://web.pcc.gov.tw/tps/pss/tender.do?searchMode=common&searchType=advance&searchTarget=ATM&method=search&isSpdt=&pageIndex=%d\" \n",
    "for page in range(1, page_number + 1): \n",
    "    bid_list = rs.get(page_format%(page)) \n",
    "    bid_response = bid_list.text\n",
    "    bid_soup = BeautifulSoup(bid_response) \n",
    "    bid_table = bid_soup.select(\"#print_area\")[0]\n",
    "    bid_rows = bid_table.select('tr')[1:-1] \n",
    "    for bid_row in bid_rows:         \n",
    "        link = bid_row.select('a')[0]['href'] \n",
    "        link_href = 'http://web.pcc.gov.tw/tps' + link[2:] \n",
    "        bid_file.write(link_href + \"\\n\") \n",
    "bid_file.close() \n"
   ]
  },
  {
   "cell_type": "code",
   "execution_count": 52,
   "metadata": {
    "collapsed": false
   },
   "outputs": [
    {
     "name": "stdout",
     "output_type": "stream",
     "text": [
      "264\n"
     ]
    }
   ],
   "source": [
    "line_num = 0 \n",
    "f = open(\"bid_list.txt\", \"r\") \n",
    "for line in f.readlines(): \n",
    "    line_num = line_num + 1 \n",
    "print line_num \n",
    "f.close() "
   ]
  },
  {
   "cell_type": "code",
   "execution_count": 53,
   "metadata": {
    "collapsed": false
   },
   "outputs": [
    {
     "name": "stdout",
     "output_type": "stream",
     "text": [
      "264\n"
     ]
    }
   ],
   "source": [
    "print len([line for line in open('bid_list.txt')])"
   ]
  },
  {
   "cell_type": "code",
   "execution_count": 61,
   "metadata": {
    "collapsed": false
   },
   "outputs": [
    {
     "name": "stdout",
     "output_type": "stream",
     "text": [
      "264\n"
     ]
    }
   ],
   "source": [
    "page_url = \"http://web.pcc.gov.tw/tps/pss/tender.do?searchMode=common&searchType=advance&searchTarget=ATM&method=search&isSpdt=&pageIndex=1\" \n",
    "res = rs.get(page_url)\n",
    "soup = BeautifulSoup(res.text) \n",
    "#print  soup.select(\".T11b\")[0]\n",
    "rec_number_element = soup.select(\".T11b\")[0].text\n",
    "rec_number = int(rec_number_element)\n",
    "print rec_number"
   ]
  },
  {
   "cell_type": "code",
   "execution_count": 62,
   "metadata": {
    "collapsed": false
   },
   "outputs": [
    {
     "name": "stdout",
     "output_type": "stream",
     "text": [
      "264\n",
      "record number on web page is equal to number of lines in file\n"
     ]
    }
   ],
   "source": [
    "line_num = 0 \n",
    "f = open(\"bid_list.txt\", \"r\") \n",
    "for line in f.readlines(): \n",
    "    line_num = line_num + 1 \n",
    "print line_num \n",
    "f.close() \n",
    "\n",
    "#使用if 判斷\n",
    "if rec_number == line_num: \n",
    "    print \"record number on web page is equal to number of lines in file\" \n"
   ]
  },
  {
   "cell_type": "code",
   "execution_count": 63,
   "metadata": {
    "collapsed": true
   },
   "outputs": [],
   "source": [
    "assert rec_number == line_num"
   ]
  },
  {
   "cell_type": "code",
   "execution_count": 64,
   "metadata": {
    "collapsed": false
   },
   "outputs": [
    {
     "ename": "AssertionError",
     "evalue": "",
     "output_type": "error",
     "traceback": [
      "\u001b[1;31m---------------------------------------------------------------------------\u001b[0m",
      "\u001b[1;31mAssertionError\u001b[0m                            Traceback (most recent call last)",
      "\u001b[1;32m<ipython-input-64-602c09d1bd07>\u001b[0m in \u001b[0;36m<module>\u001b[1;34m()\u001b[0m\n\u001b[1;32m----> 1\u001b[1;33m \u001b[1;32massert\u001b[0m \u001b[1;36m1\u001b[0m \u001b[1;33m!=\u001b[0m \u001b[1;36m1\u001b[0m\u001b[1;33m\u001b[0m\u001b[0m\n\u001b[0m",
      "\u001b[1;31mAssertionError\u001b[0m: "
     ]
    }
   ],
   "source": [
    "assert 1 != 1"
   ]
  },
  {
   "cell_type": "code",
   "execution_count": 67,
   "metadata": {
    "collapsed": false
   },
   "outputs": [
    {
     "name": "stdout",
     "output_type": "stream",
     "text": [
      "error: \n"
     ]
    }
   ],
   "source": [
    "try:\n",
    "    assert 1 != 1\n",
    "except AssertionError as ae:\n",
    "    print \"error:\", ae"
   ]
  },
  {
   "cell_type": "code",
   "execution_count": 72,
   "metadata": {
    "collapsed": false
   },
   "outputs": [],
   "source": [
    "import requests\n",
    "from bs4 import BeautifulSoup\n",
    "res = requests.get('http://web.pcc.gov.tw/tps/main/pms/tps/atm/atmAwardAction.do?newEdit=false&searchMode=common&method=inquiryForPublic&pkAtmMain=51239371&tenderCaseNo=4197')\n",
    "soup = BeautifulSoup(res.text)\n",
    "#print soup.select('#printArea')[0]"
   ]
  },
  {
   "cell_type": "code",
   "execution_count": 79,
   "metadata": {
    "collapsed": false
   },
   "outputs": [],
   "source": [
    "import requests\n",
    "from bs4 import BeautifulSoup\n",
    "f = open('bid_detail.txt', 'w')\n",
    "res = requests.get('http://web.pcc.gov.tw/tps/main/pms/tps/atm/atmAwardAction.do?newEdit=false&searchMode=common&method=inquiryForPublic&pkAtmMain=51239371&tenderCaseNo=4197')\n",
    "soup = BeautifulSoup(res.text)\n",
    "#print type(soup.select('#printArea')[0].prettify('utf-8'))\n",
    "f.write(soup.select('#printArea')[0].prettify('utf-8'))\n",
    "f.close()"
   ]
  },
  {
   "cell_type": "code",
   "execution_count": 85,
   "metadata": {
    "collapsed": false
   },
   "outputs": [
    {
     "name": "stdout",
     "output_type": "stream",
     "text": [
      "1030401 http://web.pcc.gov.tw/tps/main/pms/tps/atm/atmAwardAction.do?newEdit=false&searchMode=common&method=inquiryForPublic&pkAtmMain=51239526&tenderCaseNo=1030401\n",
      "10302 http://web.pcc.gov.tw/tps/main/pms/tps/atm/atmAwardAction.do?newEdit=false&searchMode=common&method=inquiryForPublic&pkAtmMain=51239201&tenderCaseNo=10302\n",
      "10302 http://web.pcc.gov.tw/tps/main/pms/tps/atm/atmAwardAction.do?newEdit=false&searchMode=common&method=inquiryForPublic&pkAtmMain=51240026&tenderCaseNo=10302\n",
      "103003 http://web.pcc.gov.tw/tps/main/pms/tps/atm/atmAwardAction.do?newEdit=false&searchMode=common&method=inquiryForPublic&pkAtmMain=51240096&tenderCaseNo=103003\n",
      "1030415 http://web.pcc.gov.tw/tps/main/pms/tps/atm/atmAwardAction.do?newEdit=false&searchMode=common&method=inquiryForPublic&pkAtmMain=51239351&tenderCaseNo=1030415\n"
     ]
    }
   ],
   "source": [
    "case_dic = {} \n",
    "f = open(\"bid_list.txt\", \"r\") \n",
    "for line in f.readlines(): \n",
    "    rec = line.strip() \n",
    "    #print rec.split('tenderCaseNo=')[1]\n",
    "    caseno = rec.split('tenderCaseNo=')[1] \n",
    "    if caseno not in case_dic: \n",
    "        case_dic[caseno] = 1 \n",
    "    else: \n",
    "        print caseno,  rec\n",
    "f.close()\n"
   ]
  },
  {
   "cell_type": "code",
   "execution_count": 91,
   "metadata": {
    "collapsed": false
   },
   "outputs": [
    {
     "name": "stdout",
     "output_type": "stream",
     "text": [
      "51239291 0607L1030328\n",
      "51239291_0607L1030328.txt\n"
     ]
    }
   ],
   "source": [
    "# 如何從url 取得這兩個值?\n",
    "link = \"http://web.pcc.gov.tw/tps/main/pms/tps/atm/atmAwardAction.do?newEdit=false&searchMode=common&method=inquiryForPublic&pkAtmMain=51239291&tenderCaseNo=0607L1030328\" \n",
    "\n",
    "# 使用split \n",
    "rear_substring = link.split(\"pkAtmMain=\")[1] \n",
    "param = rear_substring.split(\"&tenderCaseNo=\") \n",
    "pkAtmMain= param[0] \n",
    "caseno= param[1] \n",
    "print pkAtmMain,caseno \n",
    "print \"%s_%s.txt\"%(pkAtmMain,caseno )\n",
    "\n"
   ]
  },
  {
   "cell_type": "code",
   "execution_count": 98,
   "metadata": {
    "collapsed": false
   },
   "outputs": [],
   "source": [
    "# -*- coding: utf-8 -*- \n",
    "from bs4 import BeautifulSoup \n",
    "import re, requests \n",
    "\n",
    "def getFileName(link):\n",
    "    rear_substring = pagelink.split(\"pkAtmMain=\")[1] \n",
    "    param = rear_substring.split(\"&tenderCaseNo=\") \n",
    "    pkAtmMain= param[0] \n",
    "    caseno= param[1]\n",
    "    return \"%s_%s.txt\"%(pkAtmMain, caseno)\n",
    "\n",
    "bid_list = open('bid_list.txt', 'r') \n",
    "for line in bid_list.readlines(): \n",
    "    pagelink = line.strip()\n",
    "    filename = getFileName(pagelink)\n",
    "    response = requests.get(pagelink).text\n",
    "    soup = BeautifulSoup(response)\n",
    "    printarea = soup.select('#printArea')[0] \n",
    "    \n",
    "    bid_detail = open('gov/'+filename, 'w')\n",
    "    bid_detail.write(printarea.prettify('utf-8'))\n",
    "    bid_detail.close()\n",
    "    \n",
    "bid_list.close()\n"
   ]
  },
  {
   "cell_type": "code",
   "execution_count": 99,
   "metadata": {
    "collapsed": true
   },
   "outputs": [],
   "source": []
  },
  {
   "cell_type": "code",
   "execution_count": null,
   "metadata": {
    "collapsed": true
   },
   "outputs": [],
   "source": [
    "# -*- coding: utf-8 -*- \n",
    "from bs4 import BeautifulSoup \n",
    "import re, requests \n",
    "import time \n",
    "\n",
    "\n",
    "def getFileName(link):\n",
    "    rear_substring = pagelink.split(\"pkAtmMain=\")[1] \n",
    "    param = rear_substring.split(\"&tenderCaseNo=\") \n",
    "    pkAtmMain= param[0] \n",
    "    caseno= param[1]\n",
    "    return \"%s_%s.txt\"%(pkAtmMain, caseno)\n",
    "\n",
    "bid_list = open('bid_list.txt', 'r') \n",
    "for line in bid_list.readlines(): \n",
    "    pagelink = line.strip()\n",
    "    filename = getFileName(pagelink)\n",
    "    response = requests.get(pagelink).text\n",
    "    soup = BeautifulSoup(response)\n",
    "    printarea = soup.select('#printArea')[0] \n",
    "    \n",
    "    bid_detail = open('gov/'+filename, 'w')\n",
    "    bid_detail.write(printarea.prettify('utf-8'))\n",
    "    bid_detail.close()\n",
    "    time.sleep(1)\n",
    "    \n",
    "bid_list.close()\n"
   ]
  },
  {
   "cell_type": "markdown",
   "metadata": {},
   "source": [
    "#solution:\n",
    "- https://www.torproject.org/   \n",
    "- http://devco.re/blog/2014/06/19/client-ip-detection/\n",
    "- proxy server: http://www.squid-cache.org/ "
   ]
  },
  {
   "cell_type": "code",
   "execution_count": null,
   "metadata": {
    "collapsed": true
   },
   "outputs": [],
   "source": [
    "import requests\n",
    "\n",
    "proxies = {\n",
    "  \"http\": \"http://10.10.1.10:3128\",\n",
    "  \"https\": \"http://10.10.1.10:1080\",\n",
    "}\n",
    "\n",
    "requests.get(\"http://example.org\", proxies=proxies)"
   ]
  },
  {
   "cell_type": "markdown",
   "metadata": {},
   "source": [
    "# accelerate\n",
    "- grequests\n",
    "- http://www.microsoft.com/en-us/download/details.aspx?id=44266\n",
    "- pip install grequests \n"
   ]
  },
  {
   "cell_type": "code",
   "execution_count": null,
   "metadata": {
    "collapsed": true
   },
   "outputs": [],
   "source": [
    "# -*- coding: utf-8 -*- \n",
    "from bs4 import BeautifulSoup\n",
    "import re, requests\n",
    "import time\n",
    "import grequests\n",
    "\n",
    "def getFileName(link):\n",
    "    rear_substring = pagelink.split(\"pkAtmMain=\")[1]\n",
    "    param = rear_substring.split(\"&tenderCaseNo=\")\n",
    "    pkAtmMain= param[0]\n",
    "    caseno= param[1]\n",
    "    return \"%s_%s.txt\"%(pkAtmMain, caseno)\n",
    "\n",
    "bid_list = open('bid_list.txt', 'r')\n",
    "linkurl = []\n",
    "for line in bid_list.readlines():\n",
    "    pagelink = line.strip()\n",
    "    linkurl.append(pagelink)\n",
    "bid_list.close()\n",
    "#    filename = getFileName(pagelink)\n",
    "rs = (grequests.get(u) for u in linkurl)\n",
    "for response in grequests.map(rs):\n",
    "    soup = BeautifulSoup(response.text)\n",
    "    filename = getFileName(response.url)\n",
    "    printarea = soup.select('#printArea')[0]\n",
    "    bid_detail = open('gov2/'+filename, 'w')\n",
    "    bid_detail.write(printarea.prettify('utf-8'))\n",
    "    bid_detail.close()"
   ]
  }
 ],
 "metadata": {
  "kernelspec": {
   "display_name": "Python 2",
   "language": "python",
   "name": "python2"
  },
  "language_info": {
   "codemirror_mode": {
    "name": "ipython",
    "version": 2
   },
   "file_extension": ".py",
   "mimetype": "text/x-python",
   "name": "python",
   "nbconvert_exporter": "python",
   "pygments_lexer": "ipython2",
   "version": "2.7.10"
  }
 },
 "nbformat": 4,
 "nbformat_minor": 0
}
