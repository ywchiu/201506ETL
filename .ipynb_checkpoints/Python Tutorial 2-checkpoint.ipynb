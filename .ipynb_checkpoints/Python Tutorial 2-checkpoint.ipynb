{
 "cells": [
  {
   "cell_type": "code",
   "execution_count": 2,
   "metadata": {
    "collapsed": false
   },
   "outputs": [
    {
     "name": "stdout",
     "output_type": "stream",
     "text": [
      "not found\n",
      "not found\n",
      "not found\n",
      "not found\n",
      "not found\n",
      "not found\n",
      "found\n",
      "not found\n"
     ]
    }
   ],
   "source": [
    "a = [1,3,5,2,6,4,7,9]\n",
    "for i in range(0, len(a)):\n",
    "    if a[i] == 7:\n",
    "        print \"found\"\n",
    "    else:\n",
    "        print \"not found\""
   ]
  },
  {
   "cell_type": "code",
   "execution_count": 3,
   "metadata": {
    "collapsed": false
   },
   "outputs": [
    {
     "data": {
      "text/plain": [
       "7"
      ]
     },
     "execution_count": 3,
     "metadata": {},
     "output_type": "execute_result"
    }
   ],
   "source": [
    "b = {1:1,3:2,5:3,2:4,6:5,4:6,7:7,9:8}\n",
    "b[7]"
   ]
  },
  {
   "cell_type": "code",
   "execution_count": 19,
   "metadata": {
    "collapsed": false
   },
   "outputs": [
    {
     "name": "stdout",
     "output_type": "stream",
     "text": [
      "{'a': 100, 'c': 0.98, 'b': 'yes'}\n"
     ]
    }
   ],
   "source": [
    "#declare dictionary \n",
    "dic = {'a':100, 'b':\"yes\", 'c':0.98} \n",
    "print dic "
   ]
  },
  {
   "cell_type": "code",
   "execution_count": 5,
   "metadata": {
    "collapsed": false
   },
   "outputs": [
    {
     "name": "stdout",
     "output_type": "stream",
     "text": [
      "['a', 'c', 'b']\n"
     ]
    }
   ],
   "source": [
    "#get keys in dictionary \n",
    "print dic.keys() "
   ]
  },
  {
   "cell_type": "code",
   "execution_count": 6,
   "metadata": {
    "collapsed": false
   },
   "outputs": [
    {
     "name": "stdout",
     "output_type": "stream",
     "text": [
      "[100, 0.98, 'yes']\n"
     ]
    }
   ],
   "source": [
    "#get values in dictionary \n",
    "print dic.values() "
   ]
  },
  {
   "cell_type": "code",
   "execution_count": 9,
   "metadata": {
    "collapsed": false
   },
   "outputs": [
    {
     "name": "stdout",
     "output_type": "stream",
     "text": [
      "100\n",
      "100\n"
     ]
    }
   ],
   "source": [
    "#get value of given key \n",
    "print dic['a'] \n",
    "\n",
    "#get value of given key \n",
    "print dic.get('a')"
   ]
  },
  {
   "cell_type": "code",
   "execution_count": 21,
   "metadata": {
    "collapsed": false
   },
   "outputs": [
    {
     "name": "stdout",
     "output_type": "stream",
     "text": [
      "{'a': 100, 'c': 0.98, 'b': 'yes', 'd': 'new'}\n"
     ]
    }
   ],
   "source": [
    "dic['d'] = 'new'\n",
    "print dic"
   ]
  },
  {
   "cell_type": "code",
   "execution_count": 24,
   "metadata": {
    "collapsed": false
   },
   "outputs": [
    {
     "name": "stdout",
     "output_type": "stream",
     "text": [
      "{'a': 100, 'c': 0.98, 'b': 'yes', 'e': 123, 'd': 'new', 'f': 456}\n",
      "a 100\n",
      "c 0.98\n",
      "b yes\n",
      "e 123\n",
      "d new\n",
      "f 456\n"
     ]
    }
   ],
   "source": [
    "#add entry into dictionary \n",
    "dic.update({'e':123, 'f':456}) \n",
    "print dic \n",
    "\n",
    "# iter the dictionary \n",
    "for rec in dic: \n",
    "    print rec, dic[rec]\n"
   ]
  },
  {
   "cell_type": "code",
   "execution_count": 26,
   "metadata": {
    "collapsed": false
   },
   "outputs": [
    {
     "name": "stdout",
     "output_type": "stream",
     "text": [
      "brian'height is 182, and his weight is 72\n"
     ]
    }
   ],
   "source": [
    "name = [\"toby\", \"brian\", \"emma\"]\n",
    "height = [173, 182, 165]\n",
    "weight = [60, 72, 43]\n",
    "\n",
    "for i in range(0, len(name)):\n",
    "    if name[i] == \"brian\":\n",
    "        h =  height[i]\n",
    "        w = weight[i]\n",
    "        print \"%s'height is %d, and his weight is %d\"%(name[i], h, w,)\n"
   ]
  },
  {
   "cell_type": "code",
   "execution_count": 27,
   "metadata": {
    "collapsed": false
   },
   "outputs": [
    {
     "name": "stdout",
     "output_type": "stream",
     "text": [
      "brian'height is 182, and his weight is 72\n"
     ]
    }
   ],
   "source": [
    "dic = {\"toby\":{\"height\":173, \"weight\":60}, \\\n",
    "       \"brian\":{\"height\":182, \"weight\":72}, \\\n",
    "       \"emma\":{\"height\":165, \"weight\":43}}\n",
    "#print dic\n",
    "#print dic.keys()\n",
    "\n",
    "#print dic['brian']\n",
    "\n",
    "print \"%s'height is %d, and his weight is %d\"\\\n",
    "    %('brian', dic['brian']['height'],  dic['brian']['weight'])"
   ]
  },
  {
   "cell_type": "code",
   "execution_count": 31,
   "metadata": {
    "collapsed": false
   },
   "outputs": [
    {
     "name": "stdout",
     "output_type": "stream",
     "text": [
      "{'age': 28, 'weight': 72, 'height': 182}\n",
      "{'age': 28, 'weight': 72, 'height': 182}\n",
      "{'age': 28, 'marriage': 'yes', 'hobbit': ['swimming', 'singing'], 'weight': 72, 'height': 182}\n"
     ]
    }
   ],
   "source": [
    "print dic['brian']\n",
    "dic['brian']['age'] = 28\n",
    "print dic['brian']\n",
    "\n",
    "dic['brian'].update({'hobbit':['swimming', 'singing'], 'marriage': \"yes\"})\n",
    "print  dic['brian']"
   ]
  },
  {
   "cell_type": "code",
   "execution_count": 32,
   "metadata": {
    "collapsed": false
   },
   "outputs": [
    {
     "name": "stdout",
     "output_type": "stream",
     "text": [
      "{'age': 28, 'marriage': 'yes', 'weight': 72, 'height': 182}\n"
     ]
    }
   ],
   "source": [
    "del dic['brian']['hobbit']\n",
    "print dic['brian']"
   ]
  },
  {
   "cell_type": "code",
   "execution_count": 33,
   "metadata": {
    "collapsed": false
   },
   "outputs": [
    {
     "name": "stdout",
     "output_type": "stream",
     "text": [
      "{'age': 30, 'marriage': 'yes', 'weight': 72, 'height': 182}\n"
     ]
    }
   ],
   "source": [
    "dic['brian']['age'] = 30\n",
    "print dic['brian']"
   ]
  },
  {
   "cell_type": "code",
   "execution_count": null,
   "metadata": {
    "collapsed": true
   },
   "outputs": [],
   "source": [
    "'''\n",
    "switch(n)\n",
    "    case 3:\n",
    "        do something\n",
    "    case 5:\n",
    "        do something\n",
    "    default:\n",
    "        do something\n",
    "'''\n",
    "\n"
   ]
  },
  {
   "cell_type": "code",
   "execution_count": 36,
   "metadata": {
    "collapsed": false
   },
   "outputs": [
    {
     "data": {
      "text/plain": [
       "(1, 2, 0)"
      ]
     },
     "execution_count": 36,
     "metadata": {},
     "output_type": "execute_result"
    }
   ],
   "source": [
    "\n",
    "def func(x):\n",
    "    return {\n",
    "        'a': 1,\n",
    "        'b': 2,\n",
    "        }.get(x, 0) \n",
    "func('a'), func('b'), func('c')"
   ]
  },
  {
   "cell_type": "code",
   "execution_count": 40,
   "metadata": {
    "collapsed": false
   },
   "outputs": [
    {
     "name": "stdout",
     "output_type": "stream",
     "text": [
      "1 2\n"
     ]
    },
    {
     "data": {
      "text/plain": [
       "'default'"
      ]
     },
     "execution_count": 40,
     "metadata": {},
     "output_type": "execute_result"
    }
   ],
   "source": [
    "dic2 = {'a': 1,'b': 2}\n",
    "print dic2['a'], dic2['b']\n",
    "#dic2['c']\n",
    "dic2.get('c', 'default')"
   ]
  },
  {
   "cell_type": "code",
   "execution_count": 42,
   "metadata": {
    "collapsed": false
   },
   "outputs": [
    {
     "name": "stdout",
     "output_type": "stream",
     "text": [
      "b\n",
      "b2\n"
     ]
    }
   ],
   "source": [
    "list1 = ['a', 'b', 'c']\n",
    "print list1[1]\n",
    "list1[1] = 'b2'\n",
    "print list1[1]"
   ]
  },
  {
   "cell_type": "code",
   "execution_count": 44,
   "metadata": {
    "collapsed": false
   },
   "outputs": [
    {
     "name": "stdout",
     "output_type": "stream",
     "text": [
      "b\n"
     ]
    },
    {
     "ename": "TypeError",
     "evalue": "'tuple' object does not support item assignment",
     "output_type": "error",
     "traceback": [
      "\u001b[1;31m---------------------------------------------------------------------------\u001b[0m",
      "\u001b[1;31mTypeError\u001b[0m                                 Traceback (most recent call last)",
      "\u001b[1;32m<ipython-input-44-c06f79a8673d>\u001b[0m in \u001b[0;36m<module>\u001b[1;34m()\u001b[0m\n\u001b[0;32m      1\u001b[0m \u001b[0mtuple1\u001b[0m \u001b[1;33m=\u001b[0m \u001b[1;33m(\u001b[0m\u001b[1;34m'a'\u001b[0m\u001b[1;33m,\u001b[0m\u001b[1;34m'b'\u001b[0m\u001b[1;33m,\u001b[0m\u001b[1;34m'c'\u001b[0m\u001b[1;33m)\u001b[0m\u001b[1;33m\u001b[0m\u001b[0m\n\u001b[0;32m      2\u001b[0m \u001b[1;32mprint\u001b[0m \u001b[0mtuple1\u001b[0m\u001b[1;33m[\u001b[0m\u001b[1;36m1\u001b[0m\u001b[1;33m]\u001b[0m\u001b[1;33m\u001b[0m\u001b[0m\n\u001b[1;32m----> 3\u001b[1;33m \u001b[0mtuple1\u001b[0m\u001b[1;33m[\u001b[0m\u001b[1;36m1\u001b[0m\u001b[1;33m]\u001b[0m \u001b[1;33m=\u001b[0m\u001b[1;34m'b2'\u001b[0m\u001b[1;33m\u001b[0m\u001b[0m\n\u001b[0m",
      "\u001b[1;31mTypeError\u001b[0m: 'tuple' object does not support item assignment"
     ]
    }
   ],
   "source": [
    "tuple1 = ('a','b','c')\n",
    "print tuple1[1]\n",
    "tuple1[1] ='b2'"
   ]
  },
  {
   "cell_type": "code",
   "execution_count": 46,
   "metadata": {
    "collapsed": false
   },
   "outputs": [
    {
     "name": "stdout",
     "output_type": "stream",
     "text": [
      "['__add__', '__class__', '__contains__', '__delattr__', '__doc__', '__eq__', '__format__', '__ge__', '__getattribute__', '__getitem__', '__getnewargs__', '__getslice__', '__gt__', '__hash__', '__init__', '__iter__', '__le__', '__len__', '__lt__', '__mul__', '__ne__', '__new__', '__reduce__', '__reduce_ex__', '__repr__', '__rmul__', '__setattr__', '__sizeof__', '__str__', '__subclasshook__', 'count', 'index']\n"
     ]
    }
   ],
   "source": [
    "#print dir(list1)\n",
    "print dir(tuple1)\n"
   ]
  },
  {
   "cell_type": "code",
   "execution_count": 52,
   "metadata": {
    "collapsed": false
   },
   "outputs": [
    {
     "name": "stdout",
     "output_type": "stream",
     "text": [
      "(1, 2, 3) (1, 2, 3) (1, 2, 3)\n",
      "[1, 2, 3]\n",
      "(1, 2, 3, 4)\n"
     ]
    }
   ],
   "source": [
    "tuple1 = (1,2,3)\n",
    "tuple2 = 1,2,3\n",
    "tuple3 = tuple([1,2,3]) \n",
    "print tuple1, tuple2, tuple3\n",
    "\n",
    "list2 = list(tuple3)\n",
    "print list2\n",
    "list2.append(4)\n",
    "tuple4 = tuple(list2)\n",
    "print tuple4"
   ]
  },
  {
   "cell_type": "code",
   "execution_count": 53,
   "metadata": {
    "collapsed": false
   },
   "outputs": [
    {
     "name": "stdout",
     "output_type": "stream",
     "text": [
      "1 2\n"
     ]
    }
   ],
   "source": [
    "a = 1\n",
    "b = 2\n",
    "print a, b"
   ]
  },
  {
   "cell_type": "code",
   "execution_count": 57,
   "metadata": {
    "collapsed": false
   },
   "outputs": [
    {
     "name": "stdout",
     "output_type": "stream",
     "text": [
      "1 2\n",
      "(1, 2)\n",
      "True\n"
     ]
    }
   ],
   "source": [
    "#int a=1, b=2\n",
    "a,b = 1,2\n",
    "print a, b\n",
    "\n",
    "c = a,b\n",
    "print c\n",
    "\n",
    "d = 1,2\n",
    "print c==d"
   ]
  },
  {
   "cell_type": "code",
   "execution_count": 59,
   "metadata": {
    "collapsed": false
   },
   "outputs": [
    {
     "name": "stdout",
     "output_type": "stream",
     "text": [
      "10000\n"
     ]
    }
   ],
   "source": [
    "a  = range(0,10000)\n",
    "print len(a)\n",
    "del a # delete a variable a"
   ]
  },
  {
   "cell_type": "code",
   "execution_count": 60,
   "metadata": {
    "collapsed": false
   },
   "outputs": [
    {
     "ename": "NameError",
     "evalue": "name 'a' is not defined",
     "output_type": "error",
     "traceback": [
      "\u001b[1;31m---------------------------------------------------------------------------\u001b[0m",
      "\u001b[1;31mNameError\u001b[0m                                 Traceback (most recent call last)",
      "\u001b[1;32m<ipython-input-60-c292a81e235b>\u001b[0m in \u001b[0;36m<module>\u001b[1;34m()\u001b[0m\n\u001b[1;32m----> 1\u001b[1;33m \u001b[1;32mprint\u001b[0m \u001b[0mlen\u001b[0m\u001b[1;33m(\u001b[0m\u001b[0ma\u001b[0m\u001b[1;33m)\u001b[0m\u001b[1;33m\u001b[0m\u001b[0m\n\u001b[0m",
      "\u001b[1;31mNameError\u001b[0m: name 'a' is not defined"
     ]
    }
   ],
   "source": [
    "print len(a) # variable a not found"
   ]
  },
  {
   "cell_type": "code",
   "execution_count": 65,
   "metadata": {
    "collapsed": false
   },
   "outputs": [
    {
     "name": "stdout",
     "output_type": "stream",
     "text": [
      "1 2\n",
      "2 1\n"
     ]
    }
   ],
   "source": [
    "a = 1\n",
    "b = 2\n",
    "print a,b\n",
    "\n",
    "c = a\n",
    "a = b\n",
    "b = c\n",
    "del c\n",
    "\n",
    "print a,b"
   ]
  },
  {
   "cell_type": "code",
   "execution_count": 68,
   "metadata": {
    "collapsed": false
   },
   "outputs": [
    {
     "name": "stdout",
     "output_type": "stream",
     "text": [
      "1 2\n",
      "2 1\n"
     ]
    }
   ],
   "source": [
    "a, b = 1,2\n",
    "print a,b\n",
    "\n",
    "a,b = b,a\n",
    "print a,b"
   ]
  },
  {
   "cell_type": "code",
   "execution_count": 69,
   "metadata": {
    "collapsed": false
   },
   "outputs": [
    {
     "name": "stdout",
     "output_type": "stream",
     "text": [
      "182 72\n"
     ]
    }
   ],
   "source": [
    "dic = {\"toby\":{\"height\":173, \"weight\":60}, \\\n",
    "       \"brian\":{\"height\":182, \"weight\":72}, \\\n",
    "       \"emma\":{\"height\":165, \"weight\":43}}\n",
    "\n",
    "def func(name):\n",
    "    return dic[name]['height'], dic[name]['weight']\n",
    "\n",
    "brian_height, brian_weight = func('brian')\n",
    "print brian_height, brian_weight"
   ]
  },
  {
   "cell_type": "code",
   "execution_count": 71,
   "metadata": {
    "collapsed": false
   },
   "outputs": [
    {
     "name": "stdout",
     "output_type": "stream",
     "text": [
      "1 2 3\n",
      "3 2 1\n"
     ]
    }
   ],
   "source": [
    "def func():\n",
    "    return 1,2,3\n",
    "x, y, z = func()\n",
    "print x,y,z\n",
    "print z,y,x"
   ]
  },
  {
   "cell_type": "code",
   "execution_count": 72,
   "metadata": {
    "collapsed": false
   },
   "outputs": [
    {
     "name": "stdout",
     "output_type": "stream",
     "text": [
      "1 brian\n",
      "2 toby\n",
      "3 sherry\n"
     ]
    }
   ],
   "source": [
    "namelist= ['brian', 'toby', 'sherry']\n",
    "personid = 1\n",
    "for name in namelist:\n",
    "    print personid, name\n",
    "    personid +=1"
   ]
  },
  {
   "cell_type": "code",
   "execution_count": 77,
   "metadata": {
    "collapsed": false
   },
   "outputs": [
    {
     "name": "stdout",
     "output_type": "stream",
     "text": [
      "1 brian\n",
      "2 toby\n",
      "3 sherry\n"
     ]
    }
   ],
   "source": [
    "for idx, name in enumerate(namelist):\n",
    "    print idx +1 , name"
   ]
  },
  {
   "cell_type": "code",
   "execution_count": 82,
   "metadata": {
    "collapsed": false
   },
   "outputs": [
    {
     "name": "stdout",
     "output_type": "stream",
     "text": [
      "0 brian\n",
      "1 toby\n",
      "2 sherry\n",
      "('brian', 186, 82)\n",
      "my name is brian, and my height is 186, and my weight is 82\n"
     ]
    }
   ],
   "source": [
    "for person in enumerate(namelist):\n",
    "    print \"{} {}\".format(*person)\n",
    "    \n",
    "'brian = name, height, weight'\n",
    "brian = 'brian', 186, 82\n",
    "print brian\n",
    "print \"my name is {}, and my height is {}, and my weight is {}\".format(*brian)"
   ]
  },
  {
   "cell_type": "code",
   "execution_count": 88,
   "metadata": {
    "collapsed": false
   },
   "outputs": [
    {
     "name": "stdout",
     "output_type": "stream",
     "text": [
      "['a', 'b', 180, 3.0, ['toby', 'sherry']] <type 'list'>\n",
      "{'a': 180, 'c': ['toby', 'sherry'], 'b': 20} <type 'dict'>\n",
      "('brian', 186, 82) <type 'tuple'>\n"
     ]
    }
   ],
   "source": [
    "# list, []\n",
    "list1 = ['a', 'b', 180, 3.0, ['toby', 'sherry']]\n",
    "print list1, type(list1)\n",
    "\n",
    "# dictionary {}, {key:val}\n",
    "dic1 = {'a':180, 'b':20, 'c':['toby', 'sherry'] }\n",
    "print dic1, type(dic1)\n",
    "\n",
    "# tuple ()\n",
    "tuple1 =  'brian', 186, 82\n",
    "print tuple1, type(tuple1)"
   ]
  },
  {
   "cell_type": "code",
   "execution_count": 89,
   "metadata": {
    "collapsed": true
   },
   "outputs": [],
   "source": [
    "class Person():\n",
    "    count = 0 # Static/class variable\n",
    "    def __init__(self, name, city):\n",
    "        self.name = name # Variable for the instance\n",
    "        self.city = city # Variable for the instance\n",
    "        Person.count += 1\n",
    "    def number_of_persons(self):\n",
    "        return Person.count"
   ]
  },
  {
   "cell_type": "code",
   "execution_count": 91,
   "metadata": {
    "collapsed": false
   },
   "outputs": [
    {
     "name": "stdout",
     "output_type": "stream",
     "text": [
      "2\n",
      "David\n"
     ]
    }
   ],
   "source": [
    "First = Person(\"David\", \"Chiayi\")\n",
    "print First.number_of_persons() # 1"
   ]
  },
  {
   "cell_type": "code",
   "execution_count": 94,
   "metadata": {
    "collapsed": false
   },
   "outputs": [
    {
     "name": "stdout",
     "output_type": "stream",
     "text": [
      "David Chiayi 2\n"
     ]
    }
   ],
   "source": [
    "print First.name, First.city, First.count"
   ]
  },
  {
   "cell_type": "code",
   "execution_count": 95,
   "metadata": {
    "collapsed": false
   },
   "outputs": [
    {
     "data": {
      "text/plain": [
       "3"
      ]
     },
     "execution_count": 95,
     "metadata": {},
     "output_type": "execute_result"
    }
   ],
   "source": [
    "Second = Person(\"QOO\", \"coca-cola\")\n",
    "Second.number_of_persons() # 2"
   ]
  },
  {
   "cell_type": "code",
   "execution_count": 98,
   "metadata": {
    "collapsed": false
   },
   "outputs": [
    {
     "name": "stdout",
     "output_type": "stream",
     "text": [
      "<type 'instance'>\n",
      "<type 'instance'>\n"
     ]
    }
   ],
   "source": [
    "print type(First)\n",
    "print type(Second)"
   ]
  },
  {
   "cell_type": "code",
   "execution_count": 100,
   "metadata": {
    "collapsed": false
   },
   "outputs": [
    {
     "name": "stdout",
     "output_type": "stream",
     "text": [
      "constructor\n",
      "constructor\n",
      "['__doc__', '__init__', '__module__', 'integer']\n"
     ]
    },
    {
     "ename": "TypeError",
     "evalue": "unsupported operand type(s) for +: 'instance' and 'instance'",
     "output_type": "error",
     "traceback": [
      "\u001b[1;31m---------------------------------------------------------------------------\u001b[0m",
      "\u001b[1;31mTypeError\u001b[0m                                 Traceback (most recent call last)",
      "\u001b[1;32m<ipython-input-100-157bb8d47c8e>\u001b[0m in \u001b[0;36m<module>\u001b[1;34m()\u001b[0m\n\u001b[0;32m     13\u001b[0m \u001b[1;32mprint\u001b[0m \u001b[0mdir\u001b[0m\u001b[1;33m(\u001b[0m\u001b[0minttest\u001b[0m\u001b[1;33m)\u001b[0m\u001b[1;33m\u001b[0m\u001b[0m\n\u001b[0;32m     14\u001b[0m \u001b[1;33m\u001b[0m\u001b[0m\n\u001b[1;32m---> 15\u001b[1;33m \u001b[1;32mprint\u001b[0m \u001b[0minttest\u001b[0m \u001b[1;33m+\u001b[0m \u001b[0minttest2\u001b[0m\u001b[1;33m\u001b[0m\u001b[0m\n\u001b[0m\u001b[0;32m     16\u001b[0m \u001b[1;33m\u001b[0m\u001b[0m\n",
      "\u001b[1;31mTypeError\u001b[0m: unsupported operand type(s) for +: 'instance' and 'instance'"
     ]
    }
   ],
   "source": [
    "class MyInteger():\n",
    "    def __init__(self, integer):\n",
    "        print \"constructor\"\n",
    "        self.integer = integer\n",
    "#    def __add__(self, integer): # Overloaded '+' operator\n",
    "#        if self.integer == 2 and integer == 2:\n",
    "#            return 5\n",
    "#        else:\n",
    "#            return self.integer + integer\n",
    "\n",
    "inttest = MyInteger(3)\n",
    "inttest2 = MyInteger(5)\n",
    "print dir(inttest)\n",
    "\n",
    "print inttest + inttest2\n",
    "\n"
   ]
  },
  {
   "cell_type": "code",
   "execution_count": 102,
   "metadata": {
    "collapsed": false
   },
   "outputs": [
    {
     "name": "stdout",
     "output_type": "stream",
     "text": [
      "constructor\n",
      "8\n",
      "constructor\n",
      "5\n"
     ]
    }
   ],
   "source": [
    "class MyInteger():\n",
    "    def __init__(self, integer):\n",
    "        print \"constructor\"\n",
    "        self.integer = integer\n",
    "    def __add__(self, integer): # Overloaded '+' operator\n",
    "        if self.integer == 2 and integer == 2:\n",
    "            return 5\n",
    "        else:\n",
    "            return self.integer + integer\n",
    "        \n",
    "inttest = MyInteger(3)\n",
    "print inttest + 5\n",
    "\n",
    "inttest2 = MyInteger(2)\n",
    "print inttest2 + 2\n"
   ]
  },
  {
   "cell_type": "code",
   "execution_count": 106,
   "metadata": {
    "collapsed": false
   },
   "outputs": [
    {
     "name": "stdout",
     "output_type": "stream",
     "text": [
      "False\n",
      "yellow\n",
      "rent_bike is yellow\n"
     ]
    }
   ],
   "source": [
    "#Derived Classes\n",
    "class Vehicle():\n",
    "    def my_own(self): return True\n",
    "    \n",
    "class Bicycle(Vehicle):\n",
    "    def __init__(self, color): self.color = color\n",
    "    def has_wheels(self): return True\n",
    "    def __str__(self): return \"%s is %s\"%(self.__class__.__name__,self.color)\n",
    "\n",
    "\n",
    "class rent_bike(Bicycle):\n",
    "    def my_own(self): return False\n",
    "Ubike = rent_bike('yellow')\n",
    "print Ubike.my_own()\n",
    "print Ubike.color\n",
    "print Ubike"
   ]
  },
  {
   "cell_type": "code",
   "execution_count": 105,
   "metadata": {
    "collapsed": false
   },
   "outputs": [
    {
     "name": "stdout",
     "output_type": "stream",
     "text": [
      "<__main__.rent_bike instance at 0x03560D78>\n"
     ]
    }
   ],
   "source": [
    "Ubike = rent_bike('yellow')\n",
    "print Ubike\n"
   ]
  },
  {
   "cell_type": "code",
   "execution_count": 109,
   "metadata": {
    "collapsed": false
   },
   "outputs": [
    {
     "name": "stdout",
     "output_type": "stream",
     "text": [
      "3\n"
     ]
    }
   ],
   "source": [
    "from person import Person\n",
    "first = Person('qoo','oop')\n",
    "print first.number_of_persons()"
   ]
  },
  {
   "cell_type": "code",
   "execution_count": 110,
   "metadata": {
    "collapsed": true
   },
   "outputs": [],
   "source": [
    "fid = open('test.txt', 'w')\n",
    "fid.write('Hello\\nWorld')\n",
    "fid.close()"
   ]
  },
  {
   "cell_type": "code",
   "execution_count": 116,
   "metadata": {
    "collapsed": false
   },
   "outputs": [
    {
     "name": "stdout",
     "output_type": "stream",
     "text": [
      "2015/06/01  下午 04:29                62 test.py\n",
      "2015/06/02  上午 11:46                12 test.txt\n"
     ]
    }
   ],
   "source": [
    "ls | grep test"
   ]
  },
  {
   "cell_type": "code",
   "execution_count": 120,
   "metadata": {
    "collapsed": false
   },
   "outputs": [
    {
     "name": "stdout",
     "output_type": "stream",
     "text": [
      "Line: Hello\n",
      "Line: World\n"
     ]
    }
   ],
   "source": [
    "#Load Hello World\n",
    "fid = open('test.txt', 'r')\n",
    "#for line in fid:\n",
    "#    print line.strip()\n",
    "for line in fid: # Using file identifier as iterator\n",
    "    print(\"Line: \" + line.strip())\n",
    "fid.close()\n"
   ]
  },
  {
   "cell_type": "code",
   "execution_count": 121,
   "metadata": {
    "collapsed": false
   },
   "outputs": [
    {
     "name": "stdout",
     "output_type": "stream",
     "text": [
      "line Hello\n",
      "World\n"
     ]
    }
   ],
   "source": [
    "# r => read, w=> write, a=>append\n",
    "fid = open('test.txt', 'r')\n",
    "s = fid.read() # Read the entire file\n",
    "fid.close()\n",
    "print \"line\",s\n"
   ]
  },
  {
   "cell_type": "code",
   "execution_count": 129,
   "metadata": {
    "collapsed": false
   },
   "outputs": [
    {
     "name": "stdout",
     "output_type": "stream",
     "text": [
      "Line: Hello\n",
      "Line: WorldHello\n",
      "Line: WorldHello\n",
      "Line: WorldHello\n",
      "Line: WorldHello\n",
      "Line: WorldHello\n",
      "Line: World\n"
     ]
    }
   ],
   "source": [
    "fid = open('test.txt', 'a')\n",
    "fid.write('Hello\\nWorld')\n",
    "fid.close()\n",
    "fid = open('test.txt', 'r')\n",
    "for line in fid: # Using file identifier as iterator\n",
    "    print(\"Line: \" + line.strip())\n",
    "fid.close()"
   ]
  },
  {
   "cell_type": "code",
   "execution_count": 130,
   "metadata": {
    "collapsed": false
   },
   "outputs": [
    {
     "name": "stdout",
     "output_type": "stream",
     "text": [
      "Line: Hello\n",
      "Line: World\n"
     ]
    }
   ],
   "source": [
    "fid = open('test.txt', 'w')\n",
    "fid.write('Hello\\nWorld')\n",
    "fid.close()\n",
    "fid = open('test.txt', 'r')\n",
    "for line in fid: # Using file identifier as iterator\n",
    "    print(\"Line: \" + line.strip())\n",
    "fid.close()"
   ]
  },
  {
   "cell_type": "code",
   "execution_count": 131,
   "metadata": {
    "collapsed": false
   },
   "outputs": [
    {
     "name": "stdout",
     "output_type": "stream",
     "text": [
      "2\n"
     ]
    }
   ],
   "source": [
    "fid = open('test.txt')\n",
    "k = 0\n",
    "for line in fid:\n",
    "    k = k + 1\n",
    "print(k)\n",
    "fid.close()\n"
   ]
  },
  {
   "cell_type": "code",
   "execution_count": 134,
   "metadata": {
    "collapsed": false
   },
   "outputs": [
    {
     "name": "stdout",
     "output_type": "stream",
     "text": [
      "2\n"
     ]
    }
   ],
   "source": [
    "alist =  [ line for line in open('test.txt')]\n",
    "print len(alist)"
   ]
  },
  {
   "cell_type": "code",
   "execution_count": 135,
   "metadata": {
    "collapsed": false
   },
   "outputs": [
    {
     "name": "stdout",
     "output_type": "stream",
     "text": [
      "25\n"
     ]
    }
   ],
   "source": [
    "#f = open('news.txt', 'r')\n",
    "alist =  [ line for line in open('cnn.txt')]\n",
    "print len(alist)"
   ]
  },
  {
   "cell_type": "code",
   "execution_count": 136,
   "metadata": {
    "collapsed": false
   },
   "outputs": [
    {
     "name": "stdout",
     "output_type": "stream",
     "text": [
      "['I', 'love', 'qoo', ',', 'qoo', 'loves', 'me', ',', 'we', 'all', 'love', 'qoo']\n"
     ]
    }
   ],
   "source": [
    "counted_str = 'I love qoo , qoo loves me , we all love qoo'\n",
    "counted_list = counted_str.split()\n",
    "print counted_list\n"
   ]
  },
  {
   "cell_type": "code",
   "execution_count": 137,
   "metadata": {
    "collapsed": false
   },
   "outputs": [
    {
     "name": "stdout",
     "output_type": "stream",
     "text": [
      "[',', ',', 'I', 'all', 'love', 'love', 'loves', 'me', 'qoo', 'qoo', 'qoo', 'we']\n"
     ]
    }
   ],
   "source": [
    "counted_list.sort()\n",
    "print counted_list"
   ]
  },
  {
   "cell_type": "code",
   "execution_count": 139,
   "metadata": {
    "collapsed": false
   },
   "outputs": [
    {
     "name": "stdout",
     "output_type": "stream",
     "text": [
      " 0\n",
      ", 2\n",
      "I 1\n",
      "all 1\n",
      "love 2\n",
      "loves 1\n",
      "me 1\n",
      "qoo 3\n"
     ]
    }
   ],
   "source": [
    "current_word = ''\n",
    "cnt = 0 \n",
    "for word in counted_list:\n",
    "        if not word == current_word:\n",
    "            print current_word , cnt \n",
    "            current_word = word\n",
    "            cnt = 1\n",
    "        else:\n",
    "            cnt = cnt + 1"
   ]
  },
  {
   "cell_type": "code",
   "execution_count": 141,
   "metadata": {
    "collapsed": false
   },
   "outputs": [
    {
     "name": "stdout",
     "output_type": "stream",
     "text": [
      ", 2\n",
      "I 1\n",
      "all 1\n",
      "love 2\n",
      "loves 1\n",
      "me 1\n",
      "qoo 3\n"
     ]
    }
   ],
   "source": [
    "current_word = ''\n",
    "cnt = 0 \n",
    "for word in counted_list:\n",
    "        if not word == current_word:\n",
    "            if not current_word == '': \n",
    "                print current_word , cnt \n",
    "            current_word = word\n",
    "            cnt = 1\n",
    "        else:\n",
    "            cnt = cnt + 1"
   ]
  },
  {
   "cell_type": "code",
   "execution_count": 142,
   "metadata": {
    "collapsed": false
   },
   "outputs": [
    {
     "name": "stdout",
     "output_type": "stream",
     "text": [
      ", 2\n",
      "I 1\n",
      "all 1\n",
      "love 2\n",
      "loves 1\n",
      "me 1\n",
      "qoo 3\n",
      "we 1\n"
     ]
    }
   ],
   "source": [
    "current_word = ''\n",
    "cnt = 0 \n",
    "for word in counted_list:\n",
    "        if not word == current_word:\n",
    "            if not current_word == '': \n",
    "                print current_word , cnt \n",
    "            current_word = word\n",
    "            cnt = 1\n",
    "        else:\n",
    "            cnt = cnt + 1\n",
    "print current_word, cnt"
   ]
  },
  {
   "cell_type": "code",
   "execution_count": 143,
   "metadata": {
    "collapsed": false
   },
   "outputs": [
    {
     "name": "stdout",
     "output_type": "stream",
     "text": [
      ", 2\n",
      "I 1\n",
      "all 1\n",
      "love 2\n",
      "loves 1\n",
      "me 1\n",
      "qoo 3\n",
      "we 1\n"
     ]
    }
   ],
   "source": [
    "counted_str = 'I love qoo , qoo loves me , we all love qoo'\n",
    "counted_list = counted_str.split()\n",
    "counted_list.sort() # nlog(n) http://zh.wikipedia.org/wiki/%E6%8E%92%E5%BA%8F%E7%AE%97%E6%B3%95\n",
    "# if n = 1,000,000; it cost 1000000 * log(1000000) == 6,000,000 steps\n",
    "current_word = ''\n",
    "cnt = 0 \n",
    "for word in counted_list: #n => 1,000,000\n",
    "        if not word == current_word:\n",
    "            if not current_word == '': \n",
    "                print current_word , cnt \n",
    "            current_word = word\n",
    "            cnt = 1\n",
    "        else:\n",
    "            cnt = cnt + 1\n",
    "print current_word, cnt\n",
    "# cost = 6,000,000 + 1,000,000 = 7,000,000"
   ]
  },
  {
   "cell_type": "code",
   "execution_count": 144,
   "metadata": {
    "collapsed": false
   },
   "outputs": [
    {
     "name": "stdout",
     "output_type": "stream",
     "text": [
      "me 1\n",
      "we 1\n",
      "love 2\n",
      "all 1\n",
      "I 1\n",
      ", 2\n",
      "loves 1\n",
      "qoo 3\n"
     ]
    }
   ],
   "source": [
    "counted_str = 'I love qoo , qoo loves me , we all love qoo'\n",
    "counted_list = counted_str.split()\n",
    "\n",
    "dic = {}\n",
    "for word in counted_list: # n, if n = 1,000,000\n",
    "    if not word in dic:\n",
    "        dic[word] = 1\n",
    "    else:\n",
    "        dic[word] = dic[word] + 1\n",
    "for word in dic:\n",
    "    print word, dic[word]\n",
    "#total cost = 1,000,000"
   ]
  },
  {
   "cell_type": "code",
   "execution_count": 152,
   "metadata": {
    "collapsed": false
   },
   "outputs": [
    {
     "name": "stdout",
     "output_type": "stream",
     "text": [
      "[('the', 42), ('to', 11), ('of', 11), ('on', 7), ('a', 7), ('from', 6), ('and', 6), ('in', 6), ('river', 4), ('are', 4), ('state-run', 4), ('have', 4), ('ship', 4), ('agency', 3), ('workers', 3), ('rescue', 3), ('people', 3), ('been', 3), ('was', 3), ('that', 3)]\n"
     ]
    }
   ],
   "source": [
    "f = open('cnn.txt', 'r')\n",
    "dic = {}\n",
    "for line in f:\n",
    "    parsed_list = line.lower().strip().split()\n",
    "    for word in parsed_list:\n",
    "        if not word in dic:\n",
    "            dic[word] = 1\n",
    "        else:\n",
    "            dic[word] = dic[word] + 1\n",
    "f.close()\n",
    "\n",
    "import operator\n",
    "sorted_dic = sorted(dic.items(), key=operator.itemgetter(1), reverse=True)\n",
    "print sorted_dic[0:20]\n"
   ]
  },
  {
   "cell_type": "code",
   "execution_count": 1,
   "metadata": {
    "collapsed": false
   },
   "outputs": [
    {
     "name": "stdout",
     "output_type": "stream",
     "text": [
      "200\n",
      "text/html; charset=utf-8\n"
     ]
    },
    {
     "name": "stderr",
     "output_type": "stream",
     "text": [
      "C:\\Python27\\lib\\site-packages\\requests\\packages\\urllib3\\util\\ssl_.py:90: InsecurePlatformWarning: A true SSLContext object is not available. This prevents urllib3 from configuring SSL appropriately and may cause certain SSL connections to fail. For more information, see https://urllib3.readthedocs.org/en/latest/security.html#insecureplatformwarning.\n",
      "  InsecurePlatformWarning\n"
     ]
    }
   ],
   "source": [
    "import requests\n",
    "res = requests.get('https://www.python.org/')\n",
    "#print res.text\n",
    "print res.status_code \n",
    "print res.headers['content-type']\n"
   ]
  },
  {
   "cell_type": "code",
   "execution_count": 4,
   "metadata": {
    "collapsed": false
   },
   "outputs": [],
   "source": [
    "import requests\n",
    "payload = {\n",
    "'StartStation':'977abb69-413a-4ccf-a109-0272c24fd490',\n",
    "'EndStation':'60831846-f0e4-47f6-9b5b-46323ebdcef7',\n",
    "'SearchDate':'2015/06/02',\n",
    "'SearchTime':'10:30',\n",
    "'SearchWay':'DepartureInMandarin'\n",
    "}\n",
    "res = requests.post('http://www.thsrc.com.tw/tw/TimeTable/SearchResult', data=payload)\n",
    "#print res.text\n"
   ]
  },
  {
   "cell_type": "code",
   "execution_count": 5,
   "metadata": {
    "collapsed": false
   },
   "outputs": [
    {
     "name": "stdout",
     "output_type": "stream",
     "text": [
      "   Hello World This is link1 This is link2  \n"
     ]
    }
   ],
   "source": [
    "from bs4 import BeautifulSoup \n",
    "html_sample = ' \\\n",
    "<html> \\\n",
    " <body> \\\n",
    " <h1 id=\"title\">Hello World</h1> \\\n",
    " <a href=\"#\" class=\"link\">This is link1</a> \\\n",
    " <a href=\"# link2\" class=\"link\">This is link2</a> \\\n",
    " </body> \\\n",
    " </html>'\n",
    "\n",
    "soup = BeautifulSoup(html_sample)\n",
    "print soup.text\n"
   ]
  },
  {
   "cell_type": "code",
   "execution_count": 6,
   "metadata": {
    "collapsed": false
   },
   "outputs": [
    {
     "name": "stdout",
     "output_type": "stream",
     "text": [
      "[<a class=\"link\" href=\"#\">This is link1</a>, <a class=\"link\" href=\"# link2\">This is link2</a>]\n",
      "[<h1 id=\"title\">Hello World</h1>]\n",
      "#\n",
      "# link2\n"
     ]
    }
   ],
   "source": [
    "a = soup.select(\".link\")\n",
    "print a\n",
    "\n",
    "a = soup.select(\"#title\")\n",
    "print a\n",
    "\n",
    "for a in soup.select(\"a\"):\n",
    "    print a['href']\n"
   ]
  },
  {
   "cell_type": "code",
   "execution_count": null,
   "metadata": {
    "collapsed": true
   },
   "outputs": [],
   "source": []
  }
 ],
 "metadata": {
  "kernelspec": {
   "display_name": "Python 2",
   "language": "python",
   "name": "python2"
  },
  "language_info": {
   "codemirror_mode": {
    "name": "ipython",
    "version": 2
   },
   "file_extension": ".py",
   "mimetype": "text/x-python",
   "name": "python",
   "nbconvert_exporter": "python",
   "pygments_lexer": "ipython2",
   "version": "2.7.10"
  }
 },
 "nbformat": 4,
 "nbformat_minor": 0
}
