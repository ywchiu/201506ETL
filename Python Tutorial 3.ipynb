{
 "cells": [
  {
   "cell_type": "code",
   "execution_count": null,
   "metadata": {
    "collapsed": true
   },
   "outputs": [],
   "source": [
    "#\n",
    "http://webcache.googleusercontent.com/search?q=cache:uu3QVSzmjZIJ:https://www.ptt.cc/bbs/Gossiping/M.1421742808.A.19D.html+&cd=1&hl=zh-TW&ct=clnk&gl=tw\n",
    "https://www.ptt.cc/bbs/Gossiping/M.1421550140.A.704.html\n",
    "#\n",
    "http://webcache.googleusercontent.com/search?q=cache:L5XmcFmSuPsJ:https://www.ptt.cc/bbs/Gossiping/M.1421550140.A.704.html+&cd=2&hl=zh-TW&ct=clnk&gl=tw\n",
    "https://www.ptt.cc/bbs/Gossiping/M.1421553792.A.816.html\n",
    "#\n",
    "http://webcache.googleusercontent.com/search?q=cache:Q5R5-kocEMQJ:https://www.ptt.cc/bbs/Gossiping/M.1421553792.A.816.html+&cd=3&hl=zh-TW&ct=clnk&gl=tw\n",
    "https://www.ptt.cc/bbs/Gossiping/M.1419921545.A.A03.html\n",
    "#\n",
    "http://webcache.googleusercontent.com/search?q=cache:L3oFW9Ol31kJ:https://www.ptt.cc/bbs/Gossiping/M.1419921545.A.A03.html+&cd=4&hl=zh-TW&ct=clnk&gl=tw\n",
    "https://www.ptt.cc/bbs/Gossiping/M.1419678303.A.063.html"
   ]
  },
  {
   "cell_type": "markdown",
   "metadata": {},
   "source": [
    "### linux shell command \n",
    "- grep \"ptt.cc\" ptt1.log | grep -v googleuser | egrep -o 'bbs\\/.*\\/' | sort | uniq -c | sort -k 1 -nr\n",
    "- grep \"ptt.cc\" ptt1.log | grep -v googleuser | egrep -o 'bbs\\/.*\\/' | sort | uniq -c | sort -k 1 -nr | awk 'BEGIN{SUM=0}{SUM += $1}END{print SUM}'\n",
    "- split -l 1000000 db.sql"
   ]
  },
  {
   "cell_type": "markdown",
   "metadata": {},
   "source": [
    "- http://kevincrazy.pixnet.net/blog/post/29780957-echo%E3%80%81grep%E3%80%81sed"
   ]
  },
  {
   "cell_type": "code",
   "execution_count": null,
   "metadata": {
    "collapsed": true
   },
   "outputs": [],
   "source": [
    "# python example\n",
    "f = open('db.sql', 'r')\n",
    "for line in f.readlines():\n",
    "        if 'CREATE TABLE' in line:\n",
    "                print line.strip().split()[2]\n",
    "f.close()\n",
    "\n",
    "# linus command\n",
    "grep \"CREATE TABLE\" db.sql | awk '{print $3}'"
   ]
  },
  {
   "cell_type": "code",
   "execution_count": null,
   "metadata": {
    "collapsed": true
   },
   "outputs": [],
   "source": [
    "#replace first character \n",
    ":%s/^/'/g\n",
    "# replace :\n",
    ":%s/:/':'/g\n",
    "# replace last character\n",
    ":%s/$/',/g\n",
    "        "
   ]
  },
  {
   "cell_type": "code",
   "execution_count": 58,
   "metadata": {
    "collapsed": false
   },
   "outputs": [],
   "source": [
    "import requests\n",
    "payload = {\n",
    "'method':'search',\n",
    "'searchMethod':'true',\n",
    "'searchTarget':'ATM',\n",
    "'orgName':'',\n",
    "'orgId':'',\n",
    "'hid_1':'1',\n",
    "'tenderName':'',\n",
    "'tenderId':'',\n",
    "'tenderStatus':'4,5,21,29',\n",
    "'tenderWay':'',\n",
    "'awardAnnounceStartDate':'103/04/29',\n",
    "'awardAnnounceEndDate':'103/04/29',\n",
    "'proctrgCate':'3',\n",
    "'radProctrgCate':'3',\n",
    "'tenderRange':'',\n",
    "'minBudget':'',\n",
    "'maxBudget':'',\n",
    "'item':'',\n",
    "'hid_2':'1',\n",
    "'gottenVendorName':'',\n",
    "'gottenVendorId':'',\n",
    "'hid_3':'1',\n",
    "'submitVendorName':'',\n",
    "'submitVendorId':'',\n",
    "'location':'',\n",
    "'priorityCate':'',\n",
    "'isReConstruct':'',\n",
    "'btnQuery':'查詢'\n",
    "}\n",
    "rs = requests.session()\n",
    "res = rs.post('http://web.pcc.gov.tw/tps/pss/tender.do?searchMode=common&searchType=advance', data = payload)\n",
    "#print res.text"
   ]
  },
  {
   "cell_type": "code",
   "execution_count": 43,
   "metadata": {
    "collapsed": false
   },
   "outputs": [],
   "source": [
    "from bs4 import BeautifulSoup\n",
    "soup = BeautifulSoup(res.text)\n",
    "record_number = int(soup.select('.T11b')[0].text) # add . in front of class; [0]unlist list; get test; convert to int"
   ]
  },
  {
   "cell_type": "code",
   "execution_count": 44,
   "metadata": {
    "collapsed": false
   },
   "outputs": [
    {
     "name": "stdout",
     "output_type": "stream",
     "text": [
      "3\n"
     ]
    }
   ],
   "source": [
    "import math\n",
    "page_number = int(math.ceil(float(record_number) / 100)) \n",
    "# record number /100; use math.ceil to get top value; convert to int\n",
    "print page_number"
   ]
  },
  {
   "cell_type": "code",
   "execution_count": 45,
   "metadata": {
    "collapsed": false
   },
   "outputs": [],
   "source": [
    "formaturl = 'http://web.pcc.gov.tw/tps/pss/tender.do?searchMode=common&searchType=advance&searchTarget=ATM&method=search&isSpdt=&pageIndex=%d'\n",
    "for i in range(1,page_number + 1):\n",
    "    pageurl = formaturl%(i)\n",
    "    #res = rs.get(pageurl)\n",
    "    #print res.text"
   ]
  },
  {
   "cell_type": "code",
   "execution_count": 46,
   "metadata": {
    "collapsed": false
   },
   "outputs": [],
   "source": [
    "pageurl = formaturl % 1\n",
    "bid_response  = rs.get(pageurl)\n",
    "bid_soup = BeautifulSoup(bid_response.text)\n",
    "bid_table = bid_soup.select('#print_area')[0] # get <div id=\"print_area\"> ; add # in front of id\n",
    "bid_rows = bid_table.select('tr')[1:-1]\n",
    "\n"
   ]
  },
  {
   "cell_type": "code",
   "execution_count": 47,
   "metadata": {
    "collapsed": false
   },
   "outputs": [
    {
     "ename": "SyntaxError",
     "evalue": "invalid syntax (<ipython-input-47-367b1a1c7fbc>, line 1)",
     "output_type": "error",
     "traceback": [
      "\u001b[1;36m  File \u001b[1;32m\"<ipython-input-47-367b1a1c7fbc>\"\u001b[1;36m, line \u001b[1;32m1\u001b[0m\n\u001b[1;33m    <table>\u001b[0m\n\u001b[1;37m    ^\u001b[0m\n\u001b[1;31mSyntaxError\u001b[0m\u001b[1;31m:\u001b[0m invalid syntax\n"
     ]
    }
   ],
   "source": [
    "<table>\n",
    "    <thead>\n",
    "        <th> </th>\n",
    "    </thead>\n",
    "    <tbody>\n",
    "        <tr> </tr>\n",
    "        <tr> </tr>\n",
    "        <tr> </tr>\n",
    "    </tbody>\n",
    "</table>"
   ]
  },
  {
   "cell_type": "code",
   "execution_count": 48,
   "metadata": {
    "collapsed": false
   },
   "outputs": [
    {
     "name": "stdout",
     "output_type": "stream",
     "text": [
      "[2, 3, 4, 5, 6]\n",
      "[1, 2, 3, 4, 5]\n",
      "[2, 3, 4, 5]\n"
     ]
    }
   ],
   "source": [
    "a = [1,2,3,4,5,6]\n",
    "print a[1:]\n",
    "print a[:-1]\n",
    "print a[1:-1]"
   ]
  },
  {
   "cell_type": "code",
   "execution_count": 49,
   "metadata": {
    "collapsed": false
   },
   "outputs": [],
   "source": [
    "#for bid_row in bid_rows:\n",
    "    # one line method\n",
    "    #links = [tag['href'] for tag in bid_row.select('a')] \n",
    "    \n",
    "    # multi line method\n",
    "    # links = [] \n",
    "    # for tag in bid_row.select('a'):\n",
    "    #    links.append(tag['href'])\n",
    "    # print links\n"
   ]
  },
  {
   "cell_type": "code",
   "execution_count": 50,
   "metadata": {
    "collapsed": false
   },
   "outputs": [
    {
     "name": "stdout",
     "output_type": "stream",
     "text": [
      "string \thttp://web.pcc.gov.tw/tps/main/pms/tps/atm/atmAwardAction.do?newEdit=false&searchMode=common&method=inquiryForPublic&pkAtmMain=51239371&tenderCaseNo=4197\n",
      "urlparse\thttp://web.pcc.gov.tw/tps/main/pms/tps/atm/atmAwardAction.do?newEdit=false&searchMode=common&method=inquiryForPublic&pkAtmMain=51239371&tenderCaseNo=4197\n",
      "string \thttp://web.pcc.gov.tw/tps/main/pms/tps/atm/atmAwardAction.do?newEdit=false&searchMode=common&method=inquiryForPublic&pkAtmMain=51239291&tenderCaseNo=0607L1030328\n",
      "urlparse\thttp://web.pcc.gov.tw/tps/main/pms/tps/atm/atmAwardAction.do?newEdit=false&searchMode=common&method=inquiryForPublic&pkAtmMain=51239291&tenderCaseNo=0607L1030328\n",
      "string \thttp://web.pcc.gov.tw/tps/main/pms/tps/atm/atmAwardAction.do?newEdit=false&searchMode=common&method=inquiryForPublic&pkAtmMain=51241675&tenderCaseNo=XW03118P099\n",
      "urlparse\thttp://web.pcc.gov.tw/tps/main/pms/tps/atm/atmAwardAction.do?newEdit=false&searchMode=common&method=inquiryForPublic&pkAtmMain=51241675&tenderCaseNo=XW03118P099\n",
      "string \thttp://web.pcc.gov.tw/tps/main/pms/tps/atm/atmAwardAction.do?newEdit=false&searchMode=common&method=inquiryForPublic&pkAtmMain=51241674&tenderCaseNo=XW03072P119\n",
      "urlparse\thttp://web.pcc.gov.tw/tps/main/pms/tps/atm/atmAwardAction.do?newEdit=false&searchMode=common&method=inquiryForPublic&pkAtmMain=51241674&tenderCaseNo=XW03072P119\n",
      "string \thttp://web.pcc.gov.tw/tps/main/pms/tps/atm/atmAwardAction.do?newEdit=false&searchMode=common&method=inquiryForPublic&pkAtmMain=51241666&tenderCaseNo=B1030411\n",
      "urlparse\thttp://web.pcc.gov.tw/tps/main/pms/tps/atm/atmAwardAction.do?newEdit=false&searchMode=common&method=inquiryForPublic&pkAtmMain=51241666&tenderCaseNo=B1030411\n",
      "string \thttp://web.pcc.gov.tw/tps/main/pms/tps/atm/atmAwardAction.do?newEdit=false&searchMode=common&method=inquiryForPublic&pkAtmMain=51241665&tenderCaseNo=B1030422\n",
      "urlparse\thttp://web.pcc.gov.tw/tps/main/pms/tps/atm/atmAwardAction.do?newEdit=false&searchMode=common&method=inquiryForPublic&pkAtmMain=51241665&tenderCaseNo=B1030422\n",
      "string \thttp://web.pcc.gov.tw/tps/main/pms/tps/atm/atmAwardAction.do?newEdit=false&searchMode=common&method=inquiryForPublic&pkAtmMain=51241621&tenderCaseNo=MPB10390429\n",
      "urlparse\thttp://web.pcc.gov.tw/tps/main/pms/tps/atm/atmAwardAction.do?newEdit=false&searchMode=common&method=inquiryForPublic&pkAtmMain=51241621&tenderCaseNo=MPB10390429\n",
      "string \thttp://web.pcc.gov.tw/tps/main/pms/tps/atm/atmAwardAction.do?newEdit=false&searchMode=common&method=inquiryForPublic&pkAtmMain=51241602&tenderCaseNo=103-19\n",
      "urlparse\thttp://web.pcc.gov.tw/tps/main/pms/tps/atm/atmAwardAction.do?newEdit=false&searchMode=common&method=inquiryForPublic&pkAtmMain=51241602&tenderCaseNo=103-19\n",
      "string \thttp://web.pcc.gov.tw/tps/main/pms/tps/atm/atmAwardAction.do?newEdit=false&searchMode=common&method=inquiryForPublic&pkAtmMain=51241573&tenderCaseNo=SL-103043\n",
      "urlparse\thttp://web.pcc.gov.tw/tps/main/pms/tps/atm/atmAwardAction.do?newEdit=false&searchMode=common&method=inquiryForPublic&pkAtmMain=51241573&tenderCaseNo=SL-103043\n",
      "string \thttp://web.pcc.gov.tw/tps/main/pms/tps/atm/atmAwardAction.do?newEdit=false&searchMode=common&method=inquiryForPublic&pkAtmMain=51241557&tenderCaseNo=NG03035P009P\n",
      "urlparse\thttp://web.pcc.gov.tw/tps/main/pms/tps/atm/atmAwardAction.do?newEdit=false&searchMode=common&method=inquiryForPublic&pkAtmMain=51241557&tenderCaseNo=NG03035P009P\n",
      "string \thttp://web.pcc.gov.tw/tps/main/pms/tps/atm/atmAwardAction.do?newEdit=false&searchMode=common&method=inquiryForPublic&pkAtmMain=51241458&tenderCaseNo=10302\n",
      "urlparse\thttp://web.pcc.gov.tw/tps/main/pms/tps/atm/atmAwardAction.do?newEdit=false&searchMode=common&method=inquiryForPublic&pkAtmMain=51241458&tenderCaseNo=10302\n",
      "string \thttp://web.pcc.gov.tw/tps/main/pms/tps/atm/atmAwardAction.do?newEdit=false&searchMode=common&method=inquiryForPublic&pkAtmMain=51241498&tenderCaseNo=103-2-010\n",
      "urlparse\thttp://web.pcc.gov.tw/tps/main/pms/tps/atm/atmAwardAction.do?newEdit=false&searchMode=common&method=inquiryForPublic&pkAtmMain=51241498&tenderCaseNo=103-2-010\n",
      "string \thttp://web.pcc.gov.tw/tps/main/pms/tps/atm/atmAwardAction.do?newEdit=false&searchMode=common&method=inquiryForPublic&pkAtmMain=51241496&tenderCaseNo=W103ABC071\n",
      "urlparse\thttp://web.pcc.gov.tw/tps/main/pms/tps/atm/atmAwardAction.do?newEdit=false&searchMode=common&method=inquiryForPublic&pkAtmMain=51241496&tenderCaseNo=W103ABC071\n",
      "string \thttp://web.pcc.gov.tw/tps/main/pms/tps/atm/atmAwardAction.do?newEdit=false&searchMode=common&method=inquiryForPublic&pkAtmMain=51241485&tenderCaseNo=103230330119\n",
      "urlparse\thttp://web.pcc.gov.tw/tps/main/pms/tps/atm/atmAwardAction.do?newEdit=false&searchMode=common&method=inquiryForPublic&pkAtmMain=51241485&tenderCaseNo=103230330119\n",
      "string \thttp://web.pcc.gov.tw/tps/main/pms/tps/atm/atmAwardAction.do?newEdit=false&searchMode=common&method=inquiryForPublic&pkAtmMain=51238144&tenderCaseNo=C1030415\n",
      "urlparse\thttp://web.pcc.gov.tw/tps/main/pms/tps/atm/atmAwardAction.do?newEdit=false&searchMode=common&method=inquiryForPublic&pkAtmMain=51238144&tenderCaseNo=C1030415\n",
      "string \thttp://web.pcc.gov.tw/tps/main/pms/tps/atm/atmAwardAction.do?newEdit=false&searchMode=common&method=inquiryForPublic&pkAtmMain=51241358&tenderCaseNo=Y103016\n",
      "urlparse\thttp://web.pcc.gov.tw/tps/main/pms/tps/atm/atmAwardAction.do?newEdit=false&searchMode=common&method=inquiryForPublic&pkAtmMain=51241358&tenderCaseNo=Y103016\n",
      "string \thttp://web.pcc.gov.tw/tps/main/pms/tps/atm/atmAwardAction.do?newEdit=false&searchMode=common&method=inquiryForPublic&pkAtmMain=51241301&tenderCaseNo=103003\n",
      "urlparse\thttp://web.pcc.gov.tw/tps/main/pms/tps/atm/atmAwardAction.do?newEdit=false&searchMode=common&method=inquiryForPublic&pkAtmMain=51241301&tenderCaseNo=103003\n",
      "string \thttp://web.pcc.gov.tw/tps/main/pms/tps/atm/atmAwardAction.do?newEdit=false&searchMode=common&method=inquiryForPublic&pkAtmMain=51241289&tenderCaseNo=103-7\n",
      "urlparse\thttp://web.pcc.gov.tw/tps/main/pms/tps/atm/atmAwardAction.do?newEdit=false&searchMode=common&method=inquiryForPublic&pkAtmMain=51241289&tenderCaseNo=103-7\n",
      "string \thttp://web.pcc.gov.tw/tps/main/pms/tps/atm/atmAwardAction.do?newEdit=false&searchMode=common&method=inquiryForPublic&pkAtmMain=51241135&tenderCaseNo=103-TY-142\n",
      "urlparse\thttp://web.pcc.gov.tw/tps/main/pms/tps/atm/atmAwardAction.do?newEdit=false&searchMode=common&method=inquiryForPublic&pkAtmMain=51241135&tenderCaseNo=103-TY-142\n",
      "string \thttp://web.pcc.gov.tw/tps/main/pms/tps/atm/atmAwardAction.do?newEdit=false&searchMode=common&method=inquiryForPublic&pkAtmMain=51241115&tenderCaseNo=1030404\n",
      "urlparse\thttp://web.pcc.gov.tw/tps/main/pms/tps/atm/atmAwardAction.do?newEdit=false&searchMode=common&method=inquiryForPublic&pkAtmMain=51241115&tenderCaseNo=1030404\n",
      "string \thttp://web.pcc.gov.tw/tps/main/pms/tps/atm/atmAwardAction.do?newEdit=false&searchMode=common&method=inquiryForPublic&pkAtmMain=51241108&tenderCaseNo=11-1030328\n",
      "urlparse\thttp://web.pcc.gov.tw/tps/main/pms/tps/atm/atmAwardAction.do?newEdit=false&searchMode=common&method=inquiryForPublic&pkAtmMain=51241108&tenderCaseNo=11-1030328\n",
      "string \thttp://web.pcc.gov.tw/tps/main/pms/tps/atm/atmAwardAction.do?newEdit=false&searchMode=common&method=inquiryForPublic&pkAtmMain=51241103&tenderCaseNo=P103001\n",
      "urlparse\thttp://web.pcc.gov.tw/tps/main/pms/tps/atm/atmAwardAction.do?newEdit=false&searchMode=common&method=inquiryForPublic&pkAtmMain=51241103&tenderCaseNo=P103001\n",
      "string \thttp://web.pcc.gov.tw/tps/main/pms/tps/atm/atmAwardAction.do?newEdit=false&searchMode=common&method=inquiryForPublic&pkAtmMain=51241099&tenderCaseNo=103-0021002-029-2-6\n",
      "urlparse\thttp://web.pcc.gov.tw/tps/main/pms/tps/atm/atmAwardAction.do?newEdit=false&searchMode=common&method=inquiryForPublic&pkAtmMain=51241099&tenderCaseNo=103-0021002-029-2-6\n",
      "string \thttp://web.pcc.gov.tw/tps/main/pms/tps/atm/atmAwardAction.do?newEdit=false&searchMode=common&method=inquiryForPublic&pkAtmMain=51241063&tenderCaseNo=103075\n",
      "urlparse\thttp://web.pcc.gov.tw/tps/main/pms/tps/atm/atmAwardAction.do?newEdit=false&searchMode=common&method=inquiryForPublic&pkAtmMain=51241063&tenderCaseNo=103075\n",
      "string \thttp://web.pcc.gov.tw/tps/main/pms/tps/atm/atmAwardAction.do?newEdit=false&searchMode=common&method=inquiryForPublic&pkAtmMain=51241062&tenderCaseNo=SL-103050\n",
      "urlparse\thttp://web.pcc.gov.tw/tps/main/pms/tps/atm/atmAwardAction.do?newEdit=false&searchMode=common&method=inquiryForPublic&pkAtmMain=51241062&tenderCaseNo=SL-103050\n",
      "string \thttp://web.pcc.gov.tw/tps/main/pms/tps/atm/atmAwardAction.do?newEdit=false&searchMode=common&method=inquiryForPublic&pkAtmMain=51241029&tenderCaseNo=1030011069\n",
      "urlparse\thttp://web.pcc.gov.tw/tps/main/pms/tps/atm/atmAwardAction.do?newEdit=false&searchMode=common&method=inquiryForPublic&pkAtmMain=51241029&tenderCaseNo=1030011069\n",
      "string \thttp://web.pcc.gov.tw/tps/main/pms/tps/atm/atmAwardAction.do?newEdit=false&searchMode=common&method=inquiryForPublic&pkAtmMain=51240942&tenderCaseNo=SL-103046\n",
      "urlparse\thttp://web.pcc.gov.tw/tps/main/pms/tps/atm/atmAwardAction.do?newEdit=false&searchMode=common&method=inquiryForPublic&pkAtmMain=51240942&tenderCaseNo=SL-103046\n",
      "string \thttp://web.pcc.gov.tw/tps/main/pms/tps/atm/atmAwardAction.do?newEdit=false&searchMode=common&method=inquiryForPublic&pkAtmMain=51240875&tenderCaseNo=B102RD03012\n",
      "urlparse\thttp://web.pcc.gov.tw/tps/main/pms/tps/atm/atmAwardAction.do?newEdit=false&searchMode=common&method=inquiryForPublic&pkAtmMain=51240875&tenderCaseNo=B102RD03012\n",
      "string \thttp://web.pcc.gov.tw/tps/main/pms/tps/atm/atmAwardAction.do?newEdit=false&searchMode=common&method=inquiryForPublic&pkAtmMain=51240824&tenderCaseNo=1030203\n",
      "urlparse\thttp://web.pcc.gov.tw/tps/main/pms/tps/atm/atmAwardAction.do?newEdit=false&searchMode=common&method=inquiryForPublic&pkAtmMain=51240824&tenderCaseNo=1030203\n",
      "string \thttp://web.pcc.gov.tw/tps/main/pms/tps/atm/atmAwardAction.do?newEdit=false&searchMode=common&method=inquiryForPublic&pkAtmMain=51240739&tenderCaseNo=G103EDU043\n",
      "urlparse\thttp://web.pcc.gov.tw/tps/main/pms/tps/atm/atmAwardAction.do?newEdit=false&searchMode=common&method=inquiryForPublic&pkAtmMain=51240739&tenderCaseNo=G103EDU043\n",
      "string \thttp://web.pcc.gov.tw/tps/main/pms/tps/atm/atmAwardAction.do?newEdit=false&searchMode=common&method=inquiryForPublic&pkAtmMain=51240712&tenderCaseNo=103B04\n",
      "urlparse\thttp://web.pcc.gov.tw/tps/main/pms/tps/atm/atmAwardAction.do?newEdit=false&searchMode=common&method=inquiryForPublic&pkAtmMain=51240712&tenderCaseNo=103B04\n",
      "string \thttp://web.pcc.gov.tw/tps/main/pms/tps/atm/atmAwardAction.do?newEdit=false&searchMode=common&method=inquiryForPublic&pkAtmMain=51240655&tenderCaseNo=AASC-103085\n",
      "urlparse\thttp://web.pcc.gov.tw/tps/main/pms/tps/atm/atmAwardAction.do?newEdit=false&searchMode=common&method=inquiryForPublic&pkAtmMain=51240655&tenderCaseNo=AASC-103085\n",
      "string \thttp://web.pcc.gov.tw/tps/main/pms/tps/atm/atmAwardAction.do?newEdit=false&searchMode=common&method=inquiryForPublic&pkAtmMain=51240623&tenderCaseNo=TC103C036\n",
      "urlparse\thttp://web.pcc.gov.tw/tps/main/pms/tps/atm/atmAwardAction.do?newEdit=false&searchMode=common&method=inquiryForPublic&pkAtmMain=51240623&tenderCaseNo=TC103C036\n",
      "string \thttp://web.pcc.gov.tw/tps/main/pms/tps/atm/atmAwardAction.do?newEdit=false&searchMode=common&method=inquiryForPublic&pkAtmMain=51240622&tenderCaseNo=DPD2014041101\n",
      "urlparse\thttp://web.pcc.gov.tw/tps/main/pms/tps/atm/atmAwardAction.do?newEdit=false&searchMode=common&method=inquiryForPublic&pkAtmMain=51240622&tenderCaseNo=DPD2014041101\n",
      "string \thttp://web.pcc.gov.tw/tps/main/pms/tps/atm/atmAwardAction.do?newEdit=false&searchMode=common&method=inquiryForPublic&pkAtmMain=51240570&tenderCaseNo=103B018\n",
      "urlparse\thttp://web.pcc.gov.tw/tps/main/pms/tps/atm/atmAwardAction.do?newEdit=false&searchMode=common&method=inquiryForPublic&pkAtmMain=51240570&tenderCaseNo=103B018\n",
      "string \thttp://web.pcc.gov.tw/tps/main/pms/tps/atm/atmAwardAction.do?newEdit=false&searchMode=common&method=inquiryForPublic&pkAtmMain=51240557&tenderCaseNo=NKUHT1524-10310\n",
      "urlparse\thttp://web.pcc.gov.tw/tps/main/pms/tps/atm/atmAwardAction.do?newEdit=false&searchMode=common&method=inquiryForPublic&pkAtmMain=51240557&tenderCaseNo=NKUHT1524-10310\n",
      "string \thttp://web.pcc.gov.tw/tps/main/pms/tps/atm/atmAwardAction.do?newEdit=false&searchMode=common&method=inquiryForPublic&pkAtmMain=51240543&tenderCaseNo=DPD2014041102\n",
      "urlparse\thttp://web.pcc.gov.tw/tps/main/pms/tps/atm/atmAwardAction.do?newEdit=false&searchMode=common&method=inquiryForPublic&pkAtmMain=51240543&tenderCaseNo=DPD2014041102\n",
      "string \thttp://web.pcc.gov.tw/tps/main/pms/tps/atm/atmAwardAction.do?newEdit=false&searchMode=common&method=inquiryForPublic&pkAtmMain=51240536&tenderCaseNo=10310\n",
      "urlparse\thttp://web.pcc.gov.tw/tps/main/pms/tps/atm/atmAwardAction.do?newEdit=false&searchMode=common&method=inquiryForPublic&pkAtmMain=51240536&tenderCaseNo=10310\n",
      "string \thttp://web.pcc.gov.tw/tps/main/pms/tps/atm/atmAwardAction.do?newEdit=false&searchMode=common&method=inquiryForPublic&pkAtmMain=51240484&tenderCaseNo=103A011A\n",
      "urlparse\thttp://web.pcc.gov.tw/tps/main/pms/tps/atm/atmAwardAction.do?newEdit=false&searchMode=common&method=inquiryForPublic&pkAtmMain=51240484&tenderCaseNo=103A011A\n",
      "string \thttp://web.pcc.gov.tw/tps/main/pms/tps/atm/atmAwardAction.do?newEdit=false&searchMode=common&method=inquiryForPublic&pkAtmMain=51240279&tenderCaseNo=103M602\n",
      "urlparse\thttp://web.pcc.gov.tw/tps/main/pms/tps/atm/atmAwardAction.do?newEdit=false&searchMode=common&method=inquiryForPublic&pkAtmMain=51240279&tenderCaseNo=103M602\n",
      "string \thttp://web.pcc.gov.tw/tps/main/pms/tps/atm/atmAwardAction.do?newEdit=false&searchMode=common&method=inquiryForPublic&pkAtmMain=51240240&tenderCaseNo=103310230121\n",
      "urlparse\thttp://web.pcc.gov.tw/tps/main/pms/tps/atm/atmAwardAction.do?newEdit=false&searchMode=common&method=inquiryForPublic&pkAtmMain=51240240&tenderCaseNo=103310230121\n",
      "string \thttp://web.pcc.gov.tw/tps/main/pms/tps/atm/atmAwardAction.do?newEdit=false&searchMode=common&method=inquiryForPublic&pkAtmMain=51240202&tenderCaseNo=103430930099\n",
      "urlparse\thttp://web.pcc.gov.tw/tps/main/pms/tps/atm/atmAwardAction.do?newEdit=false&searchMode=common&method=inquiryForPublic&pkAtmMain=51240202&tenderCaseNo=103430930099\n",
      "string \thttp://web.pcc.gov.tw/tps/main/pms/tps/atm/atmAwardAction.do?newEdit=false&searchMode=common&method=inquiryForPublic&pkAtmMain=51125369&tenderCaseNo=102bali-005-1\n",
      "urlparse\thttp://web.pcc.gov.tw/tps/main/pms/tps/atm/atmAwardAction.do?newEdit=false&searchMode=common&method=inquiryForPublic&pkAtmMain=51125369&tenderCaseNo=102bali-005-1\n",
      "string \thttp://web.pcc.gov.tw/tps/main/pms/tps/atm/atmAwardAction.do?newEdit=false&searchMode=common&method=inquiryForPublic&pkAtmMain=51122915&tenderCaseNo=TS1021101\n",
      "urlparse\thttp://web.pcc.gov.tw/tps/main/pms/tps/atm/atmAwardAction.do?newEdit=false&searchMode=common&method=inquiryForPublic&pkAtmMain=51122915&tenderCaseNo=TS1021101\n",
      "string \thttp://web.pcc.gov.tw/tps/main/pms/tps/atm/atmAwardAction.do?newEdit=false&searchMode=common&method=inquiryForPublic&pkAtmMain=51099604&tenderCaseNo=1026604961\n",
      "urlparse\thttp://web.pcc.gov.tw/tps/main/pms/tps/atm/atmAwardAction.do?newEdit=false&searchMode=common&method=inquiryForPublic&pkAtmMain=51099604&tenderCaseNo=1026604961\n",
      "string \thttp://web.pcc.gov.tw/tps/main/pms/tps/atm/atmAwardAction.do?newEdit=false&searchMode=common&method=inquiryForPublic&pkAtmMain=51239234&tenderCaseNo=103-02-029\n",
      "urlparse\thttp://web.pcc.gov.tw/tps/main/pms/tps/atm/atmAwardAction.do?newEdit=false&searchMode=common&method=inquiryForPublic&pkAtmMain=51239234&tenderCaseNo=103-02-029\n",
      "string \thttp://web.pcc.gov.tw/tps/main/pms/tps/atm/atmAwardAction.do?newEdit=false&searchMode=common&method=inquiryForPublic&pkAtmMain=51239829&tenderCaseNo=C10300519\n",
      "urlparse\thttp://web.pcc.gov.tw/tps/main/pms/tps/atm/atmAwardAction.do?newEdit=false&searchMode=common&method=inquiryForPublic&pkAtmMain=51239829&tenderCaseNo=C10300519\n",
      "string \thttp://web.pcc.gov.tw/tps/main/pms/tps/atm/atmAwardAction.do?newEdit=false&searchMode=common&method=inquiryForPublic&pkAtmMain=51239995&tenderCaseNo=NL1030479\n",
      "urlparse\thttp://web.pcc.gov.tw/tps/main/pms/tps/atm/atmAwardAction.do?newEdit=false&searchMode=common&method=inquiryForPublic&pkAtmMain=51239995&tenderCaseNo=NL1030479\n",
      "string \thttp://web.pcc.gov.tw/tps/main/pms/tps/atm/atmAwardAction.do?newEdit=false&searchMode=common&method=inquiryForPublic&pkAtmMain=51239281&tenderCaseNo=103-04\n",
      "urlparse\thttp://web.pcc.gov.tw/tps/main/pms/tps/atm/atmAwardAction.do?newEdit=false&searchMode=common&method=inquiryForPublic&pkAtmMain=51239281&tenderCaseNo=103-04\n",
      "string \thttp://web.pcc.gov.tw/tps/main/pms/tps/atm/atmAwardAction.do?newEdit=false&searchMode=common&method=inquiryForPublic&pkAtmMain=51239966&tenderCaseNo=52R-140003\n",
      "urlparse\thttp://web.pcc.gov.tw/tps/main/pms/tps/atm/atmAwardAction.do?newEdit=false&searchMode=common&method=inquiryForPublic&pkAtmMain=51239966&tenderCaseNo=52R-140003\n",
      "string \thttp://web.pcc.gov.tw/tps/main/pms/tps/atm/atmAwardAction.do?newEdit=false&searchMode=common&method=inquiryForPublic&pkAtmMain=51239970&tenderCaseNo=103004\n",
      "urlparse\thttp://web.pcc.gov.tw/tps/main/pms/tps/atm/atmAwardAction.do?newEdit=false&searchMode=common&method=inquiryForPublic&pkAtmMain=51239970&tenderCaseNo=103004\n",
      "string \thttp://web.pcc.gov.tw/tps/main/pms/tps/atm/atmAwardAction.do?newEdit=false&searchMode=common&method=inquiryForPublic&pkAtmMain=51239986&tenderCaseNo=103310\n",
      "urlparse\thttp://web.pcc.gov.tw/tps/main/pms/tps/atm/atmAwardAction.do?newEdit=false&searchMode=common&method=inquiryForPublic&pkAtmMain=51239986&tenderCaseNo=103310\n",
      "string \thttp://web.pcc.gov.tw/tps/main/pms/tps/atm/atmAwardAction.do?newEdit=false&searchMode=common&method=inquiryForPublic&pkAtmMain=51240003&tenderCaseNo=103311\n",
      "urlparse\thttp://web.pcc.gov.tw/tps/main/pms/tps/atm/atmAwardAction.do?newEdit=false&searchMode=common&method=inquiryForPublic&pkAtmMain=51240003&tenderCaseNo=103311\n",
      "string \thttp://web.pcc.gov.tw/tps/main/pms/tps/atm/atmAwardAction.do?newEdit=false&searchMode=common&method=inquiryForPublic&pkAtmMain=51240004&tenderCaseNo=AAC1033001\n",
      "urlparse\thttp://web.pcc.gov.tw/tps/main/pms/tps/atm/atmAwardAction.do?newEdit=false&searchMode=common&method=inquiryForPublic&pkAtmMain=51240004&tenderCaseNo=AAC1033001\n",
      "string \thttp://web.pcc.gov.tw/tps/main/pms/tps/atm/atmAwardAction.do?newEdit=false&searchMode=common&method=inquiryForPublic&pkAtmMain=51240090&tenderCaseNo=1030321A\n",
      "urlparse\thttp://web.pcc.gov.tw/tps/main/pms/tps/atm/atmAwardAction.do?newEdit=false&searchMode=common&method=inquiryForPublic&pkAtmMain=51240090&tenderCaseNo=1030321A\n",
      "string \thttp://web.pcc.gov.tw/tps/main/pms/tps/atm/atmAwardAction.do?newEdit=false&searchMode=common&method=inquiryForPublic&pkAtmMain=51240132&tenderCaseNo=103-21-23\n",
      "urlparse\thttp://web.pcc.gov.tw/tps/main/pms/tps/atm/atmAwardAction.do?newEdit=false&searchMode=common&method=inquiryForPublic&pkAtmMain=51240132&tenderCaseNo=103-21-23\n",
      "string \thttp://web.pcc.gov.tw/tps/main/pms/tps/atm/atmAwardAction.do?newEdit=false&searchMode=common&method=inquiryForPublic&pkAtmMain=51238769&tenderCaseNo=A35014\n",
      "urlparse\thttp://web.pcc.gov.tw/tps/main/pms/tps/atm/atmAwardAction.do?newEdit=false&searchMode=common&method=inquiryForPublic&pkAtmMain=51238769&tenderCaseNo=A35014\n",
      "string \thttp://web.pcc.gov.tw/tps/main/pms/tps/atm/atmAwardAction.do?newEdit=false&searchMode=common&method=inquiryForPublic&pkAtmMain=51239301&tenderCaseNo=EB10319\n",
      "urlparse\thttp://web.pcc.gov.tw/tps/main/pms/tps/atm/atmAwardAction.do?newEdit=false&searchMode=common&method=inquiryForPublic&pkAtmMain=51239301&tenderCaseNo=EB10319\n",
      "string \thttp://web.pcc.gov.tw/tps/main/pms/tps/atm/atmAwardAction.do?newEdit=false&searchMode=common&method=inquiryForPublic&pkAtmMain=51239373&tenderCaseNo=SV-103005\n",
      "urlparse\thttp://web.pcc.gov.tw/tps/main/pms/tps/atm/atmAwardAction.do?newEdit=false&searchMode=common&method=inquiryForPublic&pkAtmMain=51239373&tenderCaseNo=SV-103005\n",
      "string \thttp://web.pcc.gov.tw/tps/main/pms/tps/atm/atmAwardAction.do?newEdit=false&searchMode=common&method=inquiryForPublic&pkAtmMain=51239597&tenderCaseNo=HJ03242P121\n",
      "urlparse\thttp://web.pcc.gov.tw/tps/main/pms/tps/atm/atmAwardAction.do?newEdit=false&searchMode=common&method=inquiryForPublic&pkAtmMain=51239597&tenderCaseNo=HJ03242P121\n",
      "string \thttp://web.pcc.gov.tw/tps/main/pms/tps/atm/atmAwardAction.do?newEdit=false&searchMode=common&method=inquiryForPublic&pkAtmMain=51239663&tenderCaseNo=1030325-1\n",
      "urlparse\thttp://web.pcc.gov.tw/tps/main/pms/tps/atm/atmAwardAction.do?newEdit=false&searchMode=common&method=inquiryForPublic&pkAtmMain=51239663&tenderCaseNo=1030325-1\n",
      "string \thttp://web.pcc.gov.tw/tps/main/pms/tps/atm/atmAwardAction.do?newEdit=false&searchMode=common&method=inquiryForPublic&pkAtmMain=51239727&tenderCaseNo=1030247\n",
      "urlparse\thttp://web.pcc.gov.tw/tps/main/pms/tps/atm/atmAwardAction.do?newEdit=false&searchMode=common&method=inquiryForPublic&pkAtmMain=51239727&tenderCaseNo=1030247\n",
      "string \thttp://web.pcc.gov.tw/tps/main/pms/tps/atm/atmAwardAction.do?newEdit=false&searchMode=common&method=inquiryForPublic&pkAtmMain=51239827&tenderCaseNo=103-0311-1-007\n",
      "urlparse\thttp://web.pcc.gov.tw/tps/main/pms/tps/atm/atmAwardAction.do?newEdit=false&searchMode=common&method=inquiryForPublic&pkAtmMain=51239827&tenderCaseNo=103-0311-1-007\n",
      "string \thttp://web.pcc.gov.tw/tps/main/pms/tps/atm/atmAwardAction.do?newEdit=false&searchMode=common&method=inquiryForPublic&pkAtmMain=51239907&tenderCaseNo=103B0308\n",
      "urlparse\thttp://web.pcc.gov.tw/tps/main/pms/tps/atm/atmAwardAction.do?newEdit=false&searchMode=common&method=inquiryForPublic&pkAtmMain=51239907&tenderCaseNo=103B0308\n",
      "string \thttp://web.pcc.gov.tw/tps/main/pms/tps/atm/atmAwardAction.do?newEdit=false&searchMode=common&method=inquiryForPublic&pkAtmMain=51239958&tenderCaseNo=117103006-1\n",
      "urlparse\thttp://web.pcc.gov.tw/tps/main/pms/tps/atm/atmAwardAction.do?newEdit=false&searchMode=common&method=inquiryForPublic&pkAtmMain=51239958&tenderCaseNo=117103006-1\n",
      "string \thttp://web.pcc.gov.tw/tps/main/pms/tps/atm/atmAwardAction.do?newEdit=false&searchMode=common&method=inquiryForPublic&pkAtmMain=51240009&tenderCaseNo=10302211\n",
      "urlparse\thttp://web.pcc.gov.tw/tps/main/pms/tps/atm/atmAwardAction.do?newEdit=false&searchMode=common&method=inquiryForPublic&pkAtmMain=51240009&tenderCaseNo=10302211\n",
      "string \thttp://web.pcc.gov.tw/tps/main/pms/tps/atm/atmAwardAction.do?newEdit=false&searchMode=common&method=inquiryForPublic&pkAtmMain=51240050&tenderCaseNo=103A17\n",
      "urlparse\thttp://web.pcc.gov.tw/tps/main/pms/tps/atm/atmAwardAction.do?newEdit=false&searchMode=common&method=inquiryForPublic&pkAtmMain=51240050&tenderCaseNo=103A17\n",
      "string \thttp://web.pcc.gov.tw/tps/main/pms/tps/atm/atmAwardAction.do?newEdit=false&searchMode=common&method=inquiryForPublic&pkAtmMain=51240054&tenderCaseNo=D103-0219-1\n",
      "urlparse\thttp://web.pcc.gov.tw/tps/main/pms/tps/atm/atmAwardAction.do?newEdit=false&searchMode=common&method=inquiryForPublic&pkAtmMain=51240054&tenderCaseNo=D103-0219-1\n",
      "string \thttp://web.pcc.gov.tw/tps/main/pms/tps/atm/atmAwardAction.do?newEdit=false&searchMode=common&method=inquiryForPublic&pkAtmMain=51239734&tenderCaseNo=103008\n",
      "urlparse\thttp://web.pcc.gov.tw/tps/main/pms/tps/atm/atmAwardAction.do?newEdit=false&searchMode=common&method=inquiryForPublic&pkAtmMain=51239734&tenderCaseNo=103008\n",
      "string \thttp://web.pcc.gov.tw/tps/main/pms/tps/atm/atmAwardAction.do?newEdit=false&searchMode=common&method=inquiryForPublic&pkAtmMain=51239688&tenderCaseNo=S102026-1\n",
      "urlparse\thttp://web.pcc.gov.tw/tps/main/pms/tps/atm/atmAwardAction.do?newEdit=false&searchMode=common&method=inquiryForPublic&pkAtmMain=51239688&tenderCaseNo=S102026-1\n",
      "string \thttp://web.pcc.gov.tw/tps/main/pms/tps/atm/atmAwardAction.do?newEdit=false&searchMode=common&method=inquiryForPublic&pkAtmMain=51239692&tenderCaseNo=103009\n",
      "urlparse\thttp://web.pcc.gov.tw/tps/main/pms/tps/atm/atmAwardAction.do?newEdit=false&searchMode=common&method=inquiryForPublic&pkAtmMain=51239692&tenderCaseNo=103009\n",
      "string \thttp://web.pcc.gov.tw/tps/main/pms/tps/atm/atmAwardAction.do?newEdit=false&searchMode=common&method=inquiryForPublic&pkAtmMain=51239388&tenderCaseNo=BAA0384001\n",
      "urlparse\thttp://web.pcc.gov.tw/tps/main/pms/tps/atm/atmAwardAction.do?newEdit=false&searchMode=common&method=inquiryForPublic&pkAtmMain=51239388&tenderCaseNo=BAA0384001\n",
      "string \thttp://web.pcc.gov.tw/tps/main/pms/tps/atm/atmAwardAction.do?newEdit=false&searchMode=common&method=inquiryForPublic&pkAtmMain=51239844&tenderCaseNo=F103-44\n",
      "urlparse\thttp://web.pcc.gov.tw/tps/main/pms/tps/atm/atmAwardAction.do?newEdit=false&searchMode=common&method=inquiryForPublic&pkAtmMain=51239844&tenderCaseNo=F103-44\n",
      "string \thttp://web.pcc.gov.tw/tps/main/pms/tps/atm/atmAwardAction.do?newEdit=false&searchMode=common&method=inquiryForPublic&pkAtmMain=51239914&tenderCaseNo=HST10312\n",
      "urlparse\thttp://web.pcc.gov.tw/tps/main/pms/tps/atm/atmAwardAction.do?newEdit=false&searchMode=common&method=inquiryForPublic&pkAtmMain=51239914&tenderCaseNo=HST10312\n",
      "string \thttp://web.pcc.gov.tw/tps/main/pms/tps/atm/atmAwardAction.do?newEdit=false&searchMode=common&method=inquiryForPublic&pkAtmMain=51239650&tenderCaseNo=102108-1\n",
      "urlparse\thttp://web.pcc.gov.tw/tps/main/pms/tps/atm/atmAwardAction.do?newEdit=false&searchMode=common&method=inquiryForPublic&pkAtmMain=51239650&tenderCaseNo=102108-1\n",
      "string \thttp://web.pcc.gov.tw/tps/main/pms/tps/atm/atmAwardAction.do?newEdit=false&searchMode=common&method=inquiryForPublic&pkAtmMain=51239723&tenderCaseNo=1030055\n",
      "urlparse\thttp://web.pcc.gov.tw/tps/main/pms/tps/atm/atmAwardAction.do?newEdit=false&searchMode=common&method=inquiryForPublic&pkAtmMain=51239723&tenderCaseNo=1030055\n",
      "string \thttp://web.pcc.gov.tw/tps/main/pms/tps/atm/atmAwardAction.do?newEdit=false&searchMode=common&method=inquiryForPublic&pkAtmMain=51239215&tenderCaseNo=002-103-3-3-02\n",
      "urlparse\thttp://web.pcc.gov.tw/tps/main/pms/tps/atm/atmAwardAction.do?newEdit=false&searchMode=common&method=inquiryForPublic&pkAtmMain=51239215&tenderCaseNo=002-103-3-3-02\n",
      "string \thttp://web.pcc.gov.tw/tps/main/pms/tps/atm/atmAwardAction.do?newEdit=false&searchMode=common&method=inquiryForPublic&pkAtmMain=51239554&tenderCaseNo=FD03007P005\n",
      "urlparse\thttp://web.pcc.gov.tw/tps/main/pms/tps/atm/atmAwardAction.do?newEdit=false&searchMode=common&method=inquiryForPublic&pkAtmMain=51239554&tenderCaseNo=FD03007P005\n",
      "string \thttp://web.pcc.gov.tw/tps/main/pms/tps/atm/atmAwardAction.do?newEdit=false&searchMode=common&method=inquiryForPublic&pkAtmMain=51240146&tenderCaseNo=103TFDA-N-001\n",
      "urlparse\thttp://web.pcc.gov.tw/tps/main/pms/tps/atm/atmAwardAction.do?newEdit=false&searchMode=common&method=inquiryForPublic&pkAtmMain=51240146&tenderCaseNo=103TFDA-N-001\n",
      "string \thttp://web.pcc.gov.tw/tps/main/pms/tps/atm/atmAwardAction.do?newEdit=false&searchMode=common&method=inquiryForPublic&pkAtmMain=51239509&tenderCaseNo=A103000002\n",
      "urlparse\thttp://web.pcc.gov.tw/tps/main/pms/tps/atm/atmAwardAction.do?newEdit=false&searchMode=common&method=inquiryForPublic&pkAtmMain=51239509&tenderCaseNo=A103000002\n",
      "string \thttp://web.pcc.gov.tw/tps/main/pms/tps/atm/atmAwardAction.do?newEdit=false&searchMode=common&method=inquiryForPublic&pkAtmMain=51239566&tenderCaseNo=103-0052616\n",
      "urlparse\thttp://web.pcc.gov.tw/tps/main/pms/tps/atm/atmAwardAction.do?newEdit=false&searchMode=common&method=inquiryForPublic&pkAtmMain=51239566&tenderCaseNo=103-0052616\n",
      "string \thttp://web.pcc.gov.tw/tps/main/pms/tps/atm/atmAwardAction.do?newEdit=false&searchMode=common&method=inquiryForPublic&pkAtmMain=51239709&tenderCaseNo=103-03-27\n",
      "urlparse\thttp://web.pcc.gov.tw/tps/main/pms/tps/atm/atmAwardAction.do?newEdit=false&searchMode=common&method=inquiryForPublic&pkAtmMain=51239709&tenderCaseNo=103-03-27\n",
      "string \thttp://web.pcc.gov.tw/tps/main/pms/tps/atm/atmAwardAction.do?newEdit=false&searchMode=common&method=inquiryForPublic&pkAtmMain=51239839&tenderCaseNo=10303A\n",
      "urlparse\thttp://web.pcc.gov.tw/tps/main/pms/tps/atm/atmAwardAction.do?newEdit=false&searchMode=common&method=inquiryForPublic&pkAtmMain=51239839&tenderCaseNo=10303A\n",
      "string \thttp://web.pcc.gov.tw/tps/main/pms/tps/atm/atmAwardAction.do?newEdit=false&searchMode=common&method=inquiryForPublic&pkAtmMain=51239930&tenderCaseNo=1030428\n",
      "urlparse\thttp://web.pcc.gov.tw/tps/main/pms/tps/atm/atmAwardAction.do?newEdit=false&searchMode=common&method=inquiryForPublic&pkAtmMain=51239930&tenderCaseNo=1030428\n",
      "string \thttp://web.pcc.gov.tw/tps/main/pms/tps/atm/atmAwardAction.do?newEdit=false&searchMode=common&method=inquiryForPublic&pkAtmMain=51240016&tenderCaseNo=103traffic012\n",
      "urlparse\thttp://web.pcc.gov.tw/tps/main/pms/tps/atm/atmAwardAction.do?newEdit=false&searchMode=common&method=inquiryForPublic&pkAtmMain=51240016&tenderCaseNo=103traffic012\n",
      "string \thttp://web.pcc.gov.tw/tps/main/pms/tps/atm/atmAwardAction.do?newEdit=false&searchMode=common&method=inquiryForPublic&pkAtmMain=51239717&tenderCaseNo=XU03E29P092\n",
      "urlparse\thttp://web.pcc.gov.tw/tps/main/pms/tps/atm/atmAwardAction.do?newEdit=false&searchMode=common&method=inquiryForPublic&pkAtmMain=51239717&tenderCaseNo=XU03E29P092\n",
      "string \thttp://web.pcc.gov.tw/tps/main/pms/tps/atm/atmAwardAction.do?newEdit=false&searchMode=common&method=inquiryForPublic&pkAtmMain=51239884&tenderCaseNo=103005\n",
      "urlparse\thttp://web.pcc.gov.tw/tps/main/pms/tps/atm/atmAwardAction.do?newEdit=false&searchMode=common&method=inquiryForPublic&pkAtmMain=51239884&tenderCaseNo=103005\n",
      "string \thttp://web.pcc.gov.tw/tps/main/pms/tps/atm/atmAwardAction.do?newEdit=false&searchMode=common&method=inquiryForPublic&pkAtmMain=51170299&tenderCaseNo=L1331021201\n",
      "urlparse\thttp://web.pcc.gov.tw/tps/main/pms/tps/atm/atmAwardAction.do?newEdit=false&searchMode=common&method=inquiryForPublic&pkAtmMain=51170299&tenderCaseNo=L1331021201\n",
      "string \thttp://web.pcc.gov.tw/tps/main/pms/tps/atm/atmAwardAction.do?newEdit=false&searchMode=common&method=inquiryForPublic&pkAtmMain=51239664&tenderCaseNo=M03I6247\n",
      "urlparse\thttp://web.pcc.gov.tw/tps/main/pms/tps/atm/atmAwardAction.do?newEdit=false&searchMode=common&method=inquiryForPublic&pkAtmMain=51239664&tenderCaseNo=M03I6247\n",
      "string \thttp://web.pcc.gov.tw/tps/main/pms/tps/atm/atmAwardAction.do?newEdit=false&searchMode=common&method=inquiryForPublic&pkAtmMain=51239654&tenderCaseNo=B103167\n",
      "urlparse\thttp://web.pcc.gov.tw/tps/main/pms/tps/atm/atmAwardAction.do?newEdit=false&searchMode=common&method=inquiryForPublic&pkAtmMain=51239654&tenderCaseNo=B103167\n",
      "string \thttp://web.pcc.gov.tw/tps/main/pms/tps/atm/atmAwardAction.do?newEdit=false&searchMode=common&method=inquiryForPublic&pkAtmMain=51239662&tenderCaseNo=B103169\n",
      "urlparse\thttp://web.pcc.gov.tw/tps/main/pms/tps/atm/atmAwardAction.do?newEdit=false&searchMode=common&method=inquiryForPublic&pkAtmMain=51239662&tenderCaseNo=B103169\n",
      "string \thttp://web.pcc.gov.tw/tps/main/pms/tps/atm/atmAwardAction.do?newEdit=false&searchMode=common&method=inquiryForPublic&pkAtmMain=51239883&tenderCaseNo=1021011C\n",
      "urlparse\thttp://web.pcc.gov.tw/tps/main/pms/tps/atm/atmAwardAction.do?newEdit=false&searchMode=common&method=inquiryForPublic&pkAtmMain=51239883&tenderCaseNo=1021011C\n",
      "string \thttp://web.pcc.gov.tw/tps/main/pms/tps/atm/atmAwardAction.do?newEdit=false&searchMode=common&method=inquiryForPublic&pkAtmMain=51239683&tenderCaseNo=1030326AA\n",
      "urlparse\thttp://web.pcc.gov.tw/tps/main/pms/tps/atm/atmAwardAction.do?newEdit=false&searchMode=common&method=inquiryForPublic&pkAtmMain=51239683&tenderCaseNo=1030326AA\n",
      "string \thttp://web.pcc.gov.tw/tps/main/pms/tps/atm/atmAwardAction.do?newEdit=false&searchMode=common&method=inquiryForPublic&pkAtmMain=51239853&tenderCaseNo=10307\n",
      "urlparse\thttp://web.pcc.gov.tw/tps/main/pms/tps/atm/atmAwardAction.do?newEdit=false&searchMode=common&method=inquiryForPublic&pkAtmMain=51239853&tenderCaseNo=10307\n",
      "string \thttp://web.pcc.gov.tw/tps/main/pms/tps/atm/atmAwardAction.do?newEdit=false&searchMode=common&method=inquiryForPublic&pkAtmMain=51239940&tenderCaseNo=103B0403\n",
      "urlparse\thttp://web.pcc.gov.tw/tps/main/pms/tps/atm/atmAwardAction.do?newEdit=false&searchMode=common&method=inquiryForPublic&pkAtmMain=51239940&tenderCaseNo=103B0403\n",
      "string \thttp://web.pcc.gov.tw/tps/main/pms/tps/atm/atmAwardAction.do?newEdit=false&searchMode=common&method=inquiryForPublic&pkAtmMain=51239946&tenderCaseNo=10308\n",
      "urlparse\thttp://web.pcc.gov.tw/tps/main/pms/tps/atm/atmAwardAction.do?newEdit=false&searchMode=common&method=inquiryForPublic&pkAtmMain=51239946&tenderCaseNo=10308\n",
      "string \thttp://web.pcc.gov.tw/tps/main/pms/tps/atm/atmAwardAction.do?newEdit=false&searchMode=common&method=inquiryForPublic&pkAtmMain=51240019&tenderCaseNo=103W009\n",
      "urlparse\thttp://web.pcc.gov.tw/tps/main/pms/tps/atm/atmAwardAction.do?newEdit=false&searchMode=common&method=inquiryForPublic&pkAtmMain=51240019&tenderCaseNo=103W009\n",
      "string \thttp://web.pcc.gov.tw/tps/main/pms/tps/atm/atmAwardAction.do?newEdit=false&searchMode=common&method=inquiryForPublic&pkAtmMain=51240072&tenderCaseNo=B961\n",
      "urlparse\thttp://web.pcc.gov.tw/tps/main/pms/tps/atm/atmAwardAction.do?newEdit=false&searchMode=common&method=inquiryForPublic&pkAtmMain=51240072&tenderCaseNo=B961\n",
      "string \thttp://web.pcc.gov.tw/tps/main/pms/tps/atm/atmAwardAction.do?newEdit=false&searchMode=common&method=inquiryForPublic&pkAtmMain=51239395&tenderCaseNo=1030324\n",
      "urlparse\thttp://web.pcc.gov.tw/tps/main/pms/tps/atm/atmAwardAction.do?newEdit=false&searchMode=common&method=inquiryForPublic&pkAtmMain=51239395&tenderCaseNo=1030324\n",
      "string \thttp://web.pcc.gov.tw/tps/main/pms/tps/atm/atmAwardAction.do?newEdit=false&searchMode=common&method=inquiryForPublic&pkAtmMain=51239412&tenderCaseNo=103036\n",
      "urlparse\thttp://web.pcc.gov.tw/tps/main/pms/tps/atm/atmAwardAction.do?newEdit=false&searchMode=common&method=inquiryForPublic&pkAtmMain=51239412&tenderCaseNo=103036\n"
     ]
    }
   ],
   "source": [
    "import urlparse\n",
    "for bid_row in bid_rows:\n",
    "    links = bid_row.select('a')[0]['href']\n",
    "    print 'string \\t' + 'http://web.pcc.gov.tw/tps' + links[2:] \n",
    "    link_href = urlparse.urljoin(\"http://web.pcc.gov.tw/tps/pss/tender.do?searchMode=common&searchType=advance\", links)\n",
    "    print \"urlparse\\t\" + link_href\n",
    "    #links = [tag['href'] for tag in bid_row.select('a')] "
   ]
  },
  {
   "cell_type": "code",
   "execution_count": 51,
   "metadata": {
    "collapsed": true
   },
   "outputs": [],
   "source": [
    "bid_file = open(\"bid_list.txt\", 'w') \n",
    "page_format = \"http://web.pcc.gov.tw/tps/pss/tender.do?searchMode=common&searchType=advance&searchTarget=ATM&method=search&isSpdt=&pageIndex=%d\" \n",
    "for page in range(1, page_number + 1): \n",
    "    bid_list = rs.get(page_format%(page)) \n",
    "    bid_response = bid_list.text\n",
    "    bid_soup = BeautifulSoup(bid_response) \n",
    "    bid_table = bid_soup.select(\"#print_area\")[0]\n",
    "    bid_rows = bid_table.select('tr')[1:-1] \n",
    "    for bid_row in bid_rows:         \n",
    "        link = bid_row.select('a')[0]['href'] \n",
    "        link_href = 'http://web.pcc.gov.tw/tps' + link[2:] \n",
    "        bid_file.write(link_href + \"\\n\") \n",
    "bid_file.close() \n"
   ]
  },
  {
   "cell_type": "code",
   "execution_count": 52,
   "metadata": {
    "collapsed": false
   },
   "outputs": [
    {
     "name": "stdout",
     "output_type": "stream",
     "text": [
      "264\n"
     ]
    }
   ],
   "source": [
    "line_num = 0 \n",
    "f = open(\"bid_list.txt\", \"r\") \n",
    "for line in f.readlines(): \n",
    "    line_num = line_num + 1 \n",
    "print line_num \n",
    "f.close() "
   ]
  },
  {
   "cell_type": "code",
   "execution_count": 53,
   "metadata": {
    "collapsed": false
   },
   "outputs": [
    {
     "name": "stdout",
     "output_type": "stream",
     "text": [
      "264\n"
     ]
    }
   ],
   "source": [
    "print len([line for line in open('bid_list.txt')])"
   ]
  },
  {
   "cell_type": "code",
   "execution_count": 61,
   "metadata": {
    "collapsed": false
   },
   "outputs": [
    {
     "name": "stdout",
     "output_type": "stream",
     "text": [
      "264\n"
     ]
    }
   ],
   "source": [
    "page_url = \"http://web.pcc.gov.tw/tps/pss/tender.do?searchMode=common&searchType=advance&searchTarget=ATM&method=search&isSpdt=&pageIndex=1\" \n",
    "res = rs.get(page_url)\n",
    "soup = BeautifulSoup(res.text) \n",
    "#print  soup.select(\".T11b\")[0]\n",
    "rec_number_element = soup.select(\".T11b\")[0].text\n",
    "rec_number = int(rec_number_element)\n",
    "print rec_number"
   ]
  },
  {
   "cell_type": "code",
   "execution_count": 62,
   "metadata": {
    "collapsed": false
   },
   "outputs": [
    {
     "name": "stdout",
     "output_type": "stream",
     "text": [
      "264\n",
      "record number on web page is equal to number of lines in file\n"
     ]
    }
   ],
   "source": [
    "line_num = 0 \n",
    "f = open(\"bid_list.txt\", \"r\") \n",
    "for line in f.readlines(): \n",
    "    line_num = line_num + 1 \n",
    "print line_num \n",
    "f.close() \n",
    "\n",
    "#使用if 判斷\n",
    "if rec_number == line_num: \n",
    "    print \"record number on web page is equal to number of lines in file\" \n"
   ]
  },
  {
   "cell_type": "code",
   "execution_count": 63,
   "metadata": {
    "collapsed": true
   },
   "outputs": [],
   "source": [
    "assert rec_number == line_num"
   ]
  },
  {
   "cell_type": "code",
   "execution_count": 64,
   "metadata": {
    "collapsed": false
   },
   "outputs": [
    {
     "ename": "AssertionError",
     "evalue": "",
     "output_type": "error",
     "traceback": [
      "\u001b[1;31m---------------------------------------------------------------------------\u001b[0m",
      "\u001b[1;31mAssertionError\u001b[0m                            Traceback (most recent call last)",
      "\u001b[1;32m<ipython-input-64-602c09d1bd07>\u001b[0m in \u001b[0;36m<module>\u001b[1;34m()\u001b[0m\n\u001b[1;32m----> 1\u001b[1;33m \u001b[1;32massert\u001b[0m \u001b[1;36m1\u001b[0m \u001b[1;33m!=\u001b[0m \u001b[1;36m1\u001b[0m\u001b[1;33m\u001b[0m\u001b[0m\n\u001b[0m",
      "\u001b[1;31mAssertionError\u001b[0m: "
     ]
    }
   ],
   "source": [
    "assert 1 != 1"
   ]
  },
  {
   "cell_type": "code",
   "execution_count": 67,
   "metadata": {
    "collapsed": false
   },
   "outputs": [
    {
     "name": "stdout",
     "output_type": "stream",
     "text": [
      "error: \n"
     ]
    }
   ],
   "source": [
    "try:\n",
    "    assert 1 != 1\n",
    "except AssertionError as ae:\n",
    "    print \"error:\", ae"
   ]
  },
  {
   "cell_type": "code",
   "execution_count": 72,
   "metadata": {
    "collapsed": false
   },
   "outputs": [],
   "source": [
    "import requests\n",
    "from bs4 import BeautifulSoup\n",
    "res = requests.get('http://web.pcc.gov.tw/tps/main/pms/tps/atm/atmAwardAction.do?newEdit=false&searchMode=common&method=inquiryForPublic&pkAtmMain=51239371&tenderCaseNo=4197')\n",
    "soup = BeautifulSoup(res.text)\n",
    "#print soup.select('#printArea')[0]"
   ]
  },
  {
   "cell_type": "code",
   "execution_count": 79,
   "metadata": {
    "collapsed": false
   },
   "outputs": [],
   "source": [
    "import requests\n",
    "from bs4 import BeautifulSoup\n",
    "f = open('bid_detail.txt', 'w')\n",
    "res = requests.get('http://web.pcc.gov.tw/tps/main/pms/tps/atm/atmAwardAction.do?newEdit=false&searchMode=common&method=inquiryForPublic&pkAtmMain=51239371&tenderCaseNo=4197')\n",
    "soup = BeautifulSoup(res.text)\n",
    "#print type(soup.select('#printArea')[0].prettify('utf-8'))\n",
    "f.write(soup.select('#printArea')[0].prettify('utf-8'))\n",
    "f.close()"
   ]
  },
  {
   "cell_type": "code",
   "execution_count": 85,
   "metadata": {
    "collapsed": false
   },
   "outputs": [
    {
     "name": "stdout",
     "output_type": "stream",
     "text": [
      "1030401 http://web.pcc.gov.tw/tps/main/pms/tps/atm/atmAwardAction.do?newEdit=false&searchMode=common&method=inquiryForPublic&pkAtmMain=51239526&tenderCaseNo=1030401\n",
      "10302 http://web.pcc.gov.tw/tps/main/pms/tps/atm/atmAwardAction.do?newEdit=false&searchMode=common&method=inquiryForPublic&pkAtmMain=51239201&tenderCaseNo=10302\n",
      "10302 http://web.pcc.gov.tw/tps/main/pms/tps/atm/atmAwardAction.do?newEdit=false&searchMode=common&method=inquiryForPublic&pkAtmMain=51240026&tenderCaseNo=10302\n",
      "103003 http://web.pcc.gov.tw/tps/main/pms/tps/atm/atmAwardAction.do?newEdit=false&searchMode=common&method=inquiryForPublic&pkAtmMain=51240096&tenderCaseNo=103003\n",
      "1030415 http://web.pcc.gov.tw/tps/main/pms/tps/atm/atmAwardAction.do?newEdit=false&searchMode=common&method=inquiryForPublic&pkAtmMain=51239351&tenderCaseNo=1030415\n"
     ]
    }
   ],
   "source": [
    "case_dic = {} \n",
    "f = open(\"bid_list.txt\", \"r\") \n",
    "for line in f.readlines(): \n",
    "    rec = line.strip() \n",
    "    #print rec.split('tenderCaseNo=')[1]\n",
    "    caseno = rec.split('tenderCaseNo=')[1] \n",
    "    if caseno not in case_dic: \n",
    "        case_dic[caseno] = 1 \n",
    "    else: \n",
    "        print caseno,  rec\n",
    "f.close()\n"
   ]
  },
  {
   "cell_type": "code",
   "execution_count": 91,
   "metadata": {
    "collapsed": false
   },
   "outputs": [
    {
     "name": "stdout",
     "output_type": "stream",
     "text": [
      "51239291 0607L1030328\n",
      "51239291_0607L1030328.txt\n"
     ]
    }
   ],
   "source": [
    "# 如何從url 取得這兩個值?\n",
    "link = \"http://web.pcc.gov.tw/tps/main/pms/tps/atm/atmAwardAction.do?newEdit=false&searchMode=common&method=inquiryForPublic&pkAtmMain=51239291&tenderCaseNo=0607L1030328\" \n",
    "\n",
    "# 使用split \n",
    "rear_substring = link.split(\"pkAtmMain=\")[1] \n",
    "param = rear_substring.split(\"&tenderCaseNo=\") \n",
    "pkAtmMain= param[0] \n",
    "caseno= param[1] \n",
    "print pkAtmMain,caseno \n",
    "print \"%s_%s.txt\"%(pkAtmMain,caseno )\n",
    "\n"
   ]
  },
  {
   "cell_type": "code",
   "execution_count": 98,
   "metadata": {
    "collapsed": false
   },
   "outputs": [],
   "source": [
    "# -*- coding: utf-8 -*- \n",
    "from bs4 import BeautifulSoup \n",
    "import re, requests \n",
    "\n",
    "def getFileName(link):\n",
    "    rear_substring = link.split(\"pkAtmMain=\")[1] \n",
    "    param = rear_substring.split(\"&tenderCaseNo=\") \n",
    "    pkAtmMain= param[0] \n",
    "    caseno= param[1]\n",
    "    return \"%s_%s.txt\"%(pkAtmMain, caseno)\n",
    "\n",
    "bid_list = open('bid_list.txt', 'r') \n",
    "for line in bid_list.readlines(): \n",
    "    pagelink = line.strip()\n",
    "    filename = getFileName(pagelink)\n",
    "    response = requests.get(pagelink).text\n",
    "    soup = BeautifulSoup(response)\n",
    "    printarea = soup.select('#printArea')[0] \n",
    "    \n",
    "    bid_detail = open('gov/'+filename, 'w')\n",
    "    bid_detail.write(printarea.prettify('utf-8'))\n",
    "    bid_detail.close()\n",
    "    \n",
    "bid_list.close()\n"
   ]
  },
  {
   "cell_type": "code",
   "execution_count": 99,
   "metadata": {
    "collapsed": true
   },
   "outputs": [],
   "source": []
  },
  {
   "cell_type": "code",
   "execution_count": null,
   "metadata": {
    "collapsed": true
   },
   "outputs": [],
   "source": [
    "# -*- coding: utf-8 -*- \n",
    "from bs4 import BeautifulSoup \n",
    "import re, requests \n",
    "import time \n",
    "\n",
    "\n",
    "def getFileName(link):\n",
    "    rear_substring = link.split(\"pkAtmMain=\")[1] \n",
    "    param = rear_substring.split(\"&tenderCaseNo=\") \n",
    "    pkAtmMain= param[0] \n",
    "    caseno= param[1]\n",
    "    return \"%s_%s.txt\"%(pkAtmMain, caseno)\n",
    "\n",
    "bid_list = open('bid_list.txt', 'r') \n",
    "for line in bid_list.readlines(): \n",
    "    pagelink = line.strip()\n",
    "    filename = getFileName(pagelink)\n",
    "    response = requests.get(pagelink).text\n",
    "    soup = BeautifulSoup(response)\n",
    "    printarea = soup.select('#printArea')[0] \n",
    "    \n",
    "    bid_detail = open('gov/'+filename, 'w')\n",
    "    bid_detail.write(printarea.prettify('utf-8'))\n",
    "    bid_detail.close()\n",
    "    time.sleep(1)\n",
    "    \n",
    "bid_list.close()\n"
   ]
  },
  {
   "cell_type": "markdown",
   "metadata": {},
   "source": [
    "#solution:\n",
    "- https://www.torproject.org/   \n",
    "- http://devco.re/blog/2014/06/19/client-ip-detection/\n",
    "- proxy server: http://www.squid-cache.org/ "
   ]
  },
  {
   "cell_type": "code",
   "execution_count": null,
   "metadata": {
    "collapsed": true
   },
   "outputs": [],
   "source": [
    "import requests\n",
    "\n",
    "proxies = {\n",
    "  \"http\": \"http://10.10.1.10:3128\",\n",
    "  \"https\": \"http://10.10.1.10:1080\",\n",
    "}\n",
    "\n",
    "requests.get(\"http://example.org\", proxies=proxies)"
   ]
  },
  {
   "cell_type": "markdown",
   "metadata": {},
   "source": [
    "# accelerate\n",
    "- grequests\n",
    "- http://www.microsoft.com/en-us/download/details.aspx?id=44266\n",
    "- pip install grequests \n"
   ]
  },
  {
   "cell_type": "code",
   "execution_count": null,
   "metadata": {
    "collapsed": true
   },
   "outputs": [],
   "source": [
    "# -*- coding: utf-8 -*- \n",
    "from bs4 import BeautifulSoup\n",
    "import re, requests\n",
    "import time\n",
    "import grequests\n",
    "\n",
    "def getFileName(link):\n",
    "    rear_substring = link.split(\"pkAtmMain=\")[1]\n",
    "    param = rear_substring.split(\"&tenderCaseNo=\")\n",
    "    pkAtmMain= param[0]\n",
    "    caseno= param[1]\n",
    "    return \"%s_%s.txt\"%(pkAtmMain, caseno)\n",
    "\n",
    "bid_list = open('bid_list.txt', 'r')\n",
    "linkurl = []\n",
    "for line in bid_list.readlines():\n",
    "    pagelink = line.strip()\n",
    "    linkurl.append(pagelink)\n",
    "bid_list.close()\n",
    "#    filename = getFileName(pagelink)\n",
    "rs = (grequests.get(u) for u in linkurl)\n",
    "for response in grequests.map(rs):\n",
    "    soup = BeautifulSoup(response.text)\n",
    "    filename = getFileName(response.url)\n",
    "    printarea = soup.select('#printArea')[0]\n",
    "    bid_detail = open('gov2/'+filename, 'w')\n",
    "    bid_detail.write(printarea.prettify('utf-8'))\n",
    "    bid_detail.close()"
   ]
  },
  {
   "cell_type": "code",
   "execution_count": 104,
   "metadata": {
    "collapsed": false
   },
   "outputs": [
    {
     "name": "stdout",
     "output_type": "stream",
     "text": [
      "group1: david\n",
      "group2: largitdata.com\n"
     ]
    }
   ],
   "source": [
    "import re\n",
    "email = 'david@largitdata.com'\n",
    "m = re.match('([\\w]+)@([\\w\\.]+)', email) # use () to identify group\n",
    "print \"group1:\",m.group(1)\n",
    "print \"group2:\",m.group(2)\n"
   ]
  },
  {
   "cell_type": "code",
   "execution_count": 106,
   "metadata": {
    "collapsed": false
   },
   "outputs": [
    {
     "name": "stdout",
     "output_type": "stream",
     "text": [
      "david\n",
      "largitdata.com\n"
     ]
    }
   ],
   "source": [
    "m2 = re.match(\"(?P<username>\\w+)@(?P<domain>[\\w\\.]+)\" , email) # use \"name\" to identify group\n",
    "print m2.group('username')\n",
    "print m2.group('domain')"
   ]
  },
  {
   "cell_type": "code",
   "execution_count": 107,
   "metadata": {
    "collapsed": false
   },
   "outputs": [
    {
     "name": "stdout",
     "output_type": "stream",
     "text": [
      "1999\n",
      "5\n"
     ]
    }
   ],
   "source": [
    "m = re.match(r\"(\\d+)\\.(\\d+)\", \"1999.5\") \n",
    "print m.group(1)\n",
    "print m.group(2)\n"
   ]
  },
  {
   "cell_type": "code",
   "execution_count": 108,
   "metadata": {
    "collapsed": false
   },
   "outputs": [
    {
     "name": "stdout",
     "output_type": "stream",
     "text": [
      "David Chiu\n"
     ]
    }
   ],
   "source": [
    "m = re.match(r\"(?P<first_name>\\w+) (?P<last_name>\\w+)\", \"David Chiu\") \n",
    "print m.group('first_name'), m.group('last_name')\n",
    " \n"
   ]
  },
  {
   "cell_type": "code",
   "execution_count": 109,
   "metadata": {
    "collapsed": false
   },
   "outputs": [
    {
     "name": "stdout",
     "output_type": "stream",
     "text": [
      "file.txt root 10.0.0.1 ./\n"
     ]
    }
   ],
   "source": [
    "str1 = 'scp file.txt root@10.0.0.1:./' \n",
    "m=re.search('^scp ([\\w\\.]+) (\\w+)@([\\w\\.]+):(.+)',str1) \n",
    "if m: \n",
    "    print m.group(1), m.group(2), m.group(3), m.group(4)\n",
    "\n"
   ]
  },
  {
   "cell_type": "code",
   "execution_count": 115,
   "metadata": {
    "collapsed": false
   },
   "outputs": [
    {
     "name": "stdout",
     "output_type": "stream",
     "text": [
      "('0912318023901839013',)\n"
     ]
    }
   ],
   "source": [
    "a = '0912345678'\n",
    "b = '0912-345678'\n",
    "c = '0912-345-678'\n",
    "d = '0912318023901839013'\n",
    "\n",
    "m  =  re.match('(\\d+)', a)\n",
    "m2 =  re.match('(\\d+)', b)\n",
    "m3 =  re.match('(\\d+)', c)\n",
    "m4 =  re.match('(\\d+)', d)\n",
    "print m4.groups()"
   ]
  },
  {
   "cell_type": "code",
   "execution_count": 133,
   "metadata": {
    "collapsed": false
   },
   "outputs": [
    {
     "ename": "AttributeError",
     "evalue": "'NoneType' object has no attribute 'groups'",
     "output_type": "error",
     "traceback": [
      "\u001b[1;31m---------------------------------------------------------------------------\u001b[0m",
      "\u001b[1;31mAttributeError\u001b[0m                            Traceback (most recent call last)",
      "\u001b[1;32m<ipython-input-133-ab2d64862cec>\u001b[0m in \u001b[0;36m<module>\u001b[1;34m()\u001b[0m\n\u001b[0;32m      5\u001b[0m \u001b[1;33m\u001b[0m\u001b[0m\n\u001b[0;32m      6\u001b[0m \u001b[0mm\u001b[0m  \u001b[1;33m=\u001b[0m  \u001b[0mre\u001b[0m\u001b[1;33m.\u001b[0m\u001b[0mmatch\u001b[0m\u001b[1;33m(\u001b[0m\u001b[1;34m'^(\\d{4}-?\\d{3}-?\\d{3})$'\u001b[0m\u001b[1;33m,\u001b[0m \u001b[0md\u001b[0m\u001b[1;33m)\u001b[0m\u001b[1;33m\u001b[0m\u001b[0m\n\u001b[1;32m----> 7\u001b[1;33m \u001b[1;32mprint\u001b[0m \u001b[0mm\u001b[0m\u001b[1;33m.\u001b[0m\u001b[0mgroups\u001b[0m\u001b[1;33m(\u001b[0m\u001b[1;33m)\u001b[0m\u001b[1;33m\u001b[0m\u001b[0m\n\u001b[0m",
      "\u001b[1;31mAttributeError\u001b[0m: 'NoneType' object has no attribute 'groups'"
     ]
    }
   ],
   "source": [
    "a = '0912345678'\n",
    "b = '0912-345678'\n",
    "c = '0912-345-678'\n",
    "d = '0912318023901839013'\n",
    "\n",
    "m  =  re.match('^(\\d{4}-?\\d{3}-?\\d{3})$', d)\n",
    "print m.groups()"
   ]
  },
  {
   "cell_type": "code",
   "execution_count": 163,
   "metadata": {
    "collapsed": false
   },
   "outputs": [
    {
     "name": "stdout",
     "output_type": "stream",
     "text": [
      "[[Date.UTC(2015,5,04,09,00,00), 40.15, 0, 40.15,40.15],[Date.UTC(2015,5,04,09,00,05), 40.00, 149, , ],[Date.UTC(2015,5,04,09,00,11), 40.00, 21, 40.00, 40.05],[Date.UTC(2015,5,04,09,00,16), 40.00, 8, 40.00, 40.05],[Date.UTC(2015,5,04,09,00,21), 39.95, 32, 40.00, 40.05],[Date.UTC(2015,5,04,09,00,26), 39.95, 10, 39.95, 40.00],[Date.UTC(2015,5,04,09,00,31), 39.90, 6, 39.90, 39.95],[Date.UTC(2015,5,04,09,00,36), 39.90, 2, 39.90, 39.95],[Date.UTC(2015,5,04,09,01,32), 39.95, 3, 39.90, 39.95],[Date.UTC(2015,5,04,09,01,38), 39.90, 2, 39.90, 39.95],[Date.UTC(2015,5,04,09,01,43), 39.95, 1, 39.90, 39.95],[Date.UTC(2015,5,04,09,01,48), 39.95, 1, 39.90, 39.95],[Date.UTC(2015,5,04,09,01,58), 39.90, 13, 39.90, 39.95],[Date.UTC(2015,5,04,09,02,03), 39.90, 8, 39.90, 39.95],[Date.UTC(2015,5,04,09,02,08), 39.95, 17, 39.90, 39.95],[Date.UTC(2015,5,04,09,02,14), 39.90, 10, 39.90, 39.95],[Date.UTC(2015,5,04,09,02,19), 39.95, 7, 39.90, 39.95],[Date.UTC(2015,5,04,09,02,24), 39.90, 4, 39.90, 39.95],[Date.UTC(2015,5,04,09,02,29), 39.90, 9, 39.90, 39.95],[Date.UTC(2015,5,04,09,02,34), 39.95, 3, 39.90, 39.95],[Date.UTC(2015,5,04,09,02,39), 39.90, 1, 39.90, 39.95],[Date.UTC(2015,5,04,09,02,54), 39.90, 4, 39.90, 39.95],[Date.UTC(2015,5,04,09,03,00), 39.90, 6, 39.90, 39.95],[Date.UTC(2015,5,04,09,03,05), 39.95, 9, 39.90, 39.95],[Date.UTC(2015,5,04,09,03,10), 39.95, 1, 39.90, 39.95],[Date.UTC(2015,5,04,09,03,15), 39.95, 2, 39.90, 39.95],[Date.UTC(2015,5,04,09,03,20), 39.90, 1, 39.90, 39.95],[Date.UTC(2015,5,04,09,03,25), 39.95, 4, 39.90, 39.95],[Date.UTC(2015,5,04,09,03,30), 39.90, 6, 39.90, 39.95],[Date.UTC(2015,5,04,09,03,35), 39.90, 3, 39.90, 39.95],[Date.UTC(2015,5,04,09,03,41), 39.90, 2, 39.90, 39.95],[Date.UTC(2015,5,04,09,03,46), 39.95, 2, 39.90, 39.95],[Date.UTC(2015,5,04,09,03,51), 39.95, 5, 39.90, 39.95],[Date.UTC(2015,5,04,09,03,56), 39.90, 2, 39.90, 39.95],[Date.UTC(2015,5,04,09,04,01), 39.95, 1, 39.90, 39.95],[Date.UTC(2015,5,04,09,04,06), 39.95, 1, 39.90, 39.95],[Date.UTC(2015,5,04,09,04,17), 39.95, 1, 39.90, 39.95],[Date.UTC(2015,5,04,09,04,22), 39.90, 5, 39.90, 39.95],[Date.UTC(2015,5,04,09,04,27), 39.90, 8, 39.90, 39.95],[Date.UTC(2015,5,04,09,04,32), 39.90, 2, 39.90, 39.95],[Date.UTC(2015,5,04,09,04,37), 39.90, 2, 39.90, 39.95],[Date.UTC(2015,5,04,09,04,42), 39.90, 10, 39.90, 39.95],[Date.UTC(2015,5,04,09,04,47), 39.90, 3, 39.90, 39.95],[Date.UTC(2015,5,04,09,04,52), 39.90, 7, 39.90, 39.95],[Date.UTC(2015,5,04,09,04,58), 39.90, 21, 39.90, 39.95],[Date.UTC(2015,5,04,09,05,03), 39.85, 4, 39.85, 39.90],[Date.UTC(2015,5,04,09,05,08), 39.85, 3, 39.85, 39.90],[Date.UTC(2015,5,04,09,05,13), 39.85, 2, 39.85, 39.90],[Date.UTC(2015,5,04,09,05,18), 39.85, 12, 39.85, 39.90],[Date.UTC(2015,5,04,09,05,23), 39.85, 2, 39.85, 39.90],[Date.UTC(2015,5,04,09,05,28), 39.85, 8, 39.85, 39.90],[Date.UTC(2015,5,04,09,05,33), 39.85, 1, 39.85, 39.90],[Date.UTC(2015,5,04,09,05,39), 39.85, 9, 39.80, 39.90],[Date.UTC(2015,5,04,09,05,44), 39.85, 1, 39.80, 39.85],[Date.UTC(2015,5,04,09,05,49), 39.85, 2, 39.80, 39.85],[Date.UTC(2015,5,04,09,05,59), 39.85, 1, 39.80, 39.85],[Date.UTC(2015,5,04,09,06,15), 39.85, 1, 39.80, 39.85],[Date.UTC(2015,5,04,09,06,20), 39.85, 2, 39.80, 39.85],[Date.UTC(2015,5,04,09,06,30), 39.85, 1, 39.80, 39.85],[Date.UTC(2015,5,04,09,06,51), 39.85, 6, 39.80, 39.85],[Date.UTC(2015,5,04,09,06,56), 39.80, 8, 39.80, 39.85],[Date.UTC(2015,5,04,09,07,01), 39.80, 3, 39.80, 39.85],[Date.UTC(2015,5,04,09,07,06), 39.85, 3, 39.80, 39.85],[Date.UTC(2015,5,04,09,07,31), 39.85, 1, 39.80, 39.85],[Date.UTC(2015,5,04,09,07,42), 39.85, 1, 39.80, 39.85],[Date.UTC(2015,5,04,09,07,47), 39.80, 10, 39.80, 39.85],[Date.UTC(2015,5,04,09,08,02), 39.85, 1, 39.80, 39.85],[Date.UTC(2015,5,04,09,08,12), 39.85, 4, 39.80, 39.85],[Date.UTC(2015,5,04,09,08,18), 39.85, 1, 39.80, 39.85],[Date.UTC(2015,5,04,09,08,23), 39.85, 2, 39.80, 39.85],[Date.UTC(2015,5,04,09,08,54), 39.80, 8, 39.80, 39.85],[Date.UTC(2015,5,04,09,08,59), 39.85, 4, 39.80, 39.85],[Date.UTC(2015,5,04,09,09,04), 39.80, 1, 39.80, 39.85],[Date.UTC(2015,5,04,09,09,45), 39.80, 1, 39.80, 39.85],[Date.UTC(2015,5,04,09,09,50), 39.80, 2, 39.80, 39.85],[Date.UTC(2015,5,04,09,09,55), 39.80, 12, 39.80, 39.85],[Date.UTC(2015,5,04,09,10,00), 39.80, 10, 39.80, 39.85],[Date.UTC(2015,5,04,09,10,06), 39.85, 3, 39.80, 39.90],[Date.UTC(2015,5,04,09,10,16), 39.85, 4, 39.80, 39.85],[Date.UTC(2015,5,04,09,10,21), 39.85, 1, 39.80, 39.85],[Date.UTC(2015,5,04,09,10,26), 39.90, 5, 39.80, 39.85],[Date.UTC(2015,5,04,09,10,31), 39.90, 1, 39.80, 39.90],[Date.UTC(2015,5,04,09,10,57), 39.85, 1, 39.80, 39.85],[Date.UTC(2015,5,04,09,11,02), 39.85, 1, 39.80, 39.85],[Date.UTC(2015,5,04,09,11,07), 39.85, 5, 39.80, 39.85],[Date.UTC(2015,5,04,09,11,12), 39.85, 8, 39.80, 39.85],[Date.UTC(2015,5,04,09,11,17), 39.85, 8, 39.85, 39.90],[Date.UTC(2015,5,04,09,11,22), 39.90, 1, 39.85, 39.90],[Date.UTC(2015,5,04,09,11,48), 39.90, 1, 39.85, 39.90],[Date.UTC(2015,5,04,09,12,09), 39.90, 1, 39.85, 39.90],[Date.UTC(2015,5,04,09,12,14), 39.90, 1, 39.85, 39.90],[Date.UTC(2015,5,04,09,12,55), 39.85, 10, 39.85, 39.90],[Date.UTC(2015,5,04,09,13,00), 39.90, 2, 39.85, 39.90],[Date.UTC(2015,5,04,09,13,20), 39.90, 5, 39.85, 39.90],[Date.UTC(2015,5,04,09,13,51), 39.90, 3, 39.85, 39.90],[Date.UTC(2015,5,04,09,13,56), 39.85, 10, 39.85, 39.90],[Date.UTC(2015,5,04,09,14,01), 39.85, 13, 39.85, 39.90],[Date.UTC(2015,5,04,09,14,07), 39.85, 1, 39.85, 39.90],[Date.UTC(2015,5,04,09,14,32), 39.90, 1, 39.85, 39.90],[Date.UTC(2015,5,04,09,14,43), 39.90, 2, 39.85, 39.90],[Date.UTC(2015,5,04,09,14,53), 39.90, 2, 39.85, 39.90],[Date.UTC(2015,5,04,09,14,58), 39.90, 1, 39.85, 39.90],[Date.UTC(2015,5,04,09,15,08), 39.85, 12, 39.85, 39.90],[Date.UTC(2015,5,04,09,15,13), 39.85, 1, 39.85, 39.90],[Date.UTC(2015,5,04,09,15,44), 39.90, 8, 39.85, 39.90],[Date.UTC(2015,5,04,09,15,49), 39.85, 12, 39.85, 39.90],[Date.UTC(2015,5,04,09,15,54), 39.85, 1, 39.85, 39.90],[Date.UTC(2015,5,04,09,16,15), 39.85, 2, 39.85, 39.90],[Date.UTC(2015,5,04,09,16,35), 39.90, 1, 39.85, 39.90],[Date.UTC(2015,5,04,09,17,01), 39.90, 1, 39.85, 39.90],[Date.UTC(2015,5,04,09,17,11), 39.90, 3, 39.85, 39.90],[Date.UTC(2015,5,04,09,17,17), 39.85, 6, 39.85, 39.90],[Date.UTC(2015,5,04,09,18,44), 39.90, 3, 39.85, 39.90],[Date.UTC(2015,5,04,09,19,04), 39.90, 3, 39.85, 39.90],[Date.UTC(2015,5,04,09,19,10), 39.85, 1, 39.85, 39.90],[Date.UTC(2015,5,04,09,19,15), 39.90, 1, 39.85, 39.90],[Date.UTC(2015,5,04,09,19,20), 39.90, 2, 39.85, 39.90],[Date.UTC(2015,5,04,09,19,30), 39.90, 3, 39.85, 39.90],[Date.UTC(2015,5,04,09,19,35), 39.85, 6, 39.85, 39.90],[Date.UTC(2015,5,04,09,19,40), 39.85, 7, 39.85, 39.90],[Date.UTC(2015,5,04,09,19,45), 39.85, 14, 39.85, 39.90],[Date.UTC(2015,5,04,09,19,51), 39.85, 21, 39.85, 39.90],[Date.UTC(2015,5,04,09,19,56), 39.85, 7, 39.85, 39.90],[Date.UTC(2015,5,04,09,20,01), 39.85, 2, 39.85, 39.90],[Date.UTC(2015,5,04,09,20,06), 39.80, 1, 39.80, 39.85],[Date.UTC(2015,5,04,09,20,16), 39.85, 5, 39.80, 39.85],[Date.UTC(2015,5,04,09,20,21), 39.80, 6, 39.80, 39.85],[Date.UTC(2015,5,04,09,20,27), 39.85, 1, 39.80, 39.85],[Date.UTC(2015,5,04,09,20,42), 39.85, 5, 39.80, 39.85],[Date.UTC(2015,5,04,09,20,47), 39.80, 1, 39.80, 39.85],[Date.UTC(2015,5,04,09,20,52), 39.85, 6, 39.80, 39.85],[Date.UTC(2015,5,04,09,20,57), 39.80, 14, 39.80, 39.85],[Date.UTC(2015,5,04,09,21,02), 39.80, 2, 39.80, 39.85],[Date.UTC(2015,5,04,09,21,08), 39.85, 1, 39.80, 39.85],[Date.UTC(2015,5,04,09,21,18), 39.85, 1, 39.80, 39.85],[Date.UTC(2015,5,04,09,21,28), 39.85, 2, 39.80, 39.85],[Date.UTC(2015,5,04,09,21,38), 39.85, 1, 39.80, 39.85],[Date.UTC(2015,5,04,09,21,49), 39.85, 20, 39.80, 39.85],[Date.UTC(2015,5,04,09,21,54), 39.85, 10, 39.85, 39.90],[Date.UTC(2015,5,04,09,21,59), 39.90, 15, 39.85, 39.90],[Date.UTC(2015,5,04,09,22,04), 39.85, 1, 39.85, 39.90],[Date.UTC(2015,5,04,09,22,14), 39.85, 6, 39.85, 39.90],[Date.UTC(2015,5,04,09,22,45), 39.90, 40, 39.85, 39.90],[Date.UTC(2015,5,04,09,22,50), 39.85, 19, 39.85, 39.90],[Date.UTC(2015,5,04,09,23,15), 39.90, 2, 39.85, 39.90],[Date.UTC(2015,5,04,09,23,36), 39.90, 1, 39.85, 39.90],[Date.UTC(2015,5,04,09,23,41), 39.90, 3, 39.85, 39.90],[Date.UTC(2015,5,04,09,23,46), 39.95, 22, 39.90, 39.95],[Date.UTC(2015,5,04,09,23,51), 39.90, 2, 39.90, 39.95],[Date.UTC(2015,5,04,09,23,56), 39.90, 1, 39.90, 39.95],[Date.UTC(2015,5,04,09,24,43), 39.95, 3, 39.90, 39.95],[Date.UTC(2015,5,04,09,24,48), 39.90, 1, 39.90, 39.95],[Date.UTC(2015,5,04,09,24,53), 39.90, 1, 39.90, 39.95],[Date.UTC(2015,5,04,09,25,08), 39.90, 25, 39.90, 39.95],[Date.UTC(2015,5,04,09,25,13), 39.90, 1, 39.85, 39.90],[Date.UTC(2015,5,04,09,25,19), 39.85, 6, 39.85, 39.90],[Date.UTC(2015,5,04,09,25,24), 39.90, 2, 39.85, 39.90],[Date.UTC(2015,5,04,09,25,29), 39.85, 3, 39.85, 39.90],[Date.UTC(2015,5,04,09,25,34), 39.90, 3, 39.85, 39.90],[Date.UTC(2015,5,04,09,25,39), 39.90, 1, 39.85, 39.90],[Date.UTC(2015,5,04,09,25,44), 39.90, 1, 39.85, 39.90],[Date.UTC(2015,5,04,09,25,54), 39.90, 1, 39.85, 39.90],[Date.UTC(2015,5,04,09,26,00), 39.90, 2, 39.85, 39.90],[Date.UTC(2015,5,04,09,26,10), 39.90, 10, 39.85, 39.90],[Date.UTC(2015,5,04,09,26,15), 39.85, 19, 39.85, 39.90],[Date.UTC(2015,5,04,09,26,25), 39.90, 1, 39.85, 39.90],[Date.UTC(2015,5,04,09,26,31), 39.90, 9, 39.85, 39.90],[Date.UTC(2015,5,04,09,26,36), 39.90, 2, 39.85, 39.90],[Date.UTC(2015,5,04,09,26,41), 39.90, 1, 39.85, 39.90],[Date.UTC(2015,5,04,09,26,51), 39.95, 8, 39.90, 39.95],[Date.UTC(2015,5,04,09,26,56), 39.90, 3, 39.90, 39.95],[Date.UTC(2015,5,04,09,27,01), 39.90, 1, 39.90, 39.95],[Date.UTC(2015,5,04,09,27,06), 39.90, 20, 39.90, 39.95],[Date.UTC(2015,5,04,09,27,12), 39.90, 5, 39.85, 39.90],[Date.UTC(2015,5,04,09,27,17), 39.90, 4, 39.85, 39.90],[Date.UTC(2015,5,04,09,27,32), 39.90, 1, 39.85, 39.90],[Date.UTC(2015,5,04,09,27,42), 39.90, 1, 39.85, 39.90],[Date.UTC(2015,5,04,09,27,58), 39.90, 1, 39.85, 39.90],[Date.UTC(2015,5,04,09,28,03), 39.90, 3, 39.85, 39.90],[Date.UTC(2015,5,04,09,28,08), 39.90, 2, 39.85, 39.90],[Date.UTC(2015,5,04,09,28,13), 39.90, 1, 39.85, 39.90],[Date.UTC(2015,5,04,09,28,18), 39.85, 6, 39.85, 39.90],[Date.UTC(2015,5,04,09,28,23), 39.85, 18, 39.85, 39.90],[Date.UTC(2015,5,04,09,28,34), 39.90, 2, 39.85, 39.90],[Date.UTC(2015,5,04,09,28,49), 39.90, 20, 39.85, 39.90],[Date.UTC(2015,5,04,09,28,59), 39.90, 1, 39.85, 39.90],[Date.UTC(2015,5,04,09,29,04), 39.90, 2, 39.85, 39.90],[Date.UTC(2015,5,04,09,29,20), 39.90, 4, 39.85, 39.90],[Date.UTC(2015,5,04,09,29,30), 39.90, 1, 39.85, 39.90],[Date.UTC(2015,5,04,09,29,35), 39.90, 1, 39.85, 39.90],[Date.UTC(2015,5,04,09,29,51), 39.90, 1, 39.85, 39.90],[Date.UTC(2015,5,04,09,30,06), 39.90, 8, 39.85, 39.90],[Date.UTC(2015,5,04,09,30,21), 39.90, 3, 39.85, 39.90],[Date.UTC(2015,5,04,09,30,26), 39.90, 8, 39.85, 39.90],[Date.UTC(2015,5,04,09,30,52), 39.90, 2, 39.85, 39.90],[Date.UTC(2015,5,04,09,31,13), 39.90, 10, 39.85, 39.90],[Date.UTC(2015,5,04,09,31,18), 39.85, 6, 39.85, 39.90],[Date.UTC(2015,5,04,09,31,28), 39.90, 1, 39.85, 39.90],[Date.UTC(2015,5,04,09,31,43), 39.90, 1, 39.85, 39.90],[Date.UTC(2015,5,04,09,31,54), 39.90, 2, 39.85, 39.90],[Date.UTC(2015,5,04,09,32,09), 39.90, 2, 39.85, 39.90],[Date.UTC(2015,5,04,09,32,19), 39.90, 1, 39.85, 39.90],[Date.UTC(2015,5,04,09,32,35), 39.90, 2, 39.85, 39.90],[Date.UTC(2015,5,04,09,32,50), 39.90, 1, 39.85, 39.90],[Date.UTC(2015,5,04,09,32,55), 39.90, 1, 39.85, 39.90],[Date.UTC(2015,5,04,09,33,05), 39.90, 2, 39.85, 39.90],[Date.UTC(2015,5,04,09,33,46), 39.90, 5, 39.85, 39.90],[Date.UTC(2015,5,04,09,33,51), 39.90, 5, 39.85, 39.90],[Date.UTC(2015,5,04,09,34,07), 39.90, 1, 39.85, 39.90],[Date.UTC(2015,5,04,09,34,12), 39.85, 6, 39.85, 39.90],[Date.UTC(2015,5,04,09,34,17), 39.85, 1, 39.85, 39.90],[Date.UTC(2015,5,04,09,34,22), 39.90, 2, 39.85, 39.90],[Date.UTC(2015,5,04,09,34,38), 39.90, 1, 39.85, 39.90],[Date.UTC(2015,5,04,09,34,53), 39.85, 1, 39.85, 39.90],[Date.UTC(2015,5,04,09,35,03), 39.85, 1, 39.85, 39.90],[Date.UTC(2015,5,04,09,35,39), 39.90, 2, 39.85, 39.90],[Date.UTC(2015,5,04,09,36,05), 39.90, 1, 39.85, 39.90],[Date.UTC(2015,5,04,09,36,10), 39.90, 2, 39.85, 39.90],[Date.UTC(2015,5,04,09,36,20), 39.85, 2, 39.85, 39.90],[Date.UTC(2015,5,04,09,36,25), 39.90, 2, 39.85, 39.90],[Date.UTC(2015,5,04,09,36,30), 39.90, 3, 39.85, 39.90],[Date.UTC(2015,5,04,09,36,35), 39.90, 3, 39.85, 39.90],[Date.UTC(2015,5,04,09,36,41), 39.90, 2, 39.85, 39.90],[Date.UTC(2015,5,04,09,37,11), 39.90, 2, 39.85, 39.90],[Date.UTC(2015,5,04,09,37,17), 39.85, 6, 39.85, 39.90],[Date.UTC(2015,5,04,09,37,27), 39.90, 2, 39.85, 39.90],[Date.UTC(2015,5,04,09,37,42), 39.90, 3, 39.85, 39.90],[Date.UTC(2015,5,04,09,37,58), 39.90, 2, 39.85, 39.90],[Date.UTC(2015,5,04,09,38,13), 39.85, 1, 39.85, 39.90],[Date.UTC(2015,5,04,09,38,18), 39.85, 1, 39.85, 39.90],[Date.UTC(2015,5,04,09,38,44), 39.85, 1, 39.85, 39.90],[Date.UTC(2015,5,04,09,38,49), 39.90, 9, 39.85, 39.90],[Date.UTC(2015,5,04,09,38,54), 39.85, 1, 39.85, 39.90],[Date.UTC(2015,5,04,09,38,59), 39.90, 1, 39.85, 39.90],[Date.UTC(2015,5,04,09,39,15), 39.90, 2, 39.85, 39.90],[Date.UTC(2015,5,04,09,39,25), 39.90, 5, 39.85, 39.90],[Date.UTC(2015,5,04,09,39,40), 39.90, 2, 39.85, 39.90],[Date.UTC(2015,5,04,09,39,45), 39.90, 1, 39.85, 39.90],[Date.UTC(2015,5,04,09,40,16), 39.85, 6, 39.85, 39.90],[Date.UTC(2015,5,04,09,40,47), 39.90, 2, 39.85, 39.90],[Date.UTC(2015,5,04,09,40,52), 39.90, 2, 39.85, 39.90],[Date.UTC(2015,5,04,09,40,57), 39.90, 2, 39.85, 39.90],[Date.UTC(2015,5,04,09,41,07), 39.90, 11, 39.85, 39.90],[Date.UTC(2015,5,04,09,41,13), 39.90, 4, 39.85, 39.90],[Date.UTC(2015,5,04,09,41,18), 39.85, 22, 39.85, 39.90],[Date.UTC(2015,5,04,09,41,28), 39.90, 3, 39.85, 39.90],[Date.UTC(2015,5,04,09,41,33), 39.85, 1, 39.85, 39.90],[Date.UTC(2015,5,04,09,41,43), 39.90, 2, 39.85, 39.90],[Date.UTC(2015,5,04,09,41,59), 39.90, 1, 39.85, 39.90],[Date.UTC(2015,5,04,09,42,04), 39.85, 1, 39.85, 39.90],[Date.UTC(2015,5,04,09,42,09), 39.85, 8, 39.85, 39.90],[Date.UTC(2015,5,04,09,42,14), 39.85, 7, 39.85, 39.90],[Date.UTC(2015,5,04,09,42,19), 39.85, 4, 39.85, 39.90],[Date.UTC(2015,5,04,09,42,35), 39.90, 5, 39.85, 39.90],[Date.UTC(2015,5,04,09,42,45), 39.90, 3, 39.85, 39.90],[Date.UTC(2015,5,04,09,42,50), 39.85, 1, 39.85, 39.90],[Date.UTC(2015,5,04,09,43,16), 39.90, 2, 39.85, 39.90],[Date.UTC(2015,5,04,09,43,31), 39.90, 2, 39.85, 39.90],[Date.UTC(2015,5,04,09,43,36), 39.90, 2, 39.85, 39.90],[Date.UTC(2015,5,04,09,43,41), 39.90, 1, 39.85, 39.90],[Date.UTC(2015,5,04,09,43,46), 39.90, 1, 39.85, 39.90],[Date.UTC(2015,5,04,09,43,52), 39.90, 2, 39.85, 39.90],[Date.UTC(2015,5,04,09,44,02), 39.85, 1, 39.85, 39.90],[Date.UTC(2015,5,04,09,44,07), 39.90, 9, 39.85, 39.90],[Date.UTC(2015,5,04,09,44,17), 39.90, 1, 39.85, 39.90],[Date.UTC(2015,5,04,09,44,27), 39.90, 1, 39.85, 39.90],[Date.UTC(2015,5,04,09,44,33), 39.90, 2, 39.85, 39.90],[Date.UTC(2015,5,04,09,44,38), 39.90, 1, 39.85, 39.90],[Date.UTC(2015,5,04,09,45,03), 39.90, 2, 39.85, 39.90],[Date.UTC(2015,5,04,09,45,14), 39.85, 6, 39.85, 39.90],[Date.UTC(2015,5,04,09,45,19), 39.85, 4, 39.85, 39.90],[Date.UTC(2015,5,04,09,45,44), 39.90, 8, 39.85, 39.90],[Date.UTC(2015,5,04,09,45,55), 39.85, 7, 39.85, 39.90],[Date.UTC(2015,5,04,09,46,05), 39.85, 4, 39.85, 39.90],[Date.UTC(2015,5,04,09,46,15), 39.90, 2, 39.85, 39.90],[Date.UTC(2015,5,04,09,46,21), 39.90, 2, 39.85, 39.90],[Date.UTC(2015,5,04,09,46,26), 39.85, 1, 39.85, 39.90],[Date.UTC(2015,5,04,09,46,46), 39.90, 2, 39.85, 39.90],[Date.UTC(2015,5,04,09,46,51), 39.90, 2, 39.85, 39.90],[Date.UTC(2015,5,04,09,47,01), 39.90, 6, 39.85, 39.90],[Date.UTC(2015,5,04,09,47,22), 39.90, 2, 39.85, 39.90],[Date.UTC(2015,5,04,09,47,37), 39.90, 2, 39.85, 39.90],[Date.UTC(2015,5,04,09,47,48), 39.90, 1, 39.85, 39.90],[Date.UTC(2015,5,04,09,48,08), 39.90, 2, 39.85, 39.90],[Date.UTC(2015,5,04,09,48,24), 39.85, 6, 39.85, 39.90],[Date.UTC(2015,5,04,09,48,34), 39.90, 2, 39.85, 39.90],[Date.UTC(2015,5,04,09,48,54), 39.90, 10, 39.85, 39.90],[Date.UTC(2015,5,04,09,49,00), 39.85, 1, 39.85, 39.90],[Date.UTC(2015,5,04,09,49,15), 39.90, 1, 39.85, 39.90],[Date.UTC(2015,5,04,09,49,20), 39.85, 1, 39.85, 39.90],[Date.UTC(2015,5,04,09,49,30), 39.90, 1, 39.85, 39.90],[Date.UTC(2015,5,04,09,49,51), 39.90, 5, 39.85, 39.90],[Date.UTC(2015,5,04,09,49,56), 39.90, 2, 39.85, 39.90],[Date.UTC(2015,5,04,09,50,22), 39.90, 4, 39.85, 39.90],[Date.UTC(2015,5,04,09,51,03), 39.90, 1, 39.85, 39.90],[Date.UTC(2015,5,04,09,51,08), 39.90, 1, 39.85, 39.90],[Date.UTC(2015,5,04,09,51,13), 39.85, 6, 39.85, 39.90],[Date.UTC(2015,5,04,09,51,39), 39.90, 2, 39.85, 39.90],[Date.UTC(2015,5,04,09,51,49), 39.90, 1, 39.85, 39.90],[Date.UTC(2015,5,04,09,52,04), 39.90, 2, 39.85, 39.90],[Date.UTC(2015,5,04,09,52,25), 39.90, 3, 39.85, 39.90],[Date.UTC(2015,5,04,09,53,11), 39.85, 1, 39.85, 39.90],[Date.UTC(2015,5,04,09,53,26), 39.90, 2, 39.85, 39.90],[Date.UTC(2015,5,04,09,53,52), 39.90, 2, 39.85, 39.90],[Date.UTC(2015,5,04,09,54,18), 39.85, 6, 39.85, 39.90],[Date.UTC(2015,5,04,09,54,23), 39.90, 1, 39.85, 39.90],[Date.UTC(2015,5,04,09,54,28), 39.90, 1, 39.85, 39.90],[Date.UTC(2015,5,04,09,54,33), 39.85, 1, 39.85, 39.90],[Date.UTC(2015,5,04,09,54,48), 39.85, 6, 39.85, 39.90],[Date.UTC(2015,5,04,09,55,04), 39.85, 1, 39.85, 39.90],[Date.UTC(2015,5,04,09,55,14), 39.90, 3, 39.85, 39.90],[Date.UTC(2015,5,04,09,55,19), 39.85, 1, 39.85, 39.90],[Date.UTC(2015,5,04,09,55,30), 39.85, 11, 39.85, 39.90],[Date.UTC(2015,5,04,09,55,35), 39.85, 1, 39.85, 39.90],[Date.UTC(2015,5,04,09,55,40), 39.90, 2, 39.85, 39.90],[Date.UTC(2015,5,04,09,56,06), 39.85, 1, 39.85, 39.90],[Date.UTC(2015,5,04,09,56,47), 39.90, 2, 39.85, 39.90],[Date.UTC(2015,5,04,09,56,52), 39.85, 1, 39.85, 39.90],[Date.UTC(2015,5,04,09,56,57), 39.85, 24, 39.85, 39.90],[Date.UTC(2015,5,04,09,57,02), 39.85, 2, 39.85, 39.90],[Date.UTC(2015,5,04,09,57,07), 39.85, 1, 39.85, 39.90],[Date.UTC(2015,5,04,09,57,12), 39.85, 6, 39.85, 39.90],[Date.UTC(2015,5,04,09,57,28), 39.90, 2, 39.85, 39.90],[Date.UTC(2015,5,04,09,57,43), 39.90, 4, 39.85, 39.90],[Date.UTC(2015,5,04,09,57,48), 39.85, 1, 39.85, 39.90],[Date.UTC(2015,5,04,09,58,24), 39.85, 1, 39.85, 39.90],[Date.UTC(2015,5,04,09,58,40), 39.90, 60, 39.85, 39.90],[Date.UTC(2015,5,04,09,58,45), 39.90, 25, 39.85, 39.90],[Date.UTC(2015,5,04,09,58,50), 39.90, 5, 39.85, 39.90],[Date.UTC(2015,5,04,09,58,55), 39.90, 3, 39.85, 39.90],[Date.UTC(2015,5,04,09,59,10), 39.90, 3, 39.85, 39.90],[Date.UTC(2015,5,04,09,59,21), 39.90, 1, 39.85, 39.90],[Date.UTC(2015,5,04,09,59,26), 39.90, 2, 39.85, 39.90],[Date.UTC(2015,5,04,09,59,36), 39.90, 51, 39.85, 39.90],[Date.UTC(2015,5,04,09,59,41), 39.90, 7, 39.85, 39.90],[Date.UTC(2015,5,04,10,00,07), 39.90, 2, 39.85, 39.90],[Date.UTC(2015,5,04,10,00,12), 39.90, 1, 39.85, 39.90],[Date.UTC(2015,5,04,10,00,17), 39.90, 11, 39.85, 39.90],[Date.UTC(2015,5,04,10,00,22), 39.85, 1, 39.85, 39.90],[Date.UTC(2015,5,04,10,00,27), 39.90, 2, 39.85, 39.90],[Date.UTC(2015,5,04,10,00,32), 39.90, 2, 39.85, 39.90],[Date.UTC(2015,5,04,10,00,38), 39.90, 1, 39.85, 39.90],[Date.UTC(2015,5,04,10,00,58), 39.90, 3, 39.85, 39.90],[Date.UTC(2015,5,04,10,01,03), 39.90, 1, 39.85, 39.90],[Date.UTC(2015,5,04,10,01,13), 39.85, 1, 39.85, 39.90],[Date.UTC(2015,5,04,10,01,44), 39.90, 1, 39.85, 39.90],[Date.UTC(2015,5,04,10,02,00), 39.90, 2, 39.85, 39.90],[Date.UTC(2015,5,04,10,02,10), 39.90, 1, 39.85, 39.90],[Date.UTC(2015,5,04,10,02,15), 39.90, 1, 39.85, 39.90],[Date.UTC(2015,5,04,10,02,20), 39.90, 7, 39.85, 39.90],[Date.UTC(2015,5,04,10,02,30), 39.90, 4, 39.85, 39.90],[Date.UTC(2015,5,04,10,02,35), 39.90, 1, 39.85, 39.90],[Date.UTC(2015,5,04,10,02,46), 39.90, 2, 39.85, 39.90],[Date.UTC(2015,5,04,10,03,06), 39.90, 2, 39.85, 39.90],[Date.UTC(2015,5,04,10,03,22), 39.85, 6, 39.85, 39.90],[Date.UTC(2015,5,04,10,03,27), 39.85, 1, 39.85, 39.90],[Date.UTC(2015,5,04,10,03,47), 39.85, 4, 39.85, 39.90],[Date.UTC(2015,5,04,10,03,52), 39.85, 29, 39.85, 39.90],[Date.UTC(2015,5,04,10,03,57), 39.85, 3, 39.85, 39.90],[Date.UTC(2015,5,04,10,04,08), 39.90, 2, 39.85, 39.90],[Date.UTC(2015,5,04,10,04,28), 39.90, 2, 39.85, 39.90],[Date.UTC(2015,5,04,10,04,33), 39.90, 2, 39.85, 39.90],[Date.UTC(2015,5,04,10,04,38), 39.90, 2, 39.85, 39.90],[Date.UTC(2015,5,04,10,05,20), 39.85, 6, 39.85, 39.90],[Date.UTC(2015,5,04,10,05,25), 39.85, 1, 39.85, 39.90],[Date.UTC(2015,5,04,10,05,50), 39.90, 2, 39.85, 39.90],[Date.UTC(2015,5,04,10,06,01), 39.85, 1, 39.85, 39.90],[Date.UTC(2015,5,04,10,06,16), 39.90, 2, 39.85, 39.90],[Date.UTC(2015,5,04,10,07,02), 39.90, 2, 39.85, 39.90],[Date.UTC(2015,5,04,10,07,07), 39.90, 1, 39.85, 39.90],[Date.UTC(2015,5,04,10,07,18), 39.90, 8, 39.85, 39.90],[Date.UTC(2015,5,04,10,07,23), 39.90, 6, 39.85, 39.90],[Date.UTC(2015,5,04,10,07,28), 39.90, 1, 39.85, 39.90],[Date.UTC(2015,5,04,10,07,38), 39.90, 2, 39.85, 39.90],[Date.UTC(2015,5,04,10,07,53), 39.90, 1, 39.85, 39.90],[Date.UTC(2015,5,04,10,08,04), 39.90, 2, 39.85, 39.90],[Date.UTC(2015,5,04,10,08,09), 39.90, 1, 39.85, 39.90],[Date.UTC(2015,5,04,10,08,14), 39.85, 6, 39.85, 39.90],[Date.UTC(2015,5,04,10,08,19), 39.85, 1, 39.85, 39.90],[Date.UTC(2015,5,04,10,08,24), 39.90, 8, 39.85, 39.90],[Date.UTC(2015,5,04,10,08,29), 39.90, 2, 39.85, 39.90],[Date.UTC(2015,5,04,10,08,50), 39.90, 1, 39.85, 39.90],[Date.UTC(2015,5,04,10,09,26), 39.90, 2, 39.85, 39.90],[Date.UTC(2015,5,04,10,09,51), 39.90, 2, 39.85, 39.90],[Date.UTC(2015,5,04,10,10,48), 39.90, 2, 39.85, 39.90],[Date.UTC(2015,5,04,10,10,58), 39.90, 1, 39.85, 39.90],[Date.UTC(2015,5,04,10,11,03), 39.90, 2, 39.85, 39.90],[Date.UTC(2015,5,04,10,11,08), 39.90, 1, 39.85, 39.90],[Date.UTC(2015,5,04,10,11,13), 39.85, 7, 39.85, 39.90],[Date.UTC(2015,5,04,10,11,19), 39.85, 1, 39.85, 39.90],[Date.UTC(2015,5,04,10,11,39), 39.90, 2, 39.85, 39.90],[Date.UTC(2015,5,04,10,11,44), 39.90, 3, 39.85, 39.90],[Date.UTC(2015,5,04,10,12,05), 39.85, 1, 39.85, 39.90],[Date.UTC(2015,5,04,10,12,10), 39.90, 3, 39.85, 39.90],[Date.UTC(2015,5,04,10,12,30), 39.90, 5, 39.85, 39.90],[Date.UTC(2015,5,04,10,13,01), 39.90, 2, 39.85, 39.90],[Date.UTC(2015,5,04,10,13,06), 39.90, 1, 39.85, 39.90],[Date.UTC(2015,5,04,10,13,11), 39.85, 1, 39.85, 39.90],[Date.UTC(2015,5,04,10,13,22), 39.90, 2, 39.85, 39.90],[Date.UTC(2015,5,04,10,13,27), 39.90, 7, 39.85, 39.90],[Date.UTC(2015,5,04,10,14,08), 39.90, 10, 39.85, 39.90],[Date.UTC(2015,5,04,10,14,13), 39.85, 6, 39.85, 39.90],[Date.UTC(2015,5,04,10,14,43), 39.90, 2, 39.85, 39.90],[Date.UTC(2015,5,04,10,14,59), 39.85, 10, 39.85, 39.90],[Date.UTC(2015,5,04,10,15,04), 39.90, 1, 39.85, 39.90],[Date.UTC(2015,5,04,10,15,09), 39.90, 7, 39.85, 39.90],[Date.UTC(2015,5,04,10,15,14), 39.85, 1, 39.85, 39.90],[Date.UTC(2015,5,04,10,15,55), 39.90, 1, 39.85, 39.90],[Date.UTC(2015,5,04,10,16,16), 39.85, 1, 39.85, 39.90],[Date.UTC(2015,5,04,10,16,26), 39.85, 1, 39.85, 39.90],[Date.UTC(2015,5,04,10,16,31), 39.90, 2, 39.85, 39.90],[Date.UTC(2015,5,04,10,16,47), 39.90, 1, 39.85, 39.90],[Date.UTC(2015,5,04,10,16,52), 39.90, 1, 39.85, 39.90],[Date.UTC(2015,5,04,10,16,57), 39.90, 2, 39.85, 39.90],[Date.UTC(2015,5,04,10,17,02), 39.90, 4, 39.85, 39.90],[Date.UTC(2015,5,04,10,17,07), 39.90, 1, 39.85, 39.90],[Date.UTC(2015,5,04,10,17,17), 39.85, 6, 39.85, 39.90],[Date.UTC(2015,5,04,10,17,28), 39.90, 37, 39.85, 39.90],[Date.UTC(2015,5,04,10,17,33), 39.90, 6, 39.85, 39.90],[Date.UTC(2015,5,04,10,17,48), 39.90, 3, 39.85, 39.90],[Date.UTC(2015,5,04,10,17,53), 39.90, 1, 39.85, 39.90],[Date.UTC(2015,5,04,10,18,19), 39.90, 2, 39.85, 39.90],[Date.UTC(2015,5,04,10,18,24), 39.90, 2, 39.85, 39.90],[Date.UTC(2015,5,04,10,18,45), 39.90, 2, 39.85, 39.90],[Date.UTC(2015,5,04,10,18,50), 39.90, 1, 39.85, 39.90],[Date.UTC(2015,5,04,10,19,00), 39.85, 1, 39.85, 39.90],[Date.UTC(2015,5,04,10,19,41), 39.90, 1, 39.85, 39.90],[Date.UTC(2015,5,04,10,20,07), 39.90, 2, 39.85, 39.90],[Date.UTC(2015,5,04,10,20,22), 39.85, 6, 39.85, 39.90],[Date.UTC(2015,5,04,10,20,27), 39.90, 4, 39.85, 39.90],[Date.UTC(2015,5,04,10,21,24), 39.90, 1, 39.85, 39.90],[Date.UTC(2015,5,04,10,21,29), 39.85, 1, 39.85, 39.90],[Date.UTC(2015,5,04,10,21,39), 39.90, 3, 39.85, 39.90],[Date.UTC(2015,5,04,10,21,44), 39.85, 1, 39.85, 39.90],[Date.UTC(2015,5,04,10,21,49), 39.85, 5, 39.85, 39.90],[Date.UTC(2015,5,04,10,21,54), 39.85, 12, 39.85, 39.90],[Date.UTC(2015,5,04,10,21,59), 39.85, 15, 39.85, 39.90],[Date.UTC(2015,5,04,10,22,05), 39.85, 7, 39.85, 39.90],[Date.UTC(2015,5,04,10,22,10), 39.85, 1, 39.85, 39.90],[Date.UTC(2015,5,04,10,22,15), 39.85, 39, 39.85, 39.90],[Date.UTC(2015,5,04,10,22,20), 39.85, 8, 39.85, 39.90],[Date.UTC(2015,5,04,10,22,25), 39.85, 5, 39.85, 39.90],[Date.UTC(2015,5,04,10,22,30), 39.85, 6, 39.85, 39.90],[Date.UTC(2015,5,04,10,22,35), 39.85, 21, 39.85, 39.90],[Date.UTC(2015,5,04,10,22,41), 39.85, 7, 39.85, 39.90],[Date.UTC(2015,5,04,10,22,46), 39.85, 3, 39.85, 39.90],[Date.UTC(2015,5,04,10,22,51), 39.85, 2, 39.85, 39.90],[Date.UTC(2015,5,04,10,22,56), 39.85, 2, 39.85, 39.90],[Date.UTC(2015,5,04,10,23,01), 39.85, 1, 39.85, 39.90],[Date.UTC(2015,5,04,10,23,06), 39.85, 7, 39.85, 39.90],[Date.UTC(2015,5,04,10,23,16), 39.85, 5, 39.85, 39.90],[Date.UTC(2015,5,04,10,23,22), 39.85, 12, 39.85, 39.90],[Date.UTC(2015,5,04,10,23,27), 39.85, 1, 39.85, 39.90],[Date.UTC(2015,5,04,10,23,32), 39.85, 10, 39.85, 39.90],[Date.UTC(2015,5,04,10,23,37), 39.85, 7, 39.85, 39.90],[Date.UTC(2015,5,04,10,23,42), 39.85, 1, 39.85, 39.90],[Date.UTC(2015,5,04,10,23,47), 39.85, 27, 39.85, 39.90],[Date.UTC(2015,5,04,10,23,52), 39.85, 55, 39.85, 39.90],[Date.UTC(2015,5,04,10,23,57), 39.85, 11, 39.85, 39.90],[Date.UTC(2015,5,04,10,24,03), 39.85, 2, 39.85, 39.90],[Date.UTC(2015,5,04,10,24,08), 39.85, 1, 39.85, 39.90],[Date.UTC(2015,5,04,10,24,13), 39.85, 1, 39.85, 39.90],[Date.UTC(2015,5,04,10,24,23), 39.85, 12, 39.85, 39.90],[Date.UTC(2015,5,04,10,24,33), 39.85, 1, 39.80, 39.85],[Date.UTC(2015,5,04,10,24,44), 39.85, 1, 39.80, 39.85],[Date.UTC(2015,5,04,10,25,14), 39.80, 7, 39.80, 39.85],[Date.UTC(2015,5,04,10,25,19), 39.85, 1, 39.80, 39.85],[Date.UTC(2015,5,04,10,25,24), 39.85, 2, 39.80, 39.85],[Date.UTC(2015,5,04,10,25,45), 39.85, 1, 39.80, 39.85],[Date.UTC(2015,5,04,10,25,50), 39.80, 40, 39.80, 39.85],[Date.UTC(2015,5,04,10,25,55), 39.80, 1, 39.80, 39.85],[Date.UTC(2015,5,04,10,26,00), 39.80, 1, 39.80, 39.85],[Date.UTC(2015,5,04,10,26,05), 39.85, 5, 39.80, 39.85],[Date.UTC(2015,5,04,10,26,31), 39.80, 1, 39.80, 39.85],[Date.UTC(2015,5,04,10,26,41), 39.80, 1, 39.80, 39.85],[Date.UTC(2015,5,04,10,27,12), 39.85, 2, 39.80, 39.85],[Date.UTC(2015,5,04,10,27,28), 39.85, 1, 39.80, 39.85],[Date.UTC(2015,5,04,10,27,33), 39.85, 2, 39.80, 39.85],[Date.UTC(2015,5,04,10,28,14), 39.80, 6, 39.80, 39.85],[Date.UTC(2015,5,04,10,28,24), 39.85, 8, 39.80, 39.85],[Date.UTC(2015,5,04,10,28,34), 39.80, 1, 39.80, 39.85],[Date.UTC(2015,5,04,10,29,00), 39.85, 2, 39.80, 39.85],[Date.UTC(2015,5,04,10,29,21), 39.85, 2, 39.80, 39.85],[Date.UTC(2015,5,04,10,30,02), 39.80, 4, 39.80, 39.85],[Date.UTC(2015,5,04,10,30,07), 39.80, 1, 39.80, 39.85],[Date.UTC(2015,5,04,10,30,48), 39.85, 2, 39.80, 39.85],[Date.UTC(2015,5,04,10,31,08), 39.80, 6, 39.80, 39.85],[Date.UTC(2015,5,04,10,31,13), 39.80, 40, 39.80, 39.85],[Date.UTC(2015,5,04,10,31,19), 39.80, 1, 39.80, 39.85],[Date.UTC(2015,5,04,10,31,44), 39.80, 2, 39.80, 39.85],[Date.UTC(2015,5,04,10,31,54), 39.85, 5, 39.80, 39.85],[Date.UTC(2015,5,04,10,32,00), 39.80, 1, 39.80, 39.85],[Date.UTC(2015,5,04,10,32,30), 39.85, 2, 39.80, 39.85],[Date.UTC(2015,5,04,10,32,35), 39.85, 1, 39.80, 39.85],[Date.UTC(2015,5,04,10,32,41), 39.85, 7, 39.80, 39.85],[Date.UTC(2015,5,04,10,32,46), 39.85, 1, 39.80, 39.85],[Date.UTC(2015,5,04,10,32,51), 39.80, 1, 39.80, 39.85],[Date.UTC(2015,5,04,10,32,56), 39.85, 2, 39.80, 39.85],[Date.UTC(2015,5,04,10,33,01), 39.85, 1, 39.80, 39.85],[Date.UTC(2015,5,04,10,33,06), 39.80, 1, 39.80, 39.85],[Date.UTC(2015,5,04,10,33,52), 39.80, 1, 39.80, 39.85],[Date.UTC(2015,5,04,10,34,08), 39.80, 6, 39.80, 39.85],[Date.UTC(2015,5,04,10,34,13), 39.85, 1, 39.80, 39.85],[Date.UTC(2015,5,04,10,34,18), 39.85, 2, 39.80, 39.85],[Date.UTC(2015,5,04,10,34,38), 39.85, 2, 39.80, 39.85],[Date.UTC(2015,5,04,10,35,04), 39.80, 8, 39.80, 39.85],[Date.UTC(2015,5,04,10,35,35), 39.85, 10, 39.80, 39.85],[Date.UTC(2015,5,04,10,35,40), 39.80, 1, 39.80, 39.85],[Date.UTC(2015,5,04,10,35,45), 39.80, 1, 39.80, 39.85],[Date.UTC(2015,5,04,10,36,01), 39.80, 8, 39.80, 39.85],[Date.UTC(2015,5,04,10,36,06), 39.85, 2, 39.80, 39.85],[Date.UTC(2015,5,04,10,36,11), 39.85, 5, 39.80, 39.85],[Date.UTC(2015,5,04,10,36,16), 39.85, 1, 39.80, 39.85],[Date.UTC(2015,5,04,10,36,26), 39.85, 2, 39.80, 39.85],[Date.UTC(2015,5,04,10,36,42), 39.80, 1, 39.80, 39.85],[Date.UTC(2015,5,04,10,36,47), 39.85, 1, 39.80, 39.85],[Date.UTC(2015,5,04,10,37,13), 39.80, 6, 39.80, 39.85],[Date.UTC(2015,5,04,10,37,23), 39.85, 8, 39.80, 39.85],[Date.UTC(2015,5,04,10,37,28), 39.85, 1, 39.80, 39.85],[Date.UTC(2015,5,04,10,37,48), 39.80, 5, 39.80, 39.85],[Date.UTC(2015,5,04,10,37,54), 39.85, 3, 39.80, 39.85],[Date.UTC(2015,5,04,10,38,14), 39.85, 2, 39.80, 39.85],[Date.UTC(2015,5,04,10,38,40), 39.80, 4, 39.80, 39.85],[Date.UTC(2015,5,04,10,38,45), 39.85, 1, 39.80, 39.85],[Date.UTC(2015,5,04,10,39,00), 39.80, 2, 39.80, 39.85],[Date.UTC(2015,5,04,10,39,05), 39.80, 4, 39.80, 39.85],[Date.UTC(2015,5,04,10,39,10), 39.85, 1, 39.80, 39.85],[Date.UTC(2015,5,04,10,39,16), 39.85, 1, 39.80, 39.85],[Date.UTC(2015,5,04,10,39,41), 39.85, 2, 39.80, 39.85],[Date.UTC(2015,5,04,10,39,57), 39.85, 2, 39.80, 39.85],[Date.UTC(2015,5,04,10,40,17), 39.80, 6, 39.80, 39.85],[Date.UTC(2015,5,04,10,40,22), 39.85, 1, 39.80, 39.85],[Date.UTC(2015,5,04,10,40,27), 39.85, 1, 39.80, 39.85],[Date.UTC(2015,5,04,10,40,53), 39.80, 1, 39.80, 39.85],[Date.UTC(2015,5,04,10,40,58), 39.80, 1, 39.80, 39.85],[Date.UTC(2015,5,04,10,41,03), 39.80, 1, 39.80, 39.85],[Date.UTC(2015,5,04,10,41,13), 39.80, 1, 39.80, 39.85],[Date.UTC(2015,5,04,10,41,19), 39.85, 1, 39.80, 39.85],[Date.UTC(2015,5,04,10,41,24), 39.85, 2, 39.80, 39.85],[Date.UTC(2015,5,04,10,41,44), 39.85, 2, 39.80, 39.85],[Date.UTC(2015,5,04,10,42,10), 39.85, 2, 39.80, 39.85],[Date.UTC(2015,5,04,10,43,01), 39.80, 1, 39.80, 39.85],[Date.UTC(2015,5,04,10,43,06), 39.80, 1, 39.80, 39.85],[Date.UTC(2015,5,04,10,43,11), 39.85, 4, 39.80, 39.85],[Date.UTC(2015,5,04,10,43,16), 39.80, 6, 39.80, 39.85],[Date.UTC(2015,5,04,10,43,22), 39.80, 1, 39.80, 39.85],[Date.UTC(2015,5,04,10,43,32), 39.85, 2, 39.80, 39.85],[Date.UTC(2015,5,04,10,44,03), 39.80, 1, 39.80, 39.85],[Date.UTC(2015,5,04,10,44,33), 39.80, 1, 39.80, 39.85],[Date.UTC(2015,5,04,10,44,38), 39.80, 7, 39.80, 39.85],[Date.UTC(2015,5,04,10,44,43), 39.80, 2, 39.80, 39.85],[Date.UTC(2015,5,04,10,44,48), 39.80, 11, 39.80, 39.85],[Date.UTC(2015,5,04,10,44,54), 39.85, 2, 39.80, 39.85],[Date.UTC(2015,5,04,10,44,59), 39.80, 36, 39.80, 39.85],[Date.UTC(2015,5,04,10,45,04), 39.80, 9, 39.80, 39.85],[Date.UTC(2015,5,04,10,45,09), 39.80, 44, 39.80, 39.85],[Date.UTC(2015,5,04,10,45,14), 39.80, 13, 39.80, 39.85],[Date.UTC(2015,5,04,10,45,19), 39.85, 4, 39.80, 39.85],[Date.UTC(2015,5,04,10,45,24), 39.80, 5, 39.80, 39.85],[Date.UTC(2015,5,04,10,45,29), 39.80, 1, 39.80, 39.85],[Date.UTC(2015,5,04,10,45,40), 39.80, 1, 39.80, 39.85],[Date.UTC(2015,5,04,10,45,55), 39.85, 1, 39.80, 39.85],[Date.UTC(2015,5,04,10,46,00), 39.80, 1, 39.80, 39.85],[Date.UTC(2015,5,04,10,46,11), 39.80, 20, 39.80, 39.85],[Date.UTC(2015,5,04,10,46,16), 39.80, 13, 39.80, 39.85],[Date.UTC(2015,5,04,10,46,21), 39.80, 1, 39.80, 39.85],[Date.UTC(2015,5,04,10,46,26), 39.80, 1, 39.80, 39.85],[Date.UTC(2015,5,04,10,46,31), 39.80, 2, 39.80, 39.85],[Date.UTC(2015,5,04,10,46,36), 39.85, 8, 39.80, 39.85],[Date.UTC(2015,5,04,10,46,41), 39.80, 2, 39.80, 39.85],[Date.UTC(2015,5,04,10,46,47), 39.85, 4, 39.80, 39.85],[Date.UTC(2015,5,04,10,47,07), 39.85, 2, 39.80, 39.85],[Date.UTC(2015,5,04,10,47,33), 39.85, 13, 39.80, 39.85],[Date.UTC(2015,5,04,10,47,38), 39.85, 2, 39.80, 39.85],[Date.UTC(2015,5,04,10,47,48), 39.85, 1, 39.80, 39.85],[Date.UTC(2015,5,04,10,47,58), 39.85, 2, 39.80, 39.85],[Date.UTC(2015,5,04,10,48,09), 39.85, 1, 39.80, 39.85],[Date.UTC(2015,5,04,10,48,19), 39.80, 6, 39.80, 39.85],[Date.UTC(2015,5,04,10,48,24), 39.80, 1, 39.80, 39.85],[Date.UTC(2015,5,04,10,48,29), 39.85, 1, 39.80, 39.85],[Date.UTC(2015,5,04,10,48,34), 39.85, 2, 39.80, 39.85],[Date.UTC(2015,5,04,10,48,50), 39.85, 3, 39.80, 39.85],[Date.UTC(2015,5,04,10,48,55), 39.85, 1, 39.80, 39.85],[Date.UTC(2015,5,04,10,49,00), 39.80, 1, 39.80, 39.85],[Date.UTC(2015,5,04,10,49,05), 39.80, 2, 39.80, 39.85],[Date.UTC(2015,5,04,10,49,15), 39.80, 11, 39.80, 39.85],[Date.UTC(2015,5,04,10,49,21), 39.80, 9, 39.80, 39.85],[Date.UTC(2015,5,04,10,49,26), 39.80, 6, 39.80, 39.85],[Date.UTC(2015,5,04,10,49,31), 39.80, 1, 39.80, 39.85],[Date.UTC(2015,5,04,10,49,36), 39.80, 5, 39.80, 39.85],[Date.UTC(2015,5,04,10,49,41), 39.80, 5, 39.80, 39.85],[Date.UTC(2015,5,04,10,49,46), 39.80, 15, 39.80, 39.85],[Date.UTC(2015,5,04,10,49,51), 39.80, 2, 39.80, 39.85],[Date.UTC(2015,5,04,10,50,02), 39.80, 1, 39.80, 39.85],[Date.UTC(2015,5,04,10,50,17), 39.85, 2, 39.80, 39.85],[Date.UTC(2015,5,04,10,50,22), 39.80, 3, 39.80, 39.85],[Date.UTC(2015,5,04,10,50,27), 39.85, 1, 39.80, 39.85],[Date.UTC(2015,5,04,10,50,38), 39.85, 2, 39.80, 39.85],[Date.UTC(2015,5,04,10,50,58), 39.80, 1, 39.80, 39.85],[Date.UTC(2015,5,04,10,51,13), 39.80, 6, 39.80, 39.85],[Date.UTC(2015,5,04,10,51,19), 39.80, 49, 39.80, 39.85],[Date.UTC(2015,5,04,10,51,24), 39.80, 6, 39.80, 39.85],[Date.UTC(2015,5,04,10,51,29), 39.80, 7, 39.80, 39.85],[Date.UTC(2015,5,04,10,51,44), 39.85, 1, 39.80, 39.85],[Date.UTC(2015,5,04,10,51,49), 39.80, 2, 39.80, 39.85],[Date.UTC(2015,5,04,10,52,00), 39.80, 1, 39.80, 39.85],[Date.UTC(2015,5,04,10,52,05), 39.85, 7, 39.80, 39.85],[Date.UTC(2015,5,04,10,52,10), 39.80, 1, 39.80, 39.85],[Date.UTC(2015,5,04,10,52,25), 39.85, 2, 39.80, 39.85],[Date.UTC(2015,5,04,10,52,30), 39.80, 1, 39.80, 39.85],[Date.UTC(2015,5,04,10,53,11), 39.80, 1, 39.80, 39.85],[Date.UTC(2015,5,04,10,53,22), 39.85, 2, 39.80, 39.85],[Date.UTC(2015,5,04,10,53,37), 39.85, 1, 39.80, 39.85],[Date.UTC(2015,5,04,10,53,52), 39.85, 2, 39.80, 39.85],[Date.UTC(2015,5,04,10,53,58), 39.80, 1, 39.80, 39.85],[Date.UTC(2015,5,04,10,54,03), 39.80, 1, 39.80, 39.85],[Date.UTC(2015,5,04,10,54,08), 39.85, 2, 39.80, 39.85],[Date.UTC(2015,5,04,10,54,13), 39.80, 7, 39.80, 39.85],[Date.UTC(2015,5,04,10,54,18), 39.80, 1, 39.80, 39.85],[Date.UTC(2015,5,04,10,54,44), 39.80, 1, 39.80, 39.85],[Date.UTC(2015,5,04,10,54,49), 39.80, 1, 39.80, 39.85],[Date.UTC(2015,5,04,10,55,04), 39.80, 1, 39.80, 39.85],[Date.UTC(2015,5,04,10,55,09), 39.85, 1, 39.80, 39.85],[Date.UTC(2015,5,04,10,55,30), 39.80, 1, 39.80, 39.85],[Date.UTC(2015,5,04,10,55,35), 39.85, 2, 39.80, 39.85],[Date.UTC(2015,5,04,10,55,56), 39.85, 2, 39.80, 39.85],[Date.UTC(2015,5,04,10,56,01), 39.80, 1, 39.80, 39.85],[Date.UTC(2015,5,04,10,56,26), 39.85, 1, 39.80, 39.85],[Date.UTC(2015,5,04,10,56,57), 39.80, 2, 39.80, 39.85],[Date.UTC(2015,5,04,10,57,12), 39.80, 6, 39.80, 39.85],[Date.UTC(2015,5,04,10,57,23), 39.85, 2, 39.80, 39.85],[Date.UTC(2015,5,04,10,57,43), 39.85, 2, 39.80, 39.85],[Date.UTC(2015,5,04,10,57,59), 39.80, 1, 39.80, 39.85],[Date.UTC(2015,5,04,10,58,04), 39.80, 20, 39.80, 39.85],[Date.UTC(2015,5,04,10,58,09), 39.80, 12, 39.80, 39.85],[Date.UTC(2015,5,04,10,58,19), 39.80, 1, 39.80, 39.85],[Date.UTC(2015,5,04,10,58,50), 39.80, 1, 39.80, 39.85],[Date.UTC(2015,5,04,10,58,55), 39.80, 1, 39.80, 39.85],[Date.UTC(2015,5,04,10,59,00), 39.80, 2, 39.80, 39.85],[Date.UTC(2015,5,04,10,59,05), 39.85, 4, 39.80, 39.85],[Date.UTC(2015,5,04,10,59,11), 39.85, 2, 39.80, 39.85],[Date.UTC(2015,5,04,10,59,31), 39.80, 5, 39.80, 39.85],[Date.UTC(2015,5,04,10,59,36), 39.80, 1, 39.80, 39.85],[Date.UTC(2015,5,04,10,59,41), 39.80, 1, 39.80, 39.85],[Date.UTC(2015,5,04,10,59,46), 39.80, 26, 39.80, 39.85],[Date.UTC(2015,5,04,10,59,52), 39.80, 4, 39.80, 39.85],[Date.UTC(2015,5,04,10,59,57), 39.80, 11, 39.80, 39.85],[Date.UTC(2015,5,04,11,00,02), 39.80, 51, 39.80, 39.85],[Date.UTC(2015,5,04,11,00,07), 39.80, 23, 39.80, 39.85],[Date.UTC(2015,5,04,11,00,12), 39.85, 37, 39.80, 39.85],[Date.UTC(2015,5,04,11,00,17), 39.80, 14, 39.80, 39.85],[Date.UTC(2015,5,04,11,00,22), 39.80, 2, 39.80, 39.85],[Date.UTC(2015,5,04,11,00,28), 39.80, 12, 39.80, 39.85],[Date.UTC(2015,5,04,11,00,33), 39.80, 8, 39.80, 39.85],[Date.UTC(2015,5,04,11,00,38), 39.80, 5, 39.80, 39.85],[Date.UTC(2015,5,04,11,00,43), 39.80, 10, 39.80, 39.85],[Date.UTC(2015,5,04,11,00,48), 39.80, 6, 39.80, 39.85],[Date.UTC(2015,5,04,11,00,53), 39.80, 4, 39.80, 39.85],[Date.UTC(2015,5,04,11,00,58), 39.80, 17, 39.80, 39.85],[Date.UTC(2015,5,04,11,01,04), 39.80, 64, 39.80, 39.85],[Date.UTC(2015,5,04,11,01,09), 39.80, 11, 39.80, 39.85],[Date.UTC(2015,5,04,11,01,14), 39.85, 2, 39.80, 39.85],[Date.UTC(2015,5,04,11,01,24), 39.85, 8, 39.80, 39.85],[Date.UTC(2015,5,04,11,01,29), 39.80, 8, 39.80, 39.85],[Date.UTC(2015,5,04,11,01,34), 39.80, 2, 39.80, 39.85],[Date.UTC(2015,5,04,11,01,44), 39.80, 2, 39.80, 39.85],[Date.UTC(2015,5,04,11,01,50), 39.80, 1, 39.80, 39.85],[Date.UTC(2015,5,04,11,01,55), 39.80, 5, 39.80, 39.85],[Date.UTC(2015,5,04,11,02,00), 39.80, 10, 39.80, 39.85],[Date.UTC(2015,5,04,11,02,05), 39.80, 1, 39.80, 39.85],[Date.UTC(2015,5,04,11,02,10), 39.80, 14, 39.80, 39.85],[Date.UTC(2015,5,04,11,02,15), 39.80, 15, 39.80, 39.85],[Date.UTC(2015,5,04,11,02,20), 39.80, 8, 39.80, 39.85],[Date.UTC(2015,5,04,11,02,25), 39.80, 12, 39.80, 39.85],[Date.UTC(2015,5,04,11,02,31), 39.80, 4, 39.80, 39.85],[Date.UTC(2015,5,04,11,02,36), 39.80, 11, 39.80, 39.85],[Date.UTC(2015,5,04,11,02,41), 39.80, 10, 39.80, 39.85],[Date.UTC(2015,5,04,11,02,46), 39.80, 7, 39.80, 39.85],[Date.UTC(2015,5,04,11,02,51), 39.80, 7, 39.80, 39.85],[Date.UTC(2015,5,04,11,02,56), 39.80, 47, 39.80, 39.85],[Date.UTC(2015,5,04,11,03,01), 39.80, 7, 39.80, 39.85],[Date.UTC(2015,5,04,11,03,06), 39.80, 5, 39.80, 39.85],[Date.UTC(2015,5,04,11,03,12), 39.80, 61, 39.80, 39.85],[Date.UTC(2015,5,04,11,03,17), 39.80, 88, 39.80, 39.85],[Date.UTC(2015,5,04,11,03,22), 39.80, 114, 39.80, 39.85],[Date.UTC(2015,5,04,11,03,27), 39.80, 13, 39.75, 39.80],[Date.UTC(2015,5,04,11,03,37), 39.75, 4, 39.75, 39.80],[Date.UTC(2015,5,04,11,03,42), 39.75, 27, 39.75, 39.80],[Date.UTC(2015,5,04,11,03,53), 39.70, 1, 39.70, 39.75],[Date.UTC(2015,5,04,11,03,58), 39.70, 6, 39.70, 39.75],[Date.UTC(2015,5,04,11,04,03), 39.70, 1, 39.70, 39.75],[Date.UTC(2015,5,04,11,04,08), 39.75, 1, 39.70, 39.75],[Date.UTC(2015,5,04,11,04,13), 39.70, 1, 39.70, 39.75],[Date.UTC(2015,5,04,11,04,18), 39.75, 1, 39.70, 39.75],[Date.UTC(2015,5,04,11,04,28), 39.75, 3, 39.70, 39.75],[Date.UTC(2015,5,04,11,04,34), 39.75, 2, 39.70, 39.75],[Date.UTC(2015,5,04,11,04,44), 39.70, 2, 39.70, 39.75],[Date.UTC(2015,5,04,11,04,49), 39.75, 2, 39.70, 39.75],[Date.UTC(2015,5,04,11,04,54), 39.70, 61, 39.70, 39.75],[Date.UTC(2015,5,04,11,04,59), 39.70, 9, 39.70, 39.75],[Date.UTC(2015,5,04,11,05,04), 39.70, 134, 39.70, 39.75],[Date.UTC(2015,5,04,11,05,09), 39.65, 4, 39.65, 39.70],[Date.UTC(2015,5,04,11,05,15), 39.65, 15, 39.65, 39.70],[Date.UTC(2015,5,04,11,05,20), 39.65, 7, 39.65, 39.70],[Date.UTC(2015,5,04,11,05,25), 39.65, 1, 39.65, 39.70],[Date.UTC(2015,5,04,11,05,35), 39.65, 2, 39.65, 39.70],[Date.UTC(2015,5,04,11,05,40), 39.60, 10, 39.65, 39.70],[Date.UTC(2015,5,04,11,05,45), 39.60, 2, 39.60, 39.70],[Date.UTC(2015,5,04,11,05,56), 39.65, 2, 39.60, 39.65],[Date.UTC(2015,5,04,11,06,01), 39.60, 1, 39.60, 39.65],[Date.UTC(2015,5,04,11,06,06), 39.60, 20, 39.60, 39.65],[Date.UTC(2015,5,04,11,06,11), 39.60, 72, 39.60, 39.65],[Date.UTC(2015,5,04,11,06,16), 39.60, 10, 39.60, 39.65],[Date.UTC(2015,5,04,11,06,21), 39.60, 21, 39.60, 39.65],[Date.UTC(2015,5,04,11,06,32), 39.60, 1, 39.55, 39.60],[Date.UTC(2015,5,04,11,06,37), 39.60, 2, 39.55, 39.60],[Date.UTC(2015,5,04,11,06,47), 39.60, 2, 39.55, 39.60],[Date.UTC(2015,5,04,11,07,08), 39.55, 1, 39.55, 39.60],[Date.UTC(2015,5,04,11,07,13), 39.55, 1, 39.55, 39.60],[Date.UTC(2015,5,04,11,07,18), 39.60, 2, 39.55, 39.60],[Date.UTC(2015,5,04,11,07,23), 39.55, 1, 39.55, 39.60],[Date.UTC(2015,5,04,11,07,28), 39.55, 1, 39.55, 39.60],[Date.UTC(2015,5,04,11,07,44), 39.55, 2, 39.55, 39.60],[Date.UTC(2015,5,04,11,07,49), 39.50, 1, 39.50, 39.55],[Date.UTC(2015,5,04,11,07,54), 39.55, 1, 39.50, 39.55],[Date.UTC(2015,5,04,11,07,59), 39.50, 1, 39.50, 39.55],[Date.UTC(2015,5,04,11,08,04), 39.55, 2, 39.50, 39.55],[Date.UTC(2015,5,04,11,08,19), 39.55, 2, 39.50, 39.55],[Date.UTC(2015,5,04,11,08,25), 39.55, 1, 39.50, 39.55],[Date.UTC(2015,5,04,11,08,30), 39.55, 9, 39.50, 39.55],[Date.UTC(2015,5,04,11,08,35), 39.55, 1, 39.50, 39.55],[Date.UTC(2015,5,04,11,08,40), 39.55, 17, 39.50, 39.55],[Date.UTC(2015,5,04,11,08,45), 39.55, 21, 39.55, 39.60],[Date.UTC(2015,5,04,11,09,01), 39.55, 14, 39.55, 39.60],[Date.UTC(2015,5,04,11,09,06), 39.50, 1, 39.50, 39.60],[Date.UTC(2015,5,04,11,09,11), 39.50, 2, 39.50, 39.55],[Date.UTC(2015,5,04,11,09,16), 39.50, 5, 39.50, 39.55],[Date.UTC(2015,5,04,11,09,21), 39.50, 16, 39.50, 39.55],[Date.UTC(2015,5,04,11,09,26), 39.50, 29, 39.50, 39.55],[Date.UTC(2015,5,04,11,09,31), 39.50, 34, 39.50, 39.55],[Date.UTC(2015,5,04,11,09,36), 39.50, 26, 39.50, 39.55],[Date.UTC(2015,5,04,11,09,42), 39.50, 25, 39.50, 39.55],[Date.UTC(2015,5,04,11,09,47), 39.50, 8, 39.50, 39.55],[Date.UTC(2015,5,04,11,09,52), 39.50, 20, 39.50, 39.55],[Date.UTC(2015,5,04,11,09,57), 39.50, 1, 39.50, 39.55],[Date.UTC(2015,5,04,11,10,02), 39.50, 100, 39.50, 39.55],[Date.UTC(2015,5,04,11,10,07), 39.50, 21, 39.50, 39.55],[Date.UTC(2015,5,04,11,10,12), 39.50, 4, 39.45, 39.55],[Date.UTC(2015,5,04,11,10,17), 39.50, 12, 39.50, 39.55],[Date.UTC(2015,5,04,11,10,22), 39.50, 1, 39.45, 39.50],[Date.UTC(2015,5,04,11,10,28), 39.50, 1, 39.45, 39.50],[Date.UTC(2015,5,04,11,10,58), 39.50, 11, 39.50, 39.55],[Date.UTC(2015,5,04,11,11,04), 39.45, 15, 39.45, 39.50],[Date.UTC(2015,5,04,11,11,14), 39.45, 1, 39.45, 39.50],[Date.UTC(2015,5,04,11,11,19), 39.50, 2, 39.45, 39.50],[Date.UTC(2015,5,04,11,11,29), 39.50, 1, 39.45, 39.50],[Date.UTC(2015,5,04,11,11,34), 39.50, 3, 39.45, 39.50],[Date.UTC(2015,5,04,11,11,39), 39.50, 3, 39.45, 39.50],[Date.UTC(2015,5,04,11,11,55), 39.50, 2, 39.45, 39.50],[Date.UTC(2015,5,04,11,12,00), 39.50, 2, 39.45, 39.50],[Date.UTC(2015,5,04,11,12,05), 39.50, 4, 39.45, 39.50],[Date.UTC(2015,5,04,11,12,15), 39.45, 1, 39.45, 39.50],[Date.UTC(2015,5,04,11,12,20), 39.50, 1, 39.45, 39.50],[Date.UTC(2015,5,04,11,12,25), 39.50, 2, 39.45, 39.50],[Date.UTC(2015,5,04,11,12,36), 39.50, 6, 39.45, 39.50],[Date.UTC(2015,5,04,11,12,41), 39.50, 1, 39.45, 39.50],[Date.UTC(2015,5,04,11,13,01), 39.50, 2, 39.45, 39.50],[Date.UTC(2015,5,04,11,13,07), 39.50, 1, 39.45, 39.50],[Date.UTC(2015,5,04,11,13,22), 39.50, 1, 39.45, 39.50],[Date.UTC(2015,5,04,11,13,27), 39.50, 2, 39.45, 39.50],[Date.UTC(2015,5,04,11,13,37), 39.50, 2, 39.45, 39.50],[Date.UTC(2015,5,04,11,13,43), 39.45, 1, 39.45, 39.50],[Date.UTC(2015,5,04,11,13,48), 39.50, 9, 39.45, 39.50],[Date.UTC(2015,5,04,11,13,53), 39.45, 3, 39.45, 39.50],[Date.UTC(2015,5,04,11,13,58), 39.45, 1, 39.45, 39.50],[Date.UTC(2015,5,04,11,14,03), 39.45, 4, 39.45, 39.50],[Date.UTC(2015,5,04,11,14,08), 39.45, 1, 39.45, 39.50],[Date.UTC(2015,5,04,11,14,13), 39.50, 1, 39.45, 39.50],[Date.UTC(2015,5,04,11,14,18), 39.45, 1, 39.45, 39.50],[Date.UTC(2015,5,04,11,14,24), 39.50, 2, 39.45, 39.50],[Date.UTC(2015,5,04,11,14,29), 39.50, 3, 39.45, 39.50],[Date.UTC(2015,5,04,11,14,39), 39.45, 2, 39.45, 39.50],[Date.UTC(2015,5,04,11,14,44), 39.50, 2, 39.45, 39.50],[Date.UTC(2015,5,04,11,14,49), 39.45, 4, 39.45, 39.50],[Date.UTC(2015,5,04,11,14,54), 39.45, 6, 39.45, 39.50],[Date.UTC(2015,5,04,11,14,59), 39.45, 19, 39.45, 39.50],[Date.UTC(2015,5,04,11,15,04), 39.40, 11, 39.40, 39.45],[Date.UTC(2015,5,04,11,15,10), 39.45, 2, 39.40, 39.45],[Date.UTC(2015,5,04,11,15,15), 39.40, 3, 39.40, 39.45],[Date.UTC(2015,5,04,11,15,20), 39.40, 1, 39.40, 39.45],[Date.UTC(2015,5,04,11,15,25), 39.45, 2, 39.40, 39.45],[Date.UTC(2015,5,04,11,15,30), 39.40, 3, 39.40, 39.45],[Date.UTC(2015,5,04,11,15,35), 39.45, 5, 39.40, 39.45],[Date.UTC(2015,5,04,11,15,40), 39.45, 1, 39.40, 39.45],[Date.UTC(2015,5,04,11,15,45), 39.45, 1, 39.40, 39.45],[Date.UTC(2015,5,04,11,15,56), 39.50, 5, 39.40, 39.45],[Date.UTC(2015,5,04,11,16,06), 39.50, 2, 39.40, 39.50],[Date.UTC(2015,5,04,11,16,11), 39.40, 2, 39.40, 39.50],[Date.UTC(2015,5,04,11,16,57), 39.50, 2, 39.40, 39.50],[Date.UTC(2015,5,04,11,17,08), 39.45, 1, 39.45, 39.50],[Date.UTC(2015,5,04,11,17,13), 39.50, 10, 39.45, 39.50],[Date.UTC(2015,5,04,11,17,18), 39.45, 4, 39.45, 39.50],[Date.UTC(2015,5,04,11,17,33), 39.45, 1, 39.45, 39.50],[Date.UTC(2015,5,04,11,17,48), 39.50, 2, 39.45, 39.50],[Date.UTC(2015,5,04,11,17,59), 39.45, 1, 39.45, 39.50],[Date.UTC(2015,5,04,11,18,19), 39.45, 3, 39.45, 39.50],[Date.UTC(2015,5,04,11,18,40), 39.50, 1, 39.45, 39.50],[Date.UTC(2015,5,04,11,18,45), 39.55, 2, 39.45, 39.50],[Date.UTC(2015,5,04,11,19,00), 39.55, 2, 39.45, 39.55],[Date.UTC(2015,5,04,11,19,21), 39.55, 1, 39.50, 39.55],[Date.UTC(2015,5,04,11,19,26), 39.50, 2, 39.50, 39.55],[Date.UTC(2015,5,04,11,19,31), 39.55, 1, 39.50, 39.55],[Date.UTC(2015,5,04,11,19,41), 39.50, 5, 39.50, 39.55],[Date.UTC(2015,5,04,11,19,46), 39.55, 6, 39.50, 39.55],[Date.UTC(2015,5,04,11,19,51), 39.50, 4, 39.50, 39.55],[Date.UTC(2015,5,04,11,20,17), 39.50, 1, 39.50, 39.55],[Date.UTC(2015,5,04,11,20,33), 39.55, 2, 39.50, 39.55],[Date.UTC(2015,5,04,11,20,48), 39.55, 2, 39.50, 39.55],[Date.UTC(2015,5,04,11,20,53), 39.55, 1, 39.50, 39.55],[Date.UTC(2015,5,04,11,20,58), 39.50, 1, 39.50, 39.55],[Date.UTC(2015,5,04,11,21,08), 39.50, 5, 39.50, 39.55],[Date.UTC(2015,5,04,11,21,13), 39.50, 3, 39.50, 39.55],[Date.UTC(2015,5,04,11,22,15), 39.50, 1, 39.50, 39.55],[Date.UTC(2015,5,04,11,22,20), 39.55, 2, 39.50, 39.55],[Date.UTC(2015,5,04,11,22,30), 39.55, 2, 39.50, 39.55],[Date.UTC(2015,5,04,11,22,40), 39.50, 4, 39.50, 39.55],[Date.UTC(2015,5,04,11,22,45), 39.50, 5, 39.50, 39.55],[Date.UTC(2015,5,04,11,22,51), 39.45, 3, 39.50, 39.55],[Date.UTC(2015,5,04,11,22,56), 39.50, 1, 39.45, 39.55],[Date.UTC(2015,5,04,11,23,06), 39.50, 4, 39.50, 39.55],[Date.UTC(2015,5,04,11,23,11), 39.45, 3, 39.45, 39.50],[Date.UTC(2015,5,04,11,23,16), 39.45, 5, 39.45, 39.50],[Date.UTC(2015,5,04,11,23,21), 39.40, 7, 39.45, 39.50],[Date.UTC(2015,5,04,11,23,26), 39.40, 12, 39.40, 39.50],[Date.UTC(2015,5,04,11,23,32), 39.40, 14, 39.40, 39.50],[Date.UTC(2015,5,04,11,23,37), 39.40, 9, 39.40, 39.50],[Date.UTC(2015,5,04,11,23,42), 39.40, 7, 39.40, 39.50],[Date.UTC(2015,5,04,11,23,47), 39.40, 7, 39.40, 39.50],[Date.UTC(2015,5,04,11,23,52), 39.40, 10, 39.40, 39.50],[Date.UTC(2015,5,04,11,23,57), 39.40, 4, 39.40, 39.50],[Date.UTC(2015,5,04,11,24,02), 39.45, 3, 39.40, 39.45],[Date.UTC(2015,5,04,11,24,07), 39.40, 7, 39.40, 39.45],[Date.UTC(2015,5,04,11,24,13), 39.40, 1, 39.40, 39.45],[Date.UTC(2015,5,04,11,24,18), 39.45, 2, 39.40, 39.45],[Date.UTC(2015,5,04,11,24,28), 39.45, 8, 39.40, 39.45],[Date.UTC(2015,5,04,11,24,33), 39.40, 5, 39.40, 39.50],[Date.UTC(2015,5,04,11,24,38), 39.40, 1, 39.40, 39.45],[Date.UTC(2015,5,04,11,24,43), 39.40, 3, 39.40, 39.45],[Date.UTC(2015,5,04,11,24,54), 39.45, 33, 39.40, 39.45],[Date.UTC(2015,5,04,11,24,59), 39.40, 11, 39.40, 39.45],[Date.UTC(2015,5,04,11,25,04), 39.40, 1, 39.35, 39.40],[Date.UTC(2015,5,04,11,25,50), 39.45, 10, 39.40, 39.45],[Date.UTC(2015,5,04,11,26,05), 39.50, 2, 39.40, 39.45],[Date.UTC(2015,5,04,11,26,31), 39.45, 2, 39.45, 39.50],[Date.UTC(2015,5,04,11,26,51), 39.45, 2, 39.45, 39.50],[Date.UTC(2015,5,04,11,27,27), 39.45, 1, 39.45, 39.50],[Date.UTC(2015,5,04,11,27,38), 39.50, 2, 39.45, 39.50],[Date.UTC(2015,5,04,11,27,43), 39.45, 2, 39.45, 39.50],[Date.UTC(2015,5,04,11,27,48), 39.45, 2, 39.45, 39.50],[Date.UTC(2015,5,04,11,27,53), 39.50, 2, 39.40, 39.50],[Date.UTC(2015,5,04,11,27,58), 39.40, 3, 39.45, 39.50],[Date.UTC(2015,5,04,11,28,03), 39.40, 6, 39.40, 39.50],[Date.UTC(2015,5,04,11,28,08), 39.50, 1, 39.40, 39.50],[Date.UTC(2015,5,04,11,28,14), 39.40, 2, 39.40, 39.50],[Date.UTC(2015,5,04,11,28,24), 39.45, 1, 39.40, 39.45],[Date.UTC(2015,5,04,11,28,29), 39.45, 1, 39.40, 39.45],[Date.UTC(2015,5,04,11,28,34), 39.45, 23, 39.40, 39.45],[Date.UTC(2015,5,04,11,28,39), 39.40, 11, 39.45, 39.50],[Date.UTC(2015,5,04,11,28,44), 39.40, 1, 39.40, 39.45],[Date.UTC(2015,5,04,11,28,49), 39.45, 1, 39.40, 39.45],[Date.UTC(2015,5,04,11,29,00), 39.45, 1, 39.40, 39.45],[Date.UTC(2015,5,04,11,29,15), 39.45, 3, 39.40, 39.45],[Date.UTC(2015,5,04,11,29,20), 39.45, 1, 39.40, 39.45],[Date.UTC(2015,5,04,11,29,25), 39.45, 3, 39.40, 39.50],[Date.UTC(2015,5,04,11,29,36), 39.50, 2, 39.40, 39.50],[Date.UTC(2015,5,04,11,29,51), 39.40, 2, 39.40, 39.45],[Date.UTC(2015,5,04,11,30,01), 39.40, 2, 39.40, 39.45],[Date.UTC(2015,5,04,11,30,06), 39.50, 50, 39.40, 39.45],[Date.UTC(2015,5,04,11,30,11), 39.40, 17, 39.40, 39.50],[Date.UTC(2015,5,04,11,30,17), 39.40, 5, 39.40, 39.50],[Date.UTC(2015,5,04,11,30,47), 39.40, 2, 39.40, 39.50],[Date.UTC(2015,5,04,11,30,52), 39.45, 2, 39.40, 39.50],[Date.UTC(2015,5,04,11,30,58), 39.45, 3, 39.45, 39.50],[Date.UTC(2015,5,04,11,31,03), 39.45, 4, 39.45, 39.50],[Date.UTC(2015,5,04,11,31,13), 39.50, 2, 39.45, 39.50],[Date.UTC(2015,5,04,11,31,18), 39.45, 3, 39.45, 39.50],[Date.UTC(2015,5,04,11,31,23), 39.50, 2, 39.45, 39.50],[Date.UTC(2015,5,04,11,31,28), 39.45, 10, 39.45, 39.50],[Date.UTC(2015,5,04,11,31,33), 39.40, 13, 39.40, 39.45],[Date.UTC(2015,5,04,11,31,38), 39.40, 1, 39.40, 39.45],[Date.UTC(2015,5,04,11,31,43), 39.40, 4, 39.40, 39.45],[Date.UTC(2015,5,04,11,31,49), 39.35, 2, 39.35, 39.40],[Date.UTC(2015,5,04,11,32,04), 39.40, 1, 39.35, 39.40],[Date.UTC(2015,5,04,11,32,09), 39.45, 20, 39.35, 39.40],[Date.UTC(2015,5,04,11,32,19), 39.35, 1, 39.35, 39.45],[Date.UTC(2015,5,04,11,32,30), 39.35, 1, 39.40, 39.45],[Date.UTC(2015,5,04,11,32,35), 39.45, 1, 39.35, 39.45],[Date.UTC(2015,5,04,11,33,00), 39.45, 2, 39.40, 39.45],[Date.UTC(2015,5,04,11,33,11), 39.45, 3, 39.40, 39.45],[Date.UTC(2015,5,04,11,33,21), 39.40, 3, 39.40, 39.45],[Date.UTC(2015,5,04,11,33,41), 39.45, 5, 39.40, 39.45],[Date.UTC(2015,5,04,11,33,46), 39.45, 2, 39.40, 39.45],[Date.UTC(2015,5,04,11,33,52), 39.40, 10, 39.40, 39.45],[Date.UTC(2015,5,04,11,34,02), 39.40, 2, 39.40, 39.45],[Date.UTC(2015,5,04,11,34,07), 39.40, 9, 39.40, 39.45],[Date.UTC(2015,5,04,11,34,12), 39.40, 6, 39.35, 39.40],[Date.UTC(2015,5,04,11,34,17), 39.35, 15, 39.35, 39.40],[Date.UTC(2015,5,04,11,34,22), 39.35, 20, 39.35, 39.40],[Date.UTC(2015,5,04,11,34,27), 39.35, 9, 39.35, 39.40],[Date.UTC(2015,5,04,11,34,33), 39.30, 15, 39.30, 39.35],[Date.UTC(2015,5,04,11,34,43), 39.35, 3, 39.30, 39.35],[Date.UTC(2015,5,04,11,34,48), 39.30, 6, 39.30, 39.35],[Date.UTC(2015,5,04,11,34,58), 39.35, 2, 39.30, 39.35],[Date.UTC(2015,5,04,11,35,03), 39.35, 1, 39.30, 39.35],[Date.UTC(2015,5,04,11,35,13), 39.30, 5, 39.30, 39.35],[Date.UTC(2015,5,04,11,35,19), 39.30, 17, 39.30, 39.35],[Date.UTC(2015,5,04,11,35,24), 39.30, 5, 39.30, 39.35],[Date.UTC(2015,5,04,11,35,29), 39.30, 3, 39.30, 39.35],[Date.UTC(2015,5,04,11,35,39), 39.35, 1, 39.30, 39.35],[Date.UTC(2015,5,04,11,35,44), 39.30, 1, 39.30, 39.35],[Date.UTC(2015,5,04,11,35,49), 39.30, 5, 39.30, 39.35],[Date.UTC(2015,5,04,11,35,55), 39.30, 3, 39.30, 39.35],[Date.UTC(2015,5,04,11,36,00), 39.30, 49, 39.30, 39.35],[Date.UTC(2015,5,04,11,36,05), 39.25, 43, 39.25, 39.30],[Date.UTC(2015,5,04,11,36,10), 39.25, 19, 39.25, 39.30],[Date.UTC(2015,5,04,11,36,15), 39.20, 4, 39.20, 39.25],[Date.UTC(2015,5,04,11,36,20), 39.20, 61, 39.20, 39.25],[Date.UTC(2015,5,04,11,36,25), 39.10, 27, 39.15, 39.20],[Date.UTC(2015,5,04,11,36,31), 39.10, 26, 39.10, 39.15],[Date.UTC(2015,5,04,11,36,36), 39.05, 18, 39.05, 39.10],[Date.UTC(2015,5,04,11,36,41), 39.00, 10, 39.00, 39.05],[Date.UTC(2015,5,04,11,36,46), 39.00, 23, 39.00, 39.05],[Date.UTC(2015,5,04,11,36,51), 39.00, 28, 39.00, 39.05],[Date.UTC(2015,5,04,11,36,56), 39.00, 40, 39.00, 39.05],[Date.UTC(2015,5,04,11,37,01), 39.00, 509, 39.00, 39.05],[Date.UTC(2015,5,04,11,37,06), 38.85, 12, 38.95, 39.00],[Date.UTC(2015,5,04,11,37,12), 38.70, 26, 38.80, 38.85],[Date.UTC(2015,5,04,11,37,17), 38.65, 4, 38.65, 38.70],[Date.UTC(2015,5,04,11,37,22), 38.60, 7, 38.60, 38.65],[Date.UTC(2015,5,04,11,37,27), 38.50, 30, 38.55, 38.60],[Date.UTC(2015,5,04,11,37,32), 38.55, 20, 38.50, 38.55],[Date.UTC(2015,5,04,11,37,37), 38.50, 2, 38.50, 38.55],[Date.UTC(2015,5,04,11,37,42), 38.45, 7, 38.50, 38.55],[Date.UTC(2015,5,04,11,37,48), 38.45, 6, 38.40, 38.45],[Date.UTC(2015,5,04,11,37,53), 38.45, 2, 38.40, 38.50],[Date.UTC(2015,5,04,11,37,58), 38.50, 22, 38.40, 38.45],[Date.UTC(2015,5,04,11,38,03), 38.45, 4, 38.45, 38.50],[Date.UTC(2015,5,04,11,38,08), 38.45, 6, 38.40, 38.45],[Date.UTC(2015,5,04,11,38,13), 38.30, 13, 38.40, 38.45],[Date.UTC(2015,5,04,11,38,18), 38.15, 40, 38.25, 38.30],[Date.UTC(2015,5,04,11,38,23), 38.00, 141, 38.10, 38.15],[Date.UTC(2015,5,04,11,38,29), 37.95, 10, 37.95, 38.00],[Date.UTC(2015,5,04,11,38,34), 37.95, 6, 37.90, 37.95],[Date.UTC(2015,5,04,11,38,39), 37.85, 27, 37.90, 37.95],[Date.UTC(2015,5,04,11,38,44), 37.80, 3, 37.80, 37.85],[Date.UTC(2015,5,04,11,38,49), 37.65, 15, 37.70, 37.85],[Date.UTC(2015,5,04,11,38,54), 37.75, 26, 37.65, 37.70],[Date.UTC(2015,5,04,11,38,59), 37.80, 8, 37.75, 37.80],[Date.UTC(2015,5,04,11,39,04), 37.75, 10, 37.75, 37.80],[Date.UTC(2015,5,04,11,39,10), 37.80, 11, 37.75, 37.80],[Date.UTC(2015,5,04,11,39,15), 37.80, 22, 37.75, 37.80],[Date.UTC(2015,5,04,11,39,20), 37.75, 16, 37.80, 37.85],[Date.UTC(2015,5,04,11,39,25), 37.80, 16, 37.75, 37.85],[Date.UTC(2015,5,04,11,39,30), 37.75, 9, 37.75, 37.80],[Date.UTC(2015,5,04,11,39,35), 37.75, 5, 37.75, 37.80],[Date.UTC(2015,5,04,11,39,40), 37.75, 10, 37.75, 37.80],[Date.UTC(2015,5,04,11,39,45), 37.75, 7, 37.75, 37.80],[Date.UTC(2015,5,04,11,39,51), 37.75, 11, 37.75, 37.80],[Date.UTC(2015,5,04,11,39,56), 37.75, 3, 37.75, 37.80],[Date.UTC(2015,5,04,11,40,01), 37.75, 15, 37.75, 37.80],[Date.UTC(2015,5,04,11,40,06), 37.75, 30, 37.75, 37.80],[Date.UTC(2015,5,04,11,40,11), 37.75, 13, 37.75, 37.80],[Date.UTC(2015,5,04,11,40,16), 37.80, 10, 37.75, 37.80],[Date.UTC(2015,5,04,11,40,21), 37.75, 24, 37.75, 37.80],[Date.UTC(2015,5,04,11,40,27), 37.75, 27, 37.75, 37.80],[Date.UTC(2015,5,04,11,40,32), 37.75, 27, 37.75, 37.80],[Date.UTC(2015,5,04,11,40,37), 37.75, 17, 37.75, 37.80],[Date.UTC(2015,5,04,11,40,42), 37.75, 13, 37.75, 37.80],[Date.UTC(2015,5,04,11,40,47), 37.80, 12, 37.75, 37.80],[Date.UTC(2015,5,04,11,40,52), 37.80, 8, 37.75, 37.80],[Date.UTC(2015,5,04,11,40,57), 37.80, 1, 37.80, 37.85],[Date.UTC(2015,5,04,11,41,02), 37.80, 5, 37.80, 37.85],[Date.UTC(2015,5,04,11,41,13), 37.85, 8, 37.80, 37.85],[Date.UTC(2015,5,04,11,41,18), 37.85, 9, 37.80, 37.85],[Date.UTC(2015,5,04,11,41,23), 37.85, 2, 37.80, 37.85],[Date.UTC(2015,5,04,11,41,28), 37.90, 11, 37.85, 37.90],[Date.UTC(2015,5,04,11,41,33), 37.95, 3, 37.85, 37.95],[Date.UTC(2015,5,04,11,41,48), 37.95, 7, 37.90, 37.95],[Date.UTC(2015,5,04,11,41,53), 37.95, 9, 37.95, 38.00],[Date.UTC(2015,5,04,11,41,59), 37.95, 9, 37.90, 37.95],[Date.UTC(2015,5,04,11,42,04), 37.95, 8, 37.95, 38.00],[Date.UTC(2015,5,04,11,42,09), 37.95, 9, 37.90, 37.95],[Date.UTC(2015,5,04,11,42,14), 38.00, 100, 37.90, 37.95],[Date.UTC(2015,5,04,11,42,19), 37.95, 51, 37.95, 38.00],[Date.UTC(2015,5,04,11,42,24), 38.00, 17, 37.95, 38.00],[Date.UTC(2015,5,04,11,42,29), 37.95, 7, 37.95, 38.00],[Date.UTC(2015,5,04,11,42,35), 37.95, 6, 37.95, 38.00],[Date.UTC(2015,5,04,11,42,40), 37.95, 14, 37.95, 38.00],[Date.UTC(2015,5,04,11,42,45), 37.95, 51, 37.95, 38.00],[Date.UTC(2015,5,04,11,42,50), 37.95, 20, 37.95, 38.00],[Date.UTC(2015,5,04,11,42,55), 38.00, 28, 37.90, 37.95],[Date.UTC(2015,5,04,11,43,00), 37.95, 5, 37.95, 38.00],[Date.UTC(2015,5,04,11,43,05), 37.95, 1, 37.95, 38.00],[Date.UTC(2015,5,04,11,43,10), 37.95, 38, 37.95, 38.00],[Date.UTC(2015,5,04,11,43,16), 37.90, 12, 37.90, 37.95],[Date.UTC(2015,5,04,11,43,21), 37.95, 19, 37.90, 37.95],[Date.UTC(2015,5,04,11,43,26), 37.90, 12, 37.90, 37.95],[Date.UTC(2015,5,04,11,43,31), 37.90, 21, 37.90, 37.95],[Date.UTC(2015,5,04,11,43,36), 37.90, 17, 37.90, 37.95],[Date.UTC(2015,5,04,11,43,41), 37.90, 10, 37.90, 37.95],[Date.UTC(2015,5,04,11,43,46), 37.90, 49, 37.90, 37.95],[Date.UTC(2015,5,04,11,43,51), 37.90, 72, 37.90, 37.95],[Date.UTC(2015,5,04,11,43,56), 37.90, 39, 37.90, 37.95],[Date.UTC(2015,5,04,11,44,02), 37.90, 7, 37.85, 37.90],[Date.UTC(2015,5,04,11,44,07), 37.90, 15, 37.85, 37.90],[Date.UTC(2015,5,04,11,44,12), 37.90, 12, 37.85, 37.90],[Date.UTC(2015,5,04,11,44,17), 37.90, 11, 37.85, 37.90],[Date.UTC(2015,5,04,11,44,22), 37.90, 28, 37.85, 37.90],[Date.UTC(2015,5,04,11,44,27), 37.90, 11, 37.90, 37.95],[Date.UTC(2015,5,04,11,44,32), 37.90, 30, 37.90, 37.95],[Date.UTC(2015,5,04,11,44,37), 37.90, 5, 37.90, 37.95],[Date.UTC(2015,5,04,11,44,42), 37.90, 24, 37.90, 37.95],[Date.UTC(2015,5,04,11,44,48), 37.85, 26, 37.85, 37.90],[Date.UTC(2015,5,04,11,44,53), 37.85, 1, 37.85, 37.90],[Date.UTC(2015,5,04,11,44,58), 37.90, 1, 37.85, 37.90],[Date.UTC(2015,5,04,11,45,03), 37.85, 6, 37.85, 37.90],[Date.UTC(2015,5,04,11,45,08), 37.90, 4, 37.85, 37.90],[Date.UTC(2015,5,04,11,45,13), 37.85, 16, 37.85, 37.90],[Date.UTC(2015,5,04,11,45,18), 37.85, 10, 37.85, 37.90],[Date.UTC(2015,5,04,11,45,24), 37.90, 4, 37.85, 37.90],[Date.UTC(2015,5,04,11,45,29), 37.85, 16, 37.85, 37.90],[Date.UTC(2015,5,04,11,45,34), 37.85, 35, 37.85, 37.90],[Date.UTC(2015,5,04,11,45,39), 37.85, 10, 37.80, 37.85],[Date.UTC(2015,5,04,11,45,44), 37.90, 1, 37.85, 37.90],[Date.UTC(2015,5,04,11,45,49), 37.90, 4, 37.85, 37.90],[Date.UTC(2015,5,04,11,45,59), 37.85, 2, 37.85, 37.90],[Date.UTC(2015,5,04,11,46,05), 37.90, 18, 37.85, 37.90],[Date.UTC(2015,5,04,11,46,10), 37.90, 7, 37.85, 37.90],[Date.UTC(2015,5,04,11,46,15), 37.90, 2, 37.85, 37.90],[Date.UTC(2015,5,04,11,46,25), 37.90, 5, 37.85, 37.90],[Date.UTC(2015,5,04,11,46,35), 37.90, 3, 37.85, 37.90],[Date.UTC(2015,5,04,11,46,46), 37.85, 2, 37.85, 37.90],[Date.UTC(2015,5,04,11,46,51), 37.90, 1, 37.85, 37.90],[Date.UTC(2015,5,04,11,46,56), 37.90, 1, 37.85, 37.90],[Date.UTC(2015,5,04,11,47,01), 37.90, 4, 37.85, 37.90],[Date.UTC(2015,5,04,11,47,06), 37.90, 5, 37.85, 37.90],[Date.UTC(2015,5,04,11,47,11), 37.90, 4, 37.85, 37.90],[Date.UTC(2015,5,04,11,47,16), 37.95, 7, 37.90, 37.95],[Date.UTC(2015,5,04,11,47,22), 37.95, 2, 37.90, 37.95],[Date.UTC(2015,5,04,11,47,27), 37.90, 5, 37.90, 37.95],[Date.UTC(2015,5,04,11,47,37), 37.95, 11, 37.90, 37.95],[Date.UTC(2015,5,04,11,47,47), 37.95, 1, 37.95, 38.00],[Date.UTC(2015,5,04,11,47,52), 38.00, 3, 37.95, 38.00],[Date.UTC(2015,5,04,11,48,08), 37.95, 2, 37.95, 38.00],[Date.UTC(2015,5,04,11,48,18), 37.95, 1, 37.95, 38.00],[Date.UTC(2015,5,04,11,48,23), 38.00, 10, 37.95, 38.00],[Date.UTC(2015,5,04,11,48,28), 38.00, 2, 37.95, 38.00],[Date.UTC(2015,5,04,11,48,33), 38.00, 5, 37.95, 38.00],[Date.UTC(2015,5,04,11,48,38), 37.95, 3, 37.95, 38.05],[Date.UTC(2015,5,04,11,48,44), 38.05, 4, 37.95, 38.05],[Date.UTC(2015,5,04,11,48,49), 38.05, 9, 37.95, 38.05],[Date.UTC(2015,5,04,11,48,59), 38.05, 2, 38.00, 38.05],[Date.UTC(2015,5,04,11,49,04), 38.00, 6, 38.00, 38.05],[Date.UTC(2015,5,04,11,49,09), 38.05, 5, 38.00, 38.05],[Date.UTC(2015,5,04,11,49,14), 38.05, 2, 38.00, 38.05],[Date.UTC(2015,5,04,11,49,25), 38.00, 2, 38.00, 38.05],[Date.UTC(2015,5,04,11,49,30), 38.05, 63, 38.00, 38.05],[Date.UTC(2015,5,04,11,49,35), 38.00, 23, 38.00, 38.05],[Date.UTC(2015,5,04,11,49,40), 38.10, 2, 38.00, 38.05],[Date.UTC(2015,5,04,11,49,45), 38.05, 12, 38.05, 38.10],[Date.UTC(2015,5,04,11,49,50), 38.05, 11, 38.05, 38.10],[Date.UTC(2015,5,04,11,49,55), 38.10, 3, 38.05, 38.10],[Date.UTC(2015,5,04,11,50,06), 38.10, 4, 38.05, 38.15],[Date.UTC(2015,5,04,11,50,16), 38.10, 2, 38.10, 38.15],[Date.UTC(2015,5,04,11,50,26), 38.10, 5, 38.10, 38.15],[Date.UTC(2015,5,04,11,50,31), 38.15, 4, 38.10, 38.15],[Date.UTC(2015,5,04,11,50,36), 38.15, 2, 38.10, 38.15],[Date.UTC(2015,5,04,11,50,42), 38.15, 2, 38.15, 38.20],[Date.UTC(2015,5,04,11,50,47), 38.15, 2, 38.15, 38.20],[Date.UTC(2015,5,04,11,50,52), 38.15, 5, 38.15, 38.20],[Date.UTC(2015,5,04,11,51,12), 38.20, 2, 38.15, 38.20],[Date.UTC(2015,5,04,11,51,17), 38.25, 1, 38.15, 38.25],[Date.UTC(2015,5,04,11,51,22), 38.20, 2, 38.20, 38.25],[Date.UTC(2015,5,04,11,51,27), 38.25, 6, 38.20, 38.25],[Date.UTC(2015,5,04,11,51,43), 38.25, 3, 38.20, 38.25],[Date.UTC(2015,5,04,11,51,48), 38.25, 1, 38.25, 38.30],[Date.UTC(2015,5,04,11,51,53), 38.30, 10, 38.25, 38.30],[Date.UTC(2015,5,04,11,51,58), 38.35, 1, 38.30, 38.35],[Date.UTC(2015,5,04,11,52,03), 38.35, 4, 38.30, 38.35],[Date.UTC(2015,5,04,11,52,08), 38.35, 10, 38.35, 38.40],[Date.UTC(2015,5,04,11,52,19), 38.40, 11, 38.35, 38.40],[Date.UTC(2015,5,04,11,52,24), 38.45, 3, 38.35, 38.40],[Date.UTC(2015,5,04,11,52,29), 38.40, 20, 38.40, 38.50],[Date.UTC(2015,5,04,11,52,34), 38.40, 5, 38.40, 38.50],[Date.UTC(2015,5,04,11,52,39), 38.40, 6, 38.40, 38.50],[Date.UTC(2015,5,04,11,52,44), 38.40, 3, 38.40, 38.50],[Date.UTC(2015,5,04,11,52,49), 38.40, 11, 38.40, 38.50],[Date.UTC(2015,5,04,11,52,54), 38.40, 5, 38.40, 38.50],[Date.UTC(2015,5,04,11,53,00), 38.45, 1, 38.40, 38.45],[Date.UTC(2015,5,04,11,53,05), 38.45, 18, 38.45, 38.50],[Date.UTC(2015,5,04,11,53,10), 38.45, 1, 38.40, 38.45],[Date.UTC(2015,5,04,11,53,15), 38.45, 4, 38.45, 38.50],[Date.UTC(2015,5,04,11,53,20), 38.45, 1, 38.40, 38.45],[Date.UTC(2015,5,04,11,53,25), 38.45, 6, 38.40, 38.45],[Date.UTC(2015,5,04,11,53,35), 38.45, 2, 38.40, 38.45],[Date.UTC(2015,5,04,11,53,46), 38.45, 4, 38.40, 38.45],[Date.UTC(2015,5,04,11,53,51), 38.40, 7, 38.40, 38.45],[Date.UTC(2015,5,04,11,53,56), 38.45, 8, 38.40, 38.45],[Date.UTC(2015,5,04,11,54,01), 38.45, 5, 38.40, 38.45],[Date.UTC(2015,5,04,11,54,06), 38.40, 7, 38.40, 38.45],[Date.UTC(2015,5,04,11,54,11), 38.40, 16, 38.40, 38.45],[Date.UTC(2015,5,04,11,54,16), 38.40, 20, 38.40, 38.45],[Date.UTC(2015,5,04,11,54,21), 38.40, 28, 38.40, 38.45],[Date.UTC(2015,5,04,11,54,27), 38.45, 22, 38.40, 38.45],[Date.UTC(2015,5,04,11,54,32), 38.45, 4, 38.45, 38.50],[Date.UTC(2015,5,04,11,54,37), 38.45, 6, 38.45, 38.50],[Date.UTC(2015,5,04,11,54,42), 38.45, 3, 38.40, 38.45],[Date.UTC(2015,5,04,11,54,47), 38.45, 5, 38.45, 38.50],[Date.UTC(2015,5,04,11,54,52), 38.50, 1, 38.45, 38.50],[Date.UTC(2015,5,04,11,54,57), 38.50, 56, 38.45, 38.50],[Date.UTC(2015,5,04,11,55,02), 38.45, 15, 38.50, 38.55],[Date.UTC(2015,5,04,11,55,08), 38.40, 4, 38.40, 38.45],[Date.UTC(2015,5,04,11,55,13), 38.45, 1, 38.40, 38.45],[Date.UTC(2015,5,04,11,55,23), 38.40, 5, 38.40, 38.45],[Date.UTC(2015,5,04,11,55,43), 38.40, 2, 38.40, 38.45],[Date.UTC(2015,5,04,11,55,48), 38.40, 2, 38.40, 38.45],[Date.UTC(2015,5,04,11,56,04), 38.40, 2, 38.40, 38.45],[Date.UTC(2015,5,04,11,56,09), 38.50, 12, 38.40, 38.45],[Date.UTC(2015,5,04,11,56,14), 38.45, 9, 38.45, 38.50],[Date.UTC(2015,5,04,11,56,19), 38.45, 5, 38.45, 38.50],[Date.UTC(2015,5,04,11,56,30), 38.45, 2, 38.45, 38.50],[Date.UTC(2015,5,04,11,56,35), 38.50, 7, 38.45, 38.50],[Date.UTC(2015,5,04,11,56,40), 38.45, 4, 38.45, 38.50],[Date.UTC(2015,5,04,11,56,45), 38.40, 23, 38.40, 38.45],[Date.UTC(2015,5,04,11,56,50), 38.40, 5, 38.40, 38.45],[Date.UTC(2015,5,04,11,56,55), 38.40, 2, 38.40, 38.45],[Date.UTC(2015,5,04,11,57,00), 38.40, 14, 38.40, 38.45],[Date.UTC(2015,5,04,11,57,05), 38.45, 2, 38.40, 38.45],[Date.UTC(2015,5,04,11,57,11), 38.40, 5, 38.40, 38.45],[Date.UTC(2015,5,04,11,57,16), 38.40, 5, 38.40, 38.45],[Date.UTC(2015,5,04,11,57,21), 38.40, 3, 38.35, 38.40],[Date.UTC(2015,5,04,11,57,26), 38.35, 2, 38.35, 38.40],[Date.UTC(2015,5,04,11,57,31), 38.35, 27, 38.35, 38.40],[Date.UTC(2015,5,04,11,57,36), 38.35, 6, 38.35, 38.40],[Date.UTC(2015,5,04,11,57,41), 38.40, 3, 38.35, 38.40],[Date.UTC(2015,5,04,11,57,52), 38.40, 3, 38.35, 38.40],[Date.UTC(2015,5,04,11,57,57), 38.35, 1, 38.35, 38.40],[Date.UTC(2015,5,04,11,58,07), 38.35, 2, 38.35, 38.40],[Date.UTC(2015,5,04,11,58,38), 38.40, 3, 38.35, 38.40],[Date.UTC(2015,5,04,11,58,43), 38.35, 2, 38.35, 38.40],[Date.UTC(2015,5,04,11,58,48), 38.40, 10, 38.35, 38.40],[Date.UTC(2015,5,04,11,58,53), 38.35, 3, 38.35, 38.40],[Date.UTC(2015,5,04,11,59,08), 38.40, 2, 38.35, 38.40],[Date.UTC(2015,5,04,11,59,19), 38.40, 1, 38.35, 38.40],[Date.UTC(2015,5,04,11,59,24), 38.35, 2, 38.35, 38.40],[Date.UTC(2015,5,04,11,59,29), 38.40, 1, 38.35, 38.40],[Date.UTC(2015,5,04,11,59,34), 38.35, 1, 38.35, 38.40],[Date.UTC(2015,5,04,11,59,49), 38.40, 1, 38.35, 38.40],[Date.UTC(2015,5,04,12,00,00), 38.40, 1, 38.40, 38.45],[Date.UTC(2015,5,04,12,00,05), 38.40, 2, 38.40, 38.45],[Date.UTC(2015,5,04,12,00,10), 38.45, 5, 38.40, 38.45],[Date.UTC(2015,5,04,12,00,25), 38.45, 3, 38.40, 38.45],[Date.UTC(2015,5,04,12,00,30), 38.45, 2, 38.40, 38.45],[Date.UTC(2015,5,04,12,00,41), 38.45, 6, 38.40, 38.45],[Date.UTC(2015,5,04,12,00,46), 38.50, 8, 38.40, 38.45],[Date.UTC(2015,5,04,12,00,51), 38.45, 2, 38.45, 38.50],[Date.UTC(2015,5,04,12,00,56), 38.50, 3, 38.45, 38.50],[Date.UTC(2015,5,04,12,01,01), 38.50, 1, 38.45, 38.50],[Date.UTC(2015,5,04,12,01,11), 38.50, 1, 38.45, 38.50],[Date.UTC(2015,5,04,12,01,16), 38.50, 10, 38.45, 38.50],[Date.UTC(2015,5,04,12,01,22), 38.50, 1, 38.45, 38.50],[Date.UTC(2015,5,04,12,01,27), 38.50, 3, 38.45, 38.50],[Date.UTC(2015,5,04,12,01,32), 38.50, 2, 38.45, 38.50],[Date.UTC(2015,5,04,12,01,37), 38.45, 5, 38.45, 38.50],[Date.UTC(2015,5,04,12,01,42), 38.50, 11, 38.45, 38.50],[Date.UTC(2015,5,04,12,01,47), 38.50, 9, 38.50, 38.55],[Date.UTC(2015,5,04,12,01,52), 38.50, 4, 38.50, 38.55],[Date.UTC(2015,5,04,12,01,57), 38.45, 2, 38.45, 38.50],[Date.UTC(2015,5,04,12,02,03), 38.50, 8, 38.45, 38.50],[Date.UTC(2015,5,04,12,02,13), 38.50, 13, 38.50, 38.55],[Date.UTC(2015,5,04,12,02,18), 38.50, 4, 38.50, 38.55],[Date.UTC(2015,5,04,12,02,28), 38.55, 2, 38.50, 38.55],[Date.UTC(2015,5,04,12,02,33), 38.50, 1, 38.50, 38.55],[Date.UTC(2015,5,04,12,02,43), 38.50, 2, 38.50, 38.55],[Date.UTC(2015,5,04,12,02,49), 38.55, 10, 38.50, 38.55],[Date.UTC(2015,5,04,12,02,54), 38.50, 3, 38.50, 38.55],[Date.UTC(2015,5,04,12,02,59), 38.50, 1, 38.50, 38.55],[Date.UTC(2015,5,04,12,03,04), 38.55, 1, 38.50, 38.55],[Date.UTC(2015,5,04,12,03,19), 38.55, 1, 38.50, 38.55],[Date.UTC(2015,5,04,12,03,24), 38.55, 5, 38.50, 38.55],[Date.UTC(2015,5,04,12,03,35), 38.50, 2, 38.50, 38.55],[Date.UTC(2015,5,04,12,03,40), 38.50, 1, 38.50, 38.55],[Date.UTC(2015,5,04,12,03,45), 38.55, 1, 38.50, 38.55],[Date.UTC(2015,5,04,12,03,50), 38.55, 10, 38.50, 38.55],[Date.UTC(2015,5,04,12,03,55), 38.50, 3, 38.50, 38.55],[Date.UTC(2015,5,04,12,04,00), 38.55, 2, 38.50, 38.55],[Date.UTC(2015,5,04,12,04,05), 38.50, 3, 38.50, 38.55],[Date.UTC(2015,5,04,12,04,16), 38.50, 1, 38.50, 38.55],[Date.UTC(2015,5,04,12,04,26), 38.55, 2, 38.50, 38.55],[Date.UTC(2015,5,04,12,04,31), 38.50, 7, 38.50, 38.55],[Date.UTC(2015,5,04,12,04,36), 38.50, 5, 38.50, 38.55],[Date.UTC(2015,5,04,12,04,41), 38.50, 4, 38.50, 38.55],[Date.UTC(2015,5,04,12,04,46), 38.50, 3, 38.50, 38.55],[Date.UTC(2015,5,04,12,04,51), 38.50, 2, 38.50, 38.55],[Date.UTC(2015,5,04,12,04,56), 38.55, 2, 38.50, 38.55],[Date.UTC(2015,5,04,12,05,02), 38.55, 6, 38.50, 38.55],[Date.UTC(2015,5,04,12,05,07), 38.50, 3, 38.50, 38.55],[Date.UTC(2015,5,04,12,05,12), 38.50, 3, 38.50, 38.55],[Date.UTC(2015,5,04,12,05,17), 38.50, 3, 38.50, 38.55],[Date.UTC(2015,5,04,12,05,22), 38.50, 5, 38.50, 38.55],[Date.UTC(2015,5,04,12,05,32), 38.55, 30, 38.50, 38.55],[Date.UTC(2015,5,04,12,05,37), 38.50, 42, 38.50, 38.55],[Date.UTC(2015,5,04,12,05,43), 38.50, 10, 38.50, 38.55],[Date.UTC(2015,5,04,12,05,48), 38.50, 1, 38.50, 38.55],[Date.UTC(2015,5,04,12,05,53), 38.50, 3, 38.50, 38.55],[Date.UTC(2015,5,04,12,05,58), 38.50, 3, 38.50, 38.55],[Date.UTC(2015,5,04,12,06,03), 38.50, 3, 38.50, 38.55],[Date.UTC(2015,5,04,12,06,18), 38.50, 3, 38.50, 38.55],[Date.UTC(2015,5,04,12,06,24), 38.50, 1, 38.50, 38.55],[Date.UTC(2015,5,04,12,06,29), 38.50, 8, 38.50, 38.55],[Date.UTC(2015,5,04,12,06,34), 38.55, 2, 38.50, 38.55],[Date.UTC(2015,5,04,12,06,39), 38.50, 3, 38.50, 38.55],[Date.UTC(2015,5,04,12,06,44), 38.50, 3, 38.50, 38.55],[Date.UTC(2015,5,04,12,06,49), 38.55, 1, 38.50, 38.55],[Date.UTC(2015,5,04,12,06,54), 38.50, 3, 38.50, 38.55],[Date.UTC(2015,5,04,12,07,00), 38.50, 90, 38.50, 38.55],[Date.UTC(2015,5,04,12,07,05), 38.50, 5, 38.50, 38.55],[Date.UTC(2015,5,04,12,07,10), 38.45, 23, 38.45, 38.50],[Date.UTC(2015,5,04,12,07,20), 38.45, 2, 38.45, 38.50],[Date.UTC(2015,5,04,12,07,25), 38.45, 7, 38.45, 38.50],[Date.UTC(2015,5,04,12,07,30), 38.45, 5, 38.45, 38.50],[Date.UTC(2015,5,04,12,07,36), 38.45, 6, 38.45, 38.50],[Date.UTC(2015,5,04,12,07,41), 38.40, 34, 38.45, 38.50],[Date.UTC(2015,5,04,12,07,46), 38.40, 9, 38.40, 38.45],[Date.UTC(2015,5,04,12,07,51), 38.45, 4, 38.40, 38.45],[Date.UTC(2015,5,04,12,08,01), 38.45, 1, 38.45, 38.50],[Date.UTC(2015,5,04,12,08,06), 38.45, 2, 38.45, 38.50],[Date.UTC(2015,5,04,12,08,17), 38.50, 2, 38.45, 38.50],[Date.UTC(2015,5,04,12,08,27), 38.50, 1, 38.45, 38.50],[Date.UTC(2015,5,04,12,08,42), 38.45, 2, 38.45, 38.50],[Date.UTC(2015,5,04,12,09,08), 38.50, 2, 38.45, 38.50],[Date.UTC(2015,5,04,12,09,13), 38.50, 1, 38.45, 38.50],[Date.UTC(2015,5,04,12,09,23), 38.45, 2, 38.45, 38.50],[Date.UTC(2015,5,04,12,09,28), 38.50, 8, 38.45, 38.50],[Date.UTC(2015,5,04,12,09,38), 38.50, 3, 38.45, 38.50],[Date.UTC(2015,5,04,12,09,44), 38.45, 2, 38.45, 38.50],[Date.UTC(2015,5,04,12,09,49), 38.45, 2, 38.45, 38.50],[Date.UTC(2015,5,04,12,09,54), 38.45, 1, 38.45, 38.50],[Date.UTC(2015,5,04,12,10,04), 38.45, 3, 38.45, 38.50],[Date.UTC(2015,5,04,12,10,25), 38.50, 2, 38.40, 38.50],[Date.UTC(2015,5,04,12,10,40), 38.50, 3, 38.45, 38.50],[Date.UTC(2015,5,04,12,10,45), 38.45, 4, 38.45, 38.50],[Date.UTC(2015,5,04,12,10,50), 38.50, 1, 38.45, 38.50],[Date.UTC(2015,5,04,12,10,55), 38.50, 2, 38.45, 38.50],[Date.UTC(2015,5,04,12,11,01), 38.50, 2, 38.45, 38.50],[Date.UTC(2015,5,04,12,11,06), 38.45, 2, 38.45, 38.50],[Date.UTC(2015,5,04,12,11,11), 38.45, 46, 38.45, 38.50],[Date.UTC(2015,5,04,12,11,16), 38.40, 12, 38.40, 38.45],[Date.UTC(2015,5,04,12,11,21), 38.40, 16, 38.40, 38.45],[Date.UTC(2015,5,04,12,11,26), 38.40, 3, 38.40, 38.45],[Date.UTC(2015,5,04,12,11,41), 38.45, 1, 38.40, 38.45],[Date.UTC(2015,5,04,12,11,47), 38.45, 2, 38.40, 38.45],[Date.UTC(2015,5,04,12,11,52), 38.45, 1, 38.40, 38.45],[Date.UTC(2015,5,04,12,12,07), 38.40, 2, 38.40, 38.45],[Date.UTC(2015,5,04,12,12,17), 38.45, 10, 38.40, 38.45],[Date.UTC(2015,5,04,12,12,22), 38.45, 5, 38.45, 38.50],[Date.UTC(2015,5,04,12,12,33), 38.45, 1, 38.45, 38.50],[Date.UTC(2015,5,04,12,12,38), 38.50, 2, 38.45, 38.50],[Date.UTC(2015,5,04,12,12,43), 38.45, 2, 38.45, 38.50],[Date.UTC(2015,5,04,12,12,48), 38.45, 3, 38.45, 38.50],[Date.UTC(2015,5,04,12,12,58), 38.45, 4, 38.45, 38.50],[Date.UTC(2015,5,04,12,13,03), 38.50, 2, 38.45, 38.50],[Date.UTC(2015,5,04,12,13,08), 38.45, 6, 38.45, 38.50],[Date.UTC(2015,5,04,12,13,14), 38.50, 5, 38.45, 38.50],[Date.UTC(2015,5,04,12,13,19), 38.50, 3, 38.45, 38.50],[Date.UTC(2015,5,04,12,13,24), 38.45, 5, 38.45, 38.50],[Date.UTC(2015,5,04,12,13,29), 38.50, 2, 38.45, 38.50],[Date.UTC(2015,5,04,12,13,34), 38.50, 4, 38.45, 38.50],[Date.UTC(2015,5,04,12,13,39), 38.45, 4, 38.45, 38.50],[Date.UTC(2015,5,04,12,13,44), 38.45, 29, 38.45, 38.50],[Date.UTC(2015,5,04,12,13,49), 38.40, 26, 38.40, 38.50],[Date.UTC(2015,5,04,12,13,55), 38.40, 34, 38.40, 38.45],[Date.UTC(2015,5,04,12,14,00), 38.40, 15, 38.40, 38.45],[Date.UTC(2015,5,04,12,14,05), 38.40, 7, 38.40, 38.45],[Date.UTC(2015,5,04,12,14,20), 38.45, 4, 38.40, 38.45],[Date.UTC(2015,5,04,12,14,25), 38.40, 3, 38.40, 38.45],[Date.UTC(2015,5,04,12,14,30), 38.40, 2, 38.40, 38.45],[Date.UTC(2015,5,04,12,14,41), 38.45, 2, 38.40, 38.45],[Date.UTC(2015,5,04,12,14,46), 38.40, 3, 38.40, 38.45],[Date.UTC(2015,5,04,12,14,51), 38.45, 2, 38.40, 38.45],[Date.UTC(2015,5,04,12,14,56), 38.40, 4, 38.40, 38.45],[Date.UTC(2015,5,04,12,15,01), 38.40, 1, 38.40, 38.45],[Date.UTC(2015,5,04,12,15,11), 38.45, 1, 38.40, 38.45],[Date.UTC(2015,5,04,12,15,27), 38.40, 2, 38.40, 38.45],[Date.UTC(2015,5,04,12,15,32), 38.40, 1, 38.40, 38.45],[Date.UTC(2015,5,04,12,15,37), 38.45, 2, 38.40, 38.45],[Date.UTC(2015,5,04,12,15,47), 38.45, 25, 38.40, 38.45],[Date.UTC(2015,5,04,12,15,52), 38.40, 1, 38.40, 38.45],[Date.UTC(2015,5,04,12,15,58), 38.40, 2, 38.40, 38.45],[Date.UTC(2015,5,04,12,16,03), 38.40, 2, 38.40, 38.45],[Date.UTC(2015,5,04,12,16,08), 38.45, 2, 38.40, 38.45],[Date.UTC(2015,5,04,12,16,13), 38.45, 10, 38.40, 38.45],[Date.UTC(2015,5,04,12,16,44), 38.40, 2, 38.40, 38.45],[Date.UTC(2015,5,04,12,16,54), 38.45, 2, 38.40, 38.45],[Date.UTC(2015,5,04,12,16,59), 38.45, 2, 38.40, 38.45],[Date.UTC(2015,5,04,12,17,09), 38.45, 5, 38.40, 38.45],[Date.UTC(2015,5,04,12,17,15), 38.40, 3, 38.40, 38.45],[Date.UTC(2015,5,04,12,17,20), 38.45, 1, 38.40, 38.45],[Date.UTC(2015,5,04,12,17,25), 38.40, 2, 38.40, 38.45],[Date.UTC(2015,5,04,12,17,30), 38.45, 3, 38.40, 38.45],[Date.UTC(2015,5,04,12,17,40), 38.45, 7, 38.40, 38.45],[Date.UTC(2015,5,04,12,17,50), 38.40, 3, 38.40, 38.45],[Date.UTC(2015,5,04,12,17,56), 38.45, 5, 38.40, 38.45],[Date.UTC(2015,5,04,12,18,06), 38.45, 10, 38.40, 38.45],[Date.UTC(2015,5,04,12,18,11), 38.45, 2, 38.40, 38.45],[Date.UTC(2015,5,04,12,18,37), 38.45, 3, 38.40, 38.45],[Date.UTC(2015,5,04,12,18,47), 38.45, 5, 38.40, 38.45],[Date.UTC(2015,5,04,12,18,57), 38.45, 5, 38.40, 38.45],[Date.UTC(2015,5,04,12,19,07), 38.45, 2, 38.40, 38.45],[Date.UTC(2015,5,04,12,19,17), 38.45, 7, 38.40, 38.45],[Date.UTC(2015,5,04,12,19,23), 38.45, 2, 38.45, 38.50],[Date.UTC(2015,5,04,12,19,28), 38.50, 3, 38.45, 38.50],[Date.UTC(2015,5,04,12,19,33), 38.45, 4, 38.45, 38.50],[Date.UTC(2015,5,04,12,19,58), 38.45, 2, 38.45, 38.50],[Date.UTC(2015,5,04,12,20,04), 38.45, 2, 38.45, 38.50],[Date.UTC(2015,5,04,12,20,14), 38.50, 1, 38.45, 38.50],[Date.UTC(2015,5,04,12,20,19), 38.45, 7, 38.45, 38.50],[Date.UTC(2015,5,04,12,20,24), 38.50, 1, 38.45, 38.50],[Date.UTC(2015,5,04,12,20,29), 38.50, 3, 38.45, 38.50],[Date.UTC(2015,5,04,12,20,40), 38.50, 1, 38.45, 38.50],[Date.UTC(2015,5,04,12,20,45), 38.50, 2, 38.45, 38.50],[Date.UTC(2015,5,04,12,20,50), 38.45, 5, 38.45, 38.50],[Date.UTC(2015,5,04,12,20,55), 38.45, 5, 38.45, 38.50],[Date.UTC(2015,5,04,12,21,00), 38.50, 3, 38.45, 38.50],[Date.UTC(2015,5,04,12,21,10), 38.45, 13, 38.45, 38.50],[Date.UTC(2015,5,04,12,21,15), 38.50, 1, 38.45, 38.50],[Date.UTC(2015,5,04,12,21,20), 38.45, 5, 38.45, 38.50],[Date.UTC(2015,5,04,12,21,26), 38.50, 3, 38.45, 38.50],[Date.UTC(2015,5,04,12,21,31), 38.45, 1, 38.45, 38.50],[Date.UTC(2015,5,04,12,21,41), 38.50, 1, 38.45, 38.50],[Date.UTC(2015,5,04,12,21,56), 38.45, 12, 38.45, 38.50],[Date.UTC(2015,5,04,12,22,06), 38.45, 2, 38.45, 38.50],[Date.UTC(2015,5,04,12,22,12), 38.50, 2, 38.45, 38.50],[Date.UTC(2015,5,04,12,22,17), 38.50, 5, 38.45, 38.50],[Date.UTC(2015,5,04,12,22,42), 38.45, 11, 38.45, 38.50],[Date.UTC(2015,5,04,12,22,47), 38.50, 5, 38.45, 38.50],[Date.UTC(2015,5,04,12,23,08), 38.50, 2, 38.45, 38.50],[Date.UTC(2015,5,04,12,23,13), 38.50, 10, 38.45, 38.50],[Date.UTC(2015,5,04,12,23,18), 38.45, 1, 38.45, 38.50],[Date.UTC(2015,5,04,12,23,23), 38.45, 21, 38.45, 38.50],[Date.UTC(2015,5,04,12,23,44), 38.50, 10, 38.45, 38.50],[Date.UTC(2015,5,04,12,23,49), 38.50, 5, 38.45, 38.50],[Date.UTC(2015,5,04,12,23,54), 38.45, 1, 38.45, 38.50],[Date.UTC(2015,5,04,12,23,59), 38.50, 3, 38.45, 38.50],[Date.UTC(2015,5,04,12,24,04), 38.45, 2, 38.45, 38.50],[Date.UTC(2015,5,04,12,24,09), 38.45, 12, 38.45, 38.50],[Date.UTC(2015,5,04,12,24,14), 38.45, 2, 38.45, 38.50],[Date.UTC(2015,5,04,12,24,20), 38.45, 1, 38.45, 38.50],[Date.UTC(2015,5,04,12,24,35), 38.50, 1, 38.45, 38.50],[Date.UTC(2015,5,04,12,24,40), 38.50, 2, 38.45, 38.50],[Date.UTC(2015,5,04,12,24,45), 38.45, 4, 38.45, 38.50],[Date.UTC(2015,5,04,12,24,50), 38.45, 10, 38.45, 38.50],[Date.UTC(2015,5,04,12,25,06), 38.50, 1, 38.45, 38.50],[Date.UTC(2015,5,04,12,25,16), 38.50, 1, 38.45, 38.50],[Date.UTC(2015,5,04,12,25,21), 38.50, 2, 38.45, 38.50],[Date.UTC(2015,5,04,12,25,26), 38.45, 8, 38.45, 38.50],[Date.UTC(2015,5,04,12,25,31), 38.45, 14, 38.45, 38.50],[Date.UTC(2015,5,04,12,25,36), 38.45, 3, 38.45, 38.50],[Date.UTC(2015,5,04,12,25,41), 38.45, 2, 38.45, 38.50],[Date.UTC(2015,5,04,12,25,52), 38.45, 2, 38.45, 38.50],[Date.UTC(2015,5,04,12,25,57), 38.50, 2, 38.45, 38.50],[Date.UTC(2015,5,04,12,26,02), 38.45, 3, 38.45, 38.50],[Date.UTC(2015,5,04,12,26,07), 38.45, 11, 38.45, 38.50],[Date.UTC(2015,5,04,12,26,12), 38.50, 5, 38.45, 38.50],[Date.UTC(2015,5,04,12,26,22), 38.45, 4, 38.45, 38.50],[Date.UTC(2015,5,04,12,26,28), 38.45, 2, 38.45, 38.50],[Date.UTC(2015,5,04,12,26,38), 38.45, 2, 38.45, 38.50],[Date.UTC(2015,5,04,12,26,43), 38.45, 2, 38.45, 38.50],[Date.UTC(2015,5,04,12,26,48), 38.45, 9, 38.45, 38.50],[Date.UTC(2015,5,04,12,26,53), 38.50, 1, 38.45, 38.50],[Date.UTC(2015,5,04,12,26,58), 38.45, 7, 38.45, 38.50],[Date.UTC(2015,5,04,12,27,09), 38.45, 4, 38.45, 38.50],[Date.UTC(2015,5,04,12,27,14), 38.50, 4, 38.45, 38.50],[Date.UTC(2015,5,04,12,27,19), 38.45, 2, 38.45, 38.50],[Date.UTC(2015,5,04,12,27,24), 38.45, 2, 38.45, 38.50],[Date.UTC(2015,5,04,12,27,29), 38.45, 12, 38.45, 38.50],[Date.UTC(2015,5,04,12,27,50), 38.45, 2, 38.45, 38.50],[Date.UTC(2015,5,04,12,27,55), 38.50, 2, 38.45, 38.50],[Date.UTC(2015,5,04,12,28,00), 38.45, 2, 38.45, 38.50],[Date.UTC(2015,5,04,12,28,05), 38.45, 14, 38.45, 38.50],[Date.UTC(2015,5,04,12,28,10), 38.45, 3, 38.45, 38.50],[Date.UTC(2015,5,04,12,28,20), 38.45, 1, 38.45, 38.50],[Date.UTC(2015,5,04,12,28,31), 38.45, 2, 38.45, 38.50],[Date.UTC(2015,5,04,12,28,41), 38.45, 2, 38.45, 38.50],[Date.UTC(2015,5,04,12,28,46), 38.45, 15, 38.45, 38.50],[Date.UTC(2015,5,04,12,28,51), 38.45, 3, 38.45, 38.50],[Date.UTC(2015,5,04,12,28,56), 38.45, 6, 38.45, 38.50],[Date.UTC(2015,5,04,12,29,07), 38.50, 3, 38.45, 38.50],[Date.UTC(2015,5,04,12,29,12), 38.45, 3, 38.45, 38.50],[Date.UTC(2015,5,04,12,29,22), 38.45, 2, 38.45, 38.50],[Date.UTC(2015,5,04,12,29,27), 38.45, 12, 38.45, 38.50],[Date.UTC(2015,5,04,12,29,32), 38.45, 2, 38.45, 38.50],[Date.UTC(2015,5,04,12,29,42), 38.45, 2, 38.45, 38.50],[Date.UTC(2015,5,04,12,29,47), 38.45, 8, 38.45, 38.50],[Date.UTC(2015,5,04,12,29,58), 38.50, 2, 38.45, 38.50],[Date.UTC(2015,5,04,12,30,03), 38.45, 4, 38.45, 38.50],[Date.UTC(2015,5,04,12,30,08), 38.45, 10, 38.45, 38.50],[Date.UTC(2015,5,04,12,30,13), 38.45, 2, 38.45, 38.50],[Date.UTC(2015,5,04,12,30,18), 38.50, 2, 38.45, 38.50],[Date.UTC(2015,5,04,12,30,23), 38.45, 5, 38.45, 38.50],[Date.UTC(2015,5,04,12,30,28), 38.50, 1, 38.45, 38.50],[Date.UTC(2015,5,04,12,30,34), 38.50, 2, 38.45, 38.50],[Date.UTC(2015,5,04,12,30,39), 38.45, 1, 38.45, 38.50],[Date.UTC(2015,5,04,12,30,44), 38.45, 4, 38.45, 38.50],[Date.UTC(2015,5,04,12,30,49), 38.45, 5, 38.45, 38.50],[Date.UTC(2015,5,04,12,30,54), 38.40, 7, 38.40, 38.45],[Date.UTC(2015,5,04,12,30,59), 38.45, 1, 38.40, 38.45],[Date.UTC(2015,5,04,12,31,04), 38.40, 2, 38.40, 38.45],[Date.UTC(2015,5,04,12,31,09), 38.45, 3, 38.40, 38.45],[Date.UTC(2015,5,04,12,31,19), 38.40, 1, 38.40, 38.45],[Date.UTC(2015,5,04,12,31,25), 38.40, 7, 38.40, 38.45],[Date.UTC(2015,5,04,12,31,30), 38.40, 12, 38.40, 38.45],[Date.UTC(2015,5,04,12,31,35), 38.40, 2, 38.40, 38.45],[Date.UTC(2015,5,04,12,31,40), 38.45, 3, 38.40, 38.45],[Date.UTC(2015,5,04,12,31,45), 38.45, 2, 38.40, 38.45],[Date.UTC(2015,5,04,12,31,50), 38.40, 5, 38.40, 38.45],[Date.UTC(2015,5,04,12,32,00), 38.40, 8, 38.40, 38.45],[Date.UTC(2015,5,04,12,32,06), 38.40, 2, 38.40, 38.45],[Date.UTC(2015,5,04,12,32,11), 38.40, 2, 38.40, 38.45],[Date.UTC(2015,5,04,12,32,16), 38.45, 2, 38.40, 38.45],[Date.UTC(2015,5,04,12,32,21), 38.45, 2, 38.40, 38.45],[Date.UTC(2015,5,04,12,32,31), 38.40, 2, 38.40, 38.45],[Date.UTC(2015,5,04,12,32,36), 38.40, 14, 38.40, 38.45],[Date.UTC(2015,5,04,12,32,41), 38.45, 3, 38.40, 38.45],[Date.UTC(2015,5,04,12,32,47), 38.40, 2, 38.40, 38.45],[Date.UTC(2015,5,04,12,32,52), 38.40, 2, 38.40, 38.45],[Date.UTC(2015,5,04,12,32,57), 38.45, 10, 38.40, 38.45],[Date.UTC(2015,5,04,12,33,02), 38.40, 3, 38.40, 38.45],[Date.UTC(2015,5,04,12,33,12), 38.40, 2, 38.40, 38.45],[Date.UTC(2015,5,04,12,33,17), 38.40, 12, 38.40, 38.45],[Date.UTC(2015,5,04,12,33,22), 38.40, 3, 38.40, 38.45],[Date.UTC(2015,5,04,12,33,33), 38.40, 2, 38.40, 38.45],[Date.UTC(2015,5,04,12,33,43), 38.40, 2, 38.40, 38.45],[Date.UTC(2015,5,04,12,33,53), 38.40, 12, 38.40, 38.45],[Date.UTC(2015,5,04,12,33,58), 38.45, 2, 38.40, 38.45],[Date.UTC(2015,5,04,12,34,04), 38.40, 34, 38.40, 38.45],[Date.UTC(2015,5,04,12,34,09), 38.45, 2, 38.40, 38.45],[Date.UTC(2015,5,04,12,34,14), 38.45, 1, 38.40, 38.45],[Date.UTC(2015,5,04,12,34,24), 38.45, 4, 38.40, 38.45],[Date.UTC(2015,5,04,12,34,29), 38.45, 4, 38.40, 38.45],[Date.UTC(2015,5,04,12,34,34), 38.40, 5, 38.40, 38.45],[Date.UTC(2015,5,04,12,34,39), 38.45, 24, 38.40, 38.45],[Date.UTC(2015,5,04,12,34,44), 38.50, 52, 38.45, 38.50],[Date.UTC(2015,5,04,12,35,05), 38.55, 4, 38.50, 38.55],[Date.UTC(2015,5,04,12,35,15), 38.50, 11, 38.50, 38.55],[Date.UTC(2015,5,04,12,35,20), 38.55, 1, 38.50, 38.55],[Date.UTC(2015,5,04,12,35,26), 38.55, 4, 38.50, 38.55],[Date.UTC(2015,5,04,12,35,31), 38.55, 4, 38.50, 38.55],[Date.UTC(2015,5,04,12,35,36), 38.50, 2, 38.50, 38.55],[Date.UTC(2015,5,04,12,35,41), 38.55, 2, 38.50, 38.55],[Date.UTC(2015,5,04,12,35,46), 38.50, 13, 38.50, 38.55],[Date.UTC(2015,5,04,12,35,51), 38.55, 2, 38.50, 38.55],[Date.UTC(2015,5,04,12,35,56), 38.50, 2, 38.50, 38.55],[Date.UTC(2015,5,04,12,36,07), 38.50, 4, 38.50, 38.55],[Date.UTC(2015,5,04,12,36,12), 38.50, 1, 38.50, 38.55],[Date.UTC(2015,5,04,12,36,17), 38.50, 2, 38.50, 38.55],[Date.UTC(2015,5,04,12,36,22), 38.50, 16, 38.50, 38.55],[Date.UTC(2015,5,04,12,36,27), 38.55, 2, 38.50, 38.55],[Date.UTC(2015,5,04,12,36,38), 38.50, 2, 38.50, 38.55],[Date.UTC(2015,5,04,12,36,43), 38.50, 7, 38.50, 38.55],[Date.UTC(2015,5,04,12,36,48), 38.50, 4, 38.50, 38.55],[Date.UTC(2015,5,04,12,36,53), 38.50, 3, 38.50, 38.55],[Date.UTC(2015,5,04,12,37,03), 38.50, 13, 38.50, 38.55],[Date.UTC(2015,5,04,12,37,08), 38.55, 2, 38.50, 38.55],[Date.UTC(2015,5,04,12,37,14), 38.55, 5, 38.50, 38.55],[Date.UTC(2015,5,04,12,37,24), 38.50, 5, 38.50, 38.55],[Date.UTC(2015,5,04,12,37,29), 38.50, 3, 38.50, 38.55],[Date.UTC(2015,5,04,12,37,34), 38.50, 3, 38.50, 38.55],[Date.UTC(2015,5,04,12,37,39), 38.50, 12, 38.50, 38.55],[Date.UTC(2015,5,04,12,37,44), 38.50, 2, 38.50, 38.55],[Date.UTC(2015,5,04,12,37,49), 38.50, 12, 38.50, 38.55],[Date.UTC(2015,5,04,12,38,05), 38.45, 4, 38.45, 38.50],[Date.UTC(2015,5,04,12,38,15), 38.50, 32, 38.45, 38.50],[Date.UTC(2015,5,04,12,38,25), 38.45, 3, 38.45, 38.50],[Date.UTC(2015,5,04,12,38,36), 38.50, 10, 38.45, 38.50],[Date.UTC(2015,5,04,12,38,41), 38.50, 2, 38.45, 38.50],[Date.UTC(2015,5,04,12,38,46), 38.45, 4, 38.45, 38.50],[Date.UTC(2015,5,04,12,38,51), 38.50, 4, 38.45, 38.50],[Date.UTC(2015,5,04,12,38,56), 38.45, 2, 38.50, 38.55],[Date.UTC(2015,5,04,12,39,01), 38.50, 2, 38.45, 38.50],[Date.UTC(2015,5,04,12,39,17), 38.50, 7, 38.45, 38.50],[Date.UTC(2015,5,04,12,39,22), 38.50, 1, 38.45, 38.50],[Date.UTC(2015,5,04,12,39,27), 38.50, 5, 38.45, 38.50],[Date.UTC(2015,5,04,12,39,32), 38.45, 9, 38.45, 38.50],[Date.UTC(2015,5,04,12,39,37), 38.50, 19, 38.45, 38.50],[Date.UTC(2015,5,04,12,39,53), 38.55, 2, 38.50, 38.55],[Date.UTC(2015,5,04,12,40,03), 38.55, 2, 38.50, 38.55],[Date.UTC(2015,5,04,12,40,08), 38.50, 2, 38.50, 38.55],[Date.UTC(2015,5,04,12,40,13), 38.50, 12, 38.50, 38.55],[Date.UTC(2015,5,04,12,40,18), 38.50, 2, 38.50, 38.55],[Date.UTC(2015,5,04,12,40,28), 38.55, 3, 38.50, 38.55],[Date.UTC(2015,5,04,12,40,33), 38.50, 3, 38.50, 38.55],[Date.UTC(2015,5,04,12,40,39), 38.50, 2, 38.50, 38.55],[Date.UTC(2015,5,04,12,40,44), 38.50, 11, 38.50, 38.55],[Date.UTC(2015,5,04,12,40,49), 38.50, 2, 38.50, 38.55],[Date.UTC(2015,5,04,12,40,54), 38.50, 5, 38.45, 38.55],[Date.UTC(2015,5,04,12,40,59), 38.45, 2, 38.45, 38.50],[Date.UTC(2015,5,04,12,41,04), 38.50, 2, 38.45, 38.50],[Date.UTC(2015,5,04,12,41,14), 38.50, 4, 38.45, 38.50],[Date.UTC(2015,5,04,12,41,19), 38.45, 2, 38.45, 38.50],[Date.UTC(2015,5,04,12,41,24), 38.45, 3, 38.45, 38.50],[Date.UTC(2015,5,04,12,41,30), 38.45, 2, 38.45, 38.50],[Date.UTC(2015,5,04,12,41,40), 38.45, 2, 38.45, 38.50],[Date.UTC(2015,5,04,12,41,45), 38.50, 2, 38.45, 38.50],[Date.UTC(2015,5,04,12,41,50), 38.50, 2, 38.45, 38.50],[Date.UTC(2015,5,04,12,41,55), 38.45, 2, 38.45, 38.50],[Date.UTC(2015,5,04,12,42,00), 38.45, 10, 38.45, 38.50],[Date.UTC(2015,5,04,12,42,05), 38.45, 4, 38.45, 38.50],[Date.UTC(2015,5,04,12,42,16), 38.45, 4, 38.45, 38.50],[Date.UTC(2015,5,04,12,42,26), 38.50, 3, 38.45, 38.50],[Date.UTC(2015,5,04,12,42,36), 38.45, 2, 38.45, 38.50],[Date.UTC(2015,5,04,12,42,46), 38.45, 4, 38.45, 38.50],[Date.UTC(2015,5,04,12,42,52), 38.45, 9, 38.45, 38.50],[Date.UTC(2015,5,04,12,42,57), 38.45, 2, 38.45, 38.50],[Date.UTC(2015,5,04,12,43,02), 38.50, 3, 38.45, 38.50],[Date.UTC(2015,5,04,12,43,12), 38.50, 9, 38.45, 38.50],[Date.UTC(2015,5,04,12,43,17), 38.50, 2, 38.45, 38.50],[Date.UTC(2015,5,04,12,43,22), 38.45, 2, 38.45, 38.50],[Date.UTC(2015,5,04,12,43,27), 38.45, 3, 38.45, 38.50],[Date.UTC(2015,5,04,12,43,33), 38.50, 2, 38.45, 38.50],[Date.UTC(2015,5,04,12,43,38), 38.50, 3, 38.50, 38.55],[Date.UTC(2015,5,04,12,43,58), 38.50, 2, 38.50, 38.55],[Date.UTC(2015,5,04,12,44,03), 38.50, 12, 38.50, 38.55],[Date.UTC(2015,5,04,12,44,08), 38.50, 2, 38.50, 38.55],[Date.UTC(2015,5,04,12,44,13), 38.50, 2, 38.50, 38.55],[Date.UTC(2015,5,04,12,44,18), 38.50, 2, 38.50, 38.55],[Date.UTC(2015,5,04,12,44,29), 38.50, 11, 38.50, 38.55],[Date.UTC(2015,5,04,12,44,34), 38.50, 2, 38.45, 38.50],[Date.UTC(2015,5,04,12,44,39), 38.45, 3, 38.45, 38.50],[Date.UTC(2015,5,04,12,44,44), 38.45, 2, 38.45, 38.50],[Date.UTC(2015,5,04,12,44,49), 38.45, 2, 38.45, 38.50],[Date.UTC(2015,5,04,12,45,00), 38.45, 2, 38.45, 38.50],[Date.UTC(2015,5,04,12,45,05), 38.50, 7, 38.45, 38.50],[Date.UTC(2015,5,04,12,45,15), 38.45, 12, 38.45, 38.50],[Date.UTC(2015,5,04,12,45,20), 38.55, 8, 38.45, 38.50],[Date.UTC(2015,5,04,12,45,25), 38.55, 2, 38.50, 38.55],[Date.UTC(2015,5,04,12,45,30), 38.45, 2, 38.50, 38.55],[Date.UTC(2015,5,04,12,45,40), 38.45, 2, 38.50, 38.55],[Date.UTC(2015,5,04,12,45,46), 38.50, 1, 38.45, 38.55],[Date.UTC(2015,5,04,12,45,51), 38.50, 2, 38.45, 38.50],[Date.UTC(2015,5,04,12,45,56), 38.45, 8, 38.45, 38.50],[Date.UTC(2015,5,04,12,46,01), 38.45, 2, 38.45, 38.50],[Date.UTC(2015,5,04,12,46,06), 38.45, 2, 38.45, 38.50],[Date.UTC(2015,5,04,12,46,11), 38.50, 5, 38.45, 38.50],[Date.UTC(2015,5,04,12,46,16), 38.50, 1, 38.45, 38.50],[Date.UTC(2015,5,04,12,46,22), 38.50, 8, 38.45, 38.50],[Date.UTC(2015,5,04,12,46,27), 38.50, 2, 38.45, 38.50],[Date.UTC(2015,5,04,12,46,32), 38.45, 9, 38.45, 38.50],[Date.UTC(2015,5,04,12,46,37), 38.50, 2, 38.45, 38.50],[Date.UTC(2015,5,04,12,46,42), 38.45, 2, 38.45, 38.50],[Date.UTC(2015,5,04,12,46,47), 38.45, 2, 38.45, 38.50],[Date.UTC(2015,5,04,12,46,52), 38.45, 2, 38.45, 38.50],[Date.UTC(2015,5,04,12,46,57), 38.50, 2, 38.45, 38.50],[Date.UTC(2015,5,04,12,47,03), 38.50, 2, 38.45, 38.50],[Date.UTC(2015,5,04,12,47,13), 38.45, 12, 38.45, 38.50],[Date.UTC(2015,5,04,12,47,18), 38.50, 2, 38.45, 38.50],[Date.UTC(2015,5,04,12,47,23), 38.45, 6, 38.45, 38.50],[Date.UTC(2015,5,04,12,47,28), 38.45, 2, 38.45, 38.50],[Date.UTC(2015,5,04,12,47,38), 38.45, 2, 38.45, 38.50],[Date.UTC(2015,5,04,12,47,49), 38.45, 3, 38.45, 38.50],[Date.UTC(2015,5,04,12,47,54), 38.45, 12, 38.45, 38.50],[Date.UTC(2015,5,04,12,47,59), 38.50, 3, 38.45, 38.50],[Date.UTC(2015,5,04,12,48,04), 38.45, 3, 38.45, 38.50],[Date.UTC(2015,5,04,12,48,09), 38.45, 2, 38.45, 38.50],[Date.UTC(2015,5,04,12,48,14), 38.50, 3, 38.45, 38.50],[Date.UTC(2015,5,04,12,48,19), 38.45, 2, 38.45, 38.50],[Date.UTC(2015,5,04,12,48,25), 38.50, 2, 38.45, 38.50],[Date.UTC(2015,5,04,12,48,30), 38.45, 17, 38.45, 38.50],[Date.UTC(2015,5,04,12,48,40), 38.50, 2, 38.45, 38.50],[Date.UTC(2015,5,04,12,48,45), 38.50, 5, 38.45, 38.50],[Date.UTC(2015,5,04,12,48,50), 38.50, 3, 38.45, 38.50],[Date.UTC(2015,5,04,12,48,55), 38.50, 2, 38.45, 38.50],[Date.UTC(2015,5,04,12,49,00), 38.50, 8, 38.45, 38.50],[Date.UTC(2015,5,04,12,49,06), 38.45, 2, 38.45, 38.50],[Date.UTC(2015,5,04,12,49,11), 38.50, 1, 38.45, 38.50],[Date.UTC(2015,5,04,12,49,16), 38.45, 3, 38.45, 38.50],[Date.UTC(2015,5,04,12,49,26), 38.50, 5, 38.45, 38.50],[Date.UTC(2015,5,04,12,49,31), 38.50, 6, 38.45, 38.50],[Date.UTC(2015,5,04,12,49,36), 38.50, 37, 38.45, 38.50],[Date.UTC(2015,5,04,12,49,47), 38.50, 1, 38.45, 38.50],[Date.UTC(2015,5,04,12,49,57), 38.50, 14, 38.45, 38.50],[Date.UTC(2015,5,04,12,50,02), 38.45, 5, 38.45, 38.50],[Date.UTC(2015,5,04,12,50,07), 38.45, 2, 38.45, 38.50],[Date.UTC(2015,5,04,12,50,12), 38.45, 5, 38.45, 38.50],[Date.UTC(2015,5,04,12,50,17), 38.45, 5, 38.45, 38.50],[Date.UTC(2015,5,04,12,50,22), 38.45, 11, 38.45, 38.50],[Date.UTC(2015,5,04,12,50,28), 38.50, 4, 38.45, 38.50],[Date.UTC(2015,5,04,12,50,33), 38.45, 9, 38.45, 38.50],[Date.UTC(2015,5,04,12,50,38), 38.45, 5, 38.45, 38.50],[Date.UTC(2015,5,04,12,50,43), 38.45, 2, 38.45, 38.50],[Date.UTC(2015,5,04,12,50,48), 38.45, 9, 38.45, 38.50],[Date.UTC(2015,5,04,12,50,53), 38.50, 28, 38.45, 38.50],[Date.UTC(2015,5,04,12,50,58), 38.50, 8, 38.45, 38.50],[Date.UTC(2015,5,04,12,51,03), 38.45, 6, 38.45, 38.50],[Date.UTC(2015,5,04,12,51,19), 38.50, 2, 38.45, 38.50],[Date.UTC(2015,5,04,12,51,24), 38.50, 14, 38.45, 38.50],[Date.UTC(2015,5,04,12,51,29), 38.50, 1, 38.45, 38.50],[Date.UTC(2015,5,04,12,51,34), 38.50, 1, 38.45, 38.50],[Date.UTC(2015,5,04,12,51,39), 38.50, 4, 38.45, 38.50],[Date.UTC(2015,5,04,12,51,44), 38.45, 6, 38.45, 38.50],[Date.UTC(2015,5,04,12,51,54), 38.45, 10, 38.45, 38.50],[Date.UTC(2015,5,04,12,52,00), 38.50, 2, 38.45, 38.50],[Date.UTC(2015,5,04,12,52,05), 38.45, 7, 38.45, 38.50],[Date.UTC(2015,5,04,12,52,10), 38.45, 2, 38.45, 38.50],[Date.UTC(2015,5,04,12,52,15), 38.45, 15, 38.45, 38.50],[Date.UTC(2015,5,04,12,52,25), 38.45, 5, 38.45, 38.50],[Date.UTC(2015,5,04,12,52,30), 38.50, 4, 38.45, 38.50],[Date.UTC(2015,5,04,12,52,35), 38.50, 2, 38.45, 38.50],[Date.UTC(2015,5,04,12,52,46), 38.45, 9, 38.45, 38.50],[Date.UTC(2015,5,04,12,52,51), 38.50, 52, 38.45, 38.50],[Date.UTC(2015,5,04,12,52,56), 38.50, 13, 38.50, 38.55],[Date.UTC(2015,5,04,12,53,06), 38.55, 3, 38.50, 38.55],[Date.UTC(2015,5,04,12,53,11), 38.55, 2, 38.50, 38.55],[Date.UTC(2015,5,04,12,53,27), 38.55, 5, 38.50, 38.55],[Date.UTC(2015,5,04,12,53,37), 38.50, 13, 38.50, 38.55],[Date.UTC(2015,5,04,12,53,42), 38.55, 2, 38.50, 38.55],[Date.UTC(2015,5,04,12,53,47), 38.55, 2, 38.50, 38.55],[Date.UTC(2015,5,04,12,53,52), 38.55, 2, 38.50, 38.55],[Date.UTC(2015,5,04,12,54,03), 38.50, 2, 38.50, 38.55],[Date.UTC(2015,5,04,12,54,18), 38.55, 2, 38.50, 38.55],[Date.UTC(2015,5,04,12,54,23), 38.50, 13, 38.50, 38.55],[Date.UTC(2015,5,04,12,54,33), 38.55, 1, 38.50, 38.55],[Date.UTC(2015,5,04,12,54,44), 38.50, 4, 38.50, 38.55],[Date.UTC(2015,5,04,12,54,49), 38.50, 2, 38.50, 38.55],[Date.UTC(2015,5,04,12,54,54), 38.55, 5, 38.50, 38.55],[Date.UTC(2015,5,04,12,54,59), 38.55, 2, 38.50, 38.55],[Date.UTC(2015,5,04,12,55,04), 38.50, 13, 38.50, 38.55],[Date.UTC(2015,5,04,12,55,09), 38.55, 1, 38.50, 38.55],[Date.UTC(2015,5,04,12,55,25), 38.50, 4, 38.50, 38.55],[Date.UTC(2015,5,04,12,55,30), 38.55, 3, 38.50, 38.55],[Date.UTC(2015,5,04,12,55,35), 38.55, 2, 38.50, 38.55],[Date.UTC(2015,5,04,12,55,40), 38.50, 2, 38.50, 38.55],[Date.UTC(2015,5,04,12,55,50), 38.50, 12, 38.50, 38.55],[Date.UTC(2015,5,04,12,55,55), 38.50, 9, 38.50, 38.55],[Date.UTC(2015,5,04,12,56,00), 38.50, 1, 38.50, 38.55],[Date.UTC(2015,5,04,12,56,06), 38.50, 5, 38.50, 38.55],[Date.UTC(2015,5,04,12,56,11), 38.55, 2, 38.50, 38.55],[Date.UTC(2015,5,04,12,56,16), 38.50, 2, 38.50, 38.55],[Date.UTC(2015,5,04,12,56,26), 38.50, 3, 38.50, 38.55],[Date.UTC(2015,5,04,12,56,31), 38.50, 15, 38.50, 38.55],[Date.UTC(2015,5,04,12,56,36), 38.50, 2, 38.50, 38.55],[Date.UTC(2015,5,04,12,56,42), 38.55, 2, 38.50, 38.55],[Date.UTC(2015,5,04,12,56,47), 38.50, 9, 38.50, 38.55],[Date.UTC(2015,5,04,12,56,52), 38.55, 1, 38.50, 38.55],[Date.UTC(2015,5,04,12,56,57), 38.50, 3, 38.50, 38.55],[Date.UTC(2015,5,04,12,57,02), 38.50, 4, 38.50, 38.55],[Date.UTC(2015,5,04,12,57,12), 38.50, 10, 38.50, 38.55],[Date.UTC(2015,5,04,12,57,17), 38.50, 2, 38.50, 38.55],[Date.UTC(2015,5,04,12,57,23), 38.50, 2, 38.50, 38.55],[Date.UTC(2015,5,04,12,57,28), 38.55, 55, 38.50, 38.55],[Date.UTC(2015,5,04,12,57,38), 38.55, 20, 38.50, 38.55],[Date.UTC(2015,5,04,12,57,43), 38.55, 2, 38.50, 38.55],[Date.UTC(2015,5,04,12,57,48), 38.50, 13, 38.50, 38.55],[Date.UTC(2015,5,04,12,57,53), 38.55, 3, 38.50, 38.55],[Date.UTC(2015,5,04,12,57,58), 38.55, 2, 38.50, 38.55],[Date.UTC(2015,5,04,12,58,04), 38.55, 14, 38.50, 38.55],[Date.UTC(2015,5,04,12,58,09), 38.55, 21, 38.50, 38.55],[Date.UTC(2015,5,04,12,58,19), 38.55, 2, 38.50, 38.55],[Date.UTC(2015,5,04,12,58,24), 38.60, 3, 38.55, 38.60],[Date.UTC(2015,5,04,12,58,29), 38.60, 2, 38.55, 38.60],[Date.UTC(2015,5,04,12,58,34), 38.60, 2, 38.55, 38.60],[Date.UTC(2015,5,04,12,58,39), 38.55, 2, 38.55, 38.60],[Date.UTC(2015,5,04,12,58,45), 38.55, 1, 38.55, 38.60],[Date.UTC(2015,5,04,12,58,55), 38.55, 2, 38.55, 38.60],[Date.UTC(2015,5,04,12,59,00), 38.55, 8, 38.55, 38.60],[Date.UTC(2015,5,04,12,59,05), 38.60, 3, 38.55, 38.60],[Date.UTC(2015,5,04,12,59,10), 38.60, 2, 38.55, 38.65],[Date.UTC(2015,5,04,12,59,15), 38.55, 2, 38.55, 38.60],[Date.UTC(2015,5,04,12,59,26), 38.55, 2, 38.55, 38.60],[Date.UTC(2015,5,04,12,59,36), 38.55, 9, 38.55, 38.60],[Date.UTC(2015,5,04,12,59,41), 38.60, 2, 38.55, 38.60],[Date.UTC(2015,5,04,12,59,46), 38.60, 2, 38.55, 38.65],[Date.UTC(2015,5,04,12,59,51), 38.60, 8, 38.55, 38.60],[Date.UTC(2015,5,04,12,59,56), 38.55, 5, 38.55, 38.60],[Date.UTC(2015,5,04,13,00,07), 38.55, 4, 38.55, 38.60],[Date.UTC(2015,5,04,13,00,12), 38.55, 3, 38.55, 38.60],[Date.UTC(2015,5,04,13,00,17), 38.55, 2, 38.55, 38.60],[Date.UTC(2015,5,04,13,00,22), 38.60, 4, 38.55, 38.60],[Date.UTC(2015,5,04,13,00,27), 38.55, 3, 38.55, 38.60],[Date.UTC(2015,5,04,13,00,37), 38.60, 6, 38.55, 38.60],[Date.UTC(2015,5,04,13,00,43), 38.55, 2, 38.55, 38.60],[Date.UTC(2015,5,04,13,00,48), 38.55, 2, 38.55, 38.60],[Date.UTC(2015,5,04,13,00,53), 38.60, 3, 38.55, 38.60],[Date.UTC(2015,5,04,13,00,58), 38.60, 2, 38.55, 38.60],[Date.UTC(2015,5,04,13,01,08), 38.60, 10, 38.55, 38.60],[Date.UTC(2015,5,04,13,01,13), 38.55, 13, 38.55, 38.60],[Date.UTC(2015,5,04,13,01,18), 38.55, 2, 38.55, 38.60],[Date.UTC(2015,5,04,13,01,23), 38.55, 2, 38.55, 38.60],[Date.UTC(2015,5,04,13,01,29), 38.55, 2, 38.55, 38.60],[Date.UTC(2015,5,04,13,01,34), 38.60, 2, 38.55, 38.60],[Date.UTC(2015,5,04,13,01,39), 38.55, 2, 38.55, 38.60],[Date.UTC(2015,5,04,13,01,44), 38.55, 13, 38.55, 38.60],[Date.UTC(2015,5,04,13,01,59), 38.55, 2, 38.55, 38.60],[Date.UTC(2015,5,04,13,02,04), 38.60, 17, 38.55, 38.60],[Date.UTC(2015,5,04,13,02,09), 38.60, 2, 38.60, 38.65],[Date.UTC(2015,5,04,13,02,15), 38.65, 3, 38.60, 38.65],[Date.UTC(2015,5,04,13,02,20), 38.65, 1, 38.60, 38.65],[Date.UTC(2015,5,04,13,02,30), 38.60, 2, 38.60, 38.65],[Date.UTC(2015,5,04,13,02,35), 38.65, 1, 38.60, 38.65],[Date.UTC(2015,5,04,13,02,40), 38.60, 9, 38.60, 38.65],[Date.UTC(2015,5,04,13,02,45), 38.60, 2, 38.60, 38.65],[Date.UTC(2015,5,04,13,02,50), 38.60, 3, 38.60, 38.65],[Date.UTC(2015,5,04,13,02,56), 38.65, 1, 38.60, 38.65],[Date.UTC(2015,5,04,13,03,11), 38.60, 19, 38.60, 38.65],[Date.UTC(2015,5,04,13,03,16), 38.65, 3, 38.60, 38.65],[Date.UTC(2015,5,04,13,03,21), 38.60, 2, 38.60, 38.65],[Date.UTC(2015,5,04,13,03,26), 38.60, 2, 38.60, 38.65],[Date.UTC(2015,5,04,13,03,37), 38.60, 1, 38.60, 38.65],[Date.UTC(2015,5,04,13,03,42), 38.60, 2, 38.60, 38.65],[Date.UTC(2015,5,04,13,03,47), 38.60, 2, 38.60, 38.65],[Date.UTC(2015,5,04,13,03,57), 38.60, 2, 38.60, 38.65],[Date.UTC(2015,5,04,13,04,02), 38.60, 2, 38.60, 38.65],[Date.UTC(2015,5,04,13,04,07), 38.60, 11, 38.60, 38.65],[Date.UTC(2015,5,04,13,04,18), 38.60, 2, 38.60, 38.65],[Date.UTC(2015,5,04,13,04,23), 38.65, 10, 38.60, 38.65],[Date.UTC(2015,5,04,13,04,28), 38.60, 2, 38.60, 38.65],[Date.UTC(2015,5,04,13,04,33), 38.60, 8, 38.60, 38.65],[Date.UTC(2015,5,04,13,04,43), 38.60, 2, 38.60, 38.65],[Date.UTC(2015,5,04,13,04,48), 38.60, 2, 38.60, 38.65],[Date.UTC(2015,5,04,13,04,59), 38.60, 2, 38.60, 38.65],[Date.UTC(2015,5,04,13,05,04), 38.60, 15, 38.60, 38.65],[Date.UTC(2015,5,04,13,05,09), 38.60, 2, 38.60, 38.65],[Date.UTC(2015,5,04,13,05,14), 38.60, 1, 38.60, 38.65],[Date.UTC(2015,5,04,13,05,19), 38.65, 2, 38.60, 38.65],[Date.UTC(2015,5,04,13,05,24), 38.60, 13, 38.60, 38.65],[Date.UTC(2015,5,04,13,05,29), 38.60, 2, 38.60, 38.65],[Date.UTC(2015,5,04,13,05,34), 38.60, 7, 38.60, 38.65],[Date.UTC(2015,5,04,13,05,40), 38.60, 2, 38.60, 38.65],[Date.UTC(2015,5,04,13,05,45), 38.60, 13, 38.60, 38.65],[Date.UTC(2015,5,04,13,06,00), 38.60, 3, 38.60, 38.65],[Date.UTC(2015,5,04,13,06,05), 38.60, 6, 38.60, 38.65],[Date.UTC(2015,5,04,13,06,10), 38.60, 2, 38.60, 38.65],[Date.UTC(2015,5,04,13,06,15), 38.60, 12, 38.60, 38.65],[Date.UTC(2015,5,04,13,06,21), 38.60, 3, 38.60, 38.65],[Date.UTC(2015,5,04,13,06,31), 38.60, 1, 38.60, 38.65],[Date.UTC(2015,5,04,13,06,36), 38.60, 3, 38.60, 38.65],[Date.UTC(2015,5,04,13,06,41), 38.60, 9, 38.60, 38.65],[Date.UTC(2015,5,04,13,06,46), 38.60, 13, 38.60, 38.65],[Date.UTC(2015,5,04,13,06,51), 38.55, 7, 38.60, 38.65],[Date.UTC(2015,5,04,13,06,56), 38.60, 14, 38.55, 38.60],[Date.UTC(2015,5,04,13,07,12), 38.60, 14, 38.55, 38.60],[Date.UTC(2015,5,04,13,07,22), 38.60, 4, 38.60, 38.65],[Date.UTC(2015,5,04,13,07,27), 38.60, 1, 38.60, 38.65],[Date.UTC(2015,5,04,13,07,32), 38.60, 2, 38.60, 38.65],[Date.UTC(2015,5,04,13,07,37), 38.60, 3, 38.60, 38.65],[Date.UTC(2015,5,04,13,07,43), 38.60, 10, 38.60, 38.65],[Date.UTC(2015,5,04,13,07,48), 38.60, 7, 38.60, 38.65],[Date.UTC(2015,5,04,13,07,53), 38.65, 20, 38.60, 38.65],[Date.UTC(2015,5,04,13,07,58), 38.65, 2, 38.60, 38.65],[Date.UTC(2015,5,04,13,08,03), 38.60, 9, 38.60, 38.65],[Date.UTC(2015,5,04,13,08,13), 38.60, 3, 38.60, 38.65],[Date.UTC(2015,5,04,13,08,18), 38.60, 3, 38.60, 38.65],[Date.UTC(2015,5,04,13,08,24), 38.65, 17, 38.60, 38.65],[Date.UTC(2015,5,04,13,08,34), 38.60, 7, 38.60, 38.65],[Date.UTC(2015,5,04,13,08,39), 38.60, 3, 38.60, 38.65],[Date.UTC(2015,5,04,13,08,44), 38.60, 4, 38.60, 38.65],[Date.UTC(2015,5,04,13,08,49), 38.60, 5, 38.60, 38.65],[Date.UTC(2015,5,04,13,08,54), 38.60, 4, 38.60, 38.65],[Date.UTC(2015,5,04,13,08,59), 38.60, 4, 38.60, 38.65],[Date.UTC(2015,5,04,13,09,05), 38.65, 16, 38.60, 38.65],[Date.UTC(2015,5,04,13,09,10), 38.65, 4, 38.65, 38.70],[Date.UTC(2015,5,04,13,09,15), 38.65, 4, 38.65, 38.70],[Date.UTC(2015,5,04,13,09,20), 38.65, 1, 38.65, 38.70],[Date.UTC(2015,5,04,13,09,25), 38.70, 10, 38.65, 38.70],[Date.UTC(2015,5,04,13,09,30), 38.65, 2, 38.65, 38.70],[Date.UTC(2015,5,04,13,09,40), 38.65, 12, 38.65, 38.70],[Date.UTC(2015,5,04,13,09,51), 38.65, 2, 38.65, 38.70],[Date.UTC(2015,5,04,13,09,56), 38.70, 10, 38.65, 38.70],[Date.UTC(2015,5,04,13,10,06), 38.70, 2, 38.65, 38.70],[Date.UTC(2015,5,04,13,10,11), 38.65, 11, 38.65, 38.70],[Date.UTC(2015,5,04,13,10,21), 38.65, 2, 38.65, 38.70],[Date.UTC(2015,5,04,13,10,27), 38.65, 10, 38.65, 38.70],[Date.UTC(2015,5,04,13,10,32), 38.65, 10, 38.65, 38.70],[Date.UTC(2015,5,04,13,10,37), 38.65, 1, 38.65, 38.70],[Date.UTC(2015,5,04,13,10,42), 38.60, 49, 38.60, 38.70],[Date.UTC(2015,5,04,13,10,47), 38.60, 12, 38.60, 38.65],[Date.UTC(2015,5,04,13,10,52), 38.65, 2, 38.60, 38.65],[Date.UTC(2015,5,04,13,11,13), 38.60, 12, 38.60, 38.65],[Date.UTC(2015,5,04,13,11,18), 38.65, 2, 38.60, 38.65],[Date.UTC(2015,5,04,13,11,38), 38.60, 11, 38.60, 38.65],[Date.UTC(2015,5,04,13,11,48), 38.65, 1, 38.60, 38.65],[Date.UTC(2015,5,04,13,11,59), 38.60, 7, 38.60, 38.65],[Date.UTC(2015,5,04,13,12,09), 38.60, 9, 38.60, 38.65],[Date.UTC(2015,5,04,13,12,14), 38.65, 4, 38.60, 38.65],[Date.UTC(2015,5,04,13,12,19), 38.60, 1, 38.60, 38.70],[Date.UTC(2015,5,04,13,12,24), 38.65, 2, 38.60, 38.65],[Date.UTC(2015,5,04,13,12,40), 38.60, 8, 38.60, 38.65],[Date.UTC(2015,5,04,13,13,05), 38.60, 8, 38.60, 38.65],[Date.UTC(2015,5,04,13,13,15), 38.65, 10, 38.60, 38.65],[Date.UTC(2015,5,04,13,13,31), 38.65, 1, 38.60, 38.65],[Date.UTC(2015,5,04,13,13,36), 38.60, 13, 38.60, 38.65],[Date.UTC(2015,5,04,13,13,46), 38.60, 2, 38.60, 38.65],[Date.UTC(2015,5,04,13,13,56), 38.65, 1, 38.60, 38.65],[Date.UTC(2015,5,04,13,14,07), 38.60, 22, 38.60, 38.65],[Date.UTC(2015,5,04,13,14,17), 38.65, 3, 38.60, 38.65],[Date.UTC(2015,5,04,13,14,27), 38.65, 1, 38.60, 38.65],[Date.UTC(2015,5,04,13,14,32), 38.65, 2, 38.60, 38.65],[Date.UTC(2015,5,04,13,14,37), 38.65, 2, 38.60, 38.65],[Date.UTC(2015,5,04,13,14,42), 38.65, 1, 38.60, 38.65],[Date.UTC(2015,5,04,13,14,48), 38.65, 2, 38.60, 38.65],[Date.UTC(2015,5,04,13,14,53), 38.70, 10, 38.60, 38.65],[Date.UTC(2015,5,04,13,14,58), 38.70, 2, 38.60, 38.75],[Date.UTC(2015,5,04,13,15,08), 38.70, 1, 38.65, 38.70],[Date.UTC(2015,5,04,13,15,13), 38.70, 5, 38.65, 38.70],[Date.UTC(2015,5,04,13,15,29), 38.70, 1, 38.65, 38.70],[Date.UTC(2015,5,04,13,15,49), 38.70, 8, 38.70, 38.75],[Date.UTC(2015,5,04,13,15,54), 38.75, 2, 38.70, 38.75],[Date.UTC(2015,5,04,13,15,59), 38.75, 1, 38.70, 38.75],[Date.UTC(2015,5,04,13,16,04), 38.70, 13, 38.70, 38.75],[Date.UTC(2015,5,04,13,16,09), 38.70, 3, 38.70, 38.75],[Date.UTC(2015,5,04,13,16,20), 38.70, 6, 38.70, 38.75],[Date.UTC(2015,5,04,13,16,25), 38.65, 10, 38.65, 38.70],[Date.UTC(2015,5,04,13,16,35), 38.65, 1, 38.65, 38.70],[Date.UTC(2015,5,04,13,16,40), 38.65, 3, 38.65, 38.70],[Date.UTC(2015,5,04,13,16,51), 38.65, 8, 38.65, 38.70],[Date.UTC(2015,5,04,13,17,01), 38.65, 13, 38.65, 38.70],[Date.UTC(2015,5,04,13,17,06), 38.65, 2, 38.65, 38.70],[Date.UTC(2015,5,04,13,17,11), 38.65, 11, 38.65, 38.70],[Date.UTC(2015,5,04,13,17,16), 38.65, 4, 38.60, 38.65],[Date.UTC(2015,5,04,13,17,21), 38.70, 101, 38.60, 38.65],[Date.UTC(2015,5,04,13,17,27), 38.60, 11, 38.60, 38.70],[Date.UTC(2015,5,04,13,17,32), 38.65, 1, 38.60, 38.70],[Date.UTC(2015,5,04,13,17,47), 38.60, 3, 38.60, 38.65],[Date.UTC(2015,5,04,13,17,52), 38.60, 11, 38.60, 38.65],[Date.UTC(2015,5,04,13,18,02), 38.65, 2, 38.60, 38.65],[Date.UTC(2015,5,04,13,18,13), 38.70, 1, 38.60, 38.70],[Date.UTC(2015,5,04,13,18,23), 38.70, 7, 38.60, 38.70],[Date.UTC(2015,5,04,13,18,33), 38.70, 1, 38.65, 38.70],[Date.UTC(2015,5,04,13,18,38), 38.65, 1, 38.65, 38.70],[Date.UTC(2015,5,04,13,18,43), 38.65, 8, 38.65, 38.70],[Date.UTC(2015,5,04,13,18,49), 38.65, 6, 38.65, 38.70],[Date.UTC(2015,5,04,13,19,04), 38.65, 3, 38.60, 38.65],[Date.UTC(2015,5,04,13,19,09), 38.65, 2, 38.60, 38.65],[Date.UTC(2015,5,04,13,19,14), 38.65, 3, 38.60, 38.65],[Date.UTC(2015,5,04,13,19,19), 38.65, 6, 38.60, 38.65],[Date.UTC(2015,5,04,13,19,25), 38.60, 3, 38.60, 38.65],[Date.UTC(2015,5,04,13,19,30), 38.65, 3, 38.60, 38.65],[Date.UTC(2015,5,04,13,19,40), 38.65, 1, 38.60, 38.65],[Date.UTC(2015,5,04,13,19,45), 38.65, 2, 38.60, 38.65],[Date.UTC(2015,5,04,13,19,50), 38.65, 2, 38.60, 38.65],[Date.UTC(2015,5,04,13,19,55), 38.60, 1, 38.60, 38.65],[Date.UTC(2015,5,04,13,20,00), 38.65, 2, 38.60, 38.65],[Date.UTC(2015,5,04,13,20,06), 38.65, 1, 38.60, 38.65],[Date.UTC(2015,5,04,13,20,11), 38.65, 8, 38.60, 38.65],[Date.UTC(2015,5,04,13,20,16), 38.65, 1, 38.60, 38.65],[Date.UTC(2015,5,04,13,20,26), 38.65, 1, 38.65, 38.70],[Date.UTC(2015,5,04,13,20,36), 38.70, 2, 38.65, 38.70],[Date.UTC(2015,5,04,13,20,41), 38.70, 4, 38.65, 38.70],[Date.UTC(2015,5,04,13,20,52), 38.65, 2, 38.65, 38.70],[Date.UTC(2015,5,04,13,20,57), 38.65, 3, 38.65, 38.70],[Date.UTC(2015,5,04,13,21,02), 38.70, 5, 38.65, 38.70],[Date.UTC(2015,5,04,13,21,07), 38.65, 4, 38.65, 38.70],[Date.UTC(2015,5,04,13,21,17), 38.70, 3, 38.65, 38.70],[Date.UTC(2015,5,04,13,21,22), 38.65, 3, 38.65, 38.70],[Date.UTC(2015,5,04,13,21,27), 38.80, 100, 38.65, 38.70],[Date.UTC(2015,5,04,13,21,38), 38.70, 3, 38.70, 38.75],[Date.UTC(2015,5,04,13,21,43), 38.70, 1, 38.70, 38.75],[Date.UTC(2015,5,04,13,21,48), 38.85, 5, 38.70, 38.75],[Date.UTC(2015,5,04,13,21,53), 38.80, 3, 38.80, 38.85],[Date.UTC(2015,5,04,13,22,03), 38.80, 1, 38.75, 38.80],[Date.UTC(2015,5,04,13,22,08), 38.80, 1, 38.75, 38.80],[Date.UTC(2015,5,04,13,22,13), 38.80, 2, 38.75, 38.80],[Date.UTC(2015,5,04,13,22,19), 38.75, 1, 38.75, 38.80],[Date.UTC(2015,5,04,13,22,24), 38.75, 2, 38.75, 38.80],[Date.UTC(2015,5,04,13,22,29), 38.80, 12, 38.75, 38.80],[Date.UTC(2015,5,04,13,22,44), 38.80, 13, 38.75, 38.80],[Date.UTC(2015,5,04,13,22,49), 38.80, 4, 38.80, 38.85],[Date.UTC(2015,5,04,13,22,54), 38.80, 1, 38.80, 38.85],[Date.UTC(2015,5,04,13,22,59), 38.80, 1, 38.80, 38.85],[Date.UTC(2015,5,04,13,23,05), 38.80, 1, 38.80, 38.85],[Date.UTC(2015,5,04,13,23,10), 38.80, 2, 38.80, 38.85],[Date.UTC(2015,5,04,13,23,15), 38.80, 3, 38.80, 38.85],[Date.UTC(2015,5,04,13,23,20), 38.85, 7, 38.80, 38.85],[Date.UTC(2015,5,04,13,23,25), 38.85, 5, 38.85, 38.90],[Date.UTC(2015,5,04,13,23,30), 38.85, 1, 38.85, 38.90],[Date.UTC(2015,5,04,13,23,35), 38.85, 1, 38.85, 38.90],[Date.UTC(2015,5,04,13,23,41), 38.85, 2, 38.85, 38.90],[Date.UTC(2015,5,04,13,23,46), 38.90, 3, 38.85, 38.90],[Date.UTC(2015,5,04,13,23,56), 38.90, 1, 38.85, 38.90],[Date.UTC(2015,5,04,13,24,01), 38.90, 4, 38.85, 38.90],[Date.UTC(2015,5,04,13,24,11), 38.90, 8, 38.90, 38.95],[Date.UTC(2015,5,04,13,24,17), 38.90, 3, 38.90, 38.95],[Date.UTC(2015,5,04,13,24,27), 38.95, 21, 38.90, 38.95],[Date.UTC(2015,5,04,13,24,32), 38.95, 1, 38.90, 38.95],[Date.UTC(2015,5,04,13,24,37), 38.95, 10, 38.90, 38.95],[Date.UTC(2015,5,04,13,24,42), 38.95, 5, 38.90, 38.95],[Date.UTC(2015,5,04,13,24,47), 38.95, 2, 38.90, 38.95],[Date.UTC(2015,5,04,13,24,52), 38.90, 3, 38.90, 38.95],[Date.UTC(2015,5,04,13,24,57), 38.95, 5, 38.90, 38.95],[Date.UTC(2015,5,04,13,30,00), 38.80, 572, 38.80, 38.85]]\r\n"
     ]
    },
    {
     "name": "stderr",
     "output_type": "stream",
     "text": [
      "C:\\Python27\\lib\\site-packages\\requests\\packages\\urllib3\\util\\ssl_.py:90: InsecurePlatformWarning: A true SSLContext object is not available. This prevents urllib3 from configuring SSL appropriately and may cause certain SSL connections to fail. For more information, see https://urllib3.readthedocs.org/en/latest/security.html#insecureplatformwarning.\n",
      "  InsecurePlatformWarning\n"
     ]
    }
   ],
   "source": [
    "import requests\n",
    "import re\n",
    "rs = requests.session()\n",
    "import json\n",
    "header = {'User-Agent':'Mozilla/5.0 (Windows NT 6.1; WOW64) AppleWebKit/537.36 (KHTML, like Gecko) Chrome/43.0.2357.81 Safari/537.36'}\n",
    "res = rs.get('https://www.stockdog.com.tw/stockdog/index.php?m=overview&sid=1101+%E5%8F%B0%E6%B3%A5', headers = header)\n",
    "m = re.findall('.innerHTML=\\'<iframe src=\\\"(.*?)\\\"', res.text)\n",
    "#m = re.search('document.getElementById(\\'g0\\').innerHTML=\\'\\<iframe src=\\\"(.*?)\\\"', res.text)\n",
    "link = 'https://www.stockdog.com.tw/stockdog/' + m[0]\n",
    "res2 = rs.get(link, headers = header)\n",
    "m = re.search('data=(.*)',res2.text)\n",
    "print m.group(1)\n",
    "\n",
    "\n",
    "#document.getElementById('g0').innerHTML='<iframe src=\"guest_show.php?sid=1101&GStype=15553a058f542407dedf20b8d6ac4bbe13\" width=\"100%\" height=\"590\" marginwidth=\"0\" #marginheight=\"0\" scrolling=\"no\" frameborder=\"0\" align=\"center\"></iframe>';}else if(v1==1){document.getElementById('g1').innerHTML='<iframe src=\"guest_show.php?click_btn3=1&click_btn6=1&click_btn7=1&sid=1101&GStype=15553a058f542407dedf20b8d6ac4bbe11\" width=\"100%\" height=\"650\" marginwidth=\"0\" #marginheight=\"0\" scrolling=\"no\" frameborder=\"0\" align=\"center\"></iframe>';}else if(v1==2){document.getElementById('g2').innerHTML='<iframe src=\"guest_show.php?date2=2015-05-29&sid=1101&GStype=15553a058f542407dedf20b8d6ac4bbe14\" width=\"100%\" height=\"400\" marginwidth=\"0\" #marginheight=\"0\" scrolling=\"no\" frameborder=\"0\" align=\"center\"></iframe>';}else if(v1==3){document.getElementById('g3').innerHTML='<iframe src=\"guest_show.php?sid=1101&GStype=15553a058f542407dedf20b8d6ac4bbe15&sdate=2012-06-11&edate=2015-06-04\" width=\"100%\" height=\"450\" marginwidth=\"0\" #marginheight=\"0\" scrolling=\"no\" frameborder=\"0\" align=\"center\"></iframe>';}else if(v1==4){document.getElementById('g4').innerHTML='<iframe src=\"guest_show.php?sid=1101&GStype=15553a058f542407dedf20b8d6ac4bbe16\" width=\"100%\" height=\"450\" marginwidth=\"0\" #marginheight=\"0\" scrolling=\"no\" frameborder=\"0\" align=\"center\"></iframe>';}else if(v1==5){document.getElementById('g5').innerHTML='<iframe src=\"guest_show.php?sid=1101&GStype=15553a058f542407dedf20b8d6ac4bbe17\" width=\"100%\" height=\"450\" marginwidth=\"0\" #marginheight=\"0\" scrolling=\"no\" frameborder=\"0\" align=\"center\"></iframe>';}else if(v1==6){document.getElementById('g6').innerHTML='<iframe src=\"guest_show.php?date=2015-06-04&sid=1101&GStype=15553a058f542407dedf20b8d6ac4bbe18\" width=\"100%\" height=\"800\" marginwidth=\"0\" #marginheight=\"0\" scrolling=\"no\" frameborder=\"0\" align=\"center\"></iframe>';}else if(v1==7){document.getElementById('g7').innerHTML='<iframe src=\"guest_show.php?sid=1101&GStype=15553a058f542407dedf20b8d6ac4bbe19&day=120\" width=\"100%\" height=\"490\" id=\"f\" marginwidth=\"0\" #marginheight=\"0\" scrolling=\"no\" frameborder=\"0\" align=\"center\"></iframe> ';}else if(v1==8){document.getElementById('g8').innerHTML='<iframe src=\"guest_show.php?date=2015-06-04&sid=1101&Ym=201506&GStype=25553a058f542407dedf20b8d6ac4bbe10\" width=\"100%\" height=\"400\" marginwidth=\"0\" #marginheight=\"0\" scrolling=\"no\" frameborder=\"0\" align=\"center\"></iframe>';}"
   ]
  },
  {
   "cell_type": "code",
   "execution_count": 193,
   "metadata": {
    "collapsed": false
   },
   "outputs": [
    {
     "name": "stdout",
     "output_type": "stream",
     "text": [
      "name found\n"
     ]
    }
   ],
   "source": [
    "pattern='''\n",
    "趙錢孫李　周吳鄭王　馮陳褚衛　蔣沈韓楊\n",
    "朱秦尤許　何呂施張　孔曹嚴華　金魏陶姜\n",
    "戚謝鄒喻　柏水竇章　雲蘇潘葛　奚范彭郎\n",
    "魯韋昌馬　苗鳳花方　俞任袁柳　酆鮑史唐\n",
    "費廉岑薛　雷賀倪湯　滕殷羅畢　郝鄔安常\n",
    "樂于時傅　皮卞齊康　伍余元卜　顧孟平黃\n",
    "和穆蕭尹　姚邵湛汪　祁毛禹狄　米貝明臧\n",
    "計伏成戴　談宋茅龐　熊紀舒屈　項祝董梁\n",
    "杜阮藍閔　席季麻強　賈路婁危　江童顏郭\n",
    "梅盛林刁　鍾徐丘駱　高夏蔡田　樊胡凌霍\n",
    "虞萬支柯　昝管盧莫　經房裘繆　干解應宗\n",
    "丁宣賁鄧　郁單杭洪　包諸左石　崔吉鈕龔\n",
    "程嵇邢滑　裴陸榮翁　荀羊於惠　甄麴家封\n",
    "芮羿儲靳　汲邴糜松　井段富巫　烏焦巴弓\n",
    "牧隗山谷　車侯宓蓬　全郗班仰　秋仲伊宮\n",
    "甯仇欒暴　甘鈄厲戎　祖武符劉　景詹束龍\n",
    "葉幸司韶　郜黎薊薄　印宿白懷　蒲邰從鄂\n",
    "索咸籍賴　卓藺屠蒙　池喬陰鬱　胥能蒼雙\n",
    "聞莘黨翟　譚貢勞逄　姬申扶堵　冉宰酈雍\n",
    "郤璩桑桂　濮牛壽通　邊扈燕冀　郟浦尚農\n",
    "溫別莊晏　柴瞿閻充　慕連茹習　宦艾魚容\n",
    "向古易慎　戈廖庾終　暨居衡步　都耿滿弘\n",
    "匡國文寇　廣祿闕東　歐殳沃利　蔚越夔隆\n",
    "師鞏厙聶　晁勾敖融　冷訾辛闞　那簡饒空\n",
    "曾毋沙乜　養鞠須豐　巢關蒯相　查后荊紅\n",
    "游竺權逯　蓋益桓公　万俟司馬　上官歐陽\n",
    "夏侯諸葛　聞人東方　赫連皇甫　尉遲公羊\n",
    "澹臺公冶　宗政濮陽　淳于單于　太叔申屠\n",
    "公孫仲孫　軒轅令狐　鍾離宇文　長孫慕容\n",
    "鮮于閭丘　司徒司空　亓官司寇　仉督子車\n",
    "顓孫端木　巫馬公西　漆雕樂正　壤駟公良\n",
    "拓跋夾谷　宰父穀梁　晉楚閆法　汝鄢涂欽\n",
    "段干百里　東郭南門　呼延歸海　羊舌微生\n",
    "岳帥緱亢　況後有琴　梁丘左丘　東門西門\n",
    "商牟佘佴　伯賞南宮　墨哈譙笪　年愛陽佟\n",
    "'''\n",
    "pat2 =  ''.join(pattern.strip().split('　'))\n",
    "repattern = '|'.join(pat2.decode('utf-8'))\n",
    "#print repattern\n",
    "ary = ['趙雲', '臺北市', '李大大']\n",
    "m =re.match('(趙|錢|孫|李|周|吳|鄭|王)', )\n",
    "if m:\n",
    "    print \"name found\""
   ]
  },
  {
   "cell_type": "code",
   "execution_count": null,
   "metadata": {
    "collapsed": true
   },
   "outputs": [],
   "source": []
  }
 ],
 "metadata": {
  "kernelspec": {
   "display_name": "Python 2",
   "language": "python",
   "name": "python2"
  },
  "language_info": {
   "codemirror_mode": {
    "name": "ipython",
    "version": 2
   },
   "file_extension": ".py",
   "mimetype": "text/x-python",
   "name": "python",
   "nbconvert_exporter": "python",
   "pygments_lexer": "ipython2",
   "version": "2.7.10"
  }
 },
 "nbformat": 4,
 "nbformat_minor": 0
}
