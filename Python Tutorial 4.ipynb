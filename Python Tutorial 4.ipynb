{
 "cells": [
  {
   "cell_type": "code",
   "execution_count": 1,
   "metadata": {
    "collapsed": false
   },
   "outputs": [
    {
     "name": "stdout",
     "output_type": "stream",
     "text": [
      "SQLite version: 3.6.21\n"
     ]
    }
   ],
   "source": [
    "import sqlite3 as lite \n",
    "import sys \n",
    "con = None \n",
    "try: \n",
    "    con = lite.connect('test.db') # connect to database \n",
    "    cur = con.cursor() # create cursor \n",
    "    cur.execute('SELECT SQLITE_VERSION()') # select database version  \n",
    "    data = cur.fetchone() # fetch one data at a time \n",
    "    print \"SQLite version: %s\" % data \n",
    "except lite.Error, e: \n",
    "    print \"Error %s:\" % e.args[0] \n",
    "    sys.exit(1) \n",
    "finally: \n",
    "    if con: \n",
    "        con.close()"
   ]
  },
  {
   "cell_type": "code",
   "execution_count": 5,
   "metadata": {
    "collapsed": false
   },
   "outputs": [
    {
     "name": "stdout",
     "output_type": "stream",
     "text": [
      "0912173381 United State 53\n",
      "0928375018 Tokyo Japan 6\n",
      "0957209108 Taipei 29\n"
     ]
    }
   ],
   "source": [
    "import sqlite3 as lite \n",
    "import sys \n",
    "con = lite.connect(\"test.db\") \n",
    "with con: \n",
    "    cur = con.cursor() # Drop Table If Exisits \n",
    "    cur.execute(\"DROP TABLE IF EXISTS PhoneAddress\") \n",
    "    cur.execute(\"CREATE TABLE PhoneAddress(phone CHAR(10) PRIMARY KEY, address TEXT, name TEXT unique, age INT NOT NULL)\") \n",
    "    cur.execute(\"INSERT INTO PhoneAddress VALUES('0912173381','United State','Jhon Doe',53)\") \n",
    "    cur.execute(\"INSERT INTO PhoneAddress VALUES('0928375018','Tokyo Japan','MuMu Cat',6)\") \n",
    "    cur.execute(\"INSERT INTO PhoneAddress VALUES('0957209108','Taipei','Richard',29)\") \n",
    "    cur.execute(\"SELECT phone,address, age FROM PhoneAddress\") \n",
    "    data = cur.fetchall() \n",
    "    for rec in data: \n",
    "        print rec[0], rec[1], rec[2] \n",
    "con.close() \n",
    "\n"
   ]
  },
  {
   "cell_type": "code",
   "execution_count": 12,
   "metadata": {
    "collapsed": false
   },
   "outputs": [
    {
     "name": "stdout",
     "output_type": "stream",
     "text": [
      "you can login\n"
     ]
    }
   ],
   "source": [
    "import sqlite3 as lite \n",
    "import sys \n",
    "con = lite.connect(\"test.db\") \n",
    "with con: \n",
    "    cur = con.cursor() # Drop Table If Exisits \n",
    "    cur.execute(\"DROP TABLE IF EXISTS account\") \n",
    "    cur.execute(\"CREATE TABLE account(username TEXT, password TEXT)\") \n",
    "    cur.execute(\"INSERT INTO account VALUES('qoo','qoo loves oop')\") \n",
    "    cur.execute(\"SELECT * FROM account where username = 'qoo' and password = 'qoo loves oop'\") \n",
    "    data = cur.fetchone() \n",
    "    if data:\n",
    "        print \"you can login\"\n",
    "con.close() \n",
    "\n"
   ]
  },
  {
   "cell_type": "code",
   "execution_count": 13,
   "metadata": {
    "collapsed": false
   },
   "outputs": [
    {
     "name": "stdout",
     "output_type": "stream",
     "text": [
      "username:' or 1=1; -- \n",
      "password:sdfsfsdf\n",
      "you can login\n"
     ]
    }
   ],
   "source": [
    "username = raw_input(\"username:\")\n",
    "password = raw_input(\"password:\")\n",
    "import sqlite3 as lite \n",
    "import sys \n",
    "con = lite.connect(\"test.db\") \n",
    "with con: \n",
    "    cur = con.cursor() # Drop Table If Exisits \n",
    "    cur.execute(\"SELECT * FROM account where username = '\"+username+\"' and password = '\"+password+\"'\") \n",
    "    #cur.execute(\"SELECT * FROM account where username = '' or 1=1; --' and password = '\"+password+\"'\") \n",
    "    data = cur.fetchone() \n",
    "    if data:\n",
    "        print \"you can login\"\n",
    "    else:\n",
    "        print \"authtication failed\"\n",
    "con.close() \n",
    "\n"
   ]
  },
  {
   "cell_type": "code",
   "execution_count": 5,
   "metadata": {
    "collapsed": false
   },
   "outputs": [
    {
     "name": "stdout",
     "output_type": "stream",
     "text": [
      "username:' or 1=1; --\n",
      "password:sfsdf\n",
      "you can login\n"
     ]
    }
   ],
   "source": [
    "username = raw_input(\"username:\")\n",
    "password = raw_input(\"password:\")\n",
    "import sqlite3 as lite \n",
    "import sys \n",
    "con = lite.connect(\"test.db\") \n",
    "with con: \n",
    "    cur = con.cursor() # Drop Table If Exisits \n",
    "    cur.execute(\"SELECT * FROM account where username = '%s' and password = '%s'\"%(username, password)) \n",
    "    data = cur.fetchone() \n",
    "    if data:\n",
    "        print \"you can login\"\n",
    "    else:\n",
    "        print \"authtication failed\"\n",
    "con.close() \n",
    "\n",
    "#http://docs.sqlalchemy.org/en/rel_1_0/orm/\n",
    "#https://peewee.readthedocs.org/en/latest/"
   ]
  },
  {
   "cell_type": "code",
   "execution_count": 6,
   "metadata": {
    "collapsed": false
   },
   "outputs": [
    {
     "name": "stdout",
     "output_type": "stream",
     "text": [
      "(0, u'phone', u'CHAR(10)', 0, None, 1)\n",
      "(1, u'address', u'TEXT', 0, None, 0)\n",
      "(2, u'name', u'TEXT', 0, None, 0)\n",
      "(3, u'age', u'INT', 1, None, 0)\n"
     ]
    }
   ],
   "source": [
    "import sqlite3 as lite \n",
    "import sys \n",
    "con = lite.connect(\"test.db\") \n",
    "with con: \n",
    "    cur = con.cursor()\n",
    "    # Read Meta Information\n",
    "    cur.execute(\"PRAGMA table_info(PhoneAddress)\")    \n",
    "    rows = cur.fetchall()\n",
    "    for row in rows:\n",
    "        print row\n",
    "con.close() \n"
   ]
  },
  {
   "cell_type": "code",
   "execution_count": 10,
   "metadata": {
    "collapsed": false
   },
   "outputs": [
    {
     "name": "stdout",
     "output_type": "stream",
     "text": [
      "(u'0928375018', u'Tokyo Japan')\n",
      "(u'0957209108', u'Taipei')\n"
     ]
    }
   ],
   "source": [
    "import sqlite3 as lite \n",
    "import sys \n",
    "con = lite.connect(\"test.db\") \n",
    "with con:     \n",
    "    cur = con.cursor()\n",
    "    cur.execute(\"SELECT phone,address FROM PhoneAddress\") \n",
    "    data = cur.fetchone()     \n",
    "    #print data\n",
    "    #print data[0], data[1]\n",
    "\n",
    "    rows = cur.fetchall()\n",
    "    for row in rows:\n",
    "        print row\n",
    "con.close() \n"
   ]
  },
  {
   "cell_type": "code",
   "execution_count": 11,
   "metadata": {
    "collapsed": false
   },
   "outputs": [
    {
     "name": "stdout",
     "output_type": "stream",
     "text": [
      "[1, 2, 3, 4, 5, 6, 7, 8, 9, 10, 11, 12, 13, 14, 15, 16, 17, 18, 19, 20]\n",
      "[21, 22, 23, 24, 25, 26, 27, 28, 29, 30, 31, 32, 33, 34, 35, 36, 37, 38, 39, 40]\n",
      "[41, 42, 43, 44, 45, 46, 47, 48, 49, 50, 51, 52, 53, 54, 55, 56, 57, 58, 59, 60]\n",
      "[61, 62, 63, 64, 65, 66, 67, 68, 69, 70, 71, 72, 73, 74, 75, 76, 77, 78, 79, 80]\n",
      "[81, 82, 83, 84, 85, 86, 87, 88, 89, 90, 91, 92, 93, 94, 95, 96, 97, 98, 99, 100]\n"
     ]
    }
   ],
   "source": [
    "ary = []\n",
    "for i in range(1,100,20):\n",
    "    print range(i,i+20)"
   ]
  },
  {
   "cell_type": "code",
   "execution_count": null,
   "metadata": {
    "collapsed": true
   },
   "outputs": [],
   "source": []
  }
 ],
 "metadata": {
  "kernelspec": {
   "display_name": "Python 2",
   "language": "python",
   "name": "python2"
  },
  "language_info": {
   "codemirror_mode": {
    "name": "ipython",
    "version": 2
   },
   "file_extension": ".py",
   "mimetype": "text/x-python",
   "name": "python",
   "nbconvert_exporter": "python",
   "pygments_lexer": "ipython2",
   "version": "2.7.10"
  }
 },
 "nbformat": 4,
 "nbformat_minor": 0
}
